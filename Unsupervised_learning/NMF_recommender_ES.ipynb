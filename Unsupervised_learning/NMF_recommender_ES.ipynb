{
 "cells": [
  {
   "cell_type": "markdown",
   "id": "e4504e07",
   "metadata": {
    "heading_collapsed": true
   },
   "source": [
    "# Unsupervised learning-movie recommender"
   ]
  },
  {
   "cell_type": "markdown",
   "id": "914b75ea",
   "metadata": {
    "heading_collapsed": true,
    "hidden": true
   },
   "source": [
    "## Libraries"
   ]
  },
  {
   "cell_type": "code",
   "execution_count": 1,
   "id": "89351ffc",
   "metadata": {
    "hidden": true
   },
   "outputs": [],
   "source": [
    "import pandas as pd\n",
    "import numpy as np"
   ]
  },
  {
   "cell_type": "code",
   "execution_count": 2,
   "id": "2d334710",
   "metadata": {
    "hidden": true
   },
   "outputs": [],
   "source": [
    "from sklearn.decomposition import NMF"
   ]
  },
  {
   "cell_type": "markdown",
   "id": "51aad332",
   "metadata": {
    "heading_collapsed": true
   },
   "source": [
    "# Project goal"
   ]
  },
  {
   "cell_type": "markdown",
   "id": "c7302e2b",
   "metadata": {
    "hidden": true
   },
   "source": [
    "In this project, you will build a proof of concept: A web application that showcases different movie recommendation algorithms.\n",
    "\n",
    "1. Download a small version of the MovieLens-dataset\n",
    "\n",
    "\n",
    "2. Implement a baseline recommender\n",
    "\n",
    "\n",
    "**3. Derive a user-item matrix**\n",
    "\n",
    "\n",
    "4. Pick and implement a Collaborative Filtering recommender:\n",
    "\n",
    "    **a) Collaborative Filtering with Matrix Factorization**\n",
    "    \n",
    "    b) Neighbourhood based Collaborative Filtering\n",
    "    \n",
    "    \n",
    "5. Write a flask web interface\n",
    "\n",
    "\n",
    "6. Connect your recommender-model to flask\n",
    "\n"
   ]
  },
  {
   "cell_type": "markdown",
   "id": "e40950ac",
   "metadata": {
    "heading_collapsed": true
   },
   "source": [
    "# Import data"
   ]
  },
  {
   "cell_type": "markdown",
   "id": "c0f2b073",
   "metadata": {
    "hidden": true
   },
   "source": [
    "Import all 4 csv files of the *ml-latest-small.zip* dataset."
   ]
  },
  {
   "cell_type": "code",
   "execution_count": 3,
   "id": "e443b604",
   "metadata": {
    "hidden": true
   },
   "outputs": [],
   "source": [
    "ratings = pd.read_csv(\"ratings.csv\")"
   ]
  },
  {
   "cell_type": "code",
   "execution_count": 4,
   "id": "1931726b",
   "metadata": {
    "hidden": true
   },
   "outputs": [],
   "source": [
    "movies = pd.read_csv(\"movies.csv\")"
   ]
  },
  {
   "cell_type": "code",
   "execution_count": 5,
   "id": "954806fb",
   "metadata": {
    "hidden": true
   },
   "outputs": [],
   "source": [
    "tags = pd.read_csv(\"tags.csv\")"
   ]
  },
  {
   "cell_type": "code",
   "execution_count": 6,
   "id": "bc511129",
   "metadata": {
    "hidden": true
   },
   "outputs": [],
   "source": [
    "links = pd.read_csv(\"links.csv\")"
   ]
  },
  {
   "cell_type": "markdown",
   "id": "bdc709ae",
   "metadata": {
    "hidden": true
   },
   "source": [
    "Inspect the tables."
   ]
  },
  {
   "cell_type": "code",
   "execution_count": 7,
   "id": "b5580cea",
   "metadata": {
    "hidden": true
   },
   "outputs": [
    {
     "data": {
      "text/html": [
       "<div>\n",
       "<style scoped>\n",
       "    .dataframe tbody tr th:only-of-type {\n",
       "        vertical-align: middle;\n",
       "    }\n",
       "\n",
       "    .dataframe tbody tr th {\n",
       "        vertical-align: top;\n",
       "    }\n",
       "\n",
       "    .dataframe thead th {\n",
       "        text-align: right;\n",
       "    }\n",
       "</style>\n",
       "<table border=\"1\" class=\"dataframe\">\n",
       "  <thead>\n",
       "    <tr style=\"text-align: right;\">\n",
       "      <th></th>\n",
       "      <th>userId</th>\n",
       "      <th>movieId</th>\n",
       "      <th>rating</th>\n",
       "      <th>timestamp</th>\n",
       "    </tr>\n",
       "  </thead>\n",
       "  <tbody>\n",
       "    <tr>\n",
       "      <th>0</th>\n",
       "      <td>1</td>\n",
       "      <td>1</td>\n",
       "      <td>4.0</td>\n",
       "      <td>964982703</td>\n",
       "    </tr>\n",
       "    <tr>\n",
       "      <th>1</th>\n",
       "      <td>1</td>\n",
       "      <td>3</td>\n",
       "      <td>4.0</td>\n",
       "      <td>964981247</td>\n",
       "    </tr>\n",
       "    <tr>\n",
       "      <th>2</th>\n",
       "      <td>1</td>\n",
       "      <td>6</td>\n",
       "      <td>4.0</td>\n",
       "      <td>964982224</td>\n",
       "    </tr>\n",
       "    <tr>\n",
       "      <th>3</th>\n",
       "      <td>1</td>\n",
       "      <td>47</td>\n",
       "      <td>5.0</td>\n",
       "      <td>964983815</td>\n",
       "    </tr>\n",
       "    <tr>\n",
       "      <th>4</th>\n",
       "      <td>1</td>\n",
       "      <td>50</td>\n",
       "      <td>5.0</td>\n",
       "      <td>964982931</td>\n",
       "    </tr>\n",
       "  </tbody>\n",
       "</table>\n",
       "</div>"
      ],
      "text/plain": [
       "   userId  movieId  rating  timestamp\n",
       "0       1        1     4.0  964982703\n",
       "1       1        3     4.0  964981247\n",
       "2       1        6     4.0  964982224\n",
       "3       1       47     5.0  964983815\n",
       "4       1       50     5.0  964982931"
      ]
     },
     "execution_count": 7,
     "metadata": {},
     "output_type": "execute_result"
    }
   ],
   "source": [
    "ratings.head()"
   ]
  },
  {
   "cell_type": "code",
   "execution_count": 8,
   "id": "2b5a0a66",
   "metadata": {
    "hidden": true
   },
   "outputs": [
    {
     "data": {
      "text/plain": [
       "(100836, 4)"
      ]
     },
     "execution_count": 8,
     "metadata": {},
     "output_type": "execute_result"
    }
   ],
   "source": [
    "ratings.shape"
   ]
  },
  {
   "cell_type": "code",
   "execution_count": 9,
   "id": "9dcba8da",
   "metadata": {
    "hidden": true
   },
   "outputs": [
    {
     "data": {
      "text/html": [
       "<div>\n",
       "<style scoped>\n",
       "    .dataframe tbody tr th:only-of-type {\n",
       "        vertical-align: middle;\n",
       "    }\n",
       "\n",
       "    .dataframe tbody tr th {\n",
       "        vertical-align: top;\n",
       "    }\n",
       "\n",
       "    .dataframe thead th {\n",
       "        text-align: right;\n",
       "    }\n",
       "</style>\n",
       "<table border=\"1\" class=\"dataframe\">\n",
       "  <thead>\n",
       "    <tr style=\"text-align: right;\">\n",
       "      <th></th>\n",
       "      <th>movieId</th>\n",
       "      <th>title</th>\n",
       "      <th>genres</th>\n",
       "    </tr>\n",
       "  </thead>\n",
       "  <tbody>\n",
       "    <tr>\n",
       "      <th>0</th>\n",
       "      <td>1</td>\n",
       "      <td>Toy Story (1995)</td>\n",
       "      <td>Adventure|Animation|Children|Comedy|Fantasy</td>\n",
       "    </tr>\n",
       "    <tr>\n",
       "      <th>1</th>\n",
       "      <td>2</td>\n",
       "      <td>Jumanji (1995)</td>\n",
       "      <td>Adventure|Children|Fantasy</td>\n",
       "    </tr>\n",
       "    <tr>\n",
       "      <th>2</th>\n",
       "      <td>3</td>\n",
       "      <td>Grumpier Old Men (1995)</td>\n",
       "      <td>Comedy|Romance</td>\n",
       "    </tr>\n",
       "    <tr>\n",
       "      <th>3</th>\n",
       "      <td>4</td>\n",
       "      <td>Waiting to Exhale (1995)</td>\n",
       "      <td>Comedy|Drama|Romance</td>\n",
       "    </tr>\n",
       "    <tr>\n",
       "      <th>4</th>\n",
       "      <td>5</td>\n",
       "      <td>Father of the Bride Part II (1995)</td>\n",
       "      <td>Comedy</td>\n",
       "    </tr>\n",
       "  </tbody>\n",
       "</table>\n",
       "</div>"
      ],
      "text/plain": [
       "   movieId                               title  \\\n",
       "0        1                    Toy Story (1995)   \n",
       "1        2                      Jumanji (1995)   \n",
       "2        3             Grumpier Old Men (1995)   \n",
       "3        4            Waiting to Exhale (1995)   \n",
       "4        5  Father of the Bride Part II (1995)   \n",
       "\n",
       "                                        genres  \n",
       "0  Adventure|Animation|Children|Comedy|Fantasy  \n",
       "1                   Adventure|Children|Fantasy  \n",
       "2                               Comedy|Romance  \n",
       "3                         Comedy|Drama|Romance  \n",
       "4                                       Comedy  "
      ]
     },
     "execution_count": 9,
     "metadata": {},
     "output_type": "execute_result"
    }
   ],
   "source": [
    "movies.head()"
   ]
  },
  {
   "cell_type": "code",
   "execution_count": 10,
   "id": "f076031a",
   "metadata": {
    "hidden": true
   },
   "outputs": [
    {
     "data": {
      "text/plain": [
       "(9742, 3)"
      ]
     },
     "execution_count": 10,
     "metadata": {},
     "output_type": "execute_result"
    }
   ],
   "source": [
    "movies.shape"
   ]
  },
  {
   "cell_type": "code",
   "execution_count": 11,
   "id": "a1055f9b",
   "metadata": {
    "hidden": true
   },
   "outputs": [
    {
     "data": {
      "text/html": [
       "<div>\n",
       "<style scoped>\n",
       "    .dataframe tbody tr th:only-of-type {\n",
       "        vertical-align: middle;\n",
       "    }\n",
       "\n",
       "    .dataframe tbody tr th {\n",
       "        vertical-align: top;\n",
       "    }\n",
       "\n",
       "    .dataframe thead th {\n",
       "        text-align: right;\n",
       "    }\n",
       "</style>\n",
       "<table border=\"1\" class=\"dataframe\">\n",
       "  <thead>\n",
       "    <tr style=\"text-align: right;\">\n",
       "      <th></th>\n",
       "      <th>userId</th>\n",
       "      <th>movieId</th>\n",
       "      <th>tag</th>\n",
       "      <th>timestamp</th>\n",
       "    </tr>\n",
       "  </thead>\n",
       "  <tbody>\n",
       "    <tr>\n",
       "      <th>0</th>\n",
       "      <td>2</td>\n",
       "      <td>60756</td>\n",
       "      <td>funny</td>\n",
       "      <td>1445714994</td>\n",
       "    </tr>\n",
       "    <tr>\n",
       "      <th>1</th>\n",
       "      <td>2</td>\n",
       "      <td>60756</td>\n",
       "      <td>Highly quotable</td>\n",
       "      <td>1445714996</td>\n",
       "    </tr>\n",
       "    <tr>\n",
       "      <th>2</th>\n",
       "      <td>2</td>\n",
       "      <td>60756</td>\n",
       "      <td>will ferrell</td>\n",
       "      <td>1445714992</td>\n",
       "    </tr>\n",
       "    <tr>\n",
       "      <th>3</th>\n",
       "      <td>2</td>\n",
       "      <td>89774</td>\n",
       "      <td>Boxing story</td>\n",
       "      <td>1445715207</td>\n",
       "    </tr>\n",
       "    <tr>\n",
       "      <th>4</th>\n",
       "      <td>2</td>\n",
       "      <td>89774</td>\n",
       "      <td>MMA</td>\n",
       "      <td>1445715200</td>\n",
       "    </tr>\n",
       "  </tbody>\n",
       "</table>\n",
       "</div>"
      ],
      "text/plain": [
       "   userId  movieId              tag   timestamp\n",
       "0       2    60756            funny  1445714994\n",
       "1       2    60756  Highly quotable  1445714996\n",
       "2       2    60756     will ferrell  1445714992\n",
       "3       2    89774     Boxing story  1445715207\n",
       "4       2    89774              MMA  1445715200"
      ]
     },
     "execution_count": 11,
     "metadata": {},
     "output_type": "execute_result"
    }
   ],
   "source": [
    "tags.head()"
   ]
  },
  {
   "cell_type": "code",
   "execution_count": 12,
   "id": "497a1e66",
   "metadata": {
    "hidden": true
   },
   "outputs": [
    {
     "data": {
      "text/plain": [
       "(3683, 4)"
      ]
     },
     "execution_count": 12,
     "metadata": {},
     "output_type": "execute_result"
    }
   ],
   "source": [
    "tags.shape"
   ]
  },
  {
   "cell_type": "code",
   "execution_count": 13,
   "id": "5e2869bc",
   "metadata": {
    "hidden": true
   },
   "outputs": [
    {
     "data": {
      "text/html": [
       "<div>\n",
       "<style scoped>\n",
       "    .dataframe tbody tr th:only-of-type {\n",
       "        vertical-align: middle;\n",
       "    }\n",
       "\n",
       "    .dataframe tbody tr th {\n",
       "        vertical-align: top;\n",
       "    }\n",
       "\n",
       "    .dataframe thead th {\n",
       "        text-align: right;\n",
       "    }\n",
       "</style>\n",
       "<table border=\"1\" class=\"dataframe\">\n",
       "  <thead>\n",
       "    <tr style=\"text-align: right;\">\n",
       "      <th></th>\n",
       "      <th>movieId</th>\n",
       "      <th>imdbId</th>\n",
       "      <th>tmdbId</th>\n",
       "    </tr>\n",
       "  </thead>\n",
       "  <tbody>\n",
       "    <tr>\n",
       "      <th>0</th>\n",
       "      <td>1</td>\n",
       "      <td>114709</td>\n",
       "      <td>862.0</td>\n",
       "    </tr>\n",
       "    <tr>\n",
       "      <th>1</th>\n",
       "      <td>2</td>\n",
       "      <td>113497</td>\n",
       "      <td>8844.0</td>\n",
       "    </tr>\n",
       "    <tr>\n",
       "      <th>2</th>\n",
       "      <td>3</td>\n",
       "      <td>113228</td>\n",
       "      <td>15602.0</td>\n",
       "    </tr>\n",
       "    <tr>\n",
       "      <th>3</th>\n",
       "      <td>4</td>\n",
       "      <td>114885</td>\n",
       "      <td>31357.0</td>\n",
       "    </tr>\n",
       "    <tr>\n",
       "      <th>4</th>\n",
       "      <td>5</td>\n",
       "      <td>113041</td>\n",
       "      <td>11862.0</td>\n",
       "    </tr>\n",
       "  </tbody>\n",
       "</table>\n",
       "</div>"
      ],
      "text/plain": [
       "   movieId  imdbId   tmdbId\n",
       "0        1  114709    862.0\n",
       "1        2  113497   8844.0\n",
       "2        3  113228  15602.0\n",
       "3        4  114885  31357.0\n",
       "4        5  113041  11862.0"
      ]
     },
     "execution_count": 13,
     "metadata": {},
     "output_type": "execute_result"
    }
   ],
   "source": [
    "links.head()"
   ]
  },
  {
   "cell_type": "code",
   "execution_count": 14,
   "id": "f7d0626f",
   "metadata": {
    "hidden": true
   },
   "outputs": [
    {
     "data": {
      "text/plain": [
       "(9742, 3)"
      ]
     },
     "execution_count": 14,
     "metadata": {},
     "output_type": "execute_result"
    }
   ],
   "source": [
    "links.shape"
   ]
  },
  {
   "cell_type": "markdown",
   "id": "1e2f9fb8",
   "metadata": {
    "heading_collapsed": true
   },
   "source": [
    "# Merge tables"
   ]
  },
  {
   "cell_type": "markdown",
   "id": "c97c7e60",
   "metadata": {
    "hidden": true
   },
   "source": [
    "Merge ratings and movies."
   ]
  },
  {
   "cell_type": "code",
   "execution_count": 15,
   "id": "ac7466f0",
   "metadata": {
    "hidden": true
   },
   "outputs": [
    {
     "data": {
      "text/html": [
       "<div>\n",
       "<style scoped>\n",
       "    .dataframe tbody tr th:only-of-type {\n",
       "        vertical-align: middle;\n",
       "    }\n",
       "\n",
       "    .dataframe tbody tr th {\n",
       "        vertical-align: top;\n",
       "    }\n",
       "\n",
       "    .dataframe thead th {\n",
       "        text-align: right;\n",
       "    }\n",
       "</style>\n",
       "<table border=\"1\" class=\"dataframe\">\n",
       "  <thead>\n",
       "    <tr style=\"text-align: right;\">\n",
       "      <th></th>\n",
       "      <th>userId</th>\n",
       "      <th>movieId</th>\n",
       "      <th>rating</th>\n",
       "      <th>timestamp</th>\n",
       "    </tr>\n",
       "  </thead>\n",
       "  <tbody>\n",
       "    <tr>\n",
       "      <th>0</th>\n",
       "      <td>1</td>\n",
       "      <td>1</td>\n",
       "      <td>4.0</td>\n",
       "      <td>964982703</td>\n",
       "    </tr>\n",
       "    <tr>\n",
       "      <th>1</th>\n",
       "      <td>1</td>\n",
       "      <td>3</td>\n",
       "      <td>4.0</td>\n",
       "      <td>964981247</td>\n",
       "    </tr>\n",
       "    <tr>\n",
       "      <th>2</th>\n",
       "      <td>1</td>\n",
       "      <td>6</td>\n",
       "      <td>4.0</td>\n",
       "      <td>964982224</td>\n",
       "    </tr>\n",
       "    <tr>\n",
       "      <th>3</th>\n",
       "      <td>1</td>\n",
       "      <td>47</td>\n",
       "      <td>5.0</td>\n",
       "      <td>964983815</td>\n",
       "    </tr>\n",
       "    <tr>\n",
       "      <th>4</th>\n",
       "      <td>1</td>\n",
       "      <td>50</td>\n",
       "      <td>5.0</td>\n",
       "      <td>964982931</td>\n",
       "    </tr>\n",
       "    <tr>\n",
       "      <th>...</th>\n",
       "      <td>...</td>\n",
       "      <td>...</td>\n",
       "      <td>...</td>\n",
       "      <td>...</td>\n",
       "    </tr>\n",
       "    <tr>\n",
       "      <th>100831</th>\n",
       "      <td>610</td>\n",
       "      <td>166534</td>\n",
       "      <td>4.0</td>\n",
       "      <td>1493848402</td>\n",
       "    </tr>\n",
       "    <tr>\n",
       "      <th>100832</th>\n",
       "      <td>610</td>\n",
       "      <td>168248</td>\n",
       "      <td>5.0</td>\n",
       "      <td>1493850091</td>\n",
       "    </tr>\n",
       "    <tr>\n",
       "      <th>100833</th>\n",
       "      <td>610</td>\n",
       "      <td>168250</td>\n",
       "      <td>5.0</td>\n",
       "      <td>1494273047</td>\n",
       "    </tr>\n",
       "    <tr>\n",
       "      <th>100834</th>\n",
       "      <td>610</td>\n",
       "      <td>168252</td>\n",
       "      <td>5.0</td>\n",
       "      <td>1493846352</td>\n",
       "    </tr>\n",
       "    <tr>\n",
       "      <th>100835</th>\n",
       "      <td>610</td>\n",
       "      <td>170875</td>\n",
       "      <td>3.0</td>\n",
       "      <td>1493846415</td>\n",
       "    </tr>\n",
       "  </tbody>\n",
       "</table>\n",
       "<p>100836 rows × 4 columns</p>\n",
       "</div>"
      ],
      "text/plain": [
       "        userId  movieId  rating   timestamp\n",
       "0            1        1     4.0   964982703\n",
       "1            1        3     4.0   964981247\n",
       "2            1        6     4.0   964982224\n",
       "3            1       47     5.0   964983815\n",
       "4            1       50     5.0   964982931\n",
       "...        ...      ...     ...         ...\n",
       "100831     610   166534     4.0  1493848402\n",
       "100832     610   168248     5.0  1493850091\n",
       "100833     610   168250     5.0  1494273047\n",
       "100834     610   168252     5.0  1493846352\n",
       "100835     610   170875     3.0  1493846415\n",
       "\n",
       "[100836 rows x 4 columns]"
      ]
     },
     "execution_count": 15,
     "metadata": {},
     "output_type": "execute_result"
    }
   ],
   "source": [
    "ratings"
   ]
  },
  {
   "cell_type": "code",
   "execution_count": 16,
   "id": "c3d9a89d",
   "metadata": {
    "hidden": true,
    "scrolled": true
   },
   "outputs": [
    {
     "data": {
      "text/html": [
       "<div>\n",
       "<style scoped>\n",
       "    .dataframe tbody tr th:only-of-type {\n",
       "        vertical-align: middle;\n",
       "    }\n",
       "\n",
       "    .dataframe tbody tr th {\n",
       "        vertical-align: top;\n",
       "    }\n",
       "\n",
       "    .dataframe thead th {\n",
       "        text-align: right;\n",
       "    }\n",
       "</style>\n",
       "<table border=\"1\" class=\"dataframe\">\n",
       "  <thead>\n",
       "    <tr style=\"text-align: right;\">\n",
       "      <th></th>\n",
       "      <th>movieId</th>\n",
       "      <th>title</th>\n",
       "      <th>genres</th>\n",
       "    </tr>\n",
       "  </thead>\n",
       "  <tbody>\n",
       "    <tr>\n",
       "      <th>0</th>\n",
       "      <td>1</td>\n",
       "      <td>Toy Story (1995)</td>\n",
       "      <td>Adventure|Animation|Children|Comedy|Fantasy</td>\n",
       "    </tr>\n",
       "    <tr>\n",
       "      <th>1</th>\n",
       "      <td>2</td>\n",
       "      <td>Jumanji (1995)</td>\n",
       "      <td>Adventure|Children|Fantasy</td>\n",
       "    </tr>\n",
       "    <tr>\n",
       "      <th>2</th>\n",
       "      <td>3</td>\n",
       "      <td>Grumpier Old Men (1995)</td>\n",
       "      <td>Comedy|Romance</td>\n",
       "    </tr>\n",
       "    <tr>\n",
       "      <th>3</th>\n",
       "      <td>4</td>\n",
       "      <td>Waiting to Exhale (1995)</td>\n",
       "      <td>Comedy|Drama|Romance</td>\n",
       "    </tr>\n",
       "    <tr>\n",
       "      <th>4</th>\n",
       "      <td>5</td>\n",
       "      <td>Father of the Bride Part II (1995)</td>\n",
       "      <td>Comedy</td>\n",
       "    </tr>\n",
       "    <tr>\n",
       "      <th>...</th>\n",
       "      <td>...</td>\n",
       "      <td>...</td>\n",
       "      <td>...</td>\n",
       "    </tr>\n",
       "    <tr>\n",
       "      <th>9737</th>\n",
       "      <td>193581</td>\n",
       "      <td>Black Butler: Book of the Atlantic (2017)</td>\n",
       "      <td>Action|Animation|Comedy|Fantasy</td>\n",
       "    </tr>\n",
       "    <tr>\n",
       "      <th>9738</th>\n",
       "      <td>193583</td>\n",
       "      <td>No Game No Life: Zero (2017)</td>\n",
       "      <td>Animation|Comedy|Fantasy</td>\n",
       "    </tr>\n",
       "    <tr>\n",
       "      <th>9739</th>\n",
       "      <td>193585</td>\n",
       "      <td>Flint (2017)</td>\n",
       "      <td>Drama</td>\n",
       "    </tr>\n",
       "    <tr>\n",
       "      <th>9740</th>\n",
       "      <td>193587</td>\n",
       "      <td>Bungo Stray Dogs: Dead Apple (2018)</td>\n",
       "      <td>Action|Animation</td>\n",
       "    </tr>\n",
       "    <tr>\n",
       "      <th>9741</th>\n",
       "      <td>193609</td>\n",
       "      <td>Andrew Dice Clay: Dice Rules (1991)</td>\n",
       "      <td>Comedy</td>\n",
       "    </tr>\n",
       "  </tbody>\n",
       "</table>\n",
       "<p>9742 rows × 3 columns</p>\n",
       "</div>"
      ],
      "text/plain": [
       "      movieId                                      title  \\\n",
       "0           1                           Toy Story (1995)   \n",
       "1           2                             Jumanji (1995)   \n",
       "2           3                    Grumpier Old Men (1995)   \n",
       "3           4                   Waiting to Exhale (1995)   \n",
       "4           5         Father of the Bride Part II (1995)   \n",
       "...       ...                                        ...   \n",
       "9737   193581  Black Butler: Book of the Atlantic (2017)   \n",
       "9738   193583               No Game No Life: Zero (2017)   \n",
       "9739   193585                               Flint (2017)   \n",
       "9740   193587        Bungo Stray Dogs: Dead Apple (2018)   \n",
       "9741   193609        Andrew Dice Clay: Dice Rules (1991)   \n",
       "\n",
       "                                           genres  \n",
       "0     Adventure|Animation|Children|Comedy|Fantasy  \n",
       "1                      Adventure|Children|Fantasy  \n",
       "2                                  Comedy|Romance  \n",
       "3                            Comedy|Drama|Romance  \n",
       "4                                          Comedy  \n",
       "...                                           ...  \n",
       "9737              Action|Animation|Comedy|Fantasy  \n",
       "9738                     Animation|Comedy|Fantasy  \n",
       "9739                                        Drama  \n",
       "9740                             Action|Animation  \n",
       "9741                                       Comedy  \n",
       "\n",
       "[9742 rows x 3 columns]"
      ]
     },
     "execution_count": 16,
     "metadata": {},
     "output_type": "execute_result"
    }
   ],
   "source": [
    "movies"
   ]
  },
  {
   "cell_type": "code",
   "execution_count": 17,
   "id": "08101f63",
   "metadata": {
    "hidden": true
   },
   "outputs": [
    {
     "data": {
      "text/plain": [
       "9742"
      ]
     },
     "execution_count": 17,
     "metadata": {},
     "output_type": "execute_result"
    }
   ],
   "source": [
    "movies[\"movieId\"].nunique()"
   ]
  },
  {
   "cell_type": "code",
   "execution_count": 18,
   "id": "2f0f67f1",
   "metadata": {
    "hidden": true
   },
   "outputs": [],
   "source": [
    "df = pd.merge(movies, ratings, on = \"movieId\", how = \"right\")"
   ]
  },
  {
   "cell_type": "code",
   "execution_count": 19,
   "id": "86ce45c1",
   "metadata": {
    "hidden": true
   },
   "outputs": [
    {
     "data": {
      "text/html": [
       "<div>\n",
       "<style scoped>\n",
       "    .dataframe tbody tr th:only-of-type {\n",
       "        vertical-align: middle;\n",
       "    }\n",
       "\n",
       "    .dataframe tbody tr th {\n",
       "        vertical-align: top;\n",
       "    }\n",
       "\n",
       "    .dataframe thead th {\n",
       "        text-align: right;\n",
       "    }\n",
       "</style>\n",
       "<table border=\"1\" class=\"dataframe\">\n",
       "  <thead>\n",
       "    <tr style=\"text-align: right;\">\n",
       "      <th></th>\n",
       "      <th>movieId</th>\n",
       "      <th>title</th>\n",
       "      <th>genres</th>\n",
       "      <th>userId</th>\n",
       "      <th>rating</th>\n",
       "      <th>timestamp</th>\n",
       "    </tr>\n",
       "  </thead>\n",
       "  <tbody>\n",
       "    <tr>\n",
       "      <th>0</th>\n",
       "      <td>1</td>\n",
       "      <td>Toy Story (1995)</td>\n",
       "      <td>Adventure|Animation|Children|Comedy|Fantasy</td>\n",
       "      <td>1</td>\n",
       "      <td>4.0</td>\n",
       "      <td>964982703</td>\n",
       "    </tr>\n",
       "    <tr>\n",
       "      <th>1</th>\n",
       "      <td>3</td>\n",
       "      <td>Grumpier Old Men (1995)</td>\n",
       "      <td>Comedy|Romance</td>\n",
       "      <td>1</td>\n",
       "      <td>4.0</td>\n",
       "      <td>964981247</td>\n",
       "    </tr>\n",
       "    <tr>\n",
       "      <th>2</th>\n",
       "      <td>6</td>\n",
       "      <td>Heat (1995)</td>\n",
       "      <td>Action|Crime|Thriller</td>\n",
       "      <td>1</td>\n",
       "      <td>4.0</td>\n",
       "      <td>964982224</td>\n",
       "    </tr>\n",
       "    <tr>\n",
       "      <th>3</th>\n",
       "      <td>47</td>\n",
       "      <td>Seven (a.k.a. Se7en) (1995)</td>\n",
       "      <td>Mystery|Thriller</td>\n",
       "      <td>1</td>\n",
       "      <td>5.0</td>\n",
       "      <td>964983815</td>\n",
       "    </tr>\n",
       "    <tr>\n",
       "      <th>4</th>\n",
       "      <td>50</td>\n",
       "      <td>Usual Suspects, The (1995)</td>\n",
       "      <td>Crime|Mystery|Thriller</td>\n",
       "      <td>1</td>\n",
       "      <td>5.0</td>\n",
       "      <td>964982931</td>\n",
       "    </tr>\n",
       "  </tbody>\n",
       "</table>\n",
       "</div>"
      ],
      "text/plain": [
       "   movieId                        title  \\\n",
       "0        1             Toy Story (1995)   \n",
       "1        3      Grumpier Old Men (1995)   \n",
       "2        6                  Heat (1995)   \n",
       "3       47  Seven (a.k.a. Se7en) (1995)   \n",
       "4       50   Usual Suspects, The (1995)   \n",
       "\n",
       "                                        genres  userId  rating  timestamp  \n",
       "0  Adventure|Animation|Children|Comedy|Fantasy       1     4.0  964982703  \n",
       "1                               Comedy|Romance       1     4.0  964981247  \n",
       "2                        Action|Crime|Thriller       1     4.0  964982224  \n",
       "3                             Mystery|Thriller       1     5.0  964983815  \n",
       "4                       Crime|Mystery|Thriller       1     5.0  964982931  "
      ]
     },
     "execution_count": 19,
     "metadata": {},
     "output_type": "execute_result"
    }
   ],
   "source": [
    "df.head()"
   ]
  },
  {
   "cell_type": "code",
   "execution_count": 20,
   "id": "637f66de",
   "metadata": {
    "hidden": true
   },
   "outputs": [
    {
     "data": {
      "text/plain": [
       "(100836, 6)"
      ]
     },
     "execution_count": 20,
     "metadata": {},
     "output_type": "execute_result"
    }
   ],
   "source": [
    "df.shape"
   ]
  },
  {
   "cell_type": "markdown",
   "id": "459ed180",
   "metadata": {
    "hidden": true
   },
   "source": [
    "Drop genres and timestamp columns."
   ]
  },
  {
   "cell_type": "code",
   "execution_count": 21,
   "id": "a8c7a63c",
   "metadata": {
    "hidden": true
   },
   "outputs": [],
   "source": [
    "df = df.drop(columns = [\"genres\", \"timestamp\"])"
   ]
  },
  {
   "cell_type": "code",
   "execution_count": 22,
   "id": "89d516f8",
   "metadata": {
    "hidden": true
   },
   "outputs": [
    {
     "data": {
      "text/html": [
       "<div>\n",
       "<style scoped>\n",
       "    .dataframe tbody tr th:only-of-type {\n",
       "        vertical-align: middle;\n",
       "    }\n",
       "\n",
       "    .dataframe tbody tr th {\n",
       "        vertical-align: top;\n",
       "    }\n",
       "\n",
       "    .dataframe thead th {\n",
       "        text-align: right;\n",
       "    }\n",
       "</style>\n",
       "<table border=\"1\" class=\"dataframe\">\n",
       "  <thead>\n",
       "    <tr style=\"text-align: right;\">\n",
       "      <th></th>\n",
       "      <th>movieId</th>\n",
       "      <th>title</th>\n",
       "      <th>userId</th>\n",
       "      <th>rating</th>\n",
       "    </tr>\n",
       "  </thead>\n",
       "  <tbody>\n",
       "    <tr>\n",
       "      <th>0</th>\n",
       "      <td>1</td>\n",
       "      <td>Toy Story (1995)</td>\n",
       "      <td>1</td>\n",
       "      <td>4.0</td>\n",
       "    </tr>\n",
       "    <tr>\n",
       "      <th>1</th>\n",
       "      <td>3</td>\n",
       "      <td>Grumpier Old Men (1995)</td>\n",
       "      <td>1</td>\n",
       "      <td>4.0</td>\n",
       "    </tr>\n",
       "    <tr>\n",
       "      <th>2</th>\n",
       "      <td>6</td>\n",
       "      <td>Heat (1995)</td>\n",
       "      <td>1</td>\n",
       "      <td>4.0</td>\n",
       "    </tr>\n",
       "    <tr>\n",
       "      <th>3</th>\n",
       "      <td>47</td>\n",
       "      <td>Seven (a.k.a. Se7en) (1995)</td>\n",
       "      <td>1</td>\n",
       "      <td>5.0</td>\n",
       "    </tr>\n",
       "    <tr>\n",
       "      <th>4</th>\n",
       "      <td>50</td>\n",
       "      <td>Usual Suspects, The (1995)</td>\n",
       "      <td>1</td>\n",
       "      <td>5.0</td>\n",
       "    </tr>\n",
       "    <tr>\n",
       "      <th>...</th>\n",
       "      <td>...</td>\n",
       "      <td>...</td>\n",
       "      <td>...</td>\n",
       "      <td>...</td>\n",
       "    </tr>\n",
       "    <tr>\n",
       "      <th>100831</th>\n",
       "      <td>166534</td>\n",
       "      <td>Split (2017)</td>\n",
       "      <td>610</td>\n",
       "      <td>4.0</td>\n",
       "    </tr>\n",
       "    <tr>\n",
       "      <th>100832</th>\n",
       "      <td>168248</td>\n",
       "      <td>John Wick: Chapter Two (2017)</td>\n",
       "      <td>610</td>\n",
       "      <td>5.0</td>\n",
       "    </tr>\n",
       "    <tr>\n",
       "      <th>100833</th>\n",
       "      <td>168250</td>\n",
       "      <td>Get Out (2017)</td>\n",
       "      <td>610</td>\n",
       "      <td>5.0</td>\n",
       "    </tr>\n",
       "    <tr>\n",
       "      <th>100834</th>\n",
       "      <td>168252</td>\n",
       "      <td>Logan (2017)</td>\n",
       "      <td>610</td>\n",
       "      <td>5.0</td>\n",
       "    </tr>\n",
       "    <tr>\n",
       "      <th>100835</th>\n",
       "      <td>170875</td>\n",
       "      <td>The Fate of the Furious (2017)</td>\n",
       "      <td>610</td>\n",
       "      <td>3.0</td>\n",
       "    </tr>\n",
       "  </tbody>\n",
       "</table>\n",
       "<p>100836 rows × 4 columns</p>\n",
       "</div>"
      ],
      "text/plain": [
       "        movieId                           title  userId  rating\n",
       "0             1                Toy Story (1995)       1     4.0\n",
       "1             3         Grumpier Old Men (1995)       1     4.0\n",
       "2             6                     Heat (1995)       1     4.0\n",
       "3            47     Seven (a.k.a. Se7en) (1995)       1     5.0\n",
       "4            50      Usual Suspects, The (1995)       1     5.0\n",
       "...         ...                             ...     ...     ...\n",
       "100831   166534                    Split (2017)     610     4.0\n",
       "100832   168248   John Wick: Chapter Two (2017)     610     5.0\n",
       "100833   168250                  Get Out (2017)     610     5.0\n",
       "100834   168252                    Logan (2017)     610     5.0\n",
       "100835   170875  The Fate of the Furious (2017)     610     3.0\n",
       "\n",
       "[100836 rows x 4 columns]"
      ]
     },
     "execution_count": 22,
     "metadata": {},
     "output_type": "execute_result"
    }
   ],
   "source": [
    "df"
   ]
  },
  {
   "cell_type": "code",
   "execution_count": 23,
   "id": "29209031",
   "metadata": {
    "hidden": true
   },
   "outputs": [
    {
     "data": {
      "text/plain": [
       "movieId    0\n",
       "title      0\n",
       "userId     0\n",
       "rating     0\n",
       "dtype: int64"
      ]
     },
     "execution_count": 23,
     "metadata": {},
     "output_type": "execute_result"
    }
   ],
   "source": [
    "df.isna().sum()"
   ]
  },
  {
   "cell_type": "code",
   "execution_count": 24,
   "id": "8cad8378",
   "metadata": {
    "hidden": true,
    "scrolled": false
   },
   "outputs": [
    {
     "name": "stdout",
     "output_type": "stream",
     "text": [
      "<class 'pandas.core.frame.DataFrame'>\n",
      "Int64Index: 100836 entries, 0 to 100835\n",
      "Data columns (total 4 columns):\n",
      " #   Column   Non-Null Count   Dtype  \n",
      "---  ------   --------------   -----  \n",
      " 0   movieId  100836 non-null  int64  \n",
      " 1   title    100836 non-null  object \n",
      " 2   userId   100836 non-null  int64  \n",
      " 3   rating   100836 non-null  float64\n",
      "dtypes: float64(1), int64(2), object(1)\n",
      "memory usage: 3.8+ MB\n"
     ]
    }
   ],
   "source": [
    "df.info()"
   ]
  },
  {
   "cell_type": "markdown",
   "id": "25ebade4",
   "metadata": {
    "heading_collapsed": true
   },
   "source": [
    "# Filter out movies that have been watched by less than 20 users"
   ]
  },
  {
   "cell_type": "code",
   "execution_count": 25,
   "id": "09d268c7",
   "metadata": {
    "hidden": true
   },
   "outputs": [],
   "source": [
    "df[\"reviews\"] = df.groupby([\"title\"])[\"rating\"].transform(\"count\")"
   ]
  },
  {
   "cell_type": "code",
   "execution_count": 26,
   "id": "fc45768b",
   "metadata": {
    "hidden": true
   },
   "outputs": [
    {
     "data": {
      "text/html": [
       "<div>\n",
       "<style scoped>\n",
       "    .dataframe tbody tr th:only-of-type {\n",
       "        vertical-align: middle;\n",
       "    }\n",
       "\n",
       "    .dataframe tbody tr th {\n",
       "        vertical-align: top;\n",
       "    }\n",
       "\n",
       "    .dataframe thead th {\n",
       "        text-align: right;\n",
       "    }\n",
       "</style>\n",
       "<table border=\"1\" class=\"dataframe\">\n",
       "  <thead>\n",
       "    <tr style=\"text-align: right;\">\n",
       "      <th></th>\n",
       "      <th>movieId</th>\n",
       "      <th>title</th>\n",
       "      <th>userId</th>\n",
       "      <th>rating</th>\n",
       "      <th>reviews</th>\n",
       "    </tr>\n",
       "  </thead>\n",
       "  <tbody>\n",
       "    <tr>\n",
       "      <th>0</th>\n",
       "      <td>1</td>\n",
       "      <td>Toy Story (1995)</td>\n",
       "      <td>1</td>\n",
       "      <td>4.0</td>\n",
       "      <td>215</td>\n",
       "    </tr>\n",
       "    <tr>\n",
       "      <th>1</th>\n",
       "      <td>3</td>\n",
       "      <td>Grumpier Old Men (1995)</td>\n",
       "      <td>1</td>\n",
       "      <td>4.0</td>\n",
       "      <td>52</td>\n",
       "    </tr>\n",
       "    <tr>\n",
       "      <th>2</th>\n",
       "      <td>6</td>\n",
       "      <td>Heat (1995)</td>\n",
       "      <td>1</td>\n",
       "      <td>4.0</td>\n",
       "      <td>102</td>\n",
       "    </tr>\n",
       "    <tr>\n",
       "      <th>3</th>\n",
       "      <td>47</td>\n",
       "      <td>Seven (a.k.a. Se7en) (1995)</td>\n",
       "      <td>1</td>\n",
       "      <td>5.0</td>\n",
       "      <td>203</td>\n",
       "    </tr>\n",
       "    <tr>\n",
       "      <th>4</th>\n",
       "      <td>50</td>\n",
       "      <td>Usual Suspects, The (1995)</td>\n",
       "      <td>1</td>\n",
       "      <td>5.0</td>\n",
       "      <td>204</td>\n",
       "    </tr>\n",
       "  </tbody>\n",
       "</table>\n",
       "</div>"
      ],
      "text/plain": [
       "   movieId                        title  userId  rating  reviews\n",
       "0        1             Toy Story (1995)       1     4.0      215\n",
       "1        3      Grumpier Old Men (1995)       1     4.0       52\n",
       "2        6                  Heat (1995)       1     4.0      102\n",
       "3       47  Seven (a.k.a. Se7en) (1995)       1     5.0      203\n",
       "4       50   Usual Suspects, The (1995)       1     5.0      204"
      ]
     },
     "execution_count": 26,
     "metadata": {},
     "output_type": "execute_result"
    }
   ],
   "source": [
    "df.head()"
   ]
  },
  {
   "cell_type": "code",
   "execution_count": 27,
   "id": "e52d5589",
   "metadata": {
    "hidden": true
   },
   "outputs": [
    {
     "data": {
      "text/plain": [
       "(100836, 5)"
      ]
     },
     "execution_count": 27,
     "metadata": {},
     "output_type": "execute_result"
    }
   ],
   "source": [
    "df.shape"
   ]
  },
  {
   "cell_type": "code",
   "execution_count": 28,
   "id": "2dd0a264",
   "metadata": {
    "hidden": true
   },
   "outputs": [],
   "source": [
    "df = df[df[\"reviews\"] > 20][[\"userId\", \"title\", \"movieId\", \"rating\"]]"
   ]
  },
  {
   "cell_type": "code",
   "execution_count": 29,
   "id": "d99d6a6e",
   "metadata": {
    "hidden": true
   },
   "outputs": [
    {
     "data": {
      "text/html": [
       "<div>\n",
       "<style scoped>\n",
       "    .dataframe tbody tr th:only-of-type {\n",
       "        vertical-align: middle;\n",
       "    }\n",
       "\n",
       "    .dataframe tbody tr th {\n",
       "        vertical-align: top;\n",
       "    }\n",
       "\n",
       "    .dataframe thead th {\n",
       "        text-align: right;\n",
       "    }\n",
       "</style>\n",
       "<table border=\"1\" class=\"dataframe\">\n",
       "  <thead>\n",
       "    <tr style=\"text-align: right;\">\n",
       "      <th></th>\n",
       "      <th>userId</th>\n",
       "      <th>title</th>\n",
       "      <th>movieId</th>\n",
       "      <th>rating</th>\n",
       "    </tr>\n",
       "  </thead>\n",
       "  <tbody>\n",
       "    <tr>\n",
       "      <th>0</th>\n",
       "      <td>1</td>\n",
       "      <td>Toy Story (1995)</td>\n",
       "      <td>1</td>\n",
       "      <td>4.0</td>\n",
       "    </tr>\n",
       "    <tr>\n",
       "      <th>1</th>\n",
       "      <td>1</td>\n",
       "      <td>Grumpier Old Men (1995)</td>\n",
       "      <td>3</td>\n",
       "      <td>4.0</td>\n",
       "    </tr>\n",
       "    <tr>\n",
       "      <th>2</th>\n",
       "      <td>1</td>\n",
       "      <td>Heat (1995)</td>\n",
       "      <td>6</td>\n",
       "      <td>4.0</td>\n",
       "    </tr>\n",
       "    <tr>\n",
       "      <th>3</th>\n",
       "      <td>1</td>\n",
       "      <td>Seven (a.k.a. Se7en) (1995)</td>\n",
       "      <td>47</td>\n",
       "      <td>5.0</td>\n",
       "    </tr>\n",
       "    <tr>\n",
       "      <th>4</th>\n",
       "      <td>1</td>\n",
       "      <td>Usual Suspects, The (1995)</td>\n",
       "      <td>50</td>\n",
       "      <td>5.0</td>\n",
       "    </tr>\n",
       "  </tbody>\n",
       "</table>\n",
       "</div>"
      ],
      "text/plain": [
       "   userId                        title  movieId  rating\n",
       "0       1             Toy Story (1995)        1     4.0\n",
       "1       1      Grumpier Old Men (1995)        3     4.0\n",
       "2       1                  Heat (1995)        6     4.0\n",
       "3       1  Seven (a.k.a. Se7en) (1995)       47     5.0\n",
       "4       1   Usual Suspects, The (1995)       50     5.0"
      ]
     },
     "execution_count": 29,
     "metadata": {},
     "output_type": "execute_result"
    }
   ],
   "source": [
    "df.head()"
   ]
  },
  {
   "cell_type": "code",
   "execution_count": 30,
   "id": "211d8f26",
   "metadata": {
    "hidden": true
   },
   "outputs": [
    {
     "data": {
      "text/plain": [
       "(66661, 4)"
      ]
     },
     "execution_count": 30,
     "metadata": {},
     "output_type": "execute_result"
    }
   ],
   "source": [
    "df.shape"
   ]
  },
  {
   "cell_type": "markdown",
   "id": "ffc8cf2b",
   "metadata": {
    "heading_collapsed": true
   },
   "source": [
    "# Extract film, movieId, rating lists"
   ]
  },
  {
   "cell_type": "code",
   "execution_count": 31,
   "id": "5f773fde",
   "metadata": {
    "hidden": true
   },
   "outputs": [],
   "source": [
    "df = df.sort_values(by = [\"movieId\"], ascending = True)"
   ]
  },
  {
   "cell_type": "code",
   "execution_count": 32,
   "id": "4dea16a0",
   "metadata": {
    "hidden": true
   },
   "outputs": [
    {
     "data": {
      "text/html": [
       "<div>\n",
       "<style scoped>\n",
       "    .dataframe tbody tr th:only-of-type {\n",
       "        vertical-align: middle;\n",
       "    }\n",
       "\n",
       "    .dataframe tbody tr th {\n",
       "        vertical-align: top;\n",
       "    }\n",
       "\n",
       "    .dataframe thead th {\n",
       "        text-align: right;\n",
       "    }\n",
       "</style>\n",
       "<table border=\"1\" class=\"dataframe\">\n",
       "  <thead>\n",
       "    <tr style=\"text-align: right;\">\n",
       "      <th></th>\n",
       "      <th>userId</th>\n",
       "      <th>title</th>\n",
       "      <th>movieId</th>\n",
       "      <th>rating</th>\n",
       "    </tr>\n",
       "  </thead>\n",
       "  <tbody>\n",
       "    <tr>\n",
       "      <th>0</th>\n",
       "      <td>1</td>\n",
       "      <td>Toy Story (1995)</td>\n",
       "      <td>1</td>\n",
       "      <td>4.0</td>\n",
       "    </tr>\n",
       "    <tr>\n",
       "      <th>61023</th>\n",
       "      <td>396</td>\n",
       "      <td>Toy Story (1995)</td>\n",
       "      <td>1</td>\n",
       "      <td>5.0</td>\n",
       "    </tr>\n",
       "    <tr>\n",
       "      <th>22638</th>\n",
       "      <td>155</td>\n",
       "      <td>Toy Story (1995)</td>\n",
       "      <td>1</td>\n",
       "      <td>3.0</td>\n",
       "    </tr>\n",
       "    <tr>\n",
       "      <th>22684</th>\n",
       "      <td>156</td>\n",
       "      <td>Toy Story (1995)</td>\n",
       "      <td>1</td>\n",
       "      <td>4.0</td>\n",
       "    </tr>\n",
       "    <tr>\n",
       "      <th>60405</th>\n",
       "      <td>391</td>\n",
       "      <td>Toy Story (1995)</td>\n",
       "      <td>1</td>\n",
       "      <td>3.0</td>\n",
       "    </tr>\n",
       "  </tbody>\n",
       "</table>\n",
       "</div>"
      ],
      "text/plain": [
       "       userId             title  movieId  rating\n",
       "0           1  Toy Story (1995)        1     4.0\n",
       "61023     396  Toy Story (1995)        1     5.0\n",
       "22638     155  Toy Story (1995)        1     3.0\n",
       "22684     156  Toy Story (1995)        1     4.0\n",
       "60405     391  Toy Story (1995)        1     3.0"
      ]
     },
     "execution_count": 32,
     "metadata": {},
     "output_type": "execute_result"
    }
   ],
   "source": [
    "df.head()"
   ]
  },
  {
   "cell_type": "code",
   "execution_count": 33,
   "id": "bc16eee2",
   "metadata": {
    "hidden": true
   },
   "outputs": [
    {
     "data": {
      "text/plain": [
       "(66661, 4)"
      ]
     },
     "execution_count": 33,
     "metadata": {},
     "output_type": "execute_result"
    }
   ],
   "source": [
    "df.shape"
   ]
  },
  {
   "cell_type": "markdown",
   "id": "3b5565ec",
   "metadata": {
    "hidden": true
   },
   "source": [
    "Films."
   ]
  },
  {
   "cell_type": "code",
   "execution_count": 34,
   "id": "24bac720",
   "metadata": {
    "hidden": true
   },
   "outputs": [],
   "source": [
    "films = df[\"title\"].unique().tolist()"
   ]
  },
  {
   "cell_type": "code",
   "execution_count": 35,
   "id": "133c4c31",
   "metadata": {
    "hidden": true
   },
   "outputs": [
    {
     "data": {
      "text/plain": [
       "1235"
      ]
     },
     "execution_count": 35,
     "metadata": {},
     "output_type": "execute_result"
    }
   ],
   "source": [
    "len(films)"
   ]
  },
  {
   "cell_type": "markdown",
   "id": "86074ca5",
   "metadata": {
    "hidden": true
   },
   "source": [
    "MovieIds."
   ]
  },
  {
   "cell_type": "code",
   "execution_count": 36,
   "id": "78c4479f",
   "metadata": {
    "hidden": true
   },
   "outputs": [],
   "source": [
    "movieIds = df[\"movieId\"].unique().tolist()"
   ]
  },
  {
   "cell_type": "code",
   "execution_count": 37,
   "id": "4ec3637d",
   "metadata": {
    "hidden": true
   },
   "outputs": [
    {
     "data": {
      "text/plain": [
       "1237"
      ]
     },
     "execution_count": 37,
     "metadata": {},
     "output_type": "execute_result"
    }
   ],
   "source": [
    "len(movieIds)"
   ]
  },
  {
   "cell_type": "markdown",
   "id": "293b57bc",
   "metadata": {
    "hidden": true
   },
   "source": [
    "Rating."
   ]
  },
  {
   "cell_type": "code",
   "execution_count": 38,
   "id": "47bc7e5c",
   "metadata": {
    "hidden": true
   },
   "outputs": [],
   "source": [
    "rates = df.groupby([\"movieId\"])[\"rating\"].mean().values.tolist()"
   ]
  },
  {
   "cell_type": "code",
   "execution_count": 39,
   "id": "0ff98ffd",
   "metadata": {
    "hidden": true
   },
   "outputs": [
    {
     "data": {
      "text/plain": [
       "[3.9209302325581397,\n",
       " 3.4318181818181817,\n",
       " 3.2596153846153846,\n",
       " 3.0714285714285716,\n",
       " 3.946078431372549,\n",
       " 3.185185185185185,\n",
       " 3.496212121212121,\n",
       " 3.6714285714285713,\n",
       " 3.926829268292683,\n",
       " 3.7761194029850746,\n",
       " 2.727272727272727,\n",
       " 3.49438202247191,\n",
       " 3.2222222222222223,\n",
       " 3.125,\n",
       " 3.625,\n",
       " 4.0131578947368425,\n",
       " 3.1842105263157894,\n",
       " 3.983050847457627,\n",
       " 3.65234375,\n",
       " 3.8358208955223883,\n",
       " 3.293269230769231,\n",
       " 2.5434782608695654,\n",
       " 3.3125,\n",
       " 3.9753694581280787,\n",
       " 3.1470588235294117,\n",
       " 4.237745098039215,\n",
       " 3.4642857142857144,\n",
       " 4.027027027027027,\n",
       " 3.235294117647059,\n",
       " 3.70625,\n",
       " 2.532258064516129,\n",
       " 3.5090909090909093,\n",
       " 3.0238095238095237,\n",
       " 3.782608695652174,\n",
       " 3.4393939393939394,\n",
       " 3.282608695652174,\n",
       " 3.326923076923077,\n",
       " 4.031645569620253,\n",
       " 4.105769230769231,\n",
       " 3.5434782608695654,\n",
       " 2.9516129032258065,\n",
       " 3.494186046511628,\n",
       " 3.2450980392156863,\n",
       " 3.845771144278607,\n",
       " 3.5454545454545454,\n",
       " 2.9160583941605838,\n",
       " 2.806451612903226,\n",
       " 2.8771929824561404,\n",
       " 3.6359223300970873,\n",
       " 3.5606060606060606,\n",
       " 3.5555555555555554,\n",
       " 3.0833333333333335,\n",
       " 3.2285714285714286,\n",
       " 2.6792452830188678,\n",
       " 2.6693548387096775,\n",
       " 3.4027777777777777,\n",
       " 3.0401785714285716,\n",
       " 2.8229166666666665,\n",
       " 2.4714285714285715,\n",
       " 2.6666666666666665,\n",
       " 3.25,\n",
       " 3.4318181818181817,\n",
       " 2.716666666666667,\n",
       " 3.4285714285714284,\n",
       " 2.9130434782608696,\n",
       " 4.041666666666667,\n",
       " 3.326530612244898,\n",
       " 3.855769230769231,\n",
       " 3.6125,\n",
       " 3.5384615384615383,\n",
       " 2.8636363636363638,\n",
       " 3.3958333333333335,\n",
       " 3.0601503759398496,\n",
       " 3.6785714285714284,\n",
       " 3.477777777777778,\n",
       " 3.340909090909091,\n",
       " 4.293103448275862,\n",
       " 3.9285714285714284,\n",
       " 3.453488372093023,\n",
       " 3.458715596330275,\n",
       " 2.8285714285714287,\n",
       " 4.231075697211155,\n",
       " 3.880952380952381,\n",
       " 3.9047619047619047,\n",
       " 3.9393939393939394,\n",
       " 3.3970588235294117,\n",
       " 3.7580645161290325,\n",
       " 2.9464285714285716,\n",
       " 3.25,\n",
       " 3.223684210526316,\n",
       " 3.3375,\n",
       " 3.233695652173913,\n",
       " 3.4257425742574257,\n",
       " 4.018796992481203,\n",
       " 4.197068403908795,\n",
       " 3.5185185185185186,\n",
       " 2.953125,\n",
       " 3.8958333333333335,\n",
       " 3.0789473684210527,\n",
       " 3.375,\n",
       " 3.2037037037037037,\n",
       " 4.429022082018927,\n",
       " 2.823529411764706,\n",
       " 3.3935185185185186,\n",
       " 3.78,\n",
       " 3.7662337662337664,\n",
       " 3.4693877551020407,\n",
       " 3.272727272727273,\n",
       " 3.040372670807453,\n",
       " 3.5972222222222223,\n",
       " 3.5833333333333335,\n",
       " 3.6045454545454545,\n",
       " 3.3859649122807016,\n",
       " 3.609375,\n",
       " 2.357142857142857,\n",
       " 4.164133738601824,\n",
       " 3.5194174757281553,\n",
       " 3.5294117647058822,\n",
       " 3.941860465116279,\n",
       " 3.1847133757961785,\n",
       " 3.5,\n",
       " 3.060344827586207,\n",
       " 3.3095238095238093,\n",
       " 2.761904761904762,\n",
       " 2.2,\n",
       " 3.25,\n",
       " 3.5292397660818713,\n",
       " 2.5,\n",
       " 3.497191011235955,\n",
       " 3.0952380952380953,\n",
       " 3.1011904761904763,\n",
       " 2.7884615384615383,\n",
       " 2.7203389830508473,\n",
       " 3.738095238095238,\n",
       " 2.6454545454545455,\n",
       " 3.0346534653465347,\n",
       " 2.4206349206349205,\n",
       " 3.5460526315789473,\n",
       " 3.9285714285714284,\n",
       " 3.0925925925925926,\n",
       " 3.5346534653465347,\n",
       " 2.391891891891892,\n",
       " 3.9921052631578946,\n",
       " 2.8666666666666667,\n",
       " 3.2045454545454546,\n",
       " 3.55,\n",
       " 3.692857142857143,\n",
       " 4.3,\n",
       " 3.75,\n",
       " 2.9339622641509435,\n",
       " 3.3780487804878048,\n",
       " 3.813953488372093,\n",
       " 3.388888888888889,\n",
       " 3.6136363636363638,\n",
       " 3.540983606557377,\n",
       " 3.6041666666666665,\n",
       " 2.4047619047619047,\n",
       " 3.130434782608696,\n",
       " 3.485294117647059,\n",
       " 4.225,\n",
       " 3.875,\n",
       " 3.25,\n",
       " 3.4716981132075473,\n",
       " 4.100806451612903,\n",
       " 3.317073170731707,\n",
       " 2.0,\n",
       " 3.553763440860215,\n",
       " 3.262295081967213,\n",
       " 3.8153846153846156,\n",
       " 3.8,\n",
       " 3.5434782608695654,\n",
       " 2.736111111111111,\n",
       " 2.9956896551724137,\n",
       " 3.4347826086956523,\n",
       " 3.7923497267759565,\n",
       " 3.970982142857143,\n",
       " 3.8353658536585367,\n",
       " 3.4285714285714284,\n",
       " 4.161290322580645,\n",
       " 3.616883116883117,\n",
       " 3.7705479452054793,\n",
       " 3.45,\n",
       " 3.4851851851851854,\n",
       " 4.116022099447513,\n",
       " 3.5454545454545454,\n",
       " 3.411111111111111,\n",
       " 3.642857142857143,\n",
       " 3.0454545454545454,\n",
       " 3.3275862068965516,\n",
       " 3.537037037037037,\n",
       " 3.0923076923076924,\n",
       " 3.4489795918367347,\n",
       " 3.486111111111111,\n",
       " 2.707547169811321,\n",
       " 2.880952380952381,\n",
       " 3.3879310344827585,\n",
       " 2.842857142857143,\n",
       " 4.092592592592593,\n",
       " 3.032258064516129,\n",
       " 3.6404958677685952,\n",
       " 3.321138211382114,\n",
       " 4.148148148148148,\n",
       " 2.5172413793103448,\n",
       " 3.8958333333333335,\n",
       " 3.1136363636363638,\n",
       " 4.268041237113402,\n",
       " 2.4146341463414633,\n",
       " 4.03921568627451,\n",
       " 3.4455445544554455,\n",
       " 3.3297872340425534,\n",
       " 2.8055555555555554,\n",
       " 3.369047619047619,\n",
       " 3.109375,\n",
       " 2.731707317073171,\n",
       " 3.4565217391304346,\n",
       " 3.3369565217391304,\n",
       " 3.657142857142857,\n",
       " 3.0714285714285716,\n",
       " 3.3378378378378377,\n",
       " 3.272727272727273,\n",
       " 3.9166666666666665,\n",
       " 2.9204545454545454,\n",
       " 3.1744186046511627,\n",
       " 4.2890625,\n",
       " 4.0,\n",
       " 2.740740740740741,\n",
       " 4.310344827586207,\n",
       " 4.074468085106383,\n",
       " 3.8472222222222223,\n",
       " 4.025,\n",
       " 4.261904761904762,\n",
       " 4.184210526315789,\n",
       " 3.962962962962963,\n",
       " 4.01,\n",
       " 4.24,\n",
       " 4.170454545454546,\n",
       " 4.042857142857143,\n",
       " 3.7666666666666666,\n",
       " 4.0576923076923075,\n",
       " 3.880434782608696,\n",
       " 3.6444444444444444,\n",
       " 4.333333333333333,\n",
       " 4.043478260869565,\n",
       " 3.8944954128440368,\n",
       " 4.229166666666667,\n",
       " 4.217391304347826,\n",
       " 4.0344827586206895,\n",
       " 3.75,\n",
       " 3.9705882352941178,\n",
       " 3.081081081081081,\n",
       " 2.3333333333333335,\n",
       " 3.488095238095238,\n",
       " 3.58,\n",
       " 3.017857142857143,\n",
       " 3.887323943661972,\n",
       " 3.3857142857142857,\n",
       " 3.4791666666666665,\n",
       " 3.375,\n",
       " 3.9375,\n",
       " 3.8620689655172415,\n",
       " 2.7708333333333335,\n",
       " 3.2738095238095237,\n",
       " 3.3181818181818183,\n",
       " 3.4761904761904763,\n",
       " 3.7222222222222223,\n",
       " 3.6944444444444446,\n",
       " 3.6724137931034484,\n",
       " 3.8739495798319328,\n",
       " 3.75,\n",
       " 3.9225352112676055,\n",
       " 3.9269662921348316,\n",
       " 4.071428571428571,\n",
       " 4.1,\n",
       " 3.369047619047619,\n",
       " 4.202290076335878,\n",
       " 3.984126984126984,\n",
       " 2.5476190476190474,\n",
       " 3.1914893617021276,\n",
       " 3.4054054054054053,\n",
       " 3.4404761904761907,\n",
       " 3.7663934426229506,\n",
       " 3.3012048192771086,\n",
       " 3.537037037037037,\n",
       " 3.6875,\n",
       " 3.475806451612903,\n",
       " 3.448717948717949,\n",
       " 4.161764705882353,\n",
       " 4.035714285714286,\n",
       " 4.161764705882353,\n",
       " 3.8333333333333335,\n",
       " 3.6296296296296298,\n",
       " 3.7111111111111112,\n",
       " 3.5869565217391304,\n",
       " 3.659090909090909,\n",
       " 4.203007518796992,\n",
       " 4.2156398104265405,\n",
       " 4.232394366197183,\n",
       " 4.2075,\n",
       " 4.177966101694915,\n",
       " 3.9642857142857144,\n",
       " 4.145833333333333,\n",
       " 4.149122807017544,\n",
       " 4.3,\n",
       " 3.995833333333333,\n",
       " 4.120689655172414,\n",
       " 4.219626168224299,\n",
       " 4.137755102040816,\n",
       " 4.229166666666667,\n",
       " 4.25,\n",
       " 3.969178082191781,\n",
       " 4.03921568627451,\n",
       " 4.036144578313253,\n",
       " 3.8095238095238093,\n",
       " 4.25968992248062,\n",
       " 4.098039215686274,\n",
       " 4.089285714285714,\n",
       " 4.184210526315789,\n",
       " 4.1875,\n",
       " 3.8706896551724137,\n",
       " 3.8636363636363638,\n",
       " 4.2125,\n",
       " 3.9765625,\n",
       " 4.288461538461538,\n",
       " 3.8969465648854964,\n",
       " 4.170731707317073,\n",
       " 4.106060606060606,\n",
       " 3.9593023255813953,\n",
       " 4.063291139240507,\n",
       " 4.071428571428571,\n",
       " 4.122222222222222,\n",
       " 4.211864406779661,\n",
       " 3.82,\n",
       " 3.8043478260869565,\n",
       " 3.685185185185185,\n",
       " 4.08256880733945,\n",
       " 4.0054945054945055,\n",
       " 4.044117647058823,\n",
       " 4.127906976744186,\n",
       " 3.8255813953488373,\n",
       " 3.944055944055944,\n",
       " 4.111111111111111,\n",
       " 4.25,\n",
       " 3.8793103448275863,\n",
       " 4.038011695906433,\n",
       " 3.5,\n",
       " 4.121212121212121,\n",
       " 3.7435897435897436,\n",
       " 3.7291666666666665,\n",
       " 4.271929824561403,\n",
       " 3.9927536231884058,\n",
       " 3.7830188679245285,\n",
       " 3.731707317073171,\n",
       " 3.9411764705882355,\n",
       " 4.015151515151516,\n",
       " 4.046428571428572,\n",
       " 3.8333333333333335,\n",
       " 3.760869565217391,\n",
       " 4.017857142857143,\n",
       " 3.517857142857143,\n",
       " 3.943548387096774,\n",
       " 3.8588235294117648,\n",
       " 3.148936170212766,\n",
       " 3.4130434782608696,\n",
       " 3.602272727272727,\n",
       " 3.4655172413793105,\n",
       " 3.78,\n",
       " 3.3472222222222223,\n",
       " 3.0,\n",
       " 3.8181818181818183,\n",
       " 3.879120879120879,\n",
       " 4.0,\n",
       " 3.8404255319148937,\n",
       " 3.074468085106383,\n",
       " 3.4044117647058822,\n",
       " 3.0444444444444443,\n",
       " 3.3452380952380953,\n",
       " 2.6666666666666665,\n",
       " 3.7661290322580645,\n",
       " 3.261904761904762,\n",
       " 3.4767441860465116,\n",
       " 3.025,\n",
       " 3.1,\n",
       " 3.139705882352941,\n",
       " 2.8541666666666665,\n",
       " 4.0054945054945055,\n",
       " 3.0930232558139537,\n",
       " 3.5941176470588236,\n",
       " 3.9913793103448274,\n",
       " 3.4782608695652173,\n",
       " 2.935483870967742,\n",
       " 3.2,\n",
       " 3.8333333333333335,\n",
       " 2.5,\n",
       " 2.625,\n",
       " 3.875,\n",
       " 3.7403846153846154,\n",
       " 3.5384615384615383,\n",
       " 3.216666666666667,\n",
       " 3.0337837837837838,\n",
       " 1.9259259259259258,\n",
       " 3.610169491525424,\n",
       " 2.9655172413793105,\n",
       " 3.535,\n",
       " 3.7456896551724137,\n",
       " 2.753731343283582,\n",
       " 3.0338983050847457,\n",
       " 2.2142857142857144,\n",
       " 3.4516129032258065,\n",
       " 3.5,\n",
       " 3.3701298701298703,\n",
       " 3.487878787878788,\n",
       " 3.652439024390244,\n",
       " 2.7954545454545454,\n",
       " 3.2580645161290325,\n",
       " 2.94,\n",
       " 2.6346153846153846,\n",
       " 2.941860465116279,\n",
       " 3.3448275862068964,\n",
       " 3.8722222222222222,\n",
       " 2.7884615384615383,\n",
       " 4.061855670103093,\n",
       " 3.7012987012987013,\n",
       " 3.576923076923077,\n",
       " 3.7589285714285716,\n",
       " 2.109375,\n",
       " 3.411764705882353,\n",
       " 3.953488372093023,\n",
       " 3.7941176470588234,\n",
       " 4.076923076923077,\n",
       " 3.65,\n",
       " 3.33125,\n",
       " 3.6,\n",
       " 3.812,\n",
       " 2.922222222222222,\n",
       " 4.078014184397163,\n",
       " 3.1041666666666665,\n",
       " 2.9193548387096775,\n",
       " 3.414285714285714,\n",
       " 3.066666666666667,\n",
       " 3.6979166666666665,\n",
       " 3.9245283018867925,\n",
       " 3.338709677419355,\n",
       " 3.8229166666666665,\n",
       " 3.419642857142857,\n",
       " 2.760869565217391,\n",
       " 3.6979166666666665,\n",
       " 3.0217391304347827,\n",
       " 3.5,\n",
       " 3.0161290322580645,\n",
       " 2.4482758620689653,\n",
       " 3.0697674418604652,\n",
       " 1.9545454545454546,\n",
       " 3.2708333333333335,\n",
       " 3.967391304347826,\n",
       " 3.566666666666667,\n",
       " 3.4404761904761907,\n",
       " 2.609375,\n",
       " 3.859375,\n",
       " 3.0543478260869565,\n",
       " 2.8484848484848486,\n",
       " 3.851063829787234,\n",
       " 3.676190476190476,\n",
       " 4.1875,\n",
       " 3.6029411764705883,\n",
       " 3.9545454545454546,\n",
       " 3.871794871794872,\n",
       " 3.828125,\n",
       " 3.7954545454545454,\n",
       " 3.6923076923076925,\n",
       " 3.8072916666666665,\n",
       " 3.739130434782609,\n",
       " 3.380952380952381,\n",
       " 3.8214285714285716,\n",
       " 3.7787610619469025,\n",
       " 3.7222222222222223,\n",
       " 3.425531914893617,\n",
       " 3.80188679245283,\n",
       " 3.6733333333333333,\n",
       " 3.1808510638297873,\n",
       " 2.9347826086956523,\n",
       " 3.3780487804878048,\n",
       " 3.5701754385964914,\n",
       " 3.1,\n",
       " 3.857142857142857,\n",
       " 3.5057471264367814,\n",
       " 3.3693181818181817,\n",
       " 3.0952380952380953,\n",
       " 3.3684210526315788,\n",
       " 4.1875,\n",
       " 4.0,\n",
       " 3.4324324324324325,\n",
       " 3.3555555555555556,\n",
       " 4.1462765957446805,\n",
       " 3.2083333333333335,\n",
       " 2.760869565217391,\n",
       " 2.7573529411764706,\n",
       " 3.35,\n",
       " 3.838709677419355,\n",
       " 4.142857142857143,\n",
       " 3.9456521739130435,\n",
       " 3.830188679245283,\n",
       " 3.4,\n",
       " 3.425373134328358,\n",
       " 2.6538461538461537,\n",
       " 3.4318181818181817,\n",
       " 3.573170731707317,\n",
       " 3.2564102564102564,\n",
       " 3.409090909090909,\n",
       " 3.1176470588235294,\n",
       " 3.34,\n",
       " 3.4791666666666665,\n",
       " 3.3703703703703702,\n",
       " 3.638888888888889,\n",
       " 3.289473684210526,\n",
       " 3.619047619047619,\n",
       " 3.1136363636363638,\n",
       " 3.5476190476190474,\n",
       " 3.4761904761904763,\n",
       " 3.5441176470588234,\n",
       " 3.6020408163265305,\n",
       " 3.242424242424242,\n",
       " 3.892857142857143,\n",
       " 4.171875,\n",
       " 3.5813953488372094,\n",
       " 3.3620689655172415,\n",
       " 3.4725274725274726,\n",
       " 3.98,\n",
       " 3.3375,\n",
       " 3.9384615384615387,\n",
       " 3.861111111111111,\n",
       " 3.425925925925926,\n",
       " 3.4285714285714284,\n",
       " 3.2045454545454546,\n",
       " 3.923076923076923,\n",
       " 3.789473684210526,\n",
       " 3.261904761904762,\n",
       " 3.5232558139534884,\n",
       " 3.933333333333333,\n",
       " 3.9473684210526314,\n",
       " 3.7,\n",
       " 3.2444444444444445,\n",
       " 3.9696969696969697,\n",
       " 3.26271186440678,\n",
       " 3.4836065573770494,\n",
       " 4.1477272727272725,\n",
       " 4.217054263565892,\n",
       " 3.1785714285714284,\n",
       " 3.6739130434782608,\n",
       " 3.84,\n",
       " 3.4925373134328357,\n",
       " 3.516304347826087,\n",
       " 3.673076923076923,\n",
       " 3.64,\n",
       " 2.6666666666666665,\n",
       " 3.0833333333333335,\n",
       " 2.9285714285714284,\n",
       " 3.2142857142857144,\n",
       " 3.022727272727273,\n",
       " 2.7758620689655173,\n",
       " 3.7954545454545454,\n",
       " 3.1515151515151514,\n",
       " 3.5,\n",
       " 3.544642857142857,\n",
       " 3.777173913043478,\n",
       " 3.55,\n",
       " 2.8095238095238093,\n",
       " 3.4537037037037037,\n",
       " 3.2674418604651163,\n",
       " 3.1923076923076925,\n",
       " 2.7291666666666665,\n",
       " 2.706896551724138,\n",
       " 3.5657894736842106,\n",
       " 2.7758620689655173,\n",
       " 3.566666666666667,\n",
       " 3.12,\n",
       " 3.3,\n",
       " 2.4782608695652173,\n",
       " 3.3703703703703702,\n",
       " 3.383720930232558,\n",
       " 3.175438596491228,\n",
       " 2.4791666666666665,\n",
       " 3.1346153846153846,\n",
       " 2.8448275862068964,\n",
       " 3.422222222222222,\n",
       " 3.108695652173913,\n",
       " 3.75,\n",
       " 4.090425531914893,\n",
       " 3.2291666666666665,\n",
       " 3.8035714285714284,\n",
       " 3.095744680851064,\n",
       " 3.225,\n",
       " 4.052238805970149,\n",
       " 4.192446043165468,\n",
       " 3.5277777777777777,\n",
       " 3.9615384615384617,\n",
       " 2.9583333333333335,\n",
       " 2.84,\n",
       " 3.6607142857142856,\n",
       " 3.8636363636363638,\n",
       " 2.988372093023256,\n",
       " 2.8846153846153846,\n",
       " 3.1206896551724137,\n",
       " 3.107142857142857,\n",
       " 3.6065573770491803,\n",
       " 3.020408163265306,\n",
       " 2.25,\n",
       " 3.3412698412698414,\n",
       " 3.455357142857143,\n",
       " 3.1983471074380163,\n",
       " 3.4583333333333335,\n",
       " 4.0,\n",
       " 3.1979166666666665,\n",
       " 2.811320754716981,\n",
       " 3.861842105263158,\n",
       " 2.207547169811321,\n",
       " 3.378640776699029,\n",
       " 3.272727272727273,\n",
       " 2.796875,\n",
       " 3.4622641509433962,\n",
       " 3.775,\n",
       " 3.0,\n",
       " 2.0952380952380953,\n",
       " 2.7758620689655173,\n",
       " 3.08974358974359,\n",
       " 2.8333333333333335,\n",
       " 3.3333333333333335,\n",
       " 4.051282051282051,\n",
       " 3.893854748603352,\n",
       " 3.6458333333333335,\n",
       " 2.960526315789474,\n",
       " 4.053571428571429,\n",
       " 3.8563218390804597,\n",
       " 3.6538461538461537,\n",
       " 3.71978021978022,\n",
       " 3.9727272727272727,\n",
       " 3.0,\n",
       " 2.9038461538461537,\n",
       " 2.869565217391304,\n",
       " 4.056372549019608,\n",
       " 3.9,\n",
       " 3.64,\n",
       " 3.7111111111111112,\n",
       " 3.551282051282051,\n",
       " 3.4404761904761907,\n",
       " 3.653409090909091,\n",
       " 3.8394495412844036,\n",
       " 3.96875,\n",
       " 3.839622641509434,\n",
       " 3.75,\n",
       " 3.712121212121212,\n",
       " 3.9358974358974357,\n",
       " 2.5161290322580645,\n",
       " 4.272935779816514,\n",
       " 3.731707317073171,\n",
       " 3.3714285714285714,\n",
       " 2.64,\n",
       " 3.5721649484536084,\n",
       " 3.5476190476190474,\n",
       " 3.6956521739130435,\n",
       " 3.4791666666666665,\n",
       " 3.9545454545454546,\n",
       " 3.9583333333333335,\n",
       " 2.84,\n",
       " 3.7419354838709675,\n",
       " 3.483050847457627,\n",
       " 3.513888888888889,\n",
       " 4.145833333333333,\n",
       " 3.730769230769231,\n",
       " 3.6455696202531644,\n",
       " 3.5476190476190474,\n",
       " 3.5555555555555554,\n",
       " 3.475806451612903,\n",
       " 3.3333333333333335,\n",
       " 3.1666666666666665,\n",
       " 3.6458333333333335,\n",
       " 3.9318181818181817,\n",
       " 3.0972222222222223,\n",
       " 3.6363636363636362,\n",
       " 3.6818181818181817,\n",
       " 3.3043478260869565,\n",
       " 3.8055555555555554,\n",
       " 3.8608247422680413,\n",
       " 4.148648648648648,\n",
       " 3.75,\n",
       " 3.7115384615384617,\n",
       " 3.603448275862069,\n",
       " 3.4871794871794872,\n",
       " 3.58,\n",
       " 3.336734693877551,\n",
       " 3.4642857142857144,\n",
       " 3.4761904761904763,\n",
       " 3.0277777777777777,\n",
       " 3.5925925925925926,\n",
       " 3.4754098360655736,\n",
       " 3.2962962962962963,\n",
       " 3.466666666666667,\n",
       " 3.5161290322580645,\n",
       " 2.859375,\n",
       " 3.0454545454545454,\n",
       " 2.423076923076923,\n",
       " 2.8518518518518516,\n",
       " 2.6724137931034484,\n",
       " 4.22093023255814,\n",
       " 3.0625,\n",
       " 3.7142857142857144,\n",
       " 3.5641025641025643,\n",
       " 3.5238095238095237,\n",
       " 3.659090909090909,\n",
       " 2.6904761904761907,\n",
       " 3.7045454545454546,\n",
       " 3.6714285714285713,\n",
       " 3.9342105263157894,\n",
       " 3.8488372093023258,\n",
       " 3.5,\n",
       " 3.590909090909091,\n",
       " 3.5285714285714285,\n",
       " 2.9285714285714284,\n",
       " 3.4634146341463414,\n",
       " 3.693548387096774,\n",
       " 4.037037037037037,\n",
       " 3.0,\n",
       " 3.802325581395349,\n",
       " 3.293103448275862,\n",
       " 3.72,\n",
       " 3.7416666666666667,\n",
       " 3.5576923076923075,\n",
       " 3.6666666666666665,\n",
       " 3.358490566037736,\n",
       " 3.840909090909091,\n",
       " 4.0227272727272725,\n",
       " 3.4166666666666665,\n",
       " 3.581967213114754,\n",
       " 3.3,\n",
       " 3.788135593220339,\n",
       " 3.4523809523809526,\n",
       " 3.826923076923077,\n",
       " 3.4242424242424243,\n",
       " 3.769230769230769,\n",
       " 3.9382352941176473,\n",
       " 2.94,\n",
       " 3.0853658536585367,\n",
       " 2.7142857142857144,\n",
       " 3.1511627906976742,\n",
       " 3.1346153846153846,\n",
       " 3.935483870967742,\n",
       " 4.151515151515151,\n",
       " 2.9047619047619047,\n",
       " 3.2205882352941178,\n",
       " 3.486842105263158,\n",
       " 4.0375,\n",
       " 3.2708333333333335,\n",
       " 3.221311475409836,\n",
       " 3.857142857142857,\n",
       " 3.413793103448276,\n",
       " 3.551282051282051,\n",
       " 3.0869565217391304,\n",
       " 3.448529411764706,\n",
       " 3.1704545454545454,\n",
       " 2.92,\n",
       " 3.699248120300752,\n",
       " 3.2,\n",
       " 3.2714285714285714,\n",
       " 2.7413793103448274,\n",
       " 2.2948717948717947,\n",
       " 2.891304347826087,\n",
       " 3.0444444444444443,\n",
       " 3.4047619047619047,\n",
       " 3.423076923076923,\n",
       " 2.6911764705882355,\n",
       " 3.8674698795180724,\n",
       " 3.688679245283019,\n",
       " 3.7439024390243905,\n",
       " 3.4175824175824174,\n",
       " 3.921875,\n",
       " 3.8513513513513513,\n",
       " 3.074074074074074,\n",
       " 3.4423076923076925,\n",
       " 2.7222222222222223,\n",
       " 2.5,\n",
       " 3.5,\n",
       " 3.0454545454545454,\n",
       " 3.4794520547945207,\n",
       " 3.8363636363636364,\n",
       " 3.8518518518518516,\n",
       " 4.155913978494624,\n",
       " 3.521276595744681,\n",
       " 2.727272727272727,\n",
       " 3.7162162162162162,\n",
       " 3.138888888888889,\n",
       " 3.7142857142857144,\n",
       " 3.7,\n",
       " 3.130434782608696,\n",
       " 3.0546875,\n",
       " 3.8085106382978724,\n",
       " 3.9,\n",
       " 2.909090909090909,\n",
       " 3.402173913043478,\n",
       " 3.8181818181818183,\n",
       " 3.7115384615384617,\n",
       " 2.9358974358974357,\n",
       " 3.347826086956522,\n",
       " 3.5125,\n",
       " 4.122641509433962,\n",
       " 2.9464285714285716,\n",
       " 3.9347826086956523,\n",
       " 3.8137254901960786,\n",
       " 3.623076923076923,\n",
       " 2.380952380952381,\n",
       " 3.9328358208955225,\n",
       " 3.088888888888889,\n",
       " 3.341463414634146,\n",
       " 3.8676470588235294,\n",
       " 3.590909090909091,\n",
       " 2.9651162790697674,\n",
       " 3.370967741935484,\n",
       " 3.037037037037037,\n",
       " 3.1029411764705883,\n",
       " 3.421875,\n",
       " 2.9,\n",
       " 3.066666666666667,\n",
       " 3.3392857142857144,\n",
       " 2.6538461538461537,\n",
       " 3.3548387096774195,\n",
       " 3.15625,\n",
       " 3.4583333333333335,\n",
       " 3.7,\n",
       " 2.8472222222222223,\n",
       " 3.5,\n",
       " 2.7448979591836733,\n",
       " 3.037037037037037,\n",
       " 3.370967741935484,\n",
       " 3.066666666666667,\n",
       " 3.6272727272727274,\n",
       " 3.161764705882353,\n",
       " 3.7941176470588234,\n",
       " 3.509259259259259,\n",
       " 3.14,\n",
       " 3.843137254901961,\n",
       " 3.484848484848485,\n",
       " 3.981651376146789,\n",
       " 3.871212121212121,\n",
       " 3.032258064516129,\n",
       " 3.7616822429906542,\n",
       " 3.4814814814814814,\n",
       " 3.8445378151260505,\n",
       " 4.183333333333334,\n",
       " 3.4204545454545454,\n",
       " 3.6838235294117645,\n",
       " 4.106060606060606,\n",
       " 4.0,\n",
       " 3.81,\n",
       " 3.7037037037037037,\n",
       " 3.9347826086956523,\n",
       " 3.828125,\n",
       " 3.4375,\n",
       " 3.6041666666666665,\n",
       " 2.8636363636363638,\n",
       " 3.6882352941176473,\n",
       " 3.0833333333333335,\n",
       " 3.9523809523809526,\n",
       " 3.2058823529411766,\n",
       " 3.0,\n",
       " 2.909090909090909,\n",
       " 3.2666666666666666,\n",
       " 2.2954545454545454,\n",
       " 3.540983606557377,\n",
       " 3.715909090909091,\n",
       " 3.157608695652174,\n",
       " 3.303030303030303,\n",
       " 3.8169642857142856,\n",
       " 3.810344827586207,\n",
       " 3.6375,\n",
       " 2.909090909090909,\n",
       " 2.959016393442623,\n",
       " 3.520408163265306,\n",
       " 2.8461538461538463,\n",
       " 3.1666666666666665,\n",
       " 2.7708333333333335,\n",
       " 3.519230769230769,\n",
       " 3.9,\n",
       " 4.155172413793103,\n",
       " 3.0535714285714284,\n",
       " 3.435483870967742,\n",
       " 3.7758620689655173,\n",
       " 3.621212121212121,\n",
       " 3.202127659574468,\n",
       " 3.292682926829268,\n",
       " 3.5980392156862746,\n",
       " 2.925925925925926,\n",
       " 3.9456521739130435,\n",
       " 3.875,\n",
       " 3.173076923076923,\n",
       " 4.0212765957446805,\n",
       " 3.840909090909091,\n",
       " 3.518181818181818,\n",
       " 3.9594594594594597,\n",
       " 3.9217391304347826,\n",
       " 3.7244897959183674,\n",
       " 4.108695652173913,\n",
       " 4.1466666666666665,\n",
       " 3.2758620689655173,\n",
       " 2.5,\n",
       " 3.5128205128205128,\n",
       " 3.3,\n",
       " 3.140625,\n",
       " 3.0588235294117645,\n",
       " 3.6818181818181817,\n",
       " 3.723684210526316,\n",
       " 4.0625,\n",
       " 3.3541666666666665,\n",
       " 3.316901408450704,\n",
       " 3.9609929078014185,\n",
       " 3.6186440677966103,\n",
       " 3.9741379310344827,\n",
       " 2.3703703703703702,\n",
       " 2.5606060606060606,\n",
       " 3.0444444444444443,\n",
       " 3.778523489932886,\n",
       " 2.625,\n",
       " 3.2083333333333335,\n",
       " 3.7205882352941178,\n",
       " 4.033783783783784,\n",
       " 3.5,\n",
       " 3.7045454545454546,\n",
       " 4.018518518518518,\n",
       " 3.95,\n",
       " 3.4015151515151514,\n",
       " 3.7115384615384617,\n",
       " 3.9618320610687023,\n",
       " 3.151898734177215,\n",
       " 3.6923076923076925,\n",
       " 3.788135593220339,\n",
       " 3.638888888888889,\n",
       " 3.3,\n",
       " 3.3653846153846154,\n",
       " 3.3095238095238093,\n",
       " 3.933333333333333,\n",
       " 3.9210526315789473,\n",
       " 4.0,\n",
       " 3.903225806451613,\n",
       " 3.8333333333333335,\n",
       " 4.118918918918919,\n",
       " 3.0416666666666665,\n",
       " 3.630434782608696,\n",
       " 3.5531914893617023,\n",
       " 3.8043478260869565,\n",
       " 3.2857142857142856,\n",
       " 4.1603053435114505,\n",
       " 3.3780487804878048,\n",
       " 3.868181818181818,\n",
       " 3.1904761904761907,\n",
       " 3.6285714285714286,\n",
       " 3.7564102564102564,\n",
       " 2.7083333333333335,\n",
       " 3.4270833333333335,\n",
       " 3.5760869565217392,\n",
       " 3.05,\n",
       " 3.913978494623656,\n",
       " 3.3043478260869565,\n",
       " 3.324324324324324,\n",
       " 3.51,\n",
       " 3.551282051282051,\n",
       " 3.3191489361702127,\n",
       " 3.5657894736842106,\n",
       " 3.4864864864864864,\n",
       " 3.8037974683544302,\n",
       " 3.7719298245614037,\n",
       " 3.4918032786885247,\n",
       " 3.7866666666666666,\n",
       " 3.1923076923076925,\n",
       " 3.7083333333333335,\n",
       " 3.7613636363636362,\n",
       " 3.4558823529411766,\n",
       " 3.7962962962962963,\n",
       " 4.0064935064935066,\n",
       " 3.4523809523809526,\n",
       " 3.46875,\n",
       " 3.7435897435897436,\n",
       " 3.986842105263158,\n",
       " 3.1818181818181817,\n",
       " 3.836,\n",
       " 3.609375,\n",
       " 3.263157894736842,\n",
       " 3.52,\n",
       " 3.2906976744186047,\n",
       " 3.5,\n",
       " 3.16,\n",
       " 4.089743589743589,\n",
       " 3.6136363636363638,\n",
       " 3.8461538461538463,\n",
       " 3.7916666666666665,\n",
       " 3.0,\n",
       " 3.4864864864864864,\n",
       " 3.5285714285714285,\n",
       " 3.106060606060606,\n",
       " 4.075,\n",
       " 3.1666666666666665,\n",
       " 3.4714285714285715,\n",
       " 3.857142857142857,\n",
       " 3.4204545454545454,\n",
       " ...]"
      ]
     },
     "execution_count": 39,
     "metadata": {},
     "output_type": "execute_result"
    }
   ],
   "source": [
    "rates"
   ]
  },
  {
   "cell_type": "markdown",
   "id": "cc5a8f25",
   "metadata": {
    "heading_collapsed": true
   },
   "source": [
    "# Baseline recommender"
   ]
  },
  {
   "cell_type": "code",
   "execution_count": null,
   "id": "e6897d2b",
   "metadata": {
    "hidden": true
   },
   "outputs": [],
   "source": [
    "user_query = { 246 : 1, 318 : 3, 50 : 4.5}"
   ]
  },
  {
   "cell_type": "code",
   "execution_count": null,
   "id": "34c7f72e",
   "metadata": {
    "hidden": true
   },
   "outputs": [],
   "source": [
    "#ratings"
   ]
  },
  {
   "cell_type": "code",
   "execution_count": null,
   "id": "7cf432fa",
   "metadata": {
    "hidden": true
   },
   "outputs": [],
   "source": [
    "def recommend_popular(query, ratings, k = 10):\n",
    "    \n",
    "    \"\"\"\n",
    "    \n",
    "    This function recommends popular movies depeding on their rating.\n",
    "    \n",
    "    Parameters:\n",
    "    -----------\n",
    "    query: A dictionary referring to ratings of seen movies from one user,\n",
    "    with movieIds as keys and ratings as values.\n",
    "    \n",
    "    ratings: A dataframe with movieIds and their ratings.\n",
    "    \n",
    "    k: the number of movies to be recommended.\n",
    "    \"\"\"\n",
    "    user = pd.DataFrame(list(query.items()), columns = [\"movieId\", \"rating\"])\n",
    "    user.set_index(\"movieId\", inplace = True)\n",
    "    \n",
    "    ratings = ratings.sort_values(by = \"rating\", ascending = False)\n",
    "    ratings_index = ratings.set_index(\"movieId\")\n",
    "    \n",
    "    for i in user.index:\n",
    "        ratings_index.drop(index = [i], inplace = True)\n",
    "        \n",
    "    ratings_index.reset_index(inplace = True)\n",
    "    \n",
    "    return ratings_index.head(k)"
   ]
  },
  {
   "cell_type": "code",
   "execution_count": null,
   "id": "96e7953b",
   "metadata": {
    "hidden": true
   },
   "outputs": [],
   "source": [
    "rec = recommend_popular(user_query, df_ratings, 10)"
   ]
  },
  {
   "cell_type": "code",
   "execution_count": null,
   "id": "d4c3d6d7",
   "metadata": {
    "hidden": true
   },
   "outputs": [],
   "source": [
    "rec"
   ]
  },
  {
   "cell_type": "code",
   "execution_count": null,
   "id": "f2d7f48b",
   "metadata": {
    "hidden": true
   },
   "outputs": [],
   "source": [
    "#df"
   ]
  },
  {
   "cell_type": "code",
   "execution_count": null,
   "id": "83e7aa53",
   "metadata": {
    "hidden": true
   },
   "outputs": [],
   "source": [
    "#df[\"userId\"].max()"
   ]
  },
  {
   "cell_type": "code",
   "execution_count": null,
   "id": "c04b42ac",
   "metadata": {
    "hidden": true
   },
   "outputs": [],
   "source": [
    "#user"
   ]
  },
  {
   "cell_type": "code",
   "execution_count": null,
   "id": "2b9116e1",
   "metadata": {
    "hidden": true
   },
   "outputs": [],
   "source": [
    "#user[\"userId\"] = 611"
   ]
  },
  {
   "cell_type": "code",
   "execution_count": null,
   "id": "0751c7ed",
   "metadata": {
    "hidden": true
   },
   "outputs": [],
   "source": [
    "#seen_movies = user[[\"movieId\"]]\n",
    "#seen_movies.set_index(\"movieId\", inplace = True)\n",
    "#seen_movies"
   ]
  },
  {
   "cell_type": "code",
   "execution_count": null,
   "id": "81405536",
   "metadata": {
    "hidden": true
   },
   "outputs": [],
   "source": [
    "#all_movies = df_ratings[[\"movieId\"]]\n",
    "#all_movies.set_index(\"movieId\", inplace = True)\n",
    "#all_movies"
   ]
  },
  {
   "cell_type": "code",
   "execution_count": null,
   "id": "45c5989c",
   "metadata": {
    "hidden": true
   },
   "outputs": [],
   "source": [
    "#for i in seen_movies.index:\n",
    "    #all_movies = all_movies.drop(index = [i])\n",
    "    #df_test = df_ratings.loc[seen_movies[i]]\n"
   ]
  },
  {
   "cell_type": "markdown",
   "id": "5d08c4b9",
   "metadata": {
    "heading_collapsed": true
   },
   "source": [
    "# Convert matrix into long format"
   ]
  },
  {
   "cell_type": "code",
   "execution_count": 40,
   "id": "79da5777",
   "metadata": {
    "hidden": true
   },
   "outputs": [],
   "source": [
    "df_pivot = pd.pivot_table(df, index = \"userId\", columns = \"title\", values = \"rating\" )"
   ]
  },
  {
   "cell_type": "code",
   "execution_count": 41,
   "id": "14540580",
   "metadata": {
    "hidden": true
   },
   "outputs": [
    {
     "data": {
      "text/html": [
       "<div>\n",
       "<style scoped>\n",
       "    .dataframe tbody tr th:only-of-type {\n",
       "        vertical-align: middle;\n",
       "    }\n",
       "\n",
       "    .dataframe tbody tr th {\n",
       "        vertical-align: top;\n",
       "    }\n",
       "\n",
       "    .dataframe thead th {\n",
       "        text-align: right;\n",
       "    }\n",
       "</style>\n",
       "<table border=\"1\" class=\"dataframe\">\n",
       "  <thead>\n",
       "    <tr style=\"text-align: right;\">\n",
       "      <th>title</th>\n",
       "      <th>(500) Days of Summer (2009)</th>\n",
       "      <th>10 Things I Hate About You (1999)</th>\n",
       "      <th>101 Dalmatians (1996)</th>\n",
       "      <th>101 Dalmatians (One Hundred and One Dalmatians) (1961)</th>\n",
       "      <th>12 Angry Men (1957)</th>\n",
       "      <th>13 Going on 30 (2004)</th>\n",
       "      <th>13th Warrior, The (1999)</th>\n",
       "      <th>1408 (2007)</th>\n",
       "      <th>2001: A Space Odyssey (1968)</th>\n",
       "      <th>2012 (2009)</th>\n",
       "      <th>...</th>\n",
       "      <th>Young Frankenstein (1974)</th>\n",
       "      <th>Young Guns (1988)</th>\n",
       "      <th>Zack and Miri Make a Porno (2008)</th>\n",
       "      <th>Zodiac (2007)</th>\n",
       "      <th>Zombieland (2009)</th>\n",
       "      <th>Zoolander (2001)</th>\n",
       "      <th>Zootopia (2016)</th>\n",
       "      <th>eXistenZ (1999)</th>\n",
       "      <th>xXx (2002)</th>\n",
       "      <th>¡Three Amigos! (1986)</th>\n",
       "    </tr>\n",
       "    <tr>\n",
       "      <th>userId</th>\n",
       "      <th></th>\n",
       "      <th></th>\n",
       "      <th></th>\n",
       "      <th></th>\n",
       "      <th></th>\n",
       "      <th></th>\n",
       "      <th></th>\n",
       "      <th></th>\n",
       "      <th></th>\n",
       "      <th></th>\n",
       "      <th></th>\n",
       "      <th></th>\n",
       "      <th></th>\n",
       "      <th></th>\n",
       "      <th></th>\n",
       "      <th></th>\n",
       "      <th></th>\n",
       "      <th></th>\n",
       "      <th></th>\n",
       "      <th></th>\n",
       "      <th></th>\n",
       "    </tr>\n",
       "  </thead>\n",
       "  <tbody>\n",
       "    <tr>\n",
       "      <th>1</th>\n",
       "      <td>NaN</td>\n",
       "      <td>NaN</td>\n",
       "      <td>NaN</td>\n",
       "      <td>NaN</td>\n",
       "      <td>NaN</td>\n",
       "      <td>NaN</td>\n",
       "      <td>4.0</td>\n",
       "      <td>NaN</td>\n",
       "      <td>NaN</td>\n",
       "      <td>NaN</td>\n",
       "      <td>...</td>\n",
       "      <td>5.0</td>\n",
       "      <td>NaN</td>\n",
       "      <td>NaN</td>\n",
       "      <td>NaN</td>\n",
       "      <td>NaN</td>\n",
       "      <td>NaN</td>\n",
       "      <td>NaN</td>\n",
       "      <td>NaN</td>\n",
       "      <td>NaN</td>\n",
       "      <td>4.0</td>\n",
       "    </tr>\n",
       "    <tr>\n",
       "      <th>2</th>\n",
       "      <td>NaN</td>\n",
       "      <td>NaN</td>\n",
       "      <td>NaN</td>\n",
       "      <td>NaN</td>\n",
       "      <td>NaN</td>\n",
       "      <td>NaN</td>\n",
       "      <td>NaN</td>\n",
       "      <td>NaN</td>\n",
       "      <td>NaN</td>\n",
       "      <td>NaN</td>\n",
       "      <td>...</td>\n",
       "      <td>NaN</td>\n",
       "      <td>NaN</td>\n",
       "      <td>NaN</td>\n",
       "      <td>NaN</td>\n",
       "      <td>3.0</td>\n",
       "      <td>NaN</td>\n",
       "      <td>NaN</td>\n",
       "      <td>NaN</td>\n",
       "      <td>NaN</td>\n",
       "      <td>NaN</td>\n",
       "    </tr>\n",
       "    <tr>\n",
       "      <th>3</th>\n",
       "      <td>NaN</td>\n",
       "      <td>NaN</td>\n",
       "      <td>NaN</td>\n",
       "      <td>NaN</td>\n",
       "      <td>NaN</td>\n",
       "      <td>NaN</td>\n",
       "      <td>NaN</td>\n",
       "      <td>NaN</td>\n",
       "      <td>NaN</td>\n",
       "      <td>0.5</td>\n",
       "      <td>...</td>\n",
       "      <td>NaN</td>\n",
       "      <td>NaN</td>\n",
       "      <td>NaN</td>\n",
       "      <td>NaN</td>\n",
       "      <td>NaN</td>\n",
       "      <td>NaN</td>\n",
       "      <td>NaN</td>\n",
       "      <td>NaN</td>\n",
       "      <td>NaN</td>\n",
       "      <td>NaN</td>\n",
       "    </tr>\n",
       "    <tr>\n",
       "      <th>4</th>\n",
       "      <td>NaN</td>\n",
       "      <td>NaN</td>\n",
       "      <td>NaN</td>\n",
       "      <td>NaN</td>\n",
       "      <td>5.0</td>\n",
       "      <td>NaN</td>\n",
       "      <td>NaN</td>\n",
       "      <td>NaN</td>\n",
       "      <td>NaN</td>\n",
       "      <td>NaN</td>\n",
       "      <td>...</td>\n",
       "      <td>NaN</td>\n",
       "      <td>NaN</td>\n",
       "      <td>NaN</td>\n",
       "      <td>NaN</td>\n",
       "      <td>NaN</td>\n",
       "      <td>NaN</td>\n",
       "      <td>NaN</td>\n",
       "      <td>NaN</td>\n",
       "      <td>NaN</td>\n",
       "      <td>NaN</td>\n",
       "    </tr>\n",
       "    <tr>\n",
       "      <th>5</th>\n",
       "      <td>NaN</td>\n",
       "      <td>NaN</td>\n",
       "      <td>NaN</td>\n",
       "      <td>NaN</td>\n",
       "      <td>NaN</td>\n",
       "      <td>NaN</td>\n",
       "      <td>NaN</td>\n",
       "      <td>NaN</td>\n",
       "      <td>NaN</td>\n",
       "      <td>NaN</td>\n",
       "      <td>...</td>\n",
       "      <td>NaN</td>\n",
       "      <td>NaN</td>\n",
       "      <td>NaN</td>\n",
       "      <td>NaN</td>\n",
       "      <td>NaN</td>\n",
       "      <td>NaN</td>\n",
       "      <td>NaN</td>\n",
       "      <td>NaN</td>\n",
       "      <td>NaN</td>\n",
       "      <td>NaN</td>\n",
       "    </tr>\n",
       "    <tr>\n",
       "      <th>...</th>\n",
       "      <td>...</td>\n",
       "      <td>...</td>\n",
       "      <td>...</td>\n",
       "      <td>...</td>\n",
       "      <td>...</td>\n",
       "      <td>...</td>\n",
       "      <td>...</td>\n",
       "      <td>...</td>\n",
       "      <td>...</td>\n",
       "      <td>...</td>\n",
       "      <td>...</td>\n",
       "      <td>...</td>\n",
       "      <td>...</td>\n",
       "      <td>...</td>\n",
       "      <td>...</td>\n",
       "      <td>...</td>\n",
       "      <td>...</td>\n",
       "      <td>...</td>\n",
       "      <td>...</td>\n",
       "      <td>...</td>\n",
       "      <td>...</td>\n",
       "    </tr>\n",
       "    <tr>\n",
       "      <th>606</th>\n",
       "      <td>NaN</td>\n",
       "      <td>NaN</td>\n",
       "      <td>NaN</td>\n",
       "      <td>NaN</td>\n",
       "      <td>NaN</td>\n",
       "      <td>NaN</td>\n",
       "      <td>NaN</td>\n",
       "      <td>NaN</td>\n",
       "      <td>5.0</td>\n",
       "      <td>NaN</td>\n",
       "      <td>...</td>\n",
       "      <td>3.5</td>\n",
       "      <td>NaN</td>\n",
       "      <td>NaN</td>\n",
       "      <td>NaN</td>\n",
       "      <td>NaN</td>\n",
       "      <td>NaN</td>\n",
       "      <td>NaN</td>\n",
       "      <td>NaN</td>\n",
       "      <td>NaN</td>\n",
       "      <td>NaN</td>\n",
       "    </tr>\n",
       "    <tr>\n",
       "      <th>607</th>\n",
       "      <td>NaN</td>\n",
       "      <td>NaN</td>\n",
       "      <td>NaN</td>\n",
       "      <td>NaN</td>\n",
       "      <td>NaN</td>\n",
       "      <td>NaN</td>\n",
       "      <td>NaN</td>\n",
       "      <td>NaN</td>\n",
       "      <td>NaN</td>\n",
       "      <td>NaN</td>\n",
       "      <td>...</td>\n",
       "      <td>NaN</td>\n",
       "      <td>NaN</td>\n",
       "      <td>NaN</td>\n",
       "      <td>NaN</td>\n",
       "      <td>NaN</td>\n",
       "      <td>NaN</td>\n",
       "      <td>NaN</td>\n",
       "      <td>NaN</td>\n",
       "      <td>NaN</td>\n",
       "      <td>NaN</td>\n",
       "    </tr>\n",
       "    <tr>\n",
       "      <th>608</th>\n",
       "      <td>NaN</td>\n",
       "      <td>NaN</td>\n",
       "      <td>NaN</td>\n",
       "      <td>NaN</td>\n",
       "      <td>NaN</td>\n",
       "      <td>NaN</td>\n",
       "      <td>NaN</td>\n",
       "      <td>NaN</td>\n",
       "      <td>3.0</td>\n",
       "      <td>NaN</td>\n",
       "      <td>...</td>\n",
       "      <td>NaN</td>\n",
       "      <td>NaN</td>\n",
       "      <td>NaN</td>\n",
       "      <td>NaN</td>\n",
       "      <td>NaN</td>\n",
       "      <td>3.0</td>\n",
       "      <td>NaN</td>\n",
       "      <td>4.5</td>\n",
       "      <td>3.5</td>\n",
       "      <td>NaN</td>\n",
       "    </tr>\n",
       "    <tr>\n",
       "      <th>609</th>\n",
       "      <td>NaN</td>\n",
       "      <td>NaN</td>\n",
       "      <td>NaN</td>\n",
       "      <td>NaN</td>\n",
       "      <td>NaN</td>\n",
       "      <td>NaN</td>\n",
       "      <td>NaN</td>\n",
       "      <td>NaN</td>\n",
       "      <td>NaN</td>\n",
       "      <td>NaN</td>\n",
       "      <td>...</td>\n",
       "      <td>NaN</td>\n",
       "      <td>NaN</td>\n",
       "      <td>NaN</td>\n",
       "      <td>NaN</td>\n",
       "      <td>NaN</td>\n",
       "      <td>NaN</td>\n",
       "      <td>NaN</td>\n",
       "      <td>NaN</td>\n",
       "      <td>NaN</td>\n",
       "      <td>NaN</td>\n",
       "    </tr>\n",
       "    <tr>\n",
       "      <th>610</th>\n",
       "      <td>3.5</td>\n",
       "      <td>NaN</td>\n",
       "      <td>NaN</td>\n",
       "      <td>NaN</td>\n",
       "      <td>NaN</td>\n",
       "      <td>NaN</td>\n",
       "      <td>NaN</td>\n",
       "      <td>4.0</td>\n",
       "      <td>4.5</td>\n",
       "      <td>3.0</td>\n",
       "      <td>...</td>\n",
       "      <td>NaN</td>\n",
       "      <td>NaN</td>\n",
       "      <td>3.5</td>\n",
       "      <td>5.0</td>\n",
       "      <td>3.5</td>\n",
       "      <td>4.0</td>\n",
       "      <td>4.0</td>\n",
       "      <td>NaN</td>\n",
       "      <td>2.0</td>\n",
       "      <td>NaN</td>\n",
       "    </tr>\n",
       "  </tbody>\n",
       "</table>\n",
       "<p>610 rows × 1235 columns</p>\n",
       "</div>"
      ],
      "text/plain": [
       "title   (500) Days of Summer (2009)  10 Things I Hate About You (1999)  \\\n",
       "userId                                                                   \n",
       "1                               NaN                                NaN   \n",
       "2                               NaN                                NaN   \n",
       "3                               NaN                                NaN   \n",
       "4                               NaN                                NaN   \n",
       "5                               NaN                                NaN   \n",
       "...                             ...                                ...   \n",
       "606                             NaN                                NaN   \n",
       "607                             NaN                                NaN   \n",
       "608                             NaN                                NaN   \n",
       "609                             NaN                                NaN   \n",
       "610                             3.5                                NaN   \n",
       "\n",
       "title   101 Dalmatians (1996)  \\\n",
       "userId                          \n",
       "1                         NaN   \n",
       "2                         NaN   \n",
       "3                         NaN   \n",
       "4                         NaN   \n",
       "5                         NaN   \n",
       "...                       ...   \n",
       "606                       NaN   \n",
       "607                       NaN   \n",
       "608                       NaN   \n",
       "609                       NaN   \n",
       "610                       NaN   \n",
       "\n",
       "title   101 Dalmatians (One Hundred and One Dalmatians) (1961)  \\\n",
       "userId                                                           \n",
       "1                                                     NaN        \n",
       "2                                                     NaN        \n",
       "3                                                     NaN        \n",
       "4                                                     NaN        \n",
       "5                                                     NaN        \n",
       "...                                                   ...        \n",
       "606                                                   NaN        \n",
       "607                                                   NaN        \n",
       "608                                                   NaN        \n",
       "609                                                   NaN        \n",
       "610                                                   NaN        \n",
       "\n",
       "title   12 Angry Men (1957)  13 Going on 30 (2004)  13th Warrior, The (1999)  \\\n",
       "userId                                                                         \n",
       "1                       NaN                    NaN                       4.0   \n",
       "2                       NaN                    NaN                       NaN   \n",
       "3                       NaN                    NaN                       NaN   \n",
       "4                       5.0                    NaN                       NaN   \n",
       "5                       NaN                    NaN                       NaN   \n",
       "...                     ...                    ...                       ...   \n",
       "606                     NaN                    NaN                       NaN   \n",
       "607                     NaN                    NaN                       NaN   \n",
       "608                     NaN                    NaN                       NaN   \n",
       "609                     NaN                    NaN                       NaN   \n",
       "610                     NaN                    NaN                       NaN   \n",
       "\n",
       "title   1408 (2007)  2001: A Space Odyssey (1968)  2012 (2009)  ...  \\\n",
       "userId                                                          ...   \n",
       "1               NaN                           NaN          NaN  ...   \n",
       "2               NaN                           NaN          NaN  ...   \n",
       "3               NaN                           NaN          0.5  ...   \n",
       "4               NaN                           NaN          NaN  ...   \n",
       "5               NaN                           NaN          NaN  ...   \n",
       "...             ...                           ...          ...  ...   \n",
       "606             NaN                           5.0          NaN  ...   \n",
       "607             NaN                           NaN          NaN  ...   \n",
       "608             NaN                           3.0          NaN  ...   \n",
       "609             NaN                           NaN          NaN  ...   \n",
       "610             4.0                           4.5          3.0  ...   \n",
       "\n",
       "title   Young Frankenstein (1974)  Young Guns (1988)  \\\n",
       "userId                                                 \n",
       "1                             5.0                NaN   \n",
       "2                             NaN                NaN   \n",
       "3                             NaN                NaN   \n",
       "4                             NaN                NaN   \n",
       "5                             NaN                NaN   \n",
       "...                           ...                ...   \n",
       "606                           3.5                NaN   \n",
       "607                           NaN                NaN   \n",
       "608                           NaN                NaN   \n",
       "609                           NaN                NaN   \n",
       "610                           NaN                NaN   \n",
       "\n",
       "title   Zack and Miri Make a Porno (2008)  Zodiac (2007)  Zombieland (2009)  \\\n",
       "userId                                                                        \n",
       "1                                     NaN            NaN                NaN   \n",
       "2                                     NaN            NaN                3.0   \n",
       "3                                     NaN            NaN                NaN   \n",
       "4                                     NaN            NaN                NaN   \n",
       "5                                     NaN            NaN                NaN   \n",
       "...                                   ...            ...                ...   \n",
       "606                                   NaN            NaN                NaN   \n",
       "607                                   NaN            NaN                NaN   \n",
       "608                                   NaN            NaN                NaN   \n",
       "609                                   NaN            NaN                NaN   \n",
       "610                                   3.5            5.0                3.5   \n",
       "\n",
       "title   Zoolander (2001)  Zootopia (2016)  eXistenZ (1999)  xXx (2002)  \\\n",
       "userId                                                                   \n",
       "1                    NaN              NaN              NaN         NaN   \n",
       "2                    NaN              NaN              NaN         NaN   \n",
       "3                    NaN              NaN              NaN         NaN   \n",
       "4                    NaN              NaN              NaN         NaN   \n",
       "5                    NaN              NaN              NaN         NaN   \n",
       "...                  ...              ...              ...         ...   \n",
       "606                  NaN              NaN              NaN         NaN   \n",
       "607                  NaN              NaN              NaN         NaN   \n",
       "608                  3.0              NaN              4.5         3.5   \n",
       "609                  NaN              NaN              NaN         NaN   \n",
       "610                  4.0              4.0              NaN         2.0   \n",
       "\n",
       "title   ¡Three Amigos! (1986)  \n",
       "userId                         \n",
       "1                         4.0  \n",
       "2                         NaN  \n",
       "3                         NaN  \n",
       "4                         NaN  \n",
       "5                         NaN  \n",
       "...                       ...  \n",
       "606                       NaN  \n",
       "607                       NaN  \n",
       "608                       NaN  \n",
       "609                       NaN  \n",
       "610                       NaN  \n",
       "\n",
       "[610 rows x 1235 columns]"
      ]
     },
     "execution_count": 41,
     "metadata": {},
     "output_type": "execute_result"
    }
   ],
   "source": [
    "df_pivot"
   ]
  },
  {
   "cell_type": "markdown",
   "id": "97396cbb",
   "metadata": {
    "heading_collapsed": true
   },
   "source": [
    "# Impute the missing values"
   ]
  },
  {
   "cell_type": "code",
   "execution_count": 42,
   "id": "f0494924",
   "metadata": {
    "hidden": true
   },
   "outputs": [],
   "source": [
    "pivot_mean = df_pivot.mean().mean()"
   ]
  },
  {
   "cell_type": "code",
   "execution_count": 43,
   "id": "4393fbac",
   "metadata": {
    "hidden": true
   },
   "outputs": [
    {
     "data": {
      "text/plain": [
       "3.5257595098823975"
      ]
     },
     "execution_count": 43,
     "metadata": {},
     "output_type": "execute_result"
    }
   ],
   "source": [
    "pivot_mean"
   ]
  },
  {
   "cell_type": "code",
   "execution_count": 44,
   "id": "993a5000",
   "metadata": {
    "hidden": true
   },
   "outputs": [],
   "source": [
    "df_pivot = df_pivot.fillna(pivot_mean)"
   ]
  },
  {
   "cell_type": "code",
   "execution_count": 45,
   "id": "257098ee",
   "metadata": {
    "hidden": true,
    "scrolled": true
   },
   "outputs": [
    {
     "data": {
      "text/html": [
       "<div>\n",
       "<style scoped>\n",
       "    .dataframe tbody tr th:only-of-type {\n",
       "        vertical-align: middle;\n",
       "    }\n",
       "\n",
       "    .dataframe tbody tr th {\n",
       "        vertical-align: top;\n",
       "    }\n",
       "\n",
       "    .dataframe thead th {\n",
       "        text-align: right;\n",
       "    }\n",
       "</style>\n",
       "<table border=\"1\" class=\"dataframe\">\n",
       "  <thead>\n",
       "    <tr style=\"text-align: right;\">\n",
       "      <th>title</th>\n",
       "      <th>(500) Days of Summer (2009)</th>\n",
       "      <th>10 Things I Hate About You (1999)</th>\n",
       "      <th>101 Dalmatians (1996)</th>\n",
       "      <th>101 Dalmatians (One Hundred and One Dalmatians) (1961)</th>\n",
       "      <th>12 Angry Men (1957)</th>\n",
       "      <th>13 Going on 30 (2004)</th>\n",
       "      <th>13th Warrior, The (1999)</th>\n",
       "      <th>1408 (2007)</th>\n",
       "      <th>2001: A Space Odyssey (1968)</th>\n",
       "      <th>2012 (2009)</th>\n",
       "      <th>...</th>\n",
       "      <th>Young Frankenstein (1974)</th>\n",
       "      <th>Young Guns (1988)</th>\n",
       "      <th>Zack and Miri Make a Porno (2008)</th>\n",
       "      <th>Zodiac (2007)</th>\n",
       "      <th>Zombieland (2009)</th>\n",
       "      <th>Zoolander (2001)</th>\n",
       "      <th>Zootopia (2016)</th>\n",
       "      <th>eXistenZ (1999)</th>\n",
       "      <th>xXx (2002)</th>\n",
       "      <th>¡Three Amigos! (1986)</th>\n",
       "    </tr>\n",
       "    <tr>\n",
       "      <th>userId</th>\n",
       "      <th></th>\n",
       "      <th></th>\n",
       "      <th></th>\n",
       "      <th></th>\n",
       "      <th></th>\n",
       "      <th></th>\n",
       "      <th></th>\n",
       "      <th></th>\n",
       "      <th></th>\n",
       "      <th></th>\n",
       "      <th></th>\n",
       "      <th></th>\n",
       "      <th></th>\n",
       "      <th></th>\n",
       "      <th></th>\n",
       "      <th></th>\n",
       "      <th></th>\n",
       "      <th></th>\n",
       "      <th></th>\n",
       "      <th></th>\n",
       "      <th></th>\n",
       "    </tr>\n",
       "  </thead>\n",
       "  <tbody>\n",
       "    <tr>\n",
       "      <th>1</th>\n",
       "      <td>3.52576</td>\n",
       "      <td>3.52576</td>\n",
       "      <td>3.52576</td>\n",
       "      <td>3.52576</td>\n",
       "      <td>3.52576</td>\n",
       "      <td>3.52576</td>\n",
       "      <td>4.00000</td>\n",
       "      <td>3.52576</td>\n",
       "      <td>3.52576</td>\n",
       "      <td>3.52576</td>\n",
       "      <td>...</td>\n",
       "      <td>5.00000</td>\n",
       "      <td>3.52576</td>\n",
       "      <td>3.52576</td>\n",
       "      <td>3.52576</td>\n",
       "      <td>3.52576</td>\n",
       "      <td>3.52576</td>\n",
       "      <td>3.52576</td>\n",
       "      <td>3.52576</td>\n",
       "      <td>3.52576</td>\n",
       "      <td>4.00000</td>\n",
       "    </tr>\n",
       "    <tr>\n",
       "      <th>2</th>\n",
       "      <td>3.52576</td>\n",
       "      <td>3.52576</td>\n",
       "      <td>3.52576</td>\n",
       "      <td>3.52576</td>\n",
       "      <td>3.52576</td>\n",
       "      <td>3.52576</td>\n",
       "      <td>3.52576</td>\n",
       "      <td>3.52576</td>\n",
       "      <td>3.52576</td>\n",
       "      <td>3.52576</td>\n",
       "      <td>...</td>\n",
       "      <td>3.52576</td>\n",
       "      <td>3.52576</td>\n",
       "      <td>3.52576</td>\n",
       "      <td>3.52576</td>\n",
       "      <td>3.00000</td>\n",
       "      <td>3.52576</td>\n",
       "      <td>3.52576</td>\n",
       "      <td>3.52576</td>\n",
       "      <td>3.52576</td>\n",
       "      <td>3.52576</td>\n",
       "    </tr>\n",
       "    <tr>\n",
       "      <th>3</th>\n",
       "      <td>3.52576</td>\n",
       "      <td>3.52576</td>\n",
       "      <td>3.52576</td>\n",
       "      <td>3.52576</td>\n",
       "      <td>3.52576</td>\n",
       "      <td>3.52576</td>\n",
       "      <td>3.52576</td>\n",
       "      <td>3.52576</td>\n",
       "      <td>3.52576</td>\n",
       "      <td>0.50000</td>\n",
       "      <td>...</td>\n",
       "      <td>3.52576</td>\n",
       "      <td>3.52576</td>\n",
       "      <td>3.52576</td>\n",
       "      <td>3.52576</td>\n",
       "      <td>3.52576</td>\n",
       "      <td>3.52576</td>\n",
       "      <td>3.52576</td>\n",
       "      <td>3.52576</td>\n",
       "      <td>3.52576</td>\n",
       "      <td>3.52576</td>\n",
       "    </tr>\n",
       "    <tr>\n",
       "      <th>4</th>\n",
       "      <td>3.52576</td>\n",
       "      <td>3.52576</td>\n",
       "      <td>3.52576</td>\n",
       "      <td>3.52576</td>\n",
       "      <td>5.00000</td>\n",
       "      <td>3.52576</td>\n",
       "      <td>3.52576</td>\n",
       "      <td>3.52576</td>\n",
       "      <td>3.52576</td>\n",
       "      <td>3.52576</td>\n",
       "      <td>...</td>\n",
       "      <td>3.52576</td>\n",
       "      <td>3.52576</td>\n",
       "      <td>3.52576</td>\n",
       "      <td>3.52576</td>\n",
       "      <td>3.52576</td>\n",
       "      <td>3.52576</td>\n",
       "      <td>3.52576</td>\n",
       "      <td>3.52576</td>\n",
       "      <td>3.52576</td>\n",
       "      <td>3.52576</td>\n",
       "    </tr>\n",
       "    <tr>\n",
       "      <th>5</th>\n",
       "      <td>3.52576</td>\n",
       "      <td>3.52576</td>\n",
       "      <td>3.52576</td>\n",
       "      <td>3.52576</td>\n",
       "      <td>3.52576</td>\n",
       "      <td>3.52576</td>\n",
       "      <td>3.52576</td>\n",
       "      <td>3.52576</td>\n",
       "      <td>3.52576</td>\n",
       "      <td>3.52576</td>\n",
       "      <td>...</td>\n",
       "      <td>3.52576</td>\n",
       "      <td>3.52576</td>\n",
       "      <td>3.52576</td>\n",
       "      <td>3.52576</td>\n",
       "      <td>3.52576</td>\n",
       "      <td>3.52576</td>\n",
       "      <td>3.52576</td>\n",
       "      <td>3.52576</td>\n",
       "      <td>3.52576</td>\n",
       "      <td>3.52576</td>\n",
       "    </tr>\n",
       "  </tbody>\n",
       "</table>\n",
       "<p>5 rows × 1235 columns</p>\n",
       "</div>"
      ],
      "text/plain": [
       "title   (500) Days of Summer (2009)  10 Things I Hate About You (1999)  \\\n",
       "userId                                                                   \n",
       "1                           3.52576                            3.52576   \n",
       "2                           3.52576                            3.52576   \n",
       "3                           3.52576                            3.52576   \n",
       "4                           3.52576                            3.52576   \n",
       "5                           3.52576                            3.52576   \n",
       "\n",
       "title   101 Dalmatians (1996)  \\\n",
       "userId                          \n",
       "1                     3.52576   \n",
       "2                     3.52576   \n",
       "3                     3.52576   \n",
       "4                     3.52576   \n",
       "5                     3.52576   \n",
       "\n",
       "title   101 Dalmatians (One Hundred and One Dalmatians) (1961)  \\\n",
       "userId                                                           \n",
       "1                                                 3.52576        \n",
       "2                                                 3.52576        \n",
       "3                                                 3.52576        \n",
       "4                                                 3.52576        \n",
       "5                                                 3.52576        \n",
       "\n",
       "title   12 Angry Men (1957)  13 Going on 30 (2004)  13th Warrior, The (1999)  \\\n",
       "userId                                                                         \n",
       "1                   3.52576                3.52576                   4.00000   \n",
       "2                   3.52576                3.52576                   3.52576   \n",
       "3                   3.52576                3.52576                   3.52576   \n",
       "4                   5.00000                3.52576                   3.52576   \n",
       "5                   3.52576                3.52576                   3.52576   \n",
       "\n",
       "title   1408 (2007)  2001: A Space Odyssey (1968)  2012 (2009)  ...  \\\n",
       "userId                                                          ...   \n",
       "1           3.52576                       3.52576      3.52576  ...   \n",
       "2           3.52576                       3.52576      3.52576  ...   \n",
       "3           3.52576                       3.52576      0.50000  ...   \n",
       "4           3.52576                       3.52576      3.52576  ...   \n",
       "5           3.52576                       3.52576      3.52576  ...   \n",
       "\n",
       "title   Young Frankenstein (1974)  Young Guns (1988)  \\\n",
       "userId                                                 \n",
       "1                         5.00000            3.52576   \n",
       "2                         3.52576            3.52576   \n",
       "3                         3.52576            3.52576   \n",
       "4                         3.52576            3.52576   \n",
       "5                         3.52576            3.52576   \n",
       "\n",
       "title   Zack and Miri Make a Porno (2008)  Zodiac (2007)  Zombieland (2009)  \\\n",
       "userId                                                                        \n",
       "1                                 3.52576        3.52576            3.52576   \n",
       "2                                 3.52576        3.52576            3.00000   \n",
       "3                                 3.52576        3.52576            3.52576   \n",
       "4                                 3.52576        3.52576            3.52576   \n",
       "5                                 3.52576        3.52576            3.52576   \n",
       "\n",
       "title   Zoolander (2001)  Zootopia (2016)  eXistenZ (1999)  xXx (2002)  \\\n",
       "userId                                                                   \n",
       "1                3.52576          3.52576          3.52576     3.52576   \n",
       "2                3.52576          3.52576          3.52576     3.52576   \n",
       "3                3.52576          3.52576          3.52576     3.52576   \n",
       "4                3.52576          3.52576          3.52576     3.52576   \n",
       "5                3.52576          3.52576          3.52576     3.52576   \n",
       "\n",
       "title   ¡Three Amigos! (1986)  \n",
       "userId                         \n",
       "1                     4.00000  \n",
       "2                     3.52576  \n",
       "3                     3.52576  \n",
       "4                     3.52576  \n",
       "5                     3.52576  \n",
       "\n",
       "[5 rows x 1235 columns]"
      ]
     },
     "execution_count": 45,
     "metadata": {},
     "output_type": "execute_result"
    }
   ],
   "source": [
    "df_pivot.head()"
   ]
  },
  {
   "cell_type": "code",
   "execution_count": 46,
   "id": "1749d5ea",
   "metadata": {
    "hidden": true
   },
   "outputs": [
    {
     "data": {
      "text/plain": [
       "(610, 1235)"
      ]
     },
     "execution_count": 46,
     "metadata": {},
     "output_type": "execute_result"
    }
   ],
   "source": [
    "df_pivot.shape"
   ]
  },
  {
   "cell_type": "markdown",
   "id": "92a12ac7",
   "metadata": {
    "heading_collapsed": true
   },
   "source": [
    "# NMF"
   ]
  },
  {
   "cell_type": "code",
   "execution_count": 47,
   "id": "0eac2ce5",
   "metadata": {
    "hidden": true
   },
   "outputs": [],
   "source": [
    "R = df_pivot.values"
   ]
  },
  {
   "cell_type": "code",
   "execution_count": 48,
   "id": "8e840e63",
   "metadata": {
    "hidden": true
   },
   "outputs": [
    {
     "data": {
      "text/plain": [
       "610"
      ]
     },
     "execution_count": 48,
     "metadata": {},
     "output_type": "execute_result"
    }
   ],
   "source": [
    "len(R)"
   ]
  },
  {
   "cell_type": "markdown",
   "id": "be0d5921",
   "metadata": {
    "hidden": true
   },
   "source": [
    "Check the number of unique movie genres to decide on number of components for the NMF."
   ]
  },
  {
   "cell_type": "code",
   "execution_count": 49,
   "id": "956717b1",
   "metadata": {
    "hidden": true
   },
   "outputs": [
    {
     "data": {
      "text/plain": [
       "951"
      ]
     },
     "execution_count": 49,
     "metadata": {},
     "output_type": "execute_result"
    }
   ],
   "source": [
    "movies[\"genres\"].nunique()"
   ]
  },
  {
   "cell_type": "code",
   "execution_count": 50,
   "id": "8dd68aae",
   "metadata": {
    "hidden": true
   },
   "outputs": [],
   "source": [
    "m = NMF(n_components = 450, init = \"random\", random_state = 10, max_iter = 200)"
   ]
  },
  {
   "cell_type": "code",
   "execution_count": 51,
   "id": "1123dee3",
   "metadata": {
    "hidden": true
   },
   "outputs": [
    {
     "name": "stderr",
     "output_type": "stream",
     "text": [
      "/home/nteni/anaconda3/lib/python3.9/site-packages/sklearn/decomposition/_nmf.py:1637: ConvergenceWarning: Maximum number of iterations 200 reached. Increase it to improve convergence.\n",
      "  warnings.warn(\n"
     ]
    },
    {
     "data": {
      "text/plain": [
       "NMF(init='random', n_components=450, random_state=10)"
      ]
     },
     "execution_count": 51,
     "metadata": {},
     "output_type": "execute_result"
    }
   ],
   "source": [
    "m.fit(R)"
   ]
  },
  {
   "cell_type": "code",
   "execution_count": 52,
   "id": "1b950e63",
   "metadata": {
    "hidden": true
   },
   "outputs": [],
   "source": [
    "Q = m.components_"
   ]
  },
  {
   "cell_type": "code",
   "execution_count": 53,
   "id": "8a77e8d8",
   "metadata": {
    "hidden": true
   },
   "outputs": [
    {
     "data": {
      "text/plain": [
       "array([[0.06765953, 0.06549482, 0.04908046, ..., 0.06751632, 0.05110116,\n",
       "        0.0493535 ],\n",
       "       [0.00728761, 0.03015367, 0.08589145, ..., 0.06137035, 0.08359071,\n",
       "        0.0970958 ],\n",
       "       [0.08634354, 0.01409969, 0.03342461, ..., 0.05197613, 0.00583946,\n",
       "        0.01350755],\n",
       "       ...,\n",
       "       [0.15503988, 0.12051672, 0.1689965 , ..., 0.03741936, 0.09125799,\n",
       "        0.11590434],\n",
       "       [0.22422378, 0.17803348, 0.05416064, ..., 0.13072465, 0.23993208,\n",
       "        0.16108184],\n",
       "       [0.        , 0.17503296, 0.15501817, ..., 0.31447721, 0.        ,\n",
       "        0.6260968 ]])"
      ]
     },
     "execution_count": 53,
     "metadata": {},
     "output_type": "execute_result"
    }
   ],
   "source": [
    "Q"
   ]
  },
  {
   "cell_type": "code",
   "execution_count": 54,
   "id": "7afffe79",
   "metadata": {
    "hidden": true
   },
   "outputs": [
    {
     "name": "stderr",
     "output_type": "stream",
     "text": [
      "/home/nteni/anaconda3/lib/python3.9/site-packages/sklearn/decomposition/_nmf.py:1637: ConvergenceWarning: Maximum number of iterations 200 reached. Increase it to improve convergence.\n",
      "  warnings.warn(\n"
     ]
    }
   ],
   "source": [
    "P = m.transform(R)"
   ]
  },
  {
   "cell_type": "code",
   "execution_count": 55,
   "id": "38b12709",
   "metadata": {
    "hidden": true
   },
   "outputs": [
    {
     "data": {
      "text/plain": [
       "array([[1.86348975e+00, 8.99395681e-01, 1.20157561e+00, ...,\n",
       "        9.87619816e-02, 4.90451164e-02, 8.11899895e-03],\n",
       "       [0.00000000e+00, 4.69710152e-01, 5.94201278e-01, ...,\n",
       "        3.39036224e-02, 9.25522283e-02, 3.95581995e-03],\n",
       "       [1.71214523e-01, 4.64903738e-01, 1.92225819e+00, ...,\n",
       "        1.97154419e-02, 0.00000000e+00, 0.00000000e+00],\n",
       "       ...,\n",
       "       [0.00000000e+00, 0.00000000e+00, 0.00000000e+00, ...,\n",
       "        0.00000000e+00, 0.00000000e+00, 5.67353318e-01],\n",
       "       [0.00000000e+00, 1.96244357e-01, 6.13962287e-01, ...,\n",
       "        1.94519889e-02, 1.41302493e-01, 8.18764386e-03],\n",
       "       [4.35907577e+00, 3.46550686e+00, 2.27821331e+00, ...,\n",
       "        2.40179699e-01, 4.25403912e-02, 2.79852472e-03]])"
      ]
     },
     "execution_count": 55,
     "metadata": {},
     "output_type": "execute_result"
    }
   ],
   "source": [
    "P"
   ]
  },
  {
   "cell_type": "code",
   "execution_count": 56,
   "id": "6b736d25",
   "metadata": {
    "hidden": true
   },
   "outputs": [
    {
     "name": "stdout",
     "output_type": "stream",
     "text": [
      "40.58906537243212\n"
     ]
    }
   ],
   "source": [
    "print(m.reconstruction_err_)"
   ]
  },
  {
   "cell_type": "code",
   "execution_count": null,
   "id": "0c42f0ba",
   "metadata": {
    "hidden": true
   },
   "outputs": [],
   "source": [
    "#nR = np.dot(P, Q)"
   ]
  },
  {
   "cell_type": "code",
   "execution_count": null,
   "id": "f45be3ba",
   "metadata": {
    "hidden": true
   },
   "outputs": [],
   "source": [
    "#nR"
   ]
  },
  {
   "cell_type": "code",
   "execution_count": null,
   "id": "ea168fe0",
   "metadata": {
    "hidden": true
   },
   "outputs": [],
   "source": [
    "#nR.shape"
   ]
  },
  {
   "cell_type": "markdown",
   "id": "df7a5866",
   "metadata": {
    "heading_collapsed": true
   },
   "source": [
    "# Predict recommendations for a new user."
   ]
  },
  {
   "cell_type": "markdown",
   "id": "f91826e6",
   "metadata": {
    "heading_collapsed": true,
    "hidden": true
   },
   "source": [
    "## Assign some ratings to a user."
   ]
  },
  {
   "cell_type": "code",
   "execution_count": 133,
   "id": "f6dad01a",
   "metadata": {
    "hidden": true
   },
   "outputs": [],
   "source": [
    "user_query = { \"Matrix, The (1999)\" : 1, \"Shawshank Redemption, The (1994)\" : 3, \"Jewel of the Nile, The (1985)\" : 4.5}"
   ]
  },
  {
   "cell_type": "code",
   "execution_count": 134,
   "id": "ea016f6f",
   "metadata": {
    "hidden": true
   },
   "outputs": [],
   "source": [
    "user = pd.DataFrame(list(user_query.items()), columns = [\"title\", \"rating\"])"
   ]
  },
  {
   "cell_type": "code",
   "execution_count": 135,
   "id": "01caf82d",
   "metadata": {
    "hidden": true
   },
   "outputs": [],
   "source": [
    "user.set_index(\"title\", inplace = True)"
   ]
  },
  {
   "cell_type": "code",
   "execution_count": 136,
   "id": "603e9795",
   "metadata": {
    "hidden": true
   },
   "outputs": [
    {
     "data": {
      "text/html": [
       "<div>\n",
       "<style scoped>\n",
       "    .dataframe tbody tr th:only-of-type {\n",
       "        vertical-align: middle;\n",
       "    }\n",
       "\n",
       "    .dataframe tbody tr th {\n",
       "        vertical-align: top;\n",
       "    }\n",
       "\n",
       "    .dataframe thead th {\n",
       "        text-align: right;\n",
       "    }\n",
       "</style>\n",
       "<table border=\"1\" class=\"dataframe\">\n",
       "  <thead>\n",
       "    <tr style=\"text-align: right;\">\n",
       "      <th></th>\n",
       "      <th>rating</th>\n",
       "    </tr>\n",
       "    <tr>\n",
       "      <th>title</th>\n",
       "      <th></th>\n",
       "    </tr>\n",
       "  </thead>\n",
       "  <tbody>\n",
       "    <tr>\n",
       "      <th>Matrix, The (1999)</th>\n",
       "      <td>1.0</td>\n",
       "    </tr>\n",
       "    <tr>\n",
       "      <th>Shawshank Redemption, The (1994)</th>\n",
       "      <td>3.0</td>\n",
       "    </tr>\n",
       "    <tr>\n",
       "      <th>Jewel of the Nile, The (1985)</th>\n",
       "      <td>4.5</td>\n",
       "    </tr>\n",
       "  </tbody>\n",
       "</table>\n",
       "</div>"
      ],
      "text/plain": [
       "                                  rating\n",
       "title                                   \n",
       "Matrix, The (1999)                   1.0\n",
       "Shawshank Redemption, The (1994)     3.0\n",
       "Jewel of the Nile, The (1985)        4.5"
      ]
     },
     "execution_count": 136,
     "metadata": {},
     "output_type": "execute_result"
    }
   ],
   "source": [
    "user"
   ]
  },
  {
   "cell_type": "markdown",
   "id": "7d93d668",
   "metadata": {
    "heading_collapsed": true,
    "hidden": true
   },
   "source": [
    "## Create a film dataframe for all the films in the pivot table."
   ]
  },
  {
   "cell_type": "code",
   "execution_count": 137,
   "id": "a51fa705",
   "metadata": {
    "hidden": true
   },
   "outputs": [
    {
     "data": {
      "text/html": [
       "<div>\n",
       "<style scoped>\n",
       "    .dataframe tbody tr th:only-of-type {\n",
       "        vertical-align: middle;\n",
       "    }\n",
       "\n",
       "    .dataframe tbody tr th {\n",
       "        vertical-align: top;\n",
       "    }\n",
       "\n",
       "    .dataframe thead th {\n",
       "        text-align: right;\n",
       "    }\n",
       "</style>\n",
       "<table border=\"1\" class=\"dataframe\">\n",
       "  <thead>\n",
       "    <tr style=\"text-align: right;\">\n",
       "      <th>title</th>\n",
       "      <th>(500) Days of Summer (2009)</th>\n",
       "      <th>10 Things I Hate About You (1999)</th>\n",
       "      <th>101 Dalmatians (1996)</th>\n",
       "      <th>101 Dalmatians (One Hundred and One Dalmatians) (1961)</th>\n",
       "      <th>12 Angry Men (1957)</th>\n",
       "      <th>13 Going on 30 (2004)</th>\n",
       "      <th>13th Warrior, The (1999)</th>\n",
       "      <th>1408 (2007)</th>\n",
       "      <th>2001: A Space Odyssey (1968)</th>\n",
       "      <th>2012 (2009)</th>\n",
       "      <th>...</th>\n",
       "      <th>Young Frankenstein (1974)</th>\n",
       "      <th>Young Guns (1988)</th>\n",
       "      <th>Zack and Miri Make a Porno (2008)</th>\n",
       "      <th>Zodiac (2007)</th>\n",
       "      <th>Zombieland (2009)</th>\n",
       "      <th>Zoolander (2001)</th>\n",
       "      <th>Zootopia (2016)</th>\n",
       "      <th>eXistenZ (1999)</th>\n",
       "      <th>xXx (2002)</th>\n",
       "      <th>¡Three Amigos! (1986)</th>\n",
       "    </tr>\n",
       "    <tr>\n",
       "      <th>userId</th>\n",
       "      <th></th>\n",
       "      <th></th>\n",
       "      <th></th>\n",
       "      <th></th>\n",
       "      <th></th>\n",
       "      <th></th>\n",
       "      <th></th>\n",
       "      <th></th>\n",
       "      <th></th>\n",
       "      <th></th>\n",
       "      <th></th>\n",
       "      <th></th>\n",
       "      <th></th>\n",
       "      <th></th>\n",
       "      <th></th>\n",
       "      <th></th>\n",
       "      <th></th>\n",
       "      <th></th>\n",
       "      <th></th>\n",
       "      <th></th>\n",
       "      <th></th>\n",
       "    </tr>\n",
       "  </thead>\n",
       "  <tbody>\n",
       "    <tr>\n",
       "      <th>1</th>\n",
       "      <td>3.52576</td>\n",
       "      <td>3.52576</td>\n",
       "      <td>3.52576</td>\n",
       "      <td>3.52576</td>\n",
       "      <td>3.52576</td>\n",
       "      <td>3.52576</td>\n",
       "      <td>4.00000</td>\n",
       "      <td>3.52576</td>\n",
       "      <td>3.52576</td>\n",
       "      <td>3.52576</td>\n",
       "      <td>...</td>\n",
       "      <td>5.00000</td>\n",
       "      <td>3.52576</td>\n",
       "      <td>3.52576</td>\n",
       "      <td>3.52576</td>\n",
       "      <td>3.52576</td>\n",
       "      <td>3.52576</td>\n",
       "      <td>3.52576</td>\n",
       "      <td>3.52576</td>\n",
       "      <td>3.52576</td>\n",
       "      <td>4.00000</td>\n",
       "    </tr>\n",
       "    <tr>\n",
       "      <th>2</th>\n",
       "      <td>3.52576</td>\n",
       "      <td>3.52576</td>\n",
       "      <td>3.52576</td>\n",
       "      <td>3.52576</td>\n",
       "      <td>3.52576</td>\n",
       "      <td>3.52576</td>\n",
       "      <td>3.52576</td>\n",
       "      <td>3.52576</td>\n",
       "      <td>3.52576</td>\n",
       "      <td>3.52576</td>\n",
       "      <td>...</td>\n",
       "      <td>3.52576</td>\n",
       "      <td>3.52576</td>\n",
       "      <td>3.52576</td>\n",
       "      <td>3.52576</td>\n",
       "      <td>3.00000</td>\n",
       "      <td>3.52576</td>\n",
       "      <td>3.52576</td>\n",
       "      <td>3.52576</td>\n",
       "      <td>3.52576</td>\n",
       "      <td>3.52576</td>\n",
       "    </tr>\n",
       "    <tr>\n",
       "      <th>3</th>\n",
       "      <td>3.52576</td>\n",
       "      <td>3.52576</td>\n",
       "      <td>3.52576</td>\n",
       "      <td>3.52576</td>\n",
       "      <td>3.52576</td>\n",
       "      <td>3.52576</td>\n",
       "      <td>3.52576</td>\n",
       "      <td>3.52576</td>\n",
       "      <td>3.52576</td>\n",
       "      <td>0.50000</td>\n",
       "      <td>...</td>\n",
       "      <td>3.52576</td>\n",
       "      <td>3.52576</td>\n",
       "      <td>3.52576</td>\n",
       "      <td>3.52576</td>\n",
       "      <td>3.52576</td>\n",
       "      <td>3.52576</td>\n",
       "      <td>3.52576</td>\n",
       "      <td>3.52576</td>\n",
       "      <td>3.52576</td>\n",
       "      <td>3.52576</td>\n",
       "    </tr>\n",
       "    <tr>\n",
       "      <th>4</th>\n",
       "      <td>3.52576</td>\n",
       "      <td>3.52576</td>\n",
       "      <td>3.52576</td>\n",
       "      <td>3.52576</td>\n",
       "      <td>5.00000</td>\n",
       "      <td>3.52576</td>\n",
       "      <td>3.52576</td>\n",
       "      <td>3.52576</td>\n",
       "      <td>3.52576</td>\n",
       "      <td>3.52576</td>\n",
       "      <td>...</td>\n",
       "      <td>3.52576</td>\n",
       "      <td>3.52576</td>\n",
       "      <td>3.52576</td>\n",
       "      <td>3.52576</td>\n",
       "      <td>3.52576</td>\n",
       "      <td>3.52576</td>\n",
       "      <td>3.52576</td>\n",
       "      <td>3.52576</td>\n",
       "      <td>3.52576</td>\n",
       "      <td>3.52576</td>\n",
       "    </tr>\n",
       "    <tr>\n",
       "      <th>5</th>\n",
       "      <td>3.52576</td>\n",
       "      <td>3.52576</td>\n",
       "      <td>3.52576</td>\n",
       "      <td>3.52576</td>\n",
       "      <td>3.52576</td>\n",
       "      <td>3.52576</td>\n",
       "      <td>3.52576</td>\n",
       "      <td>3.52576</td>\n",
       "      <td>3.52576</td>\n",
       "      <td>3.52576</td>\n",
       "      <td>...</td>\n",
       "      <td>3.52576</td>\n",
       "      <td>3.52576</td>\n",
       "      <td>3.52576</td>\n",
       "      <td>3.52576</td>\n",
       "      <td>3.52576</td>\n",
       "      <td>3.52576</td>\n",
       "      <td>3.52576</td>\n",
       "      <td>3.52576</td>\n",
       "      <td>3.52576</td>\n",
       "      <td>3.52576</td>\n",
       "    </tr>\n",
       "  </tbody>\n",
       "</table>\n",
       "<p>5 rows × 1235 columns</p>\n",
       "</div>"
      ],
      "text/plain": [
       "title   (500) Days of Summer (2009)  10 Things I Hate About You (1999)  \\\n",
       "userId                                                                   \n",
       "1                           3.52576                            3.52576   \n",
       "2                           3.52576                            3.52576   \n",
       "3                           3.52576                            3.52576   \n",
       "4                           3.52576                            3.52576   \n",
       "5                           3.52576                            3.52576   \n",
       "\n",
       "title   101 Dalmatians (1996)  \\\n",
       "userId                          \n",
       "1                     3.52576   \n",
       "2                     3.52576   \n",
       "3                     3.52576   \n",
       "4                     3.52576   \n",
       "5                     3.52576   \n",
       "\n",
       "title   101 Dalmatians (One Hundred and One Dalmatians) (1961)  \\\n",
       "userId                                                           \n",
       "1                                                 3.52576        \n",
       "2                                                 3.52576        \n",
       "3                                                 3.52576        \n",
       "4                                                 3.52576        \n",
       "5                                                 3.52576        \n",
       "\n",
       "title   12 Angry Men (1957)  13 Going on 30 (2004)  13th Warrior, The (1999)  \\\n",
       "userId                                                                         \n",
       "1                   3.52576                3.52576                   4.00000   \n",
       "2                   3.52576                3.52576                   3.52576   \n",
       "3                   3.52576                3.52576                   3.52576   \n",
       "4                   5.00000                3.52576                   3.52576   \n",
       "5                   3.52576                3.52576                   3.52576   \n",
       "\n",
       "title   1408 (2007)  2001: A Space Odyssey (1968)  2012 (2009)  ...  \\\n",
       "userId                                                          ...   \n",
       "1           3.52576                       3.52576      3.52576  ...   \n",
       "2           3.52576                       3.52576      3.52576  ...   \n",
       "3           3.52576                       3.52576      0.50000  ...   \n",
       "4           3.52576                       3.52576      3.52576  ...   \n",
       "5           3.52576                       3.52576      3.52576  ...   \n",
       "\n",
       "title   Young Frankenstein (1974)  Young Guns (1988)  \\\n",
       "userId                                                 \n",
       "1                         5.00000            3.52576   \n",
       "2                         3.52576            3.52576   \n",
       "3                         3.52576            3.52576   \n",
       "4                         3.52576            3.52576   \n",
       "5                         3.52576            3.52576   \n",
       "\n",
       "title   Zack and Miri Make a Porno (2008)  Zodiac (2007)  Zombieland (2009)  \\\n",
       "userId                                                                        \n",
       "1                                 3.52576        3.52576            3.52576   \n",
       "2                                 3.52576        3.52576            3.00000   \n",
       "3                                 3.52576        3.52576            3.52576   \n",
       "4                                 3.52576        3.52576            3.52576   \n",
       "5                                 3.52576        3.52576            3.52576   \n",
       "\n",
       "title   Zoolander (2001)  Zootopia (2016)  eXistenZ (1999)  xXx (2002)  \\\n",
       "userId                                                                   \n",
       "1                3.52576          3.52576          3.52576     3.52576   \n",
       "2                3.52576          3.52576          3.52576     3.52576   \n",
       "3                3.52576          3.52576          3.52576     3.52576   \n",
       "4                3.52576          3.52576          3.52576     3.52576   \n",
       "5                3.52576          3.52576          3.52576     3.52576   \n",
       "\n",
       "title   ¡Three Amigos! (1986)  \n",
       "userId                         \n",
       "1                     4.00000  \n",
       "2                     3.52576  \n",
       "3                     3.52576  \n",
       "4                     3.52576  \n",
       "5                     3.52576  \n",
       "\n",
       "[5 rows x 1235 columns]"
      ]
     },
     "execution_count": 137,
     "metadata": {},
     "output_type": "execute_result"
    }
   ],
   "source": [
    "df_pivot.head()"
   ]
  },
  {
   "cell_type": "code",
   "execution_count": 138,
   "id": "33e1a57a",
   "metadata": {
    "hidden": true
   },
   "outputs": [],
   "source": [
    "mv = df_pivot.columns"
   ]
  },
  {
   "cell_type": "code",
   "execution_count": 139,
   "id": "8eb5395d",
   "metadata": {
    "hidden": true
   },
   "outputs": [
    {
     "data": {
      "text/plain": [
       "Index(['(500) Days of Summer (2009)', '10 Things I Hate About You (1999)',\n",
       "       '101 Dalmatians (1996)',\n",
       "       '101 Dalmatians (One Hundred and One Dalmatians) (1961)',\n",
       "       '12 Angry Men (1957)', '13 Going on 30 (2004)',\n",
       "       '13th Warrior, The (1999)', '1408 (2007)',\n",
       "       '2001: A Space Odyssey (1968)', '2012 (2009)',\n",
       "       ...\n",
       "       'Young Frankenstein (1974)', 'Young Guns (1988)',\n",
       "       'Zack and Miri Make a Porno (2008)', 'Zodiac (2007)',\n",
       "       'Zombieland (2009)', 'Zoolander (2001)', 'Zootopia (2016)',\n",
       "       'eXistenZ (1999)', 'xXx (2002)', '¡Three Amigos! (1986)'],\n",
       "      dtype='object', name='title', length=1235)"
      ]
     },
     "execution_count": 139,
     "metadata": {},
     "output_type": "execute_result"
    }
   ],
   "source": [
    "mv"
   ]
  },
  {
   "cell_type": "code",
   "execution_count": 140,
   "id": "e8ec4d95",
   "metadata": {
    "hidden": true
   },
   "outputs": [],
   "source": [
    "mv = pd.DataFrame(mv)"
   ]
  },
  {
   "cell_type": "code",
   "execution_count": 141,
   "id": "4945c14a",
   "metadata": {
    "hidden": true,
    "scrolled": true
   },
   "outputs": [
    {
     "data": {
      "text/html": [
       "<div>\n",
       "<style scoped>\n",
       "    .dataframe tbody tr th:only-of-type {\n",
       "        vertical-align: middle;\n",
       "    }\n",
       "\n",
       "    .dataframe tbody tr th {\n",
       "        vertical-align: top;\n",
       "    }\n",
       "\n",
       "    .dataframe thead th {\n",
       "        text-align: right;\n",
       "    }\n",
       "</style>\n",
       "<table border=\"1\" class=\"dataframe\">\n",
       "  <thead>\n",
       "    <tr style=\"text-align: right;\">\n",
       "      <th></th>\n",
       "      <th>title</th>\n",
       "    </tr>\n",
       "  </thead>\n",
       "  <tbody>\n",
       "    <tr>\n",
       "      <th>0</th>\n",
       "      <td>(500) Days of Summer (2009)</td>\n",
       "    </tr>\n",
       "    <tr>\n",
       "      <th>1</th>\n",
       "      <td>10 Things I Hate About You (1999)</td>\n",
       "    </tr>\n",
       "    <tr>\n",
       "      <th>2</th>\n",
       "      <td>101 Dalmatians (1996)</td>\n",
       "    </tr>\n",
       "    <tr>\n",
       "      <th>3</th>\n",
       "      <td>101 Dalmatians (One Hundred and One Dalmatians...</td>\n",
       "    </tr>\n",
       "    <tr>\n",
       "      <th>4</th>\n",
       "      <td>12 Angry Men (1957)</td>\n",
       "    </tr>\n",
       "    <tr>\n",
       "      <th>...</th>\n",
       "      <td>...</td>\n",
       "    </tr>\n",
       "    <tr>\n",
       "      <th>1230</th>\n",
       "      <td>Zoolander (2001)</td>\n",
       "    </tr>\n",
       "    <tr>\n",
       "      <th>1231</th>\n",
       "      <td>Zootopia (2016)</td>\n",
       "    </tr>\n",
       "    <tr>\n",
       "      <th>1232</th>\n",
       "      <td>eXistenZ (1999)</td>\n",
       "    </tr>\n",
       "    <tr>\n",
       "      <th>1233</th>\n",
       "      <td>xXx (2002)</td>\n",
       "    </tr>\n",
       "    <tr>\n",
       "      <th>1234</th>\n",
       "      <td>¡Three Amigos! (1986)</td>\n",
       "    </tr>\n",
       "  </tbody>\n",
       "</table>\n",
       "<p>1235 rows × 1 columns</p>\n",
       "</div>"
      ],
      "text/plain": [
       "                                                  title\n",
       "0                           (500) Days of Summer (2009)\n",
       "1                     10 Things I Hate About You (1999)\n",
       "2                                 101 Dalmatians (1996)\n",
       "3     101 Dalmatians (One Hundred and One Dalmatians...\n",
       "4                                   12 Angry Men (1957)\n",
       "...                                                 ...\n",
       "1230                                   Zoolander (2001)\n",
       "1231                                    Zootopia (2016)\n",
       "1232                                    eXistenZ (1999)\n",
       "1233                                         xXx (2002)\n",
       "1234                              ¡Three Amigos! (1986)\n",
       "\n",
       "[1235 rows x 1 columns]"
      ]
     },
     "execution_count": 141,
     "metadata": {},
     "output_type": "execute_result"
    }
   ],
   "source": [
    "mv"
   ]
  },
  {
   "cell_type": "markdown",
   "id": "f84ddca3",
   "metadata": {
    "heading_collapsed": true,
    "hidden": true
   },
   "source": [
    "## Merge user and movies dataframe."
   ]
  },
  {
   "cell_type": "code",
   "execution_count": 144,
   "id": "334e9f2f",
   "metadata": {
    "hidden": true
   },
   "outputs": [],
   "source": [
    "user_merge = pd.merge(mv, user, on = \"title\", how = \"left\")"
   ]
  },
  {
   "cell_type": "code",
   "execution_count": 145,
   "id": "bb6549d0",
   "metadata": {
    "hidden": true
   },
   "outputs": [
    {
     "data": {
      "text/plain": [
       "(1235, 2)"
      ]
     },
     "execution_count": 145,
     "metadata": {},
     "output_type": "execute_result"
    }
   ],
   "source": [
    "user_merge.shape"
   ]
  },
  {
   "cell_type": "code",
   "execution_count": 146,
   "id": "d520c996",
   "metadata": {
    "hidden": true,
    "scrolled": true
   },
   "outputs": [
    {
     "data": {
      "text/html": [
       "<div>\n",
       "<style scoped>\n",
       "    .dataframe tbody tr th:only-of-type {\n",
       "        vertical-align: middle;\n",
       "    }\n",
       "\n",
       "    .dataframe tbody tr th {\n",
       "        vertical-align: top;\n",
       "    }\n",
       "\n",
       "    .dataframe thead th {\n",
       "        text-align: right;\n",
       "    }\n",
       "</style>\n",
       "<table border=\"1\" class=\"dataframe\">\n",
       "  <thead>\n",
       "    <tr style=\"text-align: right;\">\n",
       "      <th></th>\n",
       "      <th>title</th>\n",
       "      <th>rating</th>\n",
       "    </tr>\n",
       "  </thead>\n",
       "  <tbody>\n",
       "    <tr>\n",
       "      <th>0</th>\n",
       "      <td>(500) Days of Summer (2009)</td>\n",
       "      <td>NaN</td>\n",
       "    </tr>\n",
       "    <tr>\n",
       "      <th>1</th>\n",
       "      <td>10 Things I Hate About You (1999)</td>\n",
       "      <td>NaN</td>\n",
       "    </tr>\n",
       "    <tr>\n",
       "      <th>2</th>\n",
       "      <td>101 Dalmatians (1996)</td>\n",
       "      <td>NaN</td>\n",
       "    </tr>\n",
       "    <tr>\n",
       "      <th>3</th>\n",
       "      <td>101 Dalmatians (One Hundred and One Dalmatians...</td>\n",
       "      <td>NaN</td>\n",
       "    </tr>\n",
       "    <tr>\n",
       "      <th>4</th>\n",
       "      <td>12 Angry Men (1957)</td>\n",
       "      <td>NaN</td>\n",
       "    </tr>\n",
       "  </tbody>\n",
       "</table>\n",
       "</div>"
      ],
      "text/plain": [
       "                                               title  rating\n",
       "0                        (500) Days of Summer (2009)     NaN\n",
       "1                  10 Things I Hate About You (1999)     NaN\n",
       "2                              101 Dalmatians (1996)     NaN\n",
       "3  101 Dalmatians (One Hundred and One Dalmatians...     NaN\n",
       "4                                12 Angry Men (1957)     NaN"
      ]
     },
     "execution_count": 146,
     "metadata": {},
     "output_type": "execute_result"
    }
   ],
   "source": [
    "user_merge.head()"
   ]
  },
  {
   "cell_type": "markdown",
   "id": "f2273d40",
   "metadata": {
    "hidden": true
   },
   "source": [
    "### Check if it worked and there are in the dataframe the ratings of the user."
   ]
  },
  {
   "cell_type": "code",
   "execution_count": 147,
   "id": "fd50ee44",
   "metadata": {
    "hidden": true
   },
   "outputs": [],
   "source": [
    "query = user_merge[\"rating\"]"
   ]
  },
  {
   "cell_type": "code",
   "execution_count": 148,
   "id": "a73ba79c",
   "metadata": {
    "hidden": true
   },
   "outputs": [
    {
     "data": {
      "text/plain": [
       "0   NaN\n",
       "1   NaN\n",
       "2   NaN\n",
       "3   NaN\n",
       "4   NaN\n",
       "5   NaN\n",
       "6   NaN\n",
       "7   NaN\n",
       "8   NaN\n",
       "9   NaN\n",
       "Name: rating, dtype: float64"
      ]
     },
     "execution_count": 148,
     "metadata": {},
     "output_type": "execute_result"
    }
   ],
   "source": [
    "query[:10]"
   ]
  },
  {
   "cell_type": "code",
   "execution_count": 149,
   "id": "e34d3e49",
   "metadata": {
    "hidden": true
   },
   "outputs": [
    {
     "data": {
      "text/plain": [
       "3"
      ]
     },
     "execution_count": 149,
     "metadata": {},
     "output_type": "execute_result"
    }
   ],
   "source": [
    "r_count = 0\n",
    "\n",
    "for i in query:\n",
    "    if not np.isnan(i):\n",
    "        r_count += 1\n",
    "        \n",
    "r_count"
   ]
  },
  {
   "cell_type": "code",
   "execution_count": 166,
   "id": "4dec11c4",
   "metadata": {
    "hidden": true,
    "scrolled": true
   },
   "outputs": [
    {
     "data": {
      "text/html": [
       "<div>\n",
       "<style scoped>\n",
       "    .dataframe tbody tr th:only-of-type {\n",
       "        vertical-align: middle;\n",
       "    }\n",
       "\n",
       "    .dataframe tbody tr th {\n",
       "        vertical-align: top;\n",
       "    }\n",
       "\n",
       "    .dataframe thead th {\n",
       "        text-align: right;\n",
       "    }\n",
       "</style>\n",
       "<table border=\"1\" class=\"dataframe\">\n",
       "  <thead>\n",
       "    <tr style=\"text-align: right;\">\n",
       "      <th></th>\n",
       "      <th>title</th>\n",
       "      <th>rating</th>\n",
       "    </tr>\n",
       "  </thead>\n",
       "  <tbody>\n",
       "    <tr>\n",
       "      <th>694</th>\n",
       "      <td>Matrix, The (1999)</td>\n",
       "      <td>1.0</td>\n",
       "    </tr>\n",
       "  </tbody>\n",
       "</table>\n",
       "</div>"
      ],
      "text/plain": [
       "                  title  rating\n",
       "694  Matrix, The (1999)     1.0"
      ]
     },
     "execution_count": 166,
     "metadata": {},
     "output_type": "execute_result"
    }
   ],
   "source": [
    "user_merge[user_merge[\"title\"] == \"Matrix, The (1999)\"]"
   ]
  },
  {
   "cell_type": "markdown",
   "id": "65a1b9b9",
   "metadata": {
    "heading_collapsed": true,
    "hidden": true
   },
   "source": [
    "## Predictions"
   ]
  },
  {
   "cell_type": "code",
   "execution_count": 152,
   "id": "b31caaff",
   "metadata": {
    "hidden": true
   },
   "outputs": [],
   "source": [
    "query = query.fillna(0)"
   ]
  },
  {
   "cell_type": "code",
   "execution_count": 153,
   "id": "7392b509",
   "metadata": {
    "hidden": true
   },
   "outputs": [],
   "source": [
    "query = np.array(query)"
   ]
  },
  {
   "cell_type": "code",
   "execution_count": 154,
   "id": "9f4434f3",
   "metadata": {
    "hidden": true
   },
   "outputs": [
    {
     "data": {
      "text/plain": [
       "1235"
      ]
     },
     "execution_count": 154,
     "metadata": {},
     "output_type": "execute_result"
    }
   ],
   "source": [
    "len(query)"
   ]
  },
  {
   "cell_type": "code",
   "execution_count": 155,
   "id": "c9fed160",
   "metadata": {
    "hidden": true
   },
   "outputs": [],
   "source": [
    "user2 = np.array(query)"
   ]
  },
  {
   "cell_type": "code",
   "execution_count": 156,
   "id": "90fb68a2",
   "metadata": {
    "hidden": true
   },
   "outputs": [],
   "source": [
    "user2 = user2.reshape(1, -1)"
   ]
  },
  {
   "cell_type": "code",
   "execution_count": 157,
   "id": "a4769acc",
   "metadata": {
    "hidden": true
   },
   "outputs": [
    {
     "data": {
      "text/plain": [
       "(1, 1235)"
      ]
     },
     "execution_count": 157,
     "metadata": {},
     "output_type": "execute_result"
    }
   ],
   "source": [
    "user2.shape"
   ]
  },
  {
   "cell_type": "code",
   "execution_count": 158,
   "id": "bf7dfde5",
   "metadata": {
    "hidden": true
   },
   "outputs": [],
   "source": [
    "user2 = m.transform(user2)"
   ]
  },
  {
   "cell_type": "code",
   "execution_count": 159,
   "id": "ceb56cc9",
   "metadata": {
    "hidden": true
   },
   "outputs": [
    {
     "data": {
      "text/plain": [
       "(1, 450)"
      ]
     },
     "execution_count": 159,
     "metadata": {},
     "output_type": "execute_result"
    }
   ],
   "source": [
    "user2.shape"
   ]
  },
  {
   "cell_type": "code",
   "execution_count": 160,
   "id": "94df3c96",
   "metadata": {
    "hidden": true
   },
   "outputs": [
    {
     "data": {
      "text/plain": [
       "(450, 1235)"
      ]
     },
     "execution_count": 160,
     "metadata": {},
     "output_type": "execute_result"
    }
   ],
   "source": [
    "Q.shape"
   ]
  },
  {
   "cell_type": "code",
   "execution_count": 185,
   "id": "11c7502f",
   "metadata": {
    "hidden": true
   },
   "outputs": [],
   "source": [
    "rec = np.dot(user2, Q)"
   ]
  },
  {
   "cell_type": "code",
   "execution_count": 186,
   "id": "b38fdbb4",
   "metadata": {
    "hidden": true
   },
   "outputs": [
    {
     "data": {
      "text/plain": [
       "(1, 1235)"
      ]
     },
     "execution_count": 186,
     "metadata": {},
     "output_type": "execute_result"
    }
   ],
   "source": [
    "rec.shape"
   ]
  },
  {
   "cell_type": "code",
   "execution_count": 187,
   "id": "a36ed429",
   "metadata": {
    "hidden": true
   },
   "outputs": [],
   "source": [
    "rec = pd.Series(rec[0], index = df_pivot.columns)"
   ]
  },
  {
   "cell_type": "code",
   "execution_count": 188,
   "id": "23f6dbdf",
   "metadata": {
    "hidden": true
   },
   "outputs": [
    {
     "data": {
      "text/plain": [
       "title\n",
       "(500) Days of Summer (2009)                               0.008402\n",
       "10 Things I Hate About You (1999)                         0.092740\n",
       "101 Dalmatians (1996)                                     0.047665\n",
       "101 Dalmatians (One Hundred and One Dalmatians) (1961)    0.050254\n",
       "12 Angry Men (1957)                                       0.033546\n",
       "                                                            ...   \n",
       "Zoolander (2001)                                          0.036516\n",
       "Zootopia (2016)                                           0.008998\n",
       "eXistenZ (1999)                                           0.010378\n",
       "xXx (2002)                                                0.046999\n",
       "¡Three Amigos! (1986)                                     0.016191\n",
       "Length: 1235, dtype: float64"
      ]
     },
     "execution_count": 188,
     "metadata": {},
     "output_type": "execute_result"
    }
   ],
   "source": [
    "rec"
   ]
  },
  {
   "cell_type": "markdown",
   "id": "c573e290",
   "metadata": {
    "heading_collapsed": true,
    "hidden": true
   },
   "source": [
    "## Exclude the films that the user has seen already."
   ]
  },
  {
   "cell_type": "code",
   "execution_count": 189,
   "id": "0b5a2c37",
   "metadata": {
    "hidden": true
   },
   "outputs": [],
   "source": [
    "rec = pd.DataFrame(rec)"
   ]
  },
  {
   "cell_type": "code",
   "execution_count": 190,
   "id": "9333db40",
   "metadata": {
    "hidden": true
   },
   "outputs": [
    {
     "data": {
      "text/html": [
       "<div>\n",
       "<style scoped>\n",
       "    .dataframe tbody tr th:only-of-type {\n",
       "        vertical-align: middle;\n",
       "    }\n",
       "\n",
       "    .dataframe tbody tr th {\n",
       "        vertical-align: top;\n",
       "    }\n",
       "\n",
       "    .dataframe thead th {\n",
       "        text-align: right;\n",
       "    }\n",
       "</style>\n",
       "<table border=\"1\" class=\"dataframe\">\n",
       "  <thead>\n",
       "    <tr style=\"text-align: right;\">\n",
       "      <th></th>\n",
       "      <th>0</th>\n",
       "    </tr>\n",
       "    <tr>\n",
       "      <th>title</th>\n",
       "      <th></th>\n",
       "    </tr>\n",
       "  </thead>\n",
       "  <tbody>\n",
       "    <tr>\n",
       "      <th>(500) Days of Summer (2009)</th>\n",
       "      <td>0.008402</td>\n",
       "    </tr>\n",
       "    <tr>\n",
       "      <th>10 Things I Hate About You (1999)</th>\n",
       "      <td>0.092740</td>\n",
       "    </tr>\n",
       "    <tr>\n",
       "      <th>101 Dalmatians (1996)</th>\n",
       "      <td>0.047665</td>\n",
       "    </tr>\n",
       "    <tr>\n",
       "      <th>101 Dalmatians (One Hundred and One Dalmatians) (1961)</th>\n",
       "      <td>0.050254</td>\n",
       "    </tr>\n",
       "    <tr>\n",
       "      <th>12 Angry Men (1957)</th>\n",
       "      <td>0.033546</td>\n",
       "    </tr>\n",
       "    <tr>\n",
       "      <th>...</th>\n",
       "      <td>...</td>\n",
       "    </tr>\n",
       "    <tr>\n",
       "      <th>Zoolander (2001)</th>\n",
       "      <td>0.036516</td>\n",
       "    </tr>\n",
       "    <tr>\n",
       "      <th>Zootopia (2016)</th>\n",
       "      <td>0.008998</td>\n",
       "    </tr>\n",
       "    <tr>\n",
       "      <th>eXistenZ (1999)</th>\n",
       "      <td>0.010378</td>\n",
       "    </tr>\n",
       "    <tr>\n",
       "      <th>xXx (2002)</th>\n",
       "      <td>0.046999</td>\n",
       "    </tr>\n",
       "    <tr>\n",
       "      <th>¡Three Amigos! (1986)</th>\n",
       "      <td>0.016191</td>\n",
       "    </tr>\n",
       "  </tbody>\n",
       "</table>\n",
       "<p>1235 rows × 1 columns</p>\n",
       "</div>"
      ],
      "text/plain": [
       "                                                           0\n",
       "title                                                       \n",
       "(500) Days of Summer (2009)                         0.008402\n",
       "10 Things I Hate About You (1999)                   0.092740\n",
       "101 Dalmatians (1996)                               0.047665\n",
       "101 Dalmatians (One Hundred and One Dalmatians)...  0.050254\n",
       "12 Angry Men (1957)                                 0.033546\n",
       "...                                                      ...\n",
       "Zoolander (2001)                                    0.036516\n",
       "Zootopia (2016)                                     0.008998\n",
       "eXistenZ (1999)                                     0.010378\n",
       "xXx (2002)                                          0.046999\n",
       "¡Three Amigos! (1986)                               0.016191\n",
       "\n",
       "[1235 rows x 1 columns]"
      ]
     },
     "execution_count": 190,
     "metadata": {},
     "output_type": "execute_result"
    }
   ],
   "source": [
    "rec"
   ]
  },
  {
   "cell_type": "code",
   "execution_count": 191,
   "id": "e54f0b19",
   "metadata": {
    "hidden": true
   },
   "outputs": [],
   "source": [
    "for i in user.index:\n",
    "    rec.drop(index = [i], inplace = True)"
   ]
  },
  {
   "cell_type": "code",
   "execution_count": 192,
   "id": "d89441dd",
   "metadata": {
    "hidden": true,
    "scrolled": true
   },
   "outputs": [
    {
     "data": {
      "text/html": [
       "<div>\n",
       "<style scoped>\n",
       "    .dataframe tbody tr th:only-of-type {\n",
       "        vertical-align: middle;\n",
       "    }\n",
       "\n",
       "    .dataframe tbody tr th {\n",
       "        vertical-align: top;\n",
       "    }\n",
       "\n",
       "    .dataframe thead th {\n",
       "        text-align: right;\n",
       "    }\n",
       "</style>\n",
       "<table border=\"1\" class=\"dataframe\">\n",
       "  <thead>\n",
       "    <tr style=\"text-align: right;\">\n",
       "      <th></th>\n",
       "      <th>0</th>\n",
       "    </tr>\n",
       "    <tr>\n",
       "      <th>title</th>\n",
       "      <th></th>\n",
       "    </tr>\n",
       "  </thead>\n",
       "  <tbody>\n",
       "    <tr>\n",
       "      <th>(500) Days of Summer (2009)</th>\n",
       "      <td>0.008402</td>\n",
       "    </tr>\n",
       "    <tr>\n",
       "      <th>10 Things I Hate About You (1999)</th>\n",
       "      <td>0.092740</td>\n",
       "    </tr>\n",
       "    <tr>\n",
       "      <th>101 Dalmatians (1996)</th>\n",
       "      <td>0.047665</td>\n",
       "    </tr>\n",
       "    <tr>\n",
       "      <th>101 Dalmatians (One Hundred and One Dalmatians) (1961)</th>\n",
       "      <td>0.050254</td>\n",
       "    </tr>\n",
       "    <tr>\n",
       "      <th>12 Angry Men (1957)</th>\n",
       "      <td>0.033546</td>\n",
       "    </tr>\n",
       "    <tr>\n",
       "      <th>...</th>\n",
       "      <td>...</td>\n",
       "    </tr>\n",
       "    <tr>\n",
       "      <th>Zoolander (2001)</th>\n",
       "      <td>0.036516</td>\n",
       "    </tr>\n",
       "    <tr>\n",
       "      <th>Zootopia (2016)</th>\n",
       "      <td>0.008998</td>\n",
       "    </tr>\n",
       "    <tr>\n",
       "      <th>eXistenZ (1999)</th>\n",
       "      <td>0.010378</td>\n",
       "    </tr>\n",
       "    <tr>\n",
       "      <th>xXx (2002)</th>\n",
       "      <td>0.046999</td>\n",
       "    </tr>\n",
       "    <tr>\n",
       "      <th>¡Three Amigos! (1986)</th>\n",
       "      <td>0.016191</td>\n",
       "    </tr>\n",
       "  </tbody>\n",
       "</table>\n",
       "<p>1232 rows × 1 columns</p>\n",
       "</div>"
      ],
      "text/plain": [
       "                                                           0\n",
       "title                                                       \n",
       "(500) Days of Summer (2009)                         0.008402\n",
       "10 Things I Hate About You (1999)                   0.092740\n",
       "101 Dalmatians (1996)                               0.047665\n",
       "101 Dalmatians (One Hundred and One Dalmatians)...  0.050254\n",
       "12 Angry Men (1957)                                 0.033546\n",
       "...                                                      ...\n",
       "Zoolander (2001)                                    0.036516\n",
       "Zootopia (2016)                                     0.008998\n",
       "eXistenZ (1999)                                     0.010378\n",
       "xXx (2002)                                          0.046999\n",
       "¡Three Amigos! (1986)                               0.016191\n",
       "\n",
       "[1232 rows x 1 columns]"
      ]
     },
     "execution_count": 192,
     "metadata": {},
     "output_type": "execute_result"
    }
   ],
   "source": [
    "rec"
   ]
  },
  {
   "cell_type": "markdown",
   "id": "d696e0a6",
   "metadata": {
    "heading_collapsed": true,
    "hidden": true
   },
   "source": [
    "## Recommendation"
   ]
  },
  {
   "cell_type": "code",
   "execution_count": 193,
   "id": "efc9b54a",
   "metadata": {
    "hidden": true
   },
   "outputs": [
    {
     "data": {
      "text/html": [
       "<div>\n",
       "<style scoped>\n",
       "    .dataframe tbody tr th:only-of-type {\n",
       "        vertical-align: middle;\n",
       "    }\n",
       "\n",
       "    .dataframe tbody tr th {\n",
       "        vertical-align: top;\n",
       "    }\n",
       "\n",
       "    .dataframe thead th {\n",
       "        text-align: right;\n",
       "    }\n",
       "</style>\n",
       "<table border=\"1\" class=\"dataframe\">\n",
       "  <thead>\n",
       "    <tr style=\"text-align: right;\">\n",
       "      <th></th>\n",
       "      <th>0</th>\n",
       "    </tr>\n",
       "    <tr>\n",
       "      <th>title</th>\n",
       "      <th></th>\n",
       "    </tr>\n",
       "  </thead>\n",
       "  <tbody>\n",
       "    <tr>\n",
       "      <th>Monty Python and the Holy Grail (1975)</th>\n",
       "      <td>0.204482</td>\n",
       "    </tr>\n",
       "    <tr>\n",
       "      <th>Braveheart (1995)</th>\n",
       "      <td>0.176821</td>\n",
       "    </tr>\n",
       "    <tr>\n",
       "      <th>Usual Suspects, The (1995)</th>\n",
       "      <td>0.118817</td>\n",
       "    </tr>\n",
       "    <tr>\n",
       "      <th>Beauty and the Beast (1991)</th>\n",
       "      <td>0.115785</td>\n",
       "    </tr>\n",
       "    <tr>\n",
       "      <th>Back to the Future (1985)</th>\n",
       "      <td>0.112562</td>\n",
       "    </tr>\n",
       "  </tbody>\n",
       "</table>\n",
       "</div>"
      ],
      "text/plain": [
       "                                               0\n",
       "title                                           \n",
       "Monty Python and the Holy Grail (1975)  0.204482\n",
       "Braveheart (1995)                       0.176821\n",
       "Usual Suspects, The (1995)              0.118817\n",
       "Beauty and the Beast (1991)             0.115785\n",
       "Back to the Future (1985)               0.112562"
      ]
     },
     "execution_count": 193,
     "metadata": {},
     "output_type": "execute_result"
    }
   ],
   "source": [
    "rec.sort_values(by = 0, ascending = False).head(5)"
   ]
  },
  {
   "cell_type": "code",
   "execution_count": null,
   "id": "c8c76585",
   "metadata": {
    "hidden": true
   },
   "outputs": [],
   "source": []
  }
 ],
 "metadata": {
  "kernelspec": {
   "display_name": "Python 3 (ipykernel)",
   "language": "python",
   "name": "python3"
  },
  "language_info": {
   "codemirror_mode": {
    "name": "ipython",
    "version": 3
   },
   "file_extension": ".py",
   "mimetype": "text/x-python",
   "name": "python",
   "nbconvert_exporter": "python",
   "pygments_lexer": "ipython3",
   "version": "3.9.13"
  }
 },
 "nbformat": 4,
 "nbformat_minor": 5
}
