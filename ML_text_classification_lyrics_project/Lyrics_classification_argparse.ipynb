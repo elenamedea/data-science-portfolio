{
 "cells": [
  {
   "cell_type": "code",
   "execution_count": 1,
   "id": "5532c51f",
   "metadata": {},
   "outputs": [],
   "source": [
    "import argparse\n",
    "import Lyrics_text_classification_functions_ES as fun"
   ]
  },
  {
   "cell_type": "code",
   "execution_count": 2,
   "id": "f5645086",
   "metadata": {},
   "outputs": [],
   "source": [
    "parser = argparse.ArgumentParser(description = \"Select the artists's url and enter the lyrics. The programm will return the artist's name which is more likely to be attributed to the lyrics\")\n",
    "                                            "
   ]
  },
  {
   "cell_type": "code",
   "execution_count": 5,
   "id": "ca7cd631",
   "metadata": {},
   "outputs": [],
   "source": [
    "lyrics = input(\"Enter the lyrics:\")"
   ]
  },
  {
   "cell_type": "code",
   "execution_count": 3,
   "id": "8e9def8a",
   "metadata": {},
   "outputs": [
    {
     "data": {
      "text/plain": [
       "_StoreAction(option_strings=[], dest='artist', nargs=None, const=None, default=None, type=None, choices=None, required=True, help='Please enter the name of the artist.', metavar=None)"
      ]
     },
     "execution_count": 3,
     "metadata": {},
     "output_type": "execute_result"
    }
   ],
   "source": [
    "parser.add_argument(\"--url1\", help = \"Please enter the url of the artist.\", default = \"https://www.lyrics.com/artist/La-Femme/2766801\")"
   ]
  },
  {
   "cell_type": "code",
   "execution_count": null,
   "id": "58155d67",
   "metadata": {},
   "outputs": [],
   "source": [
    "parser.add_argument(\"--url2\", help = \"Please enter the url of the artist.\", default = \"https://www.lyrics.com/artist/Idles/3252083\")"
   ]
  },
  {
   "cell_type": "code",
   "execution_count": null,
   "id": "056fc88f",
   "metadata": {},
   "outputs": [],
   "source": [
    "parser.add_argument(\"--url3\", help = \"Please enter the url of the artist.\", default = \"https://www.lyrics.com/artist/Bj%C3%B6rk/27211\")"
   ]
  },
  {
   "cell_type": "code",
   "execution_count": null,
   "id": "03caa68e",
   "metadata": {},
   "outputs": [],
   "source": [
    "parser.add_argument(\"--number\", help= \"How many songs did want to extract?\", type=int, default = 25)"
   ]
  },
  {
   "cell_type": "code",
   "execution_count": null,
   "id": "a3f1d5d6",
   "metadata": {},
   "outputs": [],
   "source": [
    "args = parser.parse_args()"
   ]
  },
  {
   "cell_type": "markdown",
   "id": "41d64f40",
   "metadata": {},
   "source": [
    "**Scraping URLs**"
   ]
  },
  {
   "cell_type": "code",
   "execution_count": null,
   "id": "900f34fd",
   "metadata": {},
   "outputs": [],
   "source": [
    "url_list1 = fun.get_url_list(args.url1, args.number)\n",
    "url_list2 = fun.get_url_list(args.url2, args.number)\n",
    "url_list3 = fun.get_url_list(args.url3, args.number)"
   ]
  },
  {
   "cell_type": "markdown",
   "id": "12b50960",
   "metadata": {},
   "source": [
    "**Artists**"
   ]
  },
  {
   "cell_type": "code",
   "execution_count": null,
   "id": "d7087228",
   "metadata": {},
   "outputs": [],
   "source": [
    "artist1 = fun.artist_name(args.url1)\n",
    "artist2 = fun.artist_name(args.url2)\n",
    "artist3 = fun.artist_name(args.url3)\n",
    "artists = artist1 + artist2 + artist3"
   ]
  },
  {
   "cell_type": "markdown",
   "id": "e834e93c",
   "metadata": {},
   "source": [
    "**Extract lyrics**"
   ]
  },
  {
   "cell_type": "code",
   "execution_count": null,
   "id": "c5334569",
   "metadata": {},
   "outputs": [],
   "source": [
    "corpus1 = fun.get_corpus(url_list1)   \n",
    "corpus2 = fun.get_corpus(url_list2)\n",
    "corpus3 = fun.get_corpus(url_list3)\n",
    "\n",
    "#corpus1 = get_local_corpus(artist1)\n",
    "#corpus2 = get_local_corpus(artist2)\n",
    "#corpus3 = get_local_corpus(artist3)\n",
    "\n",
    "corpus = corpus1 + corpus2 + coprus3"
   ]
  },
  {
   "cell_type": "markdown",
   "id": "abb0e2c9",
   "metadata": {},
   "source": [
    "**Get labels**"
   ]
  },
  {
   "cell_type": "code",
   "execution_count": null,
   "id": "0ec07a8d",
   "metadata": {},
   "outputs": [],
   "source": [
    "labels = artist1*len(corpus1) + artist2*len(corpus2) + artist3*len(corpus3)"
   ]
  },
  {
   "cell_type": "markdown",
   "id": "67396be2",
   "metadata": {},
   "source": [
    "**Convert text**"
   ]
  },
  {
   "cell_type": "code",
   "execution_count": null,
   "id": "0108383c",
   "metadata": {},
   "outputs": [],
   "source": [
    "df, vectorizer = fun.vectorize(corpus,labels)\n",
    "#df, pipeline = fun.vectorize_pipeline(corpus, labels)"
   ]
  },
  {
   "cell_type": "markdown",
   "id": "090440f4",
   "metadata": {},
   "source": [
    "**Predict**"
   ]
  },
  {
   "cell_type": "code",
   "execution_count": null,
   "id": "b2395966",
   "metadata": {},
   "outputs": [],
   "source": [
    "X = df.reset_index(drop = True) #vec.toarray()\n",
    "y = df.index #labels"
   ]
  },
  {
   "cell_type": "code",
   "execution_count": null,
   "id": "835821a0",
   "metadata": {},
   "outputs": [],
   "source": [
    "fun.predict(lyrics)"
   ]
  }
 ],
 "metadata": {
  "kernelspec": {
   "display_name": "Python 3 (ipykernel)",
   "language": "python",
   "name": "python3"
  },
  "language_info": {
   "codemirror_mode": {
    "name": "ipython",
    "version": 3
   },
   "file_extension": ".py",
   "mimetype": "text/x-python",
   "name": "python",
   "nbconvert_exporter": "python",
   "pygments_lexer": "ipython3",
   "version": "3.9.13"
  }
 },
 "nbformat": 4,
 "nbformat_minor": 5
}
