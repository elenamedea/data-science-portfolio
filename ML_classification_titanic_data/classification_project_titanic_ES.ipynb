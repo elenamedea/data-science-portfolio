{
 "cells": [
  {
   "cell_type": "markdown",
   "id": "42d7f829",
   "metadata": {
    "heading_collapsed": true
   },
   "source": [
    "# Project 2: Classification"
   ]
  },
  {
   "cell_type": "markdown",
   "id": "23b741c0",
   "metadata": {
    "hidden": true
   },
   "source": [
    "Load all the packages you are going to use."
   ]
  },
  {
   "cell_type": "markdown",
   "id": "653d759f",
   "metadata": {
    "hidden": true
   },
   "source": [
    "**Calculations and visualizations**"
   ]
  },
  {
   "cell_type": "code",
   "execution_count": 1,
   "id": "c9fb92a8",
   "metadata": {
    "hidden": true
   },
   "outputs": [],
   "source": [
    "import pandas as pd\n",
    "import numpy as np \n",
    "import matplotlib.pyplot as plt\n",
    "import seaborn as sns"
   ]
  },
  {
   "cell_type": "markdown",
   "id": "ade12b60",
   "metadata": {
    "hidden": true
   },
   "source": [
    "**Modeling**"
   ]
  },
  {
   "cell_type": "code",
   "execution_count": 2,
   "id": "01660f54",
   "metadata": {
    "hidden": true
   },
   "outputs": [],
   "source": [
    "from sklearn.linear_model import LogisticRegression\n",
    "from sklearn.model_selection import train_test_split, cross_validate, cross_val_score, StratifiedShuffleSplit\n",
    "from sklearn.ensemble import RandomForestClassifier"
   ]
  },
  {
   "cell_type": "markdown",
   "id": "ca33ab33",
   "metadata": {
    "hidden": true
   },
   "source": [
    "**Feature engineering**"
   ]
  },
  {
   "cell_type": "code",
   "execution_count": 3,
   "id": "74af9c57",
   "metadata": {
    "hidden": true
   },
   "outputs": [],
   "source": [
    "from sklearn.impute import SimpleImputer\n",
    "from sklearn.preprocessing import OneHotEncoder, KBinsDiscretizer\n",
    "from sklearn.preprocessing import RobustScaler, MinMaxScaler, StandardScaler\n",
    "from sklearn.preprocessing import FunctionTransformer\n",
    "from sklearn.compose import ColumnTransformer\n",
    "from sklearn.pipeline import Pipeline\n",
    "from sklearn import set_config\n",
    "\n",
    "# to visualize the column transformer and pipeline\n",
    "set_config(display='diagram')"
   ]
  },
  {
   "cell_type": "markdown",
   "id": "753d8cd5",
   "metadata": {
    "hidden": true
   },
   "source": [
    "**Evaluating classifiers**"
   ]
  },
  {
   "cell_type": "code",
   "execution_count": 4,
   "id": "4a013bf0",
   "metadata": {
    "hidden": true
   },
   "outputs": [],
   "source": [
    "from sklearn.metrics import confusion_matrix\n",
    "from sklearn.metrics import ConfusionMatrixDisplay\n",
    "from sklearn.metrics import accuracy_score \n",
    "from sklearn.metrics import precision_score, recall_score, f1_score\n",
    "from sklearn.metrics import plot_roc_curve, roc_curve, auc, RocCurveDisplay"
   ]
  },
  {
   "cell_type": "markdown",
   "id": "a3c9751b",
   "metadata": {
    "heading_collapsed": true
   },
   "source": [
    "# 1. Define project goal"
   ]
  },
  {
   "cell_type": "markdown",
   "id": "3afd1e91",
   "metadata": {
    "hidden": true
   },
   "source": [
    "The Titanic passenger list can be used for an exercise classification task: Given the data of a new passenger, we want to predict whether they will survive the disaster."
   ]
  },
  {
   "cell_type": "markdown",
   "id": "4f36ad79",
   "metadata": {
    "cell_style": "center",
    "heading_collapsed": true
   },
   "source": [
    "# 2. Get the data"
   ]
  },
  {
   "cell_type": "markdown",
   "id": "9031c09c",
   "metadata": {
    "hidden": true
   },
   "source": [
    "Read the file train.csv into Python and print a few rows."
   ]
  },
  {
   "cell_type": "code",
   "execution_count": 5,
   "id": "640b3e06",
   "metadata": {
    "hidden": true
   },
   "outputs": [],
   "source": [
    "df = pd.read_csv(\"train.csv\", index_col = 0)"
   ]
  },
  {
   "cell_type": "code",
   "execution_count": 6,
   "id": "83937c5d",
   "metadata": {
    "hidden": true,
    "scrolled": true
   },
   "outputs": [
    {
     "data": {
      "text/html": [
       "<div>\n",
       "<style scoped>\n",
       "    .dataframe tbody tr th:only-of-type {\n",
       "        vertical-align: middle;\n",
       "    }\n",
       "\n",
       "    .dataframe tbody tr th {\n",
       "        vertical-align: top;\n",
       "    }\n",
       "\n",
       "    .dataframe thead th {\n",
       "        text-align: right;\n",
       "    }\n",
       "</style>\n",
       "<table border=\"1\" class=\"dataframe\">\n",
       "  <thead>\n",
       "    <tr style=\"text-align: right;\">\n",
       "      <th></th>\n",
       "      <th>Survived</th>\n",
       "      <th>Pclass</th>\n",
       "      <th>Name</th>\n",
       "      <th>Sex</th>\n",
       "      <th>Age</th>\n",
       "      <th>SibSp</th>\n",
       "      <th>Parch</th>\n",
       "      <th>Ticket</th>\n",
       "      <th>Fare</th>\n",
       "      <th>Cabin</th>\n",
       "      <th>Embarked</th>\n",
       "    </tr>\n",
       "    <tr>\n",
       "      <th>PassengerId</th>\n",
       "      <th></th>\n",
       "      <th></th>\n",
       "      <th></th>\n",
       "      <th></th>\n",
       "      <th></th>\n",
       "      <th></th>\n",
       "      <th></th>\n",
       "      <th></th>\n",
       "      <th></th>\n",
       "      <th></th>\n",
       "      <th></th>\n",
       "    </tr>\n",
       "  </thead>\n",
       "  <tbody>\n",
       "    <tr>\n",
       "      <th>1</th>\n",
       "      <td>0</td>\n",
       "      <td>3</td>\n",
       "      <td>Braund, Mr. Owen Harris</td>\n",
       "      <td>male</td>\n",
       "      <td>22.0</td>\n",
       "      <td>1</td>\n",
       "      <td>0</td>\n",
       "      <td>A/5 21171</td>\n",
       "      <td>7.2500</td>\n",
       "      <td>NaN</td>\n",
       "      <td>S</td>\n",
       "    </tr>\n",
       "    <tr>\n",
       "      <th>2</th>\n",
       "      <td>1</td>\n",
       "      <td>1</td>\n",
       "      <td>Cumings, Mrs. John Bradley (Florence Briggs Th...</td>\n",
       "      <td>female</td>\n",
       "      <td>38.0</td>\n",
       "      <td>1</td>\n",
       "      <td>0</td>\n",
       "      <td>PC 17599</td>\n",
       "      <td>71.2833</td>\n",
       "      <td>C85</td>\n",
       "      <td>C</td>\n",
       "    </tr>\n",
       "    <tr>\n",
       "      <th>3</th>\n",
       "      <td>1</td>\n",
       "      <td>3</td>\n",
       "      <td>Heikkinen, Miss. Laina</td>\n",
       "      <td>female</td>\n",
       "      <td>26.0</td>\n",
       "      <td>0</td>\n",
       "      <td>0</td>\n",
       "      <td>STON/O2. 3101282</td>\n",
       "      <td>7.9250</td>\n",
       "      <td>NaN</td>\n",
       "      <td>S</td>\n",
       "    </tr>\n",
       "    <tr>\n",
       "      <th>4</th>\n",
       "      <td>1</td>\n",
       "      <td>1</td>\n",
       "      <td>Futrelle, Mrs. Jacques Heath (Lily May Peel)</td>\n",
       "      <td>female</td>\n",
       "      <td>35.0</td>\n",
       "      <td>1</td>\n",
       "      <td>0</td>\n",
       "      <td>113803</td>\n",
       "      <td>53.1000</td>\n",
       "      <td>C123</td>\n",
       "      <td>S</td>\n",
       "    </tr>\n",
       "    <tr>\n",
       "      <th>5</th>\n",
       "      <td>0</td>\n",
       "      <td>3</td>\n",
       "      <td>Allen, Mr. William Henry</td>\n",
       "      <td>male</td>\n",
       "      <td>35.0</td>\n",
       "      <td>0</td>\n",
       "      <td>0</td>\n",
       "      <td>373450</td>\n",
       "      <td>8.0500</td>\n",
       "      <td>NaN</td>\n",
       "      <td>S</td>\n",
       "    </tr>\n",
       "  </tbody>\n",
       "</table>\n",
       "</div>"
      ],
      "text/plain": [
       "             Survived  Pclass  \\\n",
       "PassengerId                     \n",
       "1                   0       3   \n",
       "2                   1       1   \n",
       "3                   1       3   \n",
       "4                   1       1   \n",
       "5                   0       3   \n",
       "\n",
       "                                                          Name     Sex   Age  \\\n",
       "PassengerId                                                                    \n",
       "1                                      Braund, Mr. Owen Harris    male  22.0   \n",
       "2            Cumings, Mrs. John Bradley (Florence Briggs Th...  female  38.0   \n",
       "3                                       Heikkinen, Miss. Laina  female  26.0   \n",
       "4                 Futrelle, Mrs. Jacques Heath (Lily May Peel)  female  35.0   \n",
       "5                                     Allen, Mr. William Henry    male  35.0   \n",
       "\n",
       "             SibSp  Parch            Ticket     Fare Cabin Embarked  \n",
       "PassengerId                                                          \n",
       "1                1      0         A/5 21171   7.2500   NaN        S  \n",
       "2                1      0          PC 17599  71.2833   C85        C  \n",
       "3                0      0  STON/O2. 3101282   7.9250   NaN        S  \n",
       "4                1      0            113803  53.1000  C123        S  \n",
       "5                0      0            373450   8.0500   NaN        S  "
      ]
     },
     "execution_count": 6,
     "metadata": {},
     "output_type": "execute_result"
    }
   ],
   "source": [
    "df.head()"
   ]
  },
  {
   "cell_type": "code",
   "execution_count": 7,
   "id": "3aab473c",
   "metadata": {
    "hidden": true
   },
   "outputs": [
    {
     "data": {
      "text/plain": [
       "(891, 11)"
      ]
     },
     "execution_count": 7,
     "metadata": {},
     "output_type": "execute_result"
    }
   ],
   "source": [
    "df.shape"
   ]
  },
  {
   "cell_type": "code",
   "execution_count": 8,
   "id": "39ab6499",
   "metadata": {
    "hidden": true
   },
   "outputs": [
    {
     "data": {
      "text/plain": [
       "Index(['Survived', 'Pclass', 'Name', 'Sex', 'Age', 'SibSp', 'Parch', 'Ticket',\n",
       "       'Fare', 'Cabin', 'Embarked'],\n",
       "      dtype='object')"
      ]
     },
     "execution_count": 8,
     "metadata": {},
     "output_type": "execute_result"
    }
   ],
   "source": [
    "df.columns"
   ]
  },
  {
   "cell_type": "code",
   "execution_count": 9,
   "id": "66683bb4",
   "metadata": {
    "hidden": true
   },
   "outputs": [
    {
     "data": {
      "text/plain": [
       "Int64Index([  1,   2,   3,   4,   5,   6,   7,   8,   9,  10,\n",
       "            ...\n",
       "            882, 883, 884, 885, 886, 887, 888, 889, 890, 891],\n",
       "           dtype='int64', name='PassengerId', length=891)"
      ]
     },
     "execution_count": 9,
     "metadata": {},
     "output_type": "execute_result"
    }
   ],
   "source": [
    "df.index"
   ]
  },
  {
   "cell_type": "markdown",
   "id": "3035cb69",
   "metadata": {
    "heading_collapsed": true
   },
   "source": [
    "# 3. EDA"
   ]
  },
  {
   "cell_type": "markdown",
   "id": "ddd657f4",
   "metadata": {
    "heading_collapsed": true,
    "hidden": true
   },
   "source": [
    "#### Missing data"
   ]
  },
  {
   "cell_type": "code",
   "execution_count": 10,
   "id": "74914f71",
   "metadata": {
    "hidden": true
   },
   "outputs": [
    {
     "data": {
      "text/plain": [
       "Survived      0\n",
       "Pclass        0\n",
       "Name          0\n",
       "Sex           0\n",
       "Age         177\n",
       "SibSp         0\n",
       "Parch         0\n",
       "Ticket        0\n",
       "Fare          0\n",
       "Cabin       687\n",
       "Embarked      2\n",
       "dtype: int64"
      ]
     },
     "execution_count": 10,
     "metadata": {},
     "output_type": "execute_result"
    }
   ],
   "source": [
    "df.isnull().sum()"
   ]
  },
  {
   "cell_type": "code",
   "execution_count": 11,
   "id": "9e01a920",
   "metadata": {
    "hidden": true
   },
   "outputs": [
    {
     "name": "stdout",
     "output_type": "stream",
     "text": [
      "<class 'pandas.core.frame.DataFrame'>\n",
      "Int64Index: 891 entries, 1 to 891\n",
      "Data columns (total 11 columns):\n",
      " #   Column    Non-Null Count  Dtype  \n",
      "---  ------    --------------  -----  \n",
      " 0   Survived  891 non-null    int64  \n",
      " 1   Pclass    891 non-null    int64  \n",
      " 2   Name      891 non-null    object \n",
      " 3   Sex       891 non-null    object \n",
      " 4   Age       714 non-null    float64\n",
      " 5   SibSp     891 non-null    int64  \n",
      " 6   Parch     891 non-null    int64  \n",
      " 7   Ticket    891 non-null    object \n",
      " 8   Fare      891 non-null    float64\n",
      " 9   Cabin     204 non-null    object \n",
      " 10  Embarked  889 non-null    object \n",
      "dtypes: float64(2), int64(4), object(5)\n",
      "memory usage: 83.5+ KB\n"
     ]
    }
   ],
   "source": [
    "df.info()"
   ]
  },
  {
   "cell_type": "code",
   "execution_count": 12,
   "id": "38aec8a3",
   "metadata": {
    "hidden": true
   },
   "outputs": [
    {
     "data": {
      "text/plain": [
       "<AxesSubplot:ylabel='PassengerId'>"
      ]
     },
     "execution_count": 12,
     "metadata": {},
     "output_type": "execute_result"
    },
    {
     "data": {
      "image/png": "[encoded data removed]",
      "text/plain": [
       "<Figure size 1600x900 with 2 Axes>"
      ]
     },
     "metadata": {},
     "output_type": "display_data"
    }
   ],
   "source": [
    "plt.figure(figsize = (16, 9))\n",
    "sns.heatmap(df.isnull())"
   ]
  },
  {
   "cell_type": "markdown",
   "id": "b65c2d95",
   "metadata": {
    "hidden": true
   },
   "source": [
    "\"Cabin\" feature has 687 missing values out of the 890. I decided it is safer to discard it than try to do any engineering with it."
   ]
  },
  {
   "cell_type": "markdown",
   "id": "c8048176",
   "metadata": {
    "hidden": true
   },
   "source": [
    "I assume that \"Embarked\" categorical feature would not contribute much to the model, so I will drop it. Same for the Ticket and Name."
   ]
  },
  {
   "cell_type": "markdown",
   "id": "efaa5493",
   "metadata": {
    "heading_collapsed": true,
    "hidden": true
   },
   "source": [
    "#### Calculate the number of surviving/non-surviving passengers and display it as a bar plot."
   ]
  },
  {
   "cell_type": "code",
   "execution_count": 13,
   "id": "fa3b2491",
   "metadata": {
    "hidden": true
   },
   "outputs": [
    {
     "data": {
      "text/plain": [
       "0    549\n",
       "1    342\n",
       "Name: Survived, dtype: int64"
      ]
     },
     "execution_count": 13,
     "metadata": {},
     "output_type": "execute_result"
    }
   ],
   "source": [
    "df[\"Survived\"].value_counts()"
   ]
  },
  {
   "cell_type": "code",
   "execution_count": 14,
   "id": "9fa179b2",
   "metadata": {
    "hidden": true
   },
   "outputs": [
    {
     "data": {
      "text/html": [
       "<div>\n",
       "<style scoped>\n",
       "    .dataframe tbody tr th:only-of-type {\n",
       "        vertical-align: middle;\n",
       "    }\n",
       "\n",
       "    .dataframe tbody tr th {\n",
       "        vertical-align: top;\n",
       "    }\n",
       "\n",
       "    .dataframe thead th {\n",
       "        text-align: right;\n",
       "    }\n",
       "</style>\n",
       "<table border=\"1\" class=\"dataframe\">\n",
       "  <thead>\n",
       "    <tr style=\"text-align: right;\">\n",
       "      <th></th>\n",
       "      <th>Pclass</th>\n",
       "      <th>Name</th>\n",
       "      <th>Sex</th>\n",
       "      <th>Age</th>\n",
       "      <th>SibSp</th>\n",
       "      <th>Parch</th>\n",
       "      <th>Ticket</th>\n",
       "      <th>Fare</th>\n",
       "      <th>Cabin</th>\n",
       "      <th>Embarked</th>\n",
       "    </tr>\n",
       "    <tr>\n",
       "      <th>Survived</th>\n",
       "      <th></th>\n",
       "      <th></th>\n",
       "      <th></th>\n",
       "      <th></th>\n",
       "      <th></th>\n",
       "      <th></th>\n",
       "      <th></th>\n",
       "      <th></th>\n",
       "      <th></th>\n",
       "      <th></th>\n",
       "    </tr>\n",
       "  </thead>\n",
       "  <tbody>\n",
       "    <tr>\n",
       "      <th>0</th>\n",
       "      <td>549</td>\n",
       "      <td>549</td>\n",
       "      <td>549</td>\n",
       "      <td>424</td>\n",
       "      <td>549</td>\n",
       "      <td>549</td>\n",
       "      <td>549</td>\n",
       "      <td>549</td>\n",
       "      <td>68</td>\n",
       "      <td>549</td>\n",
       "    </tr>\n",
       "    <tr>\n",
       "      <th>1</th>\n",
       "      <td>342</td>\n",
       "      <td>342</td>\n",
       "      <td>342</td>\n",
       "      <td>290</td>\n",
       "      <td>342</td>\n",
       "      <td>342</td>\n",
       "      <td>342</td>\n",
       "      <td>342</td>\n",
       "      <td>136</td>\n",
       "      <td>340</td>\n",
       "    </tr>\n",
       "  </tbody>\n",
       "</table>\n",
       "</div>"
      ],
      "text/plain": [
       "          Pclass  Name  Sex  Age  SibSp  Parch  Ticket  Fare  Cabin  Embarked\n",
       "Survived                                                                     \n",
       "0            549   549  549  424    549    549     549   549     68       549\n",
       "1            342   342  342  290    342    342     342   342    136       340"
      ]
     },
     "execution_count": 14,
     "metadata": {},
     "output_type": "execute_result"
    }
   ],
   "source": [
    "df2 = df.groupby([\"Survived\"]).count()\n",
    "df2"
   ]
  },
  {
   "cell_type": "code",
   "execution_count": 15,
   "id": "23959302",
   "metadata": {
    "hidden": true
   },
   "outputs": [
    {
     "data": {
      "text/plain": [
       "<AxesSubplot:ylabel='Survived'>"
      ]
     },
     "execution_count": 15,
     "metadata": {},
     "output_type": "execute_result"
    },
    {
     "data": {
      "image/png": "[encoded data removed]",
      "text/plain": [
       "<Figure size 640x480 with 1 Axes>"
      ]
     },
     "metadata": {},
     "output_type": "display_data"
    }
   ],
   "source": [
    "#plt.figure(figsize = (16, 9))\n",
    "df2.plot.barh()"
   ]
  },
  {
   "cell_type": "markdown",
   "id": "5cbd7b34",
   "metadata": {
    "hidden": true
   },
   "source": [
    "Let's try to investigate further the shape of the data, by checking the correlation between the numerical features."
   ]
  },
  {
   "cell_type": "markdown",
   "id": "442d6c61",
   "metadata": {
    "hidden": true
   },
   "source": [
    "Then it would be, hopefully, safer to decide on which numeric features to keep for the model."
   ]
  },
  {
   "cell_type": "markdown",
   "id": "8b6a4207",
   "metadata": {
    "hidden": true
   },
   "source": [
    "#### Calculate and plot correlation to check the relationships between the numerical features."
   ]
  },
  {
   "cell_type": "code",
   "execution_count": 16,
   "id": "6705cc87",
   "metadata": {
    "hidden": true
   },
   "outputs": [
    {
     "data": {
      "text/html": [
       "<div>\n",
       "<style scoped>\n",
       "    .dataframe tbody tr th:only-of-type {\n",
       "        vertical-align: middle;\n",
       "    }\n",
       "\n",
       "    .dataframe tbody tr th {\n",
       "        vertical-align: top;\n",
       "    }\n",
       "\n",
       "    .dataframe thead th {\n",
       "        text-align: right;\n",
       "    }\n",
       "</style>\n",
       "<table border=\"1\" class=\"dataframe\">\n",
       "  <thead>\n",
       "    <tr style=\"text-align: right;\">\n",
       "      <th></th>\n",
       "      <th>Survived</th>\n",
       "      <th>Pclass</th>\n",
       "      <th>Age</th>\n",
       "      <th>SibSp</th>\n",
       "      <th>Parch</th>\n",
       "      <th>Fare</th>\n",
       "    </tr>\n",
       "  </thead>\n",
       "  <tbody>\n",
       "    <tr>\n",
       "      <th>Survived</th>\n",
       "      <td>1.000000</td>\n",
       "      <td>-0.338481</td>\n",
       "      <td>-0.077221</td>\n",
       "      <td>-0.035322</td>\n",
       "      <td>0.081629</td>\n",
       "      <td>0.257307</td>\n",
       "    </tr>\n",
       "    <tr>\n",
       "      <th>Pclass</th>\n",
       "      <td>-0.338481</td>\n",
       "      <td>1.000000</td>\n",
       "      <td>-0.369226</td>\n",
       "      <td>0.083081</td>\n",
       "      <td>0.018443</td>\n",
       "      <td>-0.549500</td>\n",
       "    </tr>\n",
       "    <tr>\n",
       "      <th>Age</th>\n",
       "      <td>-0.077221</td>\n",
       "      <td>-0.369226</td>\n",
       "      <td>1.000000</td>\n",
       "      <td>-0.308247</td>\n",
       "      <td>-0.189119</td>\n",
       "      <td>0.096067</td>\n",
       "    </tr>\n",
       "    <tr>\n",
       "      <th>SibSp</th>\n",
       "      <td>-0.035322</td>\n",
       "      <td>0.083081</td>\n",
       "      <td>-0.308247</td>\n",
       "      <td>1.000000</td>\n",
       "      <td>0.414838</td>\n",
       "      <td>0.159651</td>\n",
       "    </tr>\n",
       "    <tr>\n",
       "      <th>Parch</th>\n",
       "      <td>0.081629</td>\n",
       "      <td>0.018443</td>\n",
       "      <td>-0.189119</td>\n",
       "      <td>0.414838</td>\n",
       "      <td>1.000000</td>\n",
       "      <td>0.216225</td>\n",
       "    </tr>\n",
       "    <tr>\n",
       "      <th>Fare</th>\n",
       "      <td>0.257307</td>\n",
       "      <td>-0.549500</td>\n",
       "      <td>0.096067</td>\n",
       "      <td>0.159651</td>\n",
       "      <td>0.216225</td>\n",
       "      <td>1.000000</td>\n",
       "    </tr>\n",
       "  </tbody>\n",
       "</table>\n",
       "</div>"
      ],
      "text/plain": [
       "          Survived    Pclass       Age     SibSp     Parch      Fare\n",
       "Survived  1.000000 -0.338481 -0.077221 -0.035322  0.081629  0.257307\n",
       "Pclass   -0.338481  1.000000 -0.369226  0.083081  0.018443 -0.549500\n",
       "Age      -0.077221 -0.369226  1.000000 -0.308247 -0.189119  0.096067\n",
       "SibSp    -0.035322  0.083081 -0.308247  1.000000  0.414838  0.159651\n",
       "Parch     0.081629  0.018443 -0.189119  0.414838  1.000000  0.216225\n",
       "Fare      0.257307 -0.549500  0.096067  0.159651  0.216225  1.000000"
      ]
     },
     "execution_count": 16,
     "metadata": {},
     "output_type": "execute_result"
    }
   ],
   "source": [
    "df.corr()"
   ]
  },
  {
   "cell_type": "code",
   "execution_count": 17,
   "id": "ed6442e2",
   "metadata": {
    "hidden": true
   },
   "outputs": [
    {
     "data": {
      "text/plain": [
       "<AxesSubplot:>"
      ]
     },
     "execution_count": 17,
     "metadata": {},
     "output_type": "execute_result"
    },
    {
     "data": {
      "image/png": "[encoded data removed]",
      "text/plain": [
       "<Figure size 1600x900 with 2 Axes>"
      ]
     },
     "metadata": {},
     "output_type": "display_data"
    }
   ],
   "source": [
    "plt.figure(figsize=(16, 9))\n",
    "sns.heatmap(df.corr(), cmap = \"PiYG\", annot = True)"
   ]
  },
  {
   "cell_type": "markdown",
   "id": "a3080646",
   "metadata": {
    "hidden": true
   },
   "source": [
    "The numerical features which are shown to have the strongest correlation with \"Survived\" are \"Pclass\" and \"Fare\"."
   ]
  },
  {
   "cell_type": "markdown",
   "id": "6dec957b",
   "metadata": {
    "heading_collapsed": true,
    "hidden": true
   },
   "source": [
    "#### Take a closer look on the features Pclass, Sex, Parch, SibSp, Fare and Age."
   ]
  },
  {
   "cell_type": "markdown",
   "id": "6c177b37",
   "metadata": {
    "hidden": true
   },
   "source": [
    "First of all, let's define the survived and non_survived dataframes, in order to use them in the upcoming exploratory data analyses."
   ]
  },
  {
   "cell_type": "code",
   "execution_count": 18,
   "id": "e34745dd",
   "metadata": {
    "hidden": true
   },
   "outputs": [],
   "source": [
    "survived = df[df[\"Survived\"] == 1]"
   ]
  },
  {
   "cell_type": "code",
   "execution_count": 19,
   "id": "a9c9e4cb",
   "metadata": {
    "hidden": true
   },
   "outputs": [],
   "source": [
    "non_survived = df[df[\"Survived\"] == 0]"
   ]
  },
  {
   "cell_type": "markdown",
   "id": "a6fafa88",
   "metadata": {
    "heading_collapsed": true,
    "hidden": true
   },
   "source": [
    "##### Pclass / Sex"
   ]
  },
  {
   "cell_type": "markdown",
   "id": "204bfb9e",
   "metadata": {
    "hidden": true
   },
   "source": [
    "Get a first idea of the feature."
   ]
  },
  {
   "cell_type": "code",
   "execution_count": 20,
   "id": "4541df76",
   "metadata": {
    "hidden": true
   },
   "outputs": [
    {
     "data": {
      "text/plain": [
       "array([3, 1, 2])"
      ]
     },
     "execution_count": 20,
     "metadata": {},
     "output_type": "execute_result"
    }
   ],
   "source": [
    "df[\"Pclass\"].unique()"
   ]
  },
  {
   "cell_type": "code",
   "execution_count": 21,
   "id": "4acec52c",
   "metadata": {
    "hidden": true,
    "scrolled": true
   },
   "outputs": [
    {
     "data": {
      "text/plain": [
       "<AxesSubplot:xlabel='Pclass'>"
      ]
     },
     "execution_count": 21,
     "metadata": {},
     "output_type": "execute_result"
    },
    {
     "data": {
      "image/png": "[encoded data removed]",
      "text/plain": [
       "<Figure size 640x480 with 1 Axes>"
      ]
     },
     "metadata": {},
     "output_type": "display_data"
    }
   ],
   "source": [
    "survived[[\"Pclass\", \"Survived\"]].groupby([\"Pclass\"]).count().plot.bar(rot = 0)"
   ]
  },
  {
   "cell_type": "code",
   "execution_count": 22,
   "id": "06dfda5f",
   "metadata": {
    "hidden": true
   },
   "outputs": [
    {
     "data": {
      "text/plain": [
       "<AxesSubplot:xlabel='Pclass'>"
      ]
     },
     "execution_count": 22,
     "metadata": {},
     "output_type": "execute_result"
    },
    {
     "data": {
      "image/png": "[encoded data removed]",
      "text/plain": [
       "<Figure size 640x480 with 1 Axes>"
      ]
     },
     "metadata": {},
     "output_type": "display_data"
    }
   ],
   "source": [
    "non_survived[[\"Pclass\", \"Survived\"]].groupby([\"Pclass\"]).count().plot.bar(rot = 0)"
   ]
  },
  {
   "cell_type": "markdown",
   "id": "06203465",
   "metadata": {
    "heading_collapsed": true,
    "hidden": true
   },
   "source": [
    "###### Create a bar plot with separate bars for male/female passengers and 1st/2nd/3rd class passengers."
   ]
  },
  {
   "cell_type": "code",
   "execution_count": 23,
   "id": "7bae0b55",
   "metadata": {
    "hidden": true,
    "scrolled": true
   },
   "outputs": [
    {
     "data": {
      "text/plain": [
       "<AxesSubplot:xlabel='Pclass', ylabel='Survived'>"
      ]
     },
     "execution_count": 23,
     "metadata": {},
     "output_type": "execute_result"
    },
    {
     "data": {
      "image/png": "[encoded data removed]",
      "text/plain": [
       "<Figure size 640x480 with 1 Axes>"
      ]
     },
     "metadata": {},
     "output_type": "display_data"
    }
   ],
   "source": [
    "sns.barplot(data = df, x = \"Pclass\", y = \"Survived\", hue = \"Sex\")"
   ]
  },
  {
   "cell_type": "markdown",
   "id": "0e21effb",
   "metadata": {
    "hidden": true
   },
   "source": [
    "It seems that \"Sex\" feature is important to be included for the model. Let's plot is towards \"Survived\"."
   ]
  },
  {
   "cell_type": "code",
   "execution_count": 24,
   "id": "eae8f53d",
   "metadata": {
    "hidden": true,
    "scrolled": true
   },
   "outputs": [
    {
     "data": {
      "text/plain": [
       "<AxesSubplot:xlabel='Sex', ylabel='count'>"
      ]
     },
     "execution_count": 24,
     "metadata": {},
     "output_type": "execute_result"
    },
    {
     "data": {
      "image/png": "[encoded data removed]",
      "text/plain": [
       "<Figure size 640x480 with 1 Axes>"
      ]
     },
     "metadata": {},
     "output_type": "display_data"
    }
   ],
   "source": [
    "sns.countplot(data = df, x = \"Sex\", hue = \"Survived\")"
   ]
  },
  {
   "cell_type": "markdown",
   "id": "c6feb067",
   "metadata": {
    "hidden": true
   },
   "source": [
    "Check its correlation to \"Pclass\", \"Fare\" and \"Survived\", by creating and plotting a table which counts the number of surviving/dead passengers separately for 1st/2nd/3rd class and male/female."
   ]
  },
  {
   "cell_type": "code",
   "execution_count": 25,
   "id": "9cd45f4d",
   "metadata": {
    "hidden": true,
    "scrolled": true
   },
   "outputs": [
    {
     "data": {
      "text/html": [
       "<div>\n",
       "<style scoped>\n",
       "    .dataframe tbody tr th:only-of-type {\n",
       "        vertical-align: middle;\n",
       "    }\n",
       "\n",
       "    .dataframe tbody tr th {\n",
       "        vertical-align: top;\n",
       "    }\n",
       "\n",
       "    .dataframe thead th {\n",
       "        text-align: right;\n",
       "    }\n",
       "</style>\n",
       "<table border=\"1\" class=\"dataframe\">\n",
       "  <thead>\n",
       "    <tr style=\"text-align: right;\">\n",
       "      <th></th>\n",
       "      <th></th>\n",
       "      <th></th>\n",
       "      <th>Fare</th>\n",
       "    </tr>\n",
       "    <tr>\n",
       "      <th>Pclass</th>\n",
       "      <th>Sex</th>\n",
       "      <th>Survived</th>\n",
       "      <th></th>\n",
       "    </tr>\n",
       "  </thead>\n",
       "  <tbody>\n",
       "    <tr>\n",
       "      <th rowspan=\"4\" valign=\"top\">1</th>\n",
       "      <th rowspan=\"2\" valign=\"top\">female</th>\n",
       "      <th>0</th>\n",
       "      <td>3</td>\n",
       "    </tr>\n",
       "    <tr>\n",
       "      <th>1</th>\n",
       "      <td>91</td>\n",
       "    </tr>\n",
       "    <tr>\n",
       "      <th rowspan=\"2\" valign=\"top\">male</th>\n",
       "      <th>0</th>\n",
       "      <td>77</td>\n",
       "    </tr>\n",
       "    <tr>\n",
       "      <th>1</th>\n",
       "      <td>45</td>\n",
       "    </tr>\n",
       "    <tr>\n",
       "      <th rowspan=\"4\" valign=\"top\">2</th>\n",
       "      <th rowspan=\"2\" valign=\"top\">female</th>\n",
       "      <th>0</th>\n",
       "      <td>6</td>\n",
       "    </tr>\n",
       "    <tr>\n",
       "      <th>1</th>\n",
       "      <td>70</td>\n",
       "    </tr>\n",
       "    <tr>\n",
       "      <th rowspan=\"2\" valign=\"top\">male</th>\n",
       "      <th>0</th>\n",
       "      <td>91</td>\n",
       "    </tr>\n",
       "    <tr>\n",
       "      <th>1</th>\n",
       "      <td>17</td>\n",
       "    </tr>\n",
       "    <tr>\n",
       "      <th rowspan=\"4\" valign=\"top\">3</th>\n",
       "      <th rowspan=\"2\" valign=\"top\">female</th>\n",
       "      <th>0</th>\n",
       "      <td>72</td>\n",
       "    </tr>\n",
       "    <tr>\n",
       "      <th>1</th>\n",
       "      <td>72</td>\n",
       "    </tr>\n",
       "    <tr>\n",
       "      <th rowspan=\"2\" valign=\"top\">male</th>\n",
       "      <th>0</th>\n",
       "      <td>300</td>\n",
       "    </tr>\n",
       "    <tr>\n",
       "      <th>1</th>\n",
       "      <td>47</td>\n",
       "    </tr>\n",
       "  </tbody>\n",
       "</table>\n",
       "</div>"
      ],
      "text/plain": [
       "                        Fare\n",
       "Pclass Sex    Survived      \n",
       "1      female 0            3\n",
       "              1           91\n",
       "       male   0           77\n",
       "              1           45\n",
       "2      female 0            6\n",
       "              1           70\n",
       "       male   0           91\n",
       "              1           17\n",
       "3      female 0           72\n",
       "              1           72\n",
       "       male   0          300\n",
       "              1           47"
      ]
     },
     "execution_count": 25,
     "metadata": {},
     "output_type": "execute_result"
    }
   ],
   "source": [
    "df[[\"Fare\", \"Sex\", \"Pclass\", \"Survived\"]].groupby([\"Pclass\", \"Sex\", \"Survived\"]).count()"
   ]
  },
  {
   "cell_type": "code",
   "execution_count": 26,
   "id": "6e819de9",
   "metadata": {
    "hidden": true,
    "scrolled": true
   },
   "outputs": [
    {
     "data": {
      "text/plain": [
       "<AxesSubplot:xlabel='Pclass,Sex,Survived'>"
      ]
     },
     "execution_count": 26,
     "metadata": {},
     "output_type": "execute_result"
    },
    {
     "data": {
      "image/png": "[encoded data removed]",
      "text/plain": [
       "<Figure size 640x480 with 1 Axes>"
      ]
     },
     "metadata": {},
     "output_type": "display_data"
    }
   ],
   "source": [
    "df[[\"Fare\", \"Sex\", \"Pclass\", \"Survived\"]].groupby([\"Pclass\", \"Sex\", \"Survived\"]).count().plot.bar(rot = -45)"
   ]
  },
  {
   "cell_type": "markdown",
   "id": "6fb09d73",
   "metadata": {
    "hidden": true
   },
   "source": [
    "\"Sex\" feature is going to be kept for the model."
   ]
  },
  {
   "cell_type": "markdown",
   "id": "e0f7ef1d",
   "metadata": {
    "heading_collapsed": true,
    "hidden": true
   },
   "source": [
    "##### Parch"
   ]
  },
  {
   "cell_type": "markdown",
   "id": "4bb52a32",
   "metadata": {
    "hidden": true
   },
   "source": [
    "Get an idea of the feature."
   ]
  },
  {
   "cell_type": "code",
   "execution_count": 27,
   "id": "c2ba8474",
   "metadata": {
    "hidden": true
   },
   "outputs": [
    {
     "data": {
      "text/plain": [
       "array([0, 1, 2, 5, 3, 4, 6])"
      ]
     },
     "execution_count": 27,
     "metadata": {},
     "output_type": "execute_result"
    }
   ],
   "source": [
    "df[\"Parch\"].unique()"
   ]
  },
  {
   "cell_type": "code",
   "execution_count": 28,
   "id": "72f4905c",
   "metadata": {
    "hidden": true
   },
   "outputs": [
    {
     "data": {
      "text/plain": [
       "<AxesSubplot:xlabel='Parch'>"
      ]
     },
     "execution_count": 28,
     "metadata": {},
     "output_type": "execute_result"
    },
    {
     "data": {
      "image/png": "[encoded data removed]",
      "text/plain": [
       "<Figure size 640x480 with 1 Axes>"
      ]
     },
     "metadata": {},
     "output_type": "display_data"
    }
   ],
   "source": [
    "survived[[\"Parch\", \"Survived\"]].groupby([\"Parch\"]).count().plot.bar(rot = 0)"
   ]
  },
  {
   "cell_type": "code",
   "execution_count": 29,
   "id": "6e987105",
   "metadata": {
    "hidden": true
   },
   "outputs": [
    {
     "data": {
      "text/plain": [
       "<AxesSubplot:xlabel='Parch'>"
      ]
     },
     "execution_count": 29,
     "metadata": {},
     "output_type": "execute_result"
    },
    {
     "data": {
      "image/png": "[encoded data removed]",
      "text/plain": [
       "<Figure size 640x480 with 1 Axes>"
      ]
     },
     "metadata": {},
     "output_type": "display_data"
    }
   ],
   "source": [
    "non_survived[[\"Parch\", \"Survived\"]].groupby([\"Parch\"]).count().plot.bar(rot = 0)"
   ]
  },
  {
   "cell_type": "markdown",
   "id": "4722124d",
   "metadata": {
    "heading_collapsed": true,
    "hidden": true
   },
   "source": [
    "##### SibSp"
   ]
  },
  {
   "cell_type": "markdown",
   "id": "8e25d039",
   "metadata": {
    "hidden": true
   },
   "source": [
    "Get an idea of the feature."
   ]
  },
  {
   "cell_type": "code",
   "execution_count": 30,
   "id": "5f407ecc",
   "metadata": {
    "hidden": true
   },
   "outputs": [
    {
     "data": {
      "text/plain": [
       "array([1, 0, 3, 4, 2, 5, 8])"
      ]
     },
     "execution_count": 30,
     "metadata": {},
     "output_type": "execute_result"
    }
   ],
   "source": [
    "df[\"SibSp\"].unique()"
   ]
  },
  {
   "cell_type": "code",
   "execution_count": 31,
   "id": "b0c500cb",
   "metadata": {
    "hidden": true
   },
   "outputs": [
    {
     "data": {
      "text/plain": [
       "<AxesSubplot:xlabel='SibSp'>"
      ]
     },
     "execution_count": 31,
     "metadata": {},
     "output_type": "execute_result"
    },
    {
     "data": {
      "image/png": "[encoded data removed]",
      "text/plain": [
       "<Figure size 640x480 with 1 Axes>"
      ]
     },
     "metadata": {},
     "output_type": "display_data"
    }
   ],
   "source": [
    "survived[[\"SibSp\", \"Survived\"]].groupby([\"SibSp\"]).count().plot.bar(rot = 0)"
   ]
  },
  {
   "cell_type": "code",
   "execution_count": 32,
   "id": "a72f0237",
   "metadata": {
    "hidden": true
   },
   "outputs": [
    {
     "data": {
      "text/plain": [
       "<AxesSubplot:xlabel='SibSp'>"
      ]
     },
     "execution_count": 32,
     "metadata": {},
     "output_type": "execute_result"
    },
    {
     "data": {
      "image/png": "[encoded data removed]",
      "text/plain": [
       "<Figure size 640x480 with 1 Axes>"
      ]
     },
     "metadata": {},
     "output_type": "display_data"
    }
   ],
   "source": [
    "non_survived[[\"SibSp\", \"Survived\"]].groupby([\"SibSp\"]).count().plot.bar(rot = 0)"
   ]
  },
  {
   "cell_type": "markdown",
   "id": "48192b33",
   "metadata": {
    "heading_collapsed": true,
    "hidden": true
   },
   "source": [
    "##### Fare"
   ]
  },
  {
   "cell_type": "markdown",
   "id": "fcbeff84",
   "metadata": {
    "hidden": true
   },
   "source": [
    "Take a look at the range and median of the feature."
   ]
  },
  {
   "cell_type": "code",
   "execution_count": 33,
   "id": "2e072de0",
   "metadata": {
    "hidden": true
   },
   "outputs": [
    {
     "data": {
      "text/html": [
       "<div>\n",
       "<style scoped>\n",
       "    .dataframe tbody tr th:only-of-type {\n",
       "        vertical-align: middle;\n",
       "    }\n",
       "\n",
       "    .dataframe tbody tr th {\n",
       "        vertical-align: top;\n",
       "    }\n",
       "\n",
       "    .dataframe thead th {\n",
       "        text-align: right;\n",
       "    }\n",
       "</style>\n",
       "<table border=\"1\" class=\"dataframe\">\n",
       "  <thead>\n",
       "    <tr style=\"text-align: right;\">\n",
       "      <th></th>\n",
       "      <th>Fare</th>\n",
       "    </tr>\n",
       "  </thead>\n",
       "  <tbody>\n",
       "    <tr>\n",
       "      <th>max</th>\n",
       "      <td>512.3292</td>\n",
       "    </tr>\n",
       "    <tr>\n",
       "      <th>min</th>\n",
       "      <td>0.0000</td>\n",
       "    </tr>\n",
       "  </tbody>\n",
       "</table>\n",
       "</div>"
      ],
      "text/plain": [
       "         Fare\n",
       "max  512.3292\n",
       "min    0.0000"
      ]
     },
     "execution_count": 33,
     "metadata": {},
     "output_type": "execute_result"
    }
   ],
   "source": [
    "df.agg({\"Fare\" : [\"max\", \"min\"]})"
   ]
  },
  {
   "cell_type": "code",
   "execution_count": 34,
   "id": "f62bc8b8",
   "metadata": {
    "hidden": true
   },
   "outputs": [
    {
     "data": {
      "text/plain": [
       "14.4542"
      ]
     },
     "execution_count": 34,
     "metadata": {},
     "output_type": "execute_result"
    }
   ],
   "source": [
    "df[\"Fare\"].median()"
   ]
  },
  {
   "cell_type": "code",
   "execution_count": 35,
   "id": "912a2d5e",
   "metadata": {
    "hidden": true
   },
   "outputs": [
    {
     "data": {
      "text/plain": [
       "26.0"
      ]
     },
     "execution_count": 35,
     "metadata": {},
     "output_type": "execute_result"
    }
   ],
   "source": [
    "survived[\"Fare\"].median()"
   ]
  },
  {
   "cell_type": "code",
   "execution_count": 36,
   "id": "4c99fb57",
   "metadata": {
    "hidden": true
   },
   "outputs": [
    {
     "data": {
      "text/plain": [
       "10.5"
      ]
     },
     "execution_count": 36,
     "metadata": {},
     "output_type": "execute_result"
    }
   ],
   "source": [
    "non_survived[\"Fare\"].median()"
   ]
  },
  {
   "cell_type": "code",
   "execution_count": 37,
   "id": "82b3c9a3",
   "metadata": {
    "hidden": true
   },
   "outputs": [
    {
     "data": {
      "text/html": [
       "<div>\n",
       "<style scoped>\n",
       "    .dataframe tbody tr th:only-of-type {\n",
       "        vertical-align: middle;\n",
       "    }\n",
       "\n",
       "    .dataframe tbody tr th {\n",
       "        vertical-align: top;\n",
       "    }\n",
       "\n",
       "    .dataframe thead th {\n",
       "        text-align: right;\n",
       "    }\n",
       "</style>\n",
       "<table border=\"1\" class=\"dataframe\">\n",
       "  <thead>\n",
       "    <tr style=\"text-align: right;\">\n",
       "      <th></th>\n",
       "      <th>Survived</th>\n",
       "      <th>Pclass</th>\n",
       "      <th>Name</th>\n",
       "      <th>Sex</th>\n",
       "      <th>Age</th>\n",
       "      <th>SibSp</th>\n",
       "      <th>Parch</th>\n",
       "      <th>Ticket</th>\n",
       "      <th>Fare</th>\n",
       "      <th>Cabin</th>\n",
       "      <th>Embarked</th>\n",
       "    </tr>\n",
       "    <tr>\n",
       "      <th>PassengerId</th>\n",
       "      <th></th>\n",
       "      <th></th>\n",
       "      <th></th>\n",
       "      <th></th>\n",
       "      <th></th>\n",
       "      <th></th>\n",
       "      <th></th>\n",
       "      <th></th>\n",
       "      <th></th>\n",
       "      <th></th>\n",
       "      <th></th>\n",
       "    </tr>\n",
       "  </thead>\n",
       "  <tbody>\n",
       "    <tr>\n",
       "      <th>259</th>\n",
       "      <td>1</td>\n",
       "      <td>1</td>\n",
       "      <td>Ward, Miss. Anna</td>\n",
       "      <td>female</td>\n",
       "      <td>35.0</td>\n",
       "      <td>0</td>\n",
       "      <td>0</td>\n",
       "      <td>PC 17755</td>\n",
       "      <td>512.3292</td>\n",
       "      <td>NaN</td>\n",
       "      <td>C</td>\n",
       "    </tr>\n",
       "    <tr>\n",
       "      <th>680</th>\n",
       "      <td>1</td>\n",
       "      <td>1</td>\n",
       "      <td>Cardeza, Mr. Thomas Drake Martinez</td>\n",
       "      <td>male</td>\n",
       "      <td>36.0</td>\n",
       "      <td>0</td>\n",
       "      <td>1</td>\n",
       "      <td>PC 17755</td>\n",
       "      <td>512.3292</td>\n",
       "      <td>B51 B53 B55</td>\n",
       "      <td>C</td>\n",
       "    </tr>\n",
       "    <tr>\n",
       "      <th>738</th>\n",
       "      <td>1</td>\n",
       "      <td>1</td>\n",
       "      <td>Lesurer, Mr. Gustave J</td>\n",
       "      <td>male</td>\n",
       "      <td>35.0</td>\n",
       "      <td>0</td>\n",
       "      <td>0</td>\n",
       "      <td>PC 17755</td>\n",
       "      <td>512.3292</td>\n",
       "      <td>B101</td>\n",
       "      <td>C</td>\n",
       "    </tr>\n",
       "  </tbody>\n",
       "</table>\n",
       "</div>"
      ],
      "text/plain": [
       "             Survived  Pclass                                Name     Sex  \\\n",
       "PassengerId                                                                 \n",
       "259                 1       1                    Ward, Miss. Anna  female   \n",
       "680                 1       1  Cardeza, Mr. Thomas Drake Martinez    male   \n",
       "738                 1       1              Lesurer, Mr. Gustave J    male   \n",
       "\n",
       "              Age  SibSp  Parch    Ticket      Fare        Cabin Embarked  \n",
       "PassengerId                                                                \n",
       "259          35.0      0      0  PC 17755  512.3292          NaN        C  \n",
       "680          36.0      0      1  PC 17755  512.3292  B51 B53 B55        C  \n",
       "738          35.0      0      0  PC 17755  512.3292         B101        C  "
      ]
     },
     "execution_count": 37,
     "metadata": {},
     "output_type": "execute_result"
    }
   ],
   "source": [
    "df[df[\"Fare\"] == df[\"Fare\"].max()]"
   ]
  },
  {
   "cell_type": "code",
   "execution_count": 38,
   "id": "a2420cae",
   "metadata": {
    "hidden": true,
    "scrolled": true
   },
   "outputs": [
    {
     "data": {
      "text/html": [
       "<div>\n",
       "<style scoped>\n",
       "    .dataframe tbody tr th:only-of-type {\n",
       "        vertical-align: middle;\n",
       "    }\n",
       "\n",
       "    .dataframe tbody tr th {\n",
       "        vertical-align: top;\n",
       "    }\n",
       "\n",
       "    .dataframe thead th {\n",
       "        text-align: right;\n",
       "    }\n",
       "</style>\n",
       "<table border=\"1\" class=\"dataframe\">\n",
       "  <thead>\n",
       "    <tr style=\"text-align: right;\">\n",
       "      <th></th>\n",
       "      <th>Survived</th>\n",
       "      <th>Pclass</th>\n",
       "      <th>Name</th>\n",
       "      <th>Sex</th>\n",
       "      <th>Age</th>\n",
       "      <th>SibSp</th>\n",
       "      <th>Parch</th>\n",
       "      <th>Ticket</th>\n",
       "      <th>Fare</th>\n",
       "      <th>Cabin</th>\n",
       "      <th>Embarked</th>\n",
       "    </tr>\n",
       "    <tr>\n",
       "      <th>PassengerId</th>\n",
       "      <th></th>\n",
       "      <th></th>\n",
       "      <th></th>\n",
       "      <th></th>\n",
       "      <th></th>\n",
       "      <th></th>\n",
       "      <th></th>\n",
       "      <th></th>\n",
       "      <th></th>\n",
       "      <th></th>\n",
       "      <th></th>\n",
       "    </tr>\n",
       "  </thead>\n",
       "  <tbody>\n",
       "    <tr>\n",
       "      <th>180</th>\n",
       "      <td>0</td>\n",
       "      <td>3</td>\n",
       "      <td>Leonard, Mr. Lionel</td>\n",
       "      <td>male</td>\n",
       "      <td>36.0</td>\n",
       "      <td>0</td>\n",
       "      <td>0</td>\n",
       "      <td>LINE</td>\n",
       "      <td>0.0</td>\n",
       "      <td>NaN</td>\n",
       "      <td>S</td>\n",
       "    </tr>\n",
       "    <tr>\n",
       "      <th>264</th>\n",
       "      <td>0</td>\n",
       "      <td>1</td>\n",
       "      <td>Harrison, Mr. William</td>\n",
       "      <td>male</td>\n",
       "      <td>40.0</td>\n",
       "      <td>0</td>\n",
       "      <td>0</td>\n",
       "      <td>112059</td>\n",
       "      <td>0.0</td>\n",
       "      <td>B94</td>\n",
       "      <td>S</td>\n",
       "    </tr>\n",
       "    <tr>\n",
       "      <th>272</th>\n",
       "      <td>1</td>\n",
       "      <td>3</td>\n",
       "      <td>Tornquist, Mr. William Henry</td>\n",
       "      <td>male</td>\n",
       "      <td>25.0</td>\n",
       "      <td>0</td>\n",
       "      <td>0</td>\n",
       "      <td>LINE</td>\n",
       "      <td>0.0</td>\n",
       "      <td>NaN</td>\n",
       "      <td>S</td>\n",
       "    </tr>\n",
       "    <tr>\n",
       "      <th>278</th>\n",
       "      <td>0</td>\n",
       "      <td>2</td>\n",
       "      <td>Parkes, Mr. Francis \"Frank\"</td>\n",
       "      <td>male</td>\n",
       "      <td>NaN</td>\n",
       "      <td>0</td>\n",
       "      <td>0</td>\n",
       "      <td>239853</td>\n",
       "      <td>0.0</td>\n",
       "      <td>NaN</td>\n",
       "      <td>S</td>\n",
       "    </tr>\n",
       "    <tr>\n",
       "      <th>303</th>\n",
       "      <td>0</td>\n",
       "      <td>3</td>\n",
       "      <td>Johnson, Mr. William Cahoone Jr</td>\n",
       "      <td>male</td>\n",
       "      <td>19.0</td>\n",
       "      <td>0</td>\n",
       "      <td>0</td>\n",
       "      <td>LINE</td>\n",
       "      <td>0.0</td>\n",
       "      <td>NaN</td>\n",
       "      <td>S</td>\n",
       "    </tr>\n",
       "    <tr>\n",
       "      <th>414</th>\n",
       "      <td>0</td>\n",
       "      <td>2</td>\n",
       "      <td>Cunningham, Mr. Alfred Fleming</td>\n",
       "      <td>male</td>\n",
       "      <td>NaN</td>\n",
       "      <td>0</td>\n",
       "      <td>0</td>\n",
       "      <td>239853</td>\n",
       "      <td>0.0</td>\n",
       "      <td>NaN</td>\n",
       "      <td>S</td>\n",
       "    </tr>\n",
       "    <tr>\n",
       "      <th>467</th>\n",
       "      <td>0</td>\n",
       "      <td>2</td>\n",
       "      <td>Campbell, Mr. William</td>\n",
       "      <td>male</td>\n",
       "      <td>NaN</td>\n",
       "      <td>0</td>\n",
       "      <td>0</td>\n",
       "      <td>239853</td>\n",
       "      <td>0.0</td>\n",
       "      <td>NaN</td>\n",
       "      <td>S</td>\n",
       "    </tr>\n",
       "    <tr>\n",
       "      <th>482</th>\n",
       "      <td>0</td>\n",
       "      <td>2</td>\n",
       "      <td>Frost, Mr. Anthony Wood \"Archie\"</td>\n",
       "      <td>male</td>\n",
       "      <td>NaN</td>\n",
       "      <td>0</td>\n",
       "      <td>0</td>\n",
       "      <td>239854</td>\n",
       "      <td>0.0</td>\n",
       "      <td>NaN</td>\n",
       "      <td>S</td>\n",
       "    </tr>\n",
       "    <tr>\n",
       "      <th>598</th>\n",
       "      <td>0</td>\n",
       "      <td>3</td>\n",
       "      <td>Johnson, Mr. Alfred</td>\n",
       "      <td>male</td>\n",
       "      <td>49.0</td>\n",
       "      <td>0</td>\n",
       "      <td>0</td>\n",
       "      <td>LINE</td>\n",
       "      <td>0.0</td>\n",
       "      <td>NaN</td>\n",
       "      <td>S</td>\n",
       "    </tr>\n",
       "    <tr>\n",
       "      <th>634</th>\n",
       "      <td>0</td>\n",
       "      <td>1</td>\n",
       "      <td>Parr, Mr. William Henry Marsh</td>\n",
       "      <td>male</td>\n",
       "      <td>NaN</td>\n",
       "      <td>0</td>\n",
       "      <td>0</td>\n",
       "      <td>112052</td>\n",
       "      <td>0.0</td>\n",
       "      <td>NaN</td>\n",
       "      <td>S</td>\n",
       "    </tr>\n",
       "    <tr>\n",
       "      <th>675</th>\n",
       "      <td>0</td>\n",
       "      <td>2</td>\n",
       "      <td>Watson, Mr. Ennis Hastings</td>\n",
       "      <td>male</td>\n",
       "      <td>NaN</td>\n",
       "      <td>0</td>\n",
       "      <td>0</td>\n",
       "      <td>239856</td>\n",
       "      <td>0.0</td>\n",
       "      <td>NaN</td>\n",
       "      <td>S</td>\n",
       "    </tr>\n",
       "    <tr>\n",
       "      <th>733</th>\n",
       "      <td>0</td>\n",
       "      <td>2</td>\n",
       "      <td>Knight, Mr. Robert J</td>\n",
       "      <td>male</td>\n",
       "      <td>NaN</td>\n",
       "      <td>0</td>\n",
       "      <td>0</td>\n",
       "      <td>239855</td>\n",
       "      <td>0.0</td>\n",
       "      <td>NaN</td>\n",
       "      <td>S</td>\n",
       "    </tr>\n",
       "    <tr>\n",
       "      <th>807</th>\n",
       "      <td>0</td>\n",
       "      <td>1</td>\n",
       "      <td>Andrews, Mr. Thomas Jr</td>\n",
       "      <td>male</td>\n",
       "      <td>39.0</td>\n",
       "      <td>0</td>\n",
       "      <td>0</td>\n",
       "      <td>112050</td>\n",
       "      <td>0.0</td>\n",
       "      <td>A36</td>\n",
       "      <td>S</td>\n",
       "    </tr>\n",
       "    <tr>\n",
       "      <th>816</th>\n",
       "      <td>0</td>\n",
       "      <td>1</td>\n",
       "      <td>Fry, Mr. Richard</td>\n",
       "      <td>male</td>\n",
       "      <td>NaN</td>\n",
       "      <td>0</td>\n",
       "      <td>0</td>\n",
       "      <td>112058</td>\n",
       "      <td>0.0</td>\n",
       "      <td>B102</td>\n",
       "      <td>S</td>\n",
       "    </tr>\n",
       "    <tr>\n",
       "      <th>823</th>\n",
       "      <td>0</td>\n",
       "      <td>1</td>\n",
       "      <td>Reuchlin, Jonkheer. John George</td>\n",
       "      <td>male</td>\n",
       "      <td>38.0</td>\n",
       "      <td>0</td>\n",
       "      <td>0</td>\n",
       "      <td>19972</td>\n",
       "      <td>0.0</td>\n",
       "      <td>NaN</td>\n",
       "      <td>S</td>\n",
       "    </tr>\n",
       "  </tbody>\n",
       "</table>\n",
       "</div>"
      ],
      "text/plain": [
       "             Survived  Pclass                              Name   Sex   Age  \\\n",
       "PassengerId                                                                   \n",
       "180                 0       3               Leonard, Mr. Lionel  male  36.0   \n",
       "264                 0       1             Harrison, Mr. William  male  40.0   \n",
       "272                 1       3      Tornquist, Mr. William Henry  male  25.0   \n",
       "278                 0       2       Parkes, Mr. Francis \"Frank\"  male   NaN   \n",
       "303                 0       3   Johnson, Mr. William Cahoone Jr  male  19.0   \n",
       "414                 0       2    Cunningham, Mr. Alfred Fleming  male   NaN   \n",
       "467                 0       2             Campbell, Mr. William  male   NaN   \n",
       "482                 0       2  Frost, Mr. Anthony Wood \"Archie\"  male   NaN   \n",
       "598                 0       3               Johnson, Mr. Alfred  male  49.0   \n",
       "634                 0       1     Parr, Mr. William Henry Marsh  male   NaN   \n",
       "675                 0       2        Watson, Mr. Ennis Hastings  male   NaN   \n",
       "733                 0       2              Knight, Mr. Robert J  male   NaN   \n",
       "807                 0       1            Andrews, Mr. Thomas Jr  male  39.0   \n",
       "816                 0       1                  Fry, Mr. Richard  male   NaN   \n",
       "823                 0       1   Reuchlin, Jonkheer. John George  male  38.0   \n",
       "\n",
       "             SibSp  Parch  Ticket  Fare Cabin Embarked  \n",
       "PassengerId                                             \n",
       "180              0      0    LINE   0.0   NaN        S  \n",
       "264              0      0  112059   0.0   B94        S  \n",
       "272              0      0    LINE   0.0   NaN        S  \n",
       "278              0      0  239853   0.0   NaN        S  \n",
       "303              0      0    LINE   0.0   NaN        S  \n",
       "414              0      0  239853   0.0   NaN        S  \n",
       "467              0      0  239853   0.0   NaN        S  \n",
       "482              0      0  239854   0.0   NaN        S  \n",
       "598              0      0    LINE   0.0   NaN        S  \n",
       "634              0      0  112052   0.0   NaN        S  \n",
       "675              0      0  239856   0.0   NaN        S  \n",
       "733              0      0  239855   0.0   NaN        S  \n",
       "807              0      0  112050   0.0   A36        S  \n",
       "816              0      0  112058   0.0  B102        S  \n",
       "823              0      0   19972   0.0   NaN        S  "
      ]
     },
     "execution_count": 38,
     "metadata": {},
     "output_type": "execute_result"
    }
   ],
   "source": [
    "df[df[\"Fare\"] == df[\"Fare\"].min()]"
   ]
  },
  {
   "cell_type": "markdown",
   "id": "fc4393e3",
   "metadata": {
    "hidden": true
   },
   "source": [
    "Create overlapping histograms for the fare."
   ]
  },
  {
   "cell_type": "code",
   "execution_count": 39,
   "id": "3472192e",
   "metadata": {
    "hidden": true,
    "scrolled": true
   },
   "outputs": [
    {
     "name": "stderr",
     "output_type": "stream",
     "text": [
      "/tmp/ipykernel_5479/3263231038.py:6: UserWarning: You have mixed positional and keyword arguments, some input may be discarded.\n",
      "  plt.legend([hist1_f, hist0_f], labels =[\"Survived\", \"Did not survive\"])\n"
     ]
    },
    {
     "data": {
      "text/plain": [
       "<matplotlib.legend.Legend at 0x7f53911d2e80>"
      ]
     },
     "execution_count": 39,
     "metadata": {},
     "output_type": "execute_result"
    },
    {
     "data": {
      "image/png": "[encoded data removed]",
      "text/plain": [
       "<Figure size 640x480 with 1 Axes>"
      ]
     },
     "metadata": {},
     "output_type": "display_data"
    }
   ],
   "source": [
    "hist1_f = df[df[\"Survived\"] == 1][\"Fare\"].hist(bins = 10, facecolor= '#fd3f92',alpha=0.75,histtype='bar')\n",
    "hist0_f = df[df[\"Survived\"] == 0][\"Fare\"].hist(bins= 20, facecolor= '#8ae6cc',alpha= 0.75,histtype='bar')\n",
    "plt.title('Histogram of the fare and survival data')\n",
    "plt.xlabel('Amount of fare')\n",
    "plt.ylabel('Frequency')\n",
    "plt.legend([hist1_f, hist0_f], labels =[\"Survived\", \"Did not survive\"])"
   ]
  },
  {
   "cell_type": "markdown",
   "id": "ad1ffa2c",
   "metadata": {
    "hidden": true
   },
   "source": [
    "##### Age"
   ]
  },
  {
   "cell_type": "markdown",
   "id": "27bf1328",
   "metadata": {
    "hidden": true
   },
   "source": [
    "Take a look at the range and mean of the feature."
   ]
  },
  {
   "cell_type": "code",
   "execution_count": 40,
   "id": "c7e785f9",
   "metadata": {
    "hidden": true
   },
   "outputs": [
    {
     "data": {
      "text/html": [
       "<div>\n",
       "<style scoped>\n",
       "    .dataframe tbody tr th:only-of-type {\n",
       "        vertical-align: middle;\n",
       "    }\n",
       "\n",
       "    .dataframe tbody tr th {\n",
       "        vertical-align: top;\n",
       "    }\n",
       "\n",
       "    .dataframe thead th {\n",
       "        text-align: right;\n",
       "    }\n",
       "</style>\n",
       "<table border=\"1\" class=\"dataframe\">\n",
       "  <thead>\n",
       "    <tr style=\"text-align: right;\">\n",
       "      <th></th>\n",
       "      <th>Age</th>\n",
       "    </tr>\n",
       "  </thead>\n",
       "  <tbody>\n",
       "    <tr>\n",
       "      <th>max</th>\n",
       "      <td>80.00</td>\n",
       "    </tr>\n",
       "    <tr>\n",
       "      <th>min</th>\n",
       "      <td>0.42</td>\n",
       "    </tr>\n",
       "  </tbody>\n",
       "</table>\n",
       "</div>"
      ],
      "text/plain": [
       "       Age\n",
       "max  80.00\n",
       "min   0.42"
      ]
     },
     "execution_count": 40,
     "metadata": {},
     "output_type": "execute_result"
    }
   ],
   "source": [
    "df.agg({\"Age\" : [\"max\", \"min\"]})"
   ]
  },
  {
   "cell_type": "code",
   "execution_count": 41,
   "id": "a4d1da69",
   "metadata": {
    "hidden": true
   },
   "outputs": [
    {
     "data": {
      "text/plain": [
       "29.69911764705882"
      ]
     },
     "execution_count": 41,
     "metadata": {},
     "output_type": "execute_result"
    }
   ],
   "source": [
    "df[\"Age\"].mean()"
   ]
  },
  {
   "cell_type": "code",
   "execution_count": 42,
   "id": "cfbf66ed",
   "metadata": {
    "hidden": true
   },
   "outputs": [
    {
     "data": {
      "text/plain": [
       "28.343689655172415"
      ]
     },
     "execution_count": 42,
     "metadata": {},
     "output_type": "execute_result"
    }
   ],
   "source": [
    "survived[\"Age\"].mean()"
   ]
  },
  {
   "cell_type": "code",
   "execution_count": 43,
   "id": "cd1e8e75",
   "metadata": {
    "hidden": true
   },
   "outputs": [
    {
     "data": {
      "text/plain": [
       "30.62617924528302"
      ]
     },
     "execution_count": 43,
     "metadata": {},
     "output_type": "execute_result"
    }
   ],
   "source": [
    "non_survived[\"Age\"].mean()"
   ]
  },
  {
   "cell_type": "markdown",
   "id": "ed66f25d",
   "metadata": {
    "hidden": true
   },
   "source": [
    "Create overlapping histograms for the age."
   ]
  },
  {
   "cell_type": "code",
   "execution_count": 44,
   "id": "e7e22aa0",
   "metadata": {
    "hidden": true
   },
   "outputs": [
    {
     "name": "stderr",
     "output_type": "stream",
     "text": [
      "/tmp/ipykernel_5479/1008945791.py:7: UserWarning: You have mixed positional and keyword arguments, some input may be discarded.\n",
      "  plt.legend([hist1_a, hist0_a], labels =[\"Did not Survived\", \"Survived\"])\n"
     ]
    },
    {
     "data": {
      "text/plain": [
       "<matplotlib.legend.Legend at 0x7f5391120280>"
      ]
     },
     "execution_count": 44,
     "metadata": {},
     "output_type": "execute_result"
    },
    {
     "data": {
      "image/png": "[encoded data removed]",
      "text/plain": [
       "<Figure size 640x480 with 1 Axes>"
      ]
     },
     "metadata": {},
     "output_type": "display_data"
    }
   ],
   "source": [
    "hist0_a = df[df[\"Survived\"] == 0][\"Age\"].hist(bins= 10, facecolor= '#8ae6cc', alpha= 0.75, histtype='bar')\n",
    "hist1_a = df[df[\"Survived\"] == 1][\"Age\"].hist(bins = 20, facecolor= '#fd3f92', alpha=0.75, histtype='bar')\n",
    "plt.title('Histogram of the age and survival data')\n",
    "plt.xlabel('Years of life')\n",
    "plt.ylabel('Frequency')\n",
    "plt.axis([0.0, 90.0, 0.0, 140.0])\n",
    "plt.legend([hist1_a, hist0_a], labels =[\"Did not Survived\", \"Survived\"])"
   ]
  },
  {
   "cell_type": "markdown",
   "id": "4646cb41",
   "metadata": {
    "hidden": true
   },
   "source": [
    "Regarding the \"Parch\" and \"SibSp\" features, I would keep the second one as the barplots showed an interesting split towards survival.\n",
    "\n",
    "I will also keep \"Age\" as the histogram above implies a higher probabiblity to not survive in a range of ca. 18  to 53."
   ]
  },
  {
   "cell_type": "markdown",
   "id": "a0285b0d",
   "metadata": {
    "heading_collapsed": true
   },
   "source": [
    "# 4. Train-test split "
   ]
  },
  {
   "cell_type": "markdown",
   "id": "6c9de34a",
   "metadata": {
    "hidden": true
   },
   "source": [
    "Define X and y."
   ]
  },
  {
   "cell_type": "code",
   "execution_count": 45,
   "id": "fce36669",
   "metadata": {
    "hidden": true
   },
   "outputs": [
    {
     "data": {
      "text/html": [
       "<div>\n",
       "<style scoped>\n",
       "    .dataframe tbody tr th:only-of-type {\n",
       "        vertical-align: middle;\n",
       "    }\n",
       "\n",
       "    .dataframe tbody tr th {\n",
       "        vertical-align: top;\n",
       "    }\n",
       "\n",
       "    .dataframe thead th {\n",
       "        text-align: right;\n",
       "    }\n",
       "</style>\n",
       "<table border=\"1\" class=\"dataframe\">\n",
       "  <thead>\n",
       "    <tr style=\"text-align: right;\">\n",
       "      <th></th>\n",
       "      <th>Survived</th>\n",
       "      <th>Pclass</th>\n",
       "      <th>Name</th>\n",
       "      <th>Sex</th>\n",
       "      <th>Age</th>\n",
       "      <th>SibSp</th>\n",
       "      <th>Parch</th>\n",
       "      <th>Ticket</th>\n",
       "      <th>Fare</th>\n",
       "      <th>Cabin</th>\n",
       "      <th>Embarked</th>\n",
       "    </tr>\n",
       "    <tr>\n",
       "      <th>PassengerId</th>\n",
       "      <th></th>\n",
       "      <th></th>\n",
       "      <th></th>\n",
       "      <th></th>\n",
       "      <th></th>\n",
       "      <th></th>\n",
       "      <th></th>\n",
       "      <th></th>\n",
       "      <th></th>\n",
       "      <th></th>\n",
       "      <th></th>\n",
       "    </tr>\n",
       "  </thead>\n",
       "  <tbody>\n",
       "    <tr>\n",
       "      <th>1</th>\n",
       "      <td>0</td>\n",
       "      <td>3</td>\n",
       "      <td>Braund, Mr. Owen Harris</td>\n",
       "      <td>male</td>\n",
       "      <td>22.0</td>\n",
       "      <td>1</td>\n",
       "      <td>0</td>\n",
       "      <td>A/5 21171</td>\n",
       "      <td>7.2500</td>\n",
       "      <td>NaN</td>\n",
       "      <td>S</td>\n",
       "    </tr>\n",
       "    <tr>\n",
       "      <th>2</th>\n",
       "      <td>1</td>\n",
       "      <td>1</td>\n",
       "      <td>Cumings, Mrs. John Bradley (Florence Briggs Th...</td>\n",
       "      <td>female</td>\n",
       "      <td>38.0</td>\n",
       "      <td>1</td>\n",
       "      <td>0</td>\n",
       "      <td>PC 17599</td>\n",
       "      <td>71.2833</td>\n",
       "      <td>C85</td>\n",
       "      <td>C</td>\n",
       "    </tr>\n",
       "    <tr>\n",
       "      <th>3</th>\n",
       "      <td>1</td>\n",
       "      <td>3</td>\n",
       "      <td>Heikkinen, Miss. Laina</td>\n",
       "      <td>female</td>\n",
       "      <td>26.0</td>\n",
       "      <td>0</td>\n",
       "      <td>0</td>\n",
       "      <td>STON/O2. 3101282</td>\n",
       "      <td>7.9250</td>\n",
       "      <td>NaN</td>\n",
       "      <td>S</td>\n",
       "    </tr>\n",
       "    <tr>\n",
       "      <th>4</th>\n",
       "      <td>1</td>\n",
       "      <td>1</td>\n",
       "      <td>Futrelle, Mrs. Jacques Heath (Lily May Peel)</td>\n",
       "      <td>female</td>\n",
       "      <td>35.0</td>\n",
       "      <td>1</td>\n",
       "      <td>0</td>\n",
       "      <td>113803</td>\n",
       "      <td>53.1000</td>\n",
       "      <td>C123</td>\n",
       "      <td>S</td>\n",
       "    </tr>\n",
       "    <tr>\n",
       "      <th>5</th>\n",
       "      <td>0</td>\n",
       "      <td>3</td>\n",
       "      <td>Allen, Mr. William Henry</td>\n",
       "      <td>male</td>\n",
       "      <td>35.0</td>\n",
       "      <td>0</td>\n",
       "      <td>0</td>\n",
       "      <td>373450</td>\n",
       "      <td>8.0500</td>\n",
       "      <td>NaN</td>\n",
       "      <td>S</td>\n",
       "    </tr>\n",
       "  </tbody>\n",
       "</table>\n",
       "</div>"
      ],
      "text/plain": [
       "             Survived  Pclass  \\\n",
       "PassengerId                     \n",
       "1                   0       3   \n",
       "2                   1       1   \n",
       "3                   1       3   \n",
       "4                   1       1   \n",
       "5                   0       3   \n",
       "\n",
       "                                                          Name     Sex   Age  \\\n",
       "PassengerId                                                                    \n",
       "1                                      Braund, Mr. Owen Harris    male  22.0   \n",
       "2            Cumings, Mrs. John Bradley (Florence Briggs Th...  female  38.0   \n",
       "3                                       Heikkinen, Miss. Laina  female  26.0   \n",
       "4                 Futrelle, Mrs. Jacques Heath (Lily May Peel)  female  35.0   \n",
       "5                                     Allen, Mr. William Henry    male  35.0   \n",
       "\n",
       "             SibSp  Parch            Ticket     Fare Cabin Embarked  \n",
       "PassengerId                                                          \n",
       "1                1      0         A/5 21171   7.2500   NaN        S  \n",
       "2                1      0          PC 17599  71.2833   C85        C  \n",
       "3                0      0  STON/O2. 3101282   7.9250   NaN        S  \n",
       "4                1      0            113803  53.1000  C123        S  \n",
       "5                0      0            373450   8.0500   NaN        S  "
      ]
     },
     "execution_count": 45,
     "metadata": {},
     "output_type": "execute_result"
    }
   ],
   "source": [
    "df.head()"
   ]
  },
  {
   "cell_type": "code",
   "execution_count": 46,
   "id": "44d606a8",
   "metadata": {
    "hidden": true
   },
   "outputs": [],
   "source": [
    "X = df.drop([\"Survived\", \"Name\", \"Parch\", \"Ticket\", \"Cabin\", \"Embarked\"], axis = 1)"
   ]
  },
  {
   "cell_type": "code",
   "execution_count": 47,
   "id": "7277d315",
   "metadata": {
    "hidden": true
   },
   "outputs": [
    {
     "data": {
      "text/html": [
       "<div>\n",
       "<style scoped>\n",
       "    .dataframe tbody tr th:only-of-type {\n",
       "        vertical-align: middle;\n",
       "    }\n",
       "\n",
       "    .dataframe tbody tr th {\n",
       "        vertical-align: top;\n",
       "    }\n",
       "\n",
       "    .dataframe thead th {\n",
       "        text-align: right;\n",
       "    }\n",
       "</style>\n",
       "<table border=\"1\" class=\"dataframe\">\n",
       "  <thead>\n",
       "    <tr style=\"text-align: right;\">\n",
       "      <th></th>\n",
       "      <th>Pclass</th>\n",
       "      <th>Sex</th>\n",
       "      <th>Age</th>\n",
       "      <th>SibSp</th>\n",
       "      <th>Fare</th>\n",
       "    </tr>\n",
       "    <tr>\n",
       "      <th>PassengerId</th>\n",
       "      <th></th>\n",
       "      <th></th>\n",
       "      <th></th>\n",
       "      <th></th>\n",
       "      <th></th>\n",
       "    </tr>\n",
       "  </thead>\n",
       "  <tbody>\n",
       "    <tr>\n",
       "      <th>1</th>\n",
       "      <td>3</td>\n",
       "      <td>male</td>\n",
       "      <td>22.0</td>\n",
       "      <td>1</td>\n",
       "      <td>7.2500</td>\n",
       "    </tr>\n",
       "    <tr>\n",
       "      <th>2</th>\n",
       "      <td>1</td>\n",
       "      <td>female</td>\n",
       "      <td>38.0</td>\n",
       "      <td>1</td>\n",
       "      <td>71.2833</td>\n",
       "    </tr>\n",
       "    <tr>\n",
       "      <th>3</th>\n",
       "      <td>3</td>\n",
       "      <td>female</td>\n",
       "      <td>26.0</td>\n",
       "      <td>0</td>\n",
       "      <td>7.9250</td>\n",
       "    </tr>\n",
       "    <tr>\n",
       "      <th>4</th>\n",
       "      <td>1</td>\n",
       "      <td>female</td>\n",
       "      <td>35.0</td>\n",
       "      <td>1</td>\n",
       "      <td>53.1000</td>\n",
       "    </tr>\n",
       "    <tr>\n",
       "      <th>5</th>\n",
       "      <td>3</td>\n",
       "      <td>male</td>\n",
       "      <td>35.0</td>\n",
       "      <td>0</td>\n",
       "      <td>8.0500</td>\n",
       "    </tr>\n",
       "    <tr>\n",
       "      <th>...</th>\n",
       "      <td>...</td>\n",
       "      <td>...</td>\n",
       "      <td>...</td>\n",
       "      <td>...</td>\n",
       "      <td>...</td>\n",
       "    </tr>\n",
       "    <tr>\n",
       "      <th>887</th>\n",
       "      <td>2</td>\n",
       "      <td>male</td>\n",
       "      <td>27.0</td>\n",
       "      <td>0</td>\n",
       "      <td>13.0000</td>\n",
       "    </tr>\n",
       "    <tr>\n",
       "      <th>888</th>\n",
       "      <td>1</td>\n",
       "      <td>female</td>\n",
       "      <td>19.0</td>\n",
       "      <td>0</td>\n",
       "      <td>30.0000</td>\n",
       "    </tr>\n",
       "    <tr>\n",
       "      <th>889</th>\n",
       "      <td>3</td>\n",
       "      <td>female</td>\n",
       "      <td>NaN</td>\n",
       "      <td>1</td>\n",
       "      <td>23.4500</td>\n",
       "    </tr>\n",
       "    <tr>\n",
       "      <th>890</th>\n",
       "      <td>1</td>\n",
       "      <td>male</td>\n",
       "      <td>26.0</td>\n",
       "      <td>0</td>\n",
       "      <td>30.0000</td>\n",
       "    </tr>\n",
       "    <tr>\n",
       "      <th>891</th>\n",
       "      <td>3</td>\n",
       "      <td>male</td>\n",
       "      <td>32.0</td>\n",
       "      <td>0</td>\n",
       "      <td>7.7500</td>\n",
       "    </tr>\n",
       "  </tbody>\n",
       "</table>\n",
       "<p>891 rows × 5 columns</p>\n",
       "</div>"
      ],
      "text/plain": [
       "             Pclass     Sex   Age  SibSp     Fare\n",
       "PassengerId                                      \n",
       "1                 3    male  22.0      1   7.2500\n",
       "2                 1  female  38.0      1  71.2833\n",
       "3                 3  female  26.0      0   7.9250\n",
       "4                 1  female  35.0      1  53.1000\n",
       "5                 3    male  35.0      0   8.0500\n",
       "...             ...     ...   ...    ...      ...\n",
       "887               2    male  27.0      0  13.0000\n",
       "888               1  female  19.0      0  30.0000\n",
       "889               3  female   NaN      1  23.4500\n",
       "890               1    male  26.0      0  30.0000\n",
       "891               3    male  32.0      0   7.7500\n",
       "\n",
       "[891 rows x 5 columns]"
      ]
     },
     "execution_count": 47,
     "metadata": {},
     "output_type": "execute_result"
    }
   ],
   "source": [
    "X"
   ]
  },
  {
   "cell_type": "code",
   "execution_count": 48,
   "id": "b515e6d6",
   "metadata": {
    "hidden": true
   },
   "outputs": [
    {
     "data": {
      "text/plain": [
       "pandas.core.frame.DataFrame"
      ]
     },
     "execution_count": 48,
     "metadata": {},
     "output_type": "execute_result"
    }
   ],
   "source": [
    "type(X)"
   ]
  },
  {
   "cell_type": "code",
   "execution_count": 49,
   "id": "21b9061b",
   "metadata": {
    "hidden": true
   },
   "outputs": [],
   "source": [
    "y = df[\"Survived\"]"
   ]
  },
  {
   "cell_type": "code",
   "execution_count": 50,
   "id": "25488ec9",
   "metadata": {
    "hidden": true
   },
   "outputs": [
    {
     "data": {
      "text/plain": [
       "PassengerId\n",
       "1      0\n",
       "2      1\n",
       "3      1\n",
       "4      1\n",
       "5      0\n",
       "      ..\n",
       "887    0\n",
       "888    1\n",
       "889    0\n",
       "890    1\n",
       "891    0\n",
       "Name: Survived, Length: 891, dtype: int64"
      ]
     },
     "execution_count": 50,
     "metadata": {},
     "output_type": "execute_result"
    }
   ],
   "source": [
    "y"
   ]
  },
  {
   "cell_type": "code",
   "execution_count": 51,
   "id": "7f9d1179",
   "metadata": {
    "hidden": true
   },
   "outputs": [
    {
     "data": {
      "text/plain": [
       "pandas.core.series.Series"
      ]
     },
     "execution_count": 51,
     "metadata": {},
     "output_type": "execute_result"
    }
   ],
   "source": [
    "type(y)"
   ]
  },
  {
   "cell_type": "markdown",
   "id": "a5b9528c",
   "metadata": {
    "hidden": true
   },
   "source": [
    "Split."
   ]
  },
  {
   "cell_type": "code",
   "execution_count": 52,
   "id": "a12f22a7",
   "metadata": {
    "hidden": true
   },
   "outputs": [],
   "source": [
    "X_train, X_test, y_train, y_test = train_test_split(X, y, test_size = 0.2, random_state = 42)"
   ]
  },
  {
   "cell_type": "code",
   "execution_count": 53,
   "id": "74d23d42",
   "metadata": {
    "hidden": true
   },
   "outputs": [
    {
     "data": {
      "text/plain": [
       "((712, 5), (179, 5), (712,), (179,))"
      ]
     },
     "execution_count": 53,
     "metadata": {},
     "output_type": "execute_result"
    }
   ],
   "source": [
    "X_train.shape, X_test.shape, y_train.shape, y_test.shape"
   ]
  },
  {
   "cell_type": "code",
   "execution_count": 54,
   "id": "08021636",
   "metadata": {
    "hidden": true
   },
   "outputs": [
    {
     "data": {
      "text/plain": [
       "(             Pclass     Sex   Age  SibSp      Fare\n",
       " PassengerId                                       \n",
       " 332               1    male  45.5      0   28.5000\n",
       " 734               2    male  23.0      0   13.0000\n",
       " 383               3    male  32.0      0    7.9250\n",
       " 705               3    male  26.0      1    7.8542\n",
       " 814               3  female   6.0      4   31.2750\n",
       " ...             ...     ...   ...    ...       ...\n",
       " 107               3  female  21.0      0    7.6500\n",
       " 271               1    male   NaN      0   31.0000\n",
       " 861               3    male  41.0      2   14.1083\n",
       " 436               1  female  14.0      1  120.0000\n",
       " 103               1    male  21.0      0   77.2875\n",
       " \n",
       " [712 rows x 5 columns],\n",
       "              Pclass     Sex   Age  SibSp     Fare\n",
       " PassengerId                                      \n",
       " 710               3    male   NaN      1  15.2458\n",
       " 440               2    male  31.0      0  10.5000\n",
       " 841               3    male  20.0      0   7.9250\n",
       " 721               2  female   6.0      0  33.0000\n",
       " 40                3  female  14.0      1  11.2417\n",
       " ...             ...     ...   ...    ...      ...\n",
       " 434               3    male  17.0      0   7.1250\n",
       " 774               3    male   NaN      0   7.2250\n",
       " 26                3  female  38.0      1  31.3875\n",
       " 85                2  female  17.0      0  10.5000\n",
       " 11                3  female   4.0      1  16.7000\n",
       " \n",
       " [179 rows x 5 columns])"
      ]
     },
     "execution_count": 54,
     "metadata": {},
     "output_type": "execute_result"
    }
   ],
   "source": [
    "X_train, X_test"
   ]
  },
  {
   "cell_type": "code",
   "execution_count": 55,
   "id": "f6fcba5e",
   "metadata": {
    "hidden": true
   },
   "outputs": [
    {
     "data": {
      "text/plain": [
       "(PassengerId\n",
       " 332    0\n",
       " 734    0\n",
       " 383    0\n",
       " 705    0\n",
       " 814    0\n",
       "       ..\n",
       " 107    1\n",
       " 271    0\n",
       " 861    0\n",
       " 436    1\n",
       " 103    0\n",
       " Name: Survived, Length: 712, dtype: int64,\n",
       " PassengerId\n",
       " 710    1\n",
       " 440    0\n",
       " 841    0\n",
       " 721    1\n",
       " 40     1\n",
       "       ..\n",
       " 434    0\n",
       " 774    0\n",
       " 26     1\n",
       " 85     1\n",
       " 11     1\n",
       " Name: Survived, Length: 179, dtype: int64)"
      ]
     },
     "execution_count": 55,
     "metadata": {},
     "output_type": "execute_result"
    }
   ],
   "source": [
    "y_train, y_test"
   ]
  },
  {
   "cell_type": "markdown",
   "id": "c4f7fbfb",
   "metadata": {
    "heading_collapsed": true
   },
   "source": [
    "# 5. Feature Engineering"
   ]
  },
  {
   "cell_type": "code",
   "execution_count": 56,
   "id": "2a1baa0d",
   "metadata": {
    "hidden": true
   },
   "outputs": [
    {
     "data": {
      "text/html": [
       "<div>\n",
       "<style scoped>\n",
       "    .dataframe tbody tr th:only-of-type {\n",
       "        vertical-align: middle;\n",
       "    }\n",
       "\n",
       "    .dataframe tbody tr th {\n",
       "        vertical-align: top;\n",
       "    }\n",
       "\n",
       "    .dataframe thead th {\n",
       "        text-align: right;\n",
       "    }\n",
       "</style>\n",
       "<table border=\"1\" class=\"dataframe\">\n",
       "  <thead>\n",
       "    <tr style=\"text-align: right;\">\n",
       "      <th></th>\n",
       "      <th>Pclass</th>\n",
       "      <th>Sex</th>\n",
       "      <th>Age</th>\n",
       "      <th>SibSp</th>\n",
       "      <th>Fare</th>\n",
       "    </tr>\n",
       "    <tr>\n",
       "      <th>PassengerId</th>\n",
       "      <th></th>\n",
       "      <th></th>\n",
       "      <th></th>\n",
       "      <th></th>\n",
       "      <th></th>\n",
       "    </tr>\n",
       "  </thead>\n",
       "  <tbody>\n",
       "    <tr>\n",
       "      <th>332</th>\n",
       "      <td>1</td>\n",
       "      <td>male</td>\n",
       "      <td>45.5</td>\n",
       "      <td>0</td>\n",
       "      <td>28.5000</td>\n",
       "    </tr>\n",
       "    <tr>\n",
       "      <th>734</th>\n",
       "      <td>2</td>\n",
       "      <td>male</td>\n",
       "      <td>23.0</td>\n",
       "      <td>0</td>\n",
       "      <td>13.0000</td>\n",
       "    </tr>\n",
       "    <tr>\n",
       "      <th>383</th>\n",
       "      <td>3</td>\n",
       "      <td>male</td>\n",
       "      <td>32.0</td>\n",
       "      <td>0</td>\n",
       "      <td>7.9250</td>\n",
       "    </tr>\n",
       "    <tr>\n",
       "      <th>705</th>\n",
       "      <td>3</td>\n",
       "      <td>male</td>\n",
       "      <td>26.0</td>\n",
       "      <td>1</td>\n",
       "      <td>7.8542</td>\n",
       "    </tr>\n",
       "    <tr>\n",
       "      <th>814</th>\n",
       "      <td>3</td>\n",
       "      <td>female</td>\n",
       "      <td>6.0</td>\n",
       "      <td>4</td>\n",
       "      <td>31.2750</td>\n",
       "    </tr>\n",
       "  </tbody>\n",
       "</table>\n",
       "</div>"
      ],
      "text/plain": [
       "             Pclass     Sex   Age  SibSp     Fare\n",
       "PassengerId                                      \n",
       "332               1    male  45.5      0  28.5000\n",
       "734               2    male  23.0      0  13.0000\n",
       "383               3    male  32.0      0   7.9250\n",
       "705               3    male  26.0      1   7.8542\n",
       "814               3  female   6.0      4  31.2750"
      ]
     },
     "execution_count": 56,
     "metadata": {},
     "output_type": "execute_result"
    }
   ],
   "source": [
    "X_train.head()"
   ]
  },
  {
   "cell_type": "markdown",
   "id": "d5e14f58",
   "metadata": {
    "hidden": true
   },
   "source": [
    "Chech for missing values in the train datasets."
   ]
  },
  {
   "cell_type": "code",
   "execution_count": 57,
   "id": "5fbddac0",
   "metadata": {
    "hidden": true
   },
   "outputs": [
    {
     "data": {
      "text/plain": [
       "Pclass      0\n",
       "Sex         0\n",
       "Age       140\n",
       "SibSp       0\n",
       "Fare        0\n",
       "dtype: int64"
      ]
     },
     "execution_count": 57,
     "metadata": {},
     "output_type": "execute_result"
    }
   ],
   "source": [
    "X_train.isnull().sum()"
   ]
  },
  {
   "cell_type": "code",
   "execution_count": 58,
   "id": "d3693afc",
   "metadata": {
    "hidden": true
   },
   "outputs": [
    {
     "data": {
      "text/plain": [
       "0"
      ]
     },
     "execution_count": 58,
     "metadata": {},
     "output_type": "execute_result"
    }
   ],
   "source": [
    "y_train.isnull().sum()"
   ]
  },
  {
   "cell_type": "markdown",
   "id": "a4fb71cc",
   "metadata": {
    "hidden": true
   },
   "source": [
    "\"Age\" feature needs to be imputed. It would be useful to do some scaling to this feature."
   ]
  },
  {
   "cell_type": "code",
   "execution_count": 59,
   "id": "1a337f68",
   "metadata": {
    "hidden": true
   },
   "outputs": [
    {
     "data": {
      "text/plain": [
       "array([1, 2, 3])"
      ]
     },
     "execution_count": 59,
     "metadata": {},
     "output_type": "execute_result"
    }
   ],
   "source": [
    "X_train[\"Pclass\"].unique()"
   ]
  },
  {
   "cell_type": "code",
   "execution_count": 60,
   "id": "a8cdae26",
   "metadata": {
    "hidden": true
   },
   "outputs": [
    {
     "data": {
      "text/plain": [
       "array(['male', 'female'], dtype=object)"
      ]
     },
     "execution_count": 60,
     "metadata": {},
     "output_type": "execute_result"
    }
   ],
   "source": [
    "X_train[\"Sex\"].unique()"
   ]
  },
  {
   "cell_type": "code",
   "execution_count": 61,
   "id": "5c960dad",
   "metadata": {
    "hidden": true
   },
   "outputs": [
    {
     "data": {
      "text/plain": [
       "array([0, 1, 4, 3, 2, 8, 5])"
      ]
     },
     "execution_count": 61,
     "metadata": {},
     "output_type": "execute_result"
    }
   ],
   "source": [
    "X_train[\"SibSp\"].unique()"
   ]
  },
  {
   "cell_type": "markdown",
   "id": "e9ab0a86",
   "metadata": {
    "hidden": true
   },
   "source": [
    "\"Pclass\" feature needs to get an one hot encoding and a drop of the first column to avoid multilinearity. The same will be done for the \"Sex\" and \"SibSp\" features."
   ]
  },
  {
   "cell_type": "markdown",
   "id": "bf4cb54b",
   "metadata": {
    "hidden": true
   },
   "source": [
    "\"Fare\" feature needs scaling."
   ]
  },
  {
   "cell_type": "markdown",
   "id": "fb697d09",
   "metadata": {
    "hidden": true
   },
   "source": [
    "Let's try to do the engineering mentioned above by introducing first a pipeline for \"Age\" and subsequently a column transformer for all the features."
   ]
  },
  {
   "cell_type": "markdown",
   "id": "37f966be",
   "metadata": {
    "hidden": true
   },
   "source": [
    "*FE for the logistic regression.*"
   ]
  },
  {
   "cell_type": "code",
   "execution_count": 62,
   "id": "cf70700c",
   "metadata": {
    "hidden": true
   },
   "outputs": [],
   "source": [
    "age_pipeline_minmax = Pipeline([(\"imputer\", SimpleImputer(strategy = \"mean\")), \n",
    "                        (\"scaler\", MinMaxScaler())])"
   ]
  },
  {
   "cell_type": "code",
   "execution_count": 63,
   "id": "71a21137",
   "metadata": {
    "hidden": true
   },
   "outputs": [],
   "source": [
    "column_transformer_logreg = ColumnTransformer([\n",
    "    (\"age_pipeline_minmax\", age_pipeline_minmax, [\"Age\"]),\n",
    "    (\"ohe\", OneHotEncoder(drop = \"first\"), [\"Pclass\", \"Sex\", \"SibSp\"]),\n",
    "    (\"scaler\", RobustScaler(), [\"Fare\"])\n",
    "])"
   ]
  },
  {
   "cell_type": "code",
   "execution_count": 64,
   "id": "1334512c",
   "metadata": {
    "hidden": true
   },
   "outputs": [
    {
     "data": {
      "text/html": [
       "<style>#sk-c01d9999-318a-4976-9a12-e61819d4dcd0 {color: black;background-color: white;}#sk-c01d9999-318a-4976-9a12-e61819d4dcd0 pre{padding: 0;}#sk-c01d9999-318a-4976-9a12-e61819d4dcd0 div.sk-toggleable {background-color: white;}#sk-c01d9999-318a-4976-9a12-e61819d4dcd0 label.sk-toggleable__label {cursor: pointer;display: block;width: 100%;margin-bottom: 0;padding: 0.3em;box-sizing: border-box;text-align: center;}#sk-c01d9999-318a-4976-9a12-e61819d4dcd0 label.sk-toggleable__label-arrow:before {content: \"▸\";float: left;margin-right: 0.25em;color: #696969;}#sk-c01d9999-318a-4976-9a12-e61819d4dcd0 label.sk-toggleable__label-arrow:hover:before {color: black;}#sk-c01d9999-318a-4976-9a12-e61819d4dcd0 div.sk-estimator:hover label.sk-toggleable__label-arrow:before {color: black;}#sk-c01d9999-318a-4976-9a12-e61819d4dcd0 div.sk-toggleable__content {max-height: 0;max-width: 0;overflow: hidden;text-align: left;background-color: #f0f8ff;}#sk-c01d9999-318a-4976-9a12-e61819d4dcd0 div.sk-toggleable__content pre {margin: 0.2em;color: black;border-radius: 0.25em;background-color: #f0f8ff;}#sk-c01d9999-318a-4976-9a12-e61819d4dcd0 input.sk-toggleable__control:checked~div.sk-toggleable__content {max-height: 200px;max-width: 100%;overflow: auto;}#sk-c01d9999-318a-4976-9a12-e61819d4dcd0 input.sk-toggleable__control:checked~label.sk-toggleable__label-arrow:before {content: \"▾\";}#sk-c01d9999-318a-4976-9a12-e61819d4dcd0 div.sk-estimator input.sk-toggleable__control:checked~label.sk-toggleable__label {background-color: #d4ebff;}#sk-c01d9999-318a-4976-9a12-e61819d4dcd0 div.sk-label input.sk-toggleable__control:checked~label.sk-toggleable__label {background-color: #d4ebff;}#sk-c01d9999-318a-4976-9a12-e61819d4dcd0 input.sk-hidden--visually {border: 0;clip: rect(1px 1px 1px 1px);clip: rect(1px, 1px, 1px, 1px);height: 1px;margin: -1px;overflow: hidden;padding: 0;position: absolute;width: 1px;}#sk-c01d9999-318a-4976-9a12-e61819d4dcd0 div.sk-estimator {font-family: monospace;background-color: #f0f8ff;border: 1px dotted black;border-radius: 0.25em;box-sizing: border-box;margin-bottom: 0.5em;}#sk-c01d9999-318a-4976-9a12-e61819d4dcd0 div.sk-estimator:hover {background-color: #d4ebff;}#sk-c01d9999-318a-4976-9a12-e61819d4dcd0 div.sk-parallel-item::after {content: \"\";width: 100%;border-bottom: 1px solid gray;flex-grow: 1;}#sk-c01d9999-318a-4976-9a12-e61819d4dcd0 div.sk-label:hover label.sk-toggleable__label {background-color: #d4ebff;}#sk-c01d9999-318a-4976-9a12-e61819d4dcd0 div.sk-serial::before {content: \"\";position: absolute;border-left: 1px solid gray;box-sizing: border-box;top: 2em;bottom: 0;left: 50%;}#sk-c01d9999-318a-4976-9a12-e61819d4dcd0 div.sk-serial {display: flex;flex-direction: column;align-items: center;background-color: white;padding-right: 0.2em;padding-left: 0.2em;}#sk-c01d9999-318a-4976-9a12-e61819d4dcd0 div.sk-item {z-index: 1;}#sk-c01d9999-318a-4976-9a12-e61819d4dcd0 div.sk-parallel {display: flex;align-items: stretch;justify-content: center;background-color: white;}#sk-c01d9999-318a-4976-9a12-e61819d4dcd0 div.sk-parallel::before {content: \"\";position: absolute;border-left: 1px solid gray;box-sizing: border-box;top: 2em;bottom: 0;left: 50%;}#sk-c01d9999-318a-4976-9a12-e61819d4dcd0 div.sk-parallel-item {display: flex;flex-direction: column;position: relative;background-color: white;}#sk-c01d9999-318a-4976-9a12-e61819d4dcd0 div.sk-parallel-item:first-child::after {align-self: flex-end;width: 50%;}#sk-c01d9999-318a-4976-9a12-e61819d4dcd0 div.sk-parallel-item:last-child::after {align-self: flex-start;width: 50%;}#sk-c01d9999-318a-4976-9a12-e61819d4dcd0 div.sk-parallel-item:only-child::after {width: 0;}#sk-c01d9999-318a-4976-9a12-e61819d4dcd0 div.sk-dashed-wrapped {border: 1px dashed gray;margin: 0 0.4em 0.5em 0.4em;box-sizing: border-box;padding-bottom: 0.4em;background-color: white;position: relative;}#sk-c01d9999-318a-4976-9a12-e61819d4dcd0 div.sk-label label {font-family: monospace;font-weight: bold;background-color: white;display: inline-block;line-height: 1.2em;}#sk-c01d9999-318a-4976-9a12-e61819d4dcd0 div.sk-label-container {position: relative;z-index: 2;text-align: center;}#sk-c01d9999-318a-4976-9a12-e61819d4dcd0 div.sk-container {/* jupyter's `normalize.less` sets `[hidden] { display: none; }` but bootstrap.min.css set `[hidden] { display: none !important; }` so we also need the `!important` here to be able to override the default hidden behavior on the sphinx rendered scikit-learn.org. See: https://github.com/scikit-learn/scikit-learn/issues/21755 */display: inline-block !important;position: relative;}#sk-c01d9999-318a-4976-9a12-e61819d4dcd0 div.sk-text-repr-fallback {display: none;}</style><div id=\"sk-c01d9999-318a-4976-9a12-e61819d4dcd0\" class=\"sk-top-container\"><div class=\"sk-text-repr-fallback\"><pre>ColumnTransformer(transformers=[(&#x27;age_pipeline_minmax&#x27;,\n",
       "                                 Pipeline(steps=[(&#x27;imputer&#x27;, SimpleImputer()),\n",
       "                                                 (&#x27;scaler&#x27;, MinMaxScaler())]),\n",
       "                                 [&#x27;Age&#x27;]),\n",
       "                                (&#x27;ohe&#x27;, OneHotEncoder(drop=&#x27;first&#x27;),\n",
       "                                 [&#x27;Pclass&#x27;, &#x27;Sex&#x27;, &#x27;SibSp&#x27;]),\n",
       "                                (&#x27;scaler&#x27;, RobustScaler(), [&#x27;Fare&#x27;])])</pre><b>Please rerun this cell to show the HTML repr or trust the notebook.</b></div><div class=\"sk-container\" hidden><div class=\"sk-item sk-dashed-wrapped\"><div class=\"sk-label-container\"><div class=\"sk-label sk-toggleable\"><input class=\"sk-toggleable__control sk-hidden--visually\" id=\"5c1d4d7a-3e51-4883-96de-bf5e1223e0a0\" type=\"checkbox\" ><label for=\"5c1d4d7a-3e51-4883-96de-bf5e1223e0a0\" class=\"sk-toggleable__label sk-toggleable__label-arrow\">ColumnTransformer</label><div class=\"sk-toggleable__content\"><pre>ColumnTransformer(transformers=[(&#x27;age_pipeline_minmax&#x27;,\n",
       "                                 Pipeline(steps=[(&#x27;imputer&#x27;, SimpleImputer()),\n",
       "                                                 (&#x27;scaler&#x27;, MinMaxScaler())]),\n",
       "                                 [&#x27;Age&#x27;]),\n",
       "                                (&#x27;ohe&#x27;, OneHotEncoder(drop=&#x27;first&#x27;),\n",
       "                                 [&#x27;Pclass&#x27;, &#x27;Sex&#x27;, &#x27;SibSp&#x27;]),\n",
       "                                (&#x27;scaler&#x27;, RobustScaler(), [&#x27;Fare&#x27;])])</pre></div></div></div><div class=\"sk-parallel\"><div class=\"sk-parallel-item\"><div class=\"sk-item\"><div class=\"sk-label-container\"><div class=\"sk-label sk-toggleable\"><input class=\"sk-toggleable__control sk-hidden--visually\" id=\"38babcd9-141b-4fd9-828f-9b3029eccd35\" type=\"checkbox\" ><label for=\"38babcd9-141b-4fd9-828f-9b3029eccd35\" class=\"sk-toggleable__label sk-toggleable__label-arrow\">age_pipeline_minmax</label><div class=\"sk-toggleable__content\"><pre>[&#x27;Age&#x27;]</pre></div></div></div><div class=\"sk-serial\"><div class=\"sk-item\"><div class=\"sk-serial\"><div class=\"sk-item\"><div class=\"sk-estimator sk-toggleable\"><input class=\"sk-toggleable__control sk-hidden--visually\" id=\"b2b33368-33f1-4f0b-aa03-aab0b1c1494e\" type=\"checkbox\" ><label for=\"b2b33368-33f1-4f0b-aa03-aab0b1c1494e\" class=\"sk-toggleable__label sk-toggleable__label-arrow\">SimpleImputer</label><div class=\"sk-toggleable__content\"><pre>SimpleImputer()</pre></div></div></div><div class=\"sk-item\"><div class=\"sk-estimator sk-toggleable\"><input class=\"sk-toggleable__control sk-hidden--visually\" id=\"b52b4979-09ae-4ee3-b1cb-3271ee30d6f7\" type=\"checkbox\" ><label for=\"b52b4979-09ae-4ee3-b1cb-3271ee30d6f7\" class=\"sk-toggleable__label sk-toggleable__label-arrow\">MinMaxScaler</label><div class=\"sk-toggleable__content\"><pre>MinMaxScaler()</pre></div></div></div></div></div></div></div></div><div class=\"sk-parallel-item\"><div class=\"sk-item\"><div class=\"sk-label-container\"><div class=\"sk-label sk-toggleable\"><input class=\"sk-toggleable__control sk-hidden--visually\" id=\"9e34c74c-f8c6-4b7a-8c34-468aa4e8b87d\" type=\"checkbox\" ><label for=\"9e34c74c-f8c6-4b7a-8c34-468aa4e8b87d\" class=\"sk-toggleable__label sk-toggleable__label-arrow\">ohe</label><div class=\"sk-toggleable__content\"><pre>[&#x27;Pclass&#x27;, &#x27;Sex&#x27;, &#x27;SibSp&#x27;]</pre></div></div></div><div class=\"sk-serial\"><div class=\"sk-item\"><div class=\"sk-estimator sk-toggleable\"><input class=\"sk-toggleable__control sk-hidden--visually\" id=\"53881ac9-937c-41cd-8352-9cb8389314e9\" type=\"checkbox\" ><label for=\"53881ac9-937c-41cd-8352-9cb8389314e9\" class=\"sk-toggleable__label sk-toggleable__label-arrow\">OneHotEncoder</label><div class=\"sk-toggleable__content\"><pre>OneHotEncoder(drop=&#x27;first&#x27;)</pre></div></div></div></div></div></div><div class=\"sk-parallel-item\"><div class=\"sk-item\"><div class=\"sk-label-container\"><div class=\"sk-label sk-toggleable\"><input class=\"sk-toggleable__control sk-hidden--visually\" id=\"1060c2d3-fb77-4d38-91eb-9321cd978dad\" type=\"checkbox\" ><label for=\"1060c2d3-fb77-4d38-91eb-9321cd978dad\" class=\"sk-toggleable__label sk-toggleable__label-arrow\">scaler</label><div class=\"sk-toggleable__content\"><pre>[&#x27;Fare&#x27;]</pre></div></div></div><div class=\"sk-serial\"><div class=\"sk-item\"><div class=\"sk-estimator sk-toggleable\"><input class=\"sk-toggleable__control sk-hidden--visually\" id=\"07ad918e-e147-4633-bc14-41ef3ce846f7\" type=\"checkbox\" ><label for=\"07ad918e-e147-4633-bc14-41ef3ce846f7\" class=\"sk-toggleable__label sk-toggleable__label-arrow\">RobustScaler</label><div class=\"sk-toggleable__content\"><pre>RobustScaler()</pre></div></div></div></div></div></div></div></div></div></div>"
      ],
      "text/plain": [
       "ColumnTransformer(transformers=[('age_pipeline_minmax',\n",
       "                                 Pipeline(steps=[('imputer', SimpleImputer()),\n",
       "                                                 ('scaler', MinMaxScaler())]),\n",
       "                                 ['Age']),\n",
       "                                ('ohe', OneHotEncoder(drop='first'),\n",
       "                                 ['Pclass', 'Sex', 'SibSp']),\n",
       "                                ('scaler', RobustScaler(), ['Fare'])])"
      ]
     },
     "execution_count": 64,
     "metadata": {},
     "output_type": "execute_result"
    }
   ],
   "source": [
    "column_transformer_logreg"
   ]
  },
  {
   "cell_type": "markdown",
   "id": "d355c432",
   "metadata": {
    "hidden": true
   },
   "source": [
    "*FE for the Random Forest.*"
   ]
  },
  {
   "cell_type": "code",
   "execution_count": 65,
   "id": "1e6e80f3",
   "metadata": {
    "hidden": true
   },
   "outputs": [],
   "source": [
    "age_pipeline_robust = Pipeline([(\"imputer\", SimpleImputer(strategy = \"mean\")), \n",
    "                        (\"scaler\", RobustScaler())])"
   ]
  },
  {
   "cell_type": "code",
   "execution_count": 66,
   "id": "d3c2d79a",
   "metadata": {
    "hidden": true
   },
   "outputs": [],
   "source": [
    "column_transformer_rf = ColumnTransformer([\n",
    "    (\"age_pipeline_robust\", age_pipeline_robust, [\"Age\"]),\n",
    "    (\"ohe\", OneHotEncoder(drop = \"first\"), [\"Pclass\", \"Sex\", \"SibSp\"]),\n",
    "    (\"scaler\", RobustScaler(), [\"Fare\"])\n",
    "])"
   ]
  },
  {
   "cell_type": "code",
   "execution_count": 67,
   "id": "3199e698",
   "metadata": {
    "hidden": true
   },
   "outputs": [
    {
     "data": {
      "text/html": [
       "<style>#sk-12ac2510-62cd-4773-a045-a5119d7449fa {color: black;background-color: white;}#sk-12ac2510-62cd-4773-a045-a5119d7449fa pre{padding: 0;}#sk-12ac2510-62cd-4773-a045-a5119d7449fa div.sk-toggleable {background-color: white;}#sk-12ac2510-62cd-4773-a045-a5119d7449fa label.sk-toggleable__label {cursor: pointer;display: block;width: 100%;margin-bottom: 0;padding: 0.3em;box-sizing: border-box;text-align: center;}#sk-12ac2510-62cd-4773-a045-a5119d7449fa label.sk-toggleable__label-arrow:before {content: \"▸\";float: left;margin-right: 0.25em;color: #696969;}#sk-12ac2510-62cd-4773-a045-a5119d7449fa label.sk-toggleable__label-arrow:hover:before {color: black;}#sk-12ac2510-62cd-4773-a045-a5119d7449fa div.sk-estimator:hover label.sk-toggleable__label-arrow:before {color: black;}#sk-12ac2510-62cd-4773-a045-a5119d7449fa div.sk-toggleable__content {max-height: 0;max-width: 0;overflow: hidden;text-align: left;background-color: #f0f8ff;}#sk-12ac2510-62cd-4773-a045-a5119d7449fa div.sk-toggleable__content pre {margin: 0.2em;color: black;border-radius: 0.25em;background-color: #f0f8ff;}#sk-12ac2510-62cd-4773-a045-a5119d7449fa input.sk-toggleable__control:checked~div.sk-toggleable__content {max-height: 200px;max-width: 100%;overflow: auto;}#sk-12ac2510-62cd-4773-a045-a5119d7449fa input.sk-toggleable__control:checked~label.sk-toggleable__label-arrow:before {content: \"▾\";}#sk-12ac2510-62cd-4773-a045-a5119d7449fa div.sk-estimator input.sk-toggleable__control:checked~label.sk-toggleable__label {background-color: #d4ebff;}#sk-12ac2510-62cd-4773-a045-a5119d7449fa div.sk-label input.sk-toggleable__control:checked~label.sk-toggleable__label {background-color: #d4ebff;}#sk-12ac2510-62cd-4773-a045-a5119d7449fa input.sk-hidden--visually {border: 0;clip: rect(1px 1px 1px 1px);clip: rect(1px, 1px, 1px, 1px);height: 1px;margin: -1px;overflow: hidden;padding: 0;position: absolute;width: 1px;}#sk-12ac2510-62cd-4773-a045-a5119d7449fa div.sk-estimator {font-family: monospace;background-color: #f0f8ff;border: 1px dotted black;border-radius: 0.25em;box-sizing: border-box;margin-bottom: 0.5em;}#sk-12ac2510-62cd-4773-a045-a5119d7449fa div.sk-estimator:hover {background-color: #d4ebff;}#sk-12ac2510-62cd-4773-a045-a5119d7449fa div.sk-parallel-item::after {content: \"\";width: 100%;border-bottom: 1px solid gray;flex-grow: 1;}#sk-12ac2510-62cd-4773-a045-a5119d7449fa div.sk-label:hover label.sk-toggleable__label {background-color: #d4ebff;}#sk-12ac2510-62cd-4773-a045-a5119d7449fa div.sk-serial::before {content: \"\";position: absolute;border-left: 1px solid gray;box-sizing: border-box;top: 2em;bottom: 0;left: 50%;}#sk-12ac2510-62cd-4773-a045-a5119d7449fa div.sk-serial {display: flex;flex-direction: column;align-items: center;background-color: white;padding-right: 0.2em;padding-left: 0.2em;}#sk-12ac2510-62cd-4773-a045-a5119d7449fa div.sk-item {z-index: 1;}#sk-12ac2510-62cd-4773-a045-a5119d7449fa div.sk-parallel {display: flex;align-items: stretch;justify-content: center;background-color: white;}#sk-12ac2510-62cd-4773-a045-a5119d7449fa div.sk-parallel::before {content: \"\";position: absolute;border-left: 1px solid gray;box-sizing: border-box;top: 2em;bottom: 0;left: 50%;}#sk-12ac2510-62cd-4773-a045-a5119d7449fa div.sk-parallel-item {display: flex;flex-direction: column;position: relative;background-color: white;}#sk-12ac2510-62cd-4773-a045-a5119d7449fa div.sk-parallel-item:first-child::after {align-self: flex-end;width: 50%;}#sk-12ac2510-62cd-4773-a045-a5119d7449fa div.sk-parallel-item:last-child::after {align-self: flex-start;width: 50%;}#sk-12ac2510-62cd-4773-a045-a5119d7449fa div.sk-parallel-item:only-child::after {width: 0;}#sk-12ac2510-62cd-4773-a045-a5119d7449fa div.sk-dashed-wrapped {border: 1px dashed gray;margin: 0 0.4em 0.5em 0.4em;box-sizing: border-box;padding-bottom: 0.4em;background-color: white;position: relative;}#sk-12ac2510-62cd-4773-a045-a5119d7449fa div.sk-label label {font-family: monospace;font-weight: bold;background-color: white;display: inline-block;line-height: 1.2em;}#sk-12ac2510-62cd-4773-a045-a5119d7449fa div.sk-label-container {position: relative;z-index: 2;text-align: center;}#sk-12ac2510-62cd-4773-a045-a5119d7449fa div.sk-container {/* jupyter's `normalize.less` sets `[hidden] { display: none; }` but bootstrap.min.css set `[hidden] { display: none !important; }` so we also need the `!important` here to be able to override the default hidden behavior on the sphinx rendered scikit-learn.org. See: https://github.com/scikit-learn/scikit-learn/issues/21755 */display: inline-block !important;position: relative;}#sk-12ac2510-62cd-4773-a045-a5119d7449fa div.sk-text-repr-fallback {display: none;}</style><div id=\"sk-12ac2510-62cd-4773-a045-a5119d7449fa\" class=\"sk-top-container\"><div class=\"sk-text-repr-fallback\"><pre>ColumnTransformer(transformers=[(&#x27;age_pipeline_robust&#x27;,\n",
       "                                 Pipeline(steps=[(&#x27;imputer&#x27;, SimpleImputer()),\n",
       "                                                 (&#x27;scaler&#x27;, RobustScaler())]),\n",
       "                                 [&#x27;Age&#x27;]),\n",
       "                                (&#x27;ohe&#x27;, OneHotEncoder(drop=&#x27;first&#x27;),\n",
       "                                 [&#x27;Pclass&#x27;, &#x27;Sex&#x27;, &#x27;SibSp&#x27;]),\n",
       "                                (&#x27;scaler&#x27;, RobustScaler(), [&#x27;Fare&#x27;])])</pre><b>Please rerun this cell to show the HTML repr or trust the notebook.</b></div><div class=\"sk-container\" hidden><div class=\"sk-item sk-dashed-wrapped\"><div class=\"sk-label-container\"><div class=\"sk-label sk-toggleable\"><input class=\"sk-toggleable__control sk-hidden--visually\" id=\"d65a5927-4af1-4f27-af7f-8d10978d80df\" type=\"checkbox\" ><label for=\"d65a5927-4af1-4f27-af7f-8d10978d80df\" class=\"sk-toggleable__label sk-toggleable__label-arrow\">ColumnTransformer</label><div class=\"sk-toggleable__content\"><pre>ColumnTransformer(transformers=[(&#x27;age_pipeline_robust&#x27;,\n",
       "                                 Pipeline(steps=[(&#x27;imputer&#x27;, SimpleImputer()),\n",
       "                                                 (&#x27;scaler&#x27;, RobustScaler())]),\n",
       "                                 [&#x27;Age&#x27;]),\n",
       "                                (&#x27;ohe&#x27;, OneHotEncoder(drop=&#x27;first&#x27;),\n",
       "                                 [&#x27;Pclass&#x27;, &#x27;Sex&#x27;, &#x27;SibSp&#x27;]),\n",
       "                                (&#x27;scaler&#x27;, RobustScaler(), [&#x27;Fare&#x27;])])</pre></div></div></div><div class=\"sk-parallel\"><div class=\"sk-parallel-item\"><div class=\"sk-item\"><div class=\"sk-label-container\"><div class=\"sk-label sk-toggleable\"><input class=\"sk-toggleable__control sk-hidden--visually\" id=\"bb24756a-c625-4a2e-827a-efc4cb403d50\" type=\"checkbox\" ><label for=\"bb24756a-c625-4a2e-827a-efc4cb403d50\" class=\"sk-toggleable__label sk-toggleable__label-arrow\">age_pipeline_robust</label><div class=\"sk-toggleable__content\"><pre>[&#x27;Age&#x27;]</pre></div></div></div><div class=\"sk-serial\"><div class=\"sk-item\"><div class=\"sk-serial\"><div class=\"sk-item\"><div class=\"sk-estimator sk-toggleable\"><input class=\"sk-toggleable__control sk-hidden--visually\" id=\"805673c0-9d28-413e-b9a7-73a56bcbffb3\" type=\"checkbox\" ><label for=\"805673c0-9d28-413e-b9a7-73a56bcbffb3\" class=\"sk-toggleable__label sk-toggleable__label-arrow\">SimpleImputer</label><div class=\"sk-toggleable__content\"><pre>SimpleImputer()</pre></div></div></div><div class=\"sk-item\"><div class=\"sk-estimator sk-toggleable\"><input class=\"sk-toggleable__control sk-hidden--visually\" id=\"95742e7c-80fd-47a1-8e6b-0cfc7eaf3ae0\" type=\"checkbox\" ><label for=\"95742e7c-80fd-47a1-8e6b-0cfc7eaf3ae0\" class=\"sk-toggleable__label sk-toggleable__label-arrow\">RobustScaler</label><div class=\"sk-toggleable__content\"><pre>RobustScaler()</pre></div></div></div></div></div></div></div></div><div class=\"sk-parallel-item\"><div class=\"sk-item\"><div class=\"sk-label-container\"><div class=\"sk-label sk-toggleable\"><input class=\"sk-toggleable__control sk-hidden--visually\" id=\"b4d29be2-559e-4d49-80d3-60f7bf01f019\" type=\"checkbox\" ><label for=\"b4d29be2-559e-4d49-80d3-60f7bf01f019\" class=\"sk-toggleable__label sk-toggleable__label-arrow\">ohe</label><div class=\"sk-toggleable__content\"><pre>[&#x27;Pclass&#x27;, &#x27;Sex&#x27;, &#x27;SibSp&#x27;]</pre></div></div></div><div class=\"sk-serial\"><div class=\"sk-item\"><div class=\"sk-estimator sk-toggleable\"><input class=\"sk-toggleable__control sk-hidden--visually\" id=\"e82a2666-a5e7-4528-a694-685916ec4e47\" type=\"checkbox\" ><label for=\"e82a2666-a5e7-4528-a694-685916ec4e47\" class=\"sk-toggleable__label sk-toggleable__label-arrow\">OneHotEncoder</label><div class=\"sk-toggleable__content\"><pre>OneHotEncoder(drop=&#x27;first&#x27;)</pre></div></div></div></div></div></div><div class=\"sk-parallel-item\"><div class=\"sk-item\"><div class=\"sk-label-container\"><div class=\"sk-label sk-toggleable\"><input class=\"sk-toggleable__control sk-hidden--visually\" id=\"7939e3aa-fda8-4d55-b12e-2888dd0a67b1\" type=\"checkbox\" ><label for=\"7939e3aa-fda8-4d55-b12e-2888dd0a67b1\" class=\"sk-toggleable__label sk-toggleable__label-arrow\">scaler</label><div class=\"sk-toggleable__content\"><pre>[&#x27;Fare&#x27;]</pre></div></div></div><div class=\"sk-serial\"><div class=\"sk-item\"><div class=\"sk-estimator sk-toggleable\"><input class=\"sk-toggleable__control sk-hidden--visually\" id=\"fd8830dd-232f-4442-8720-efcb841513c8\" type=\"checkbox\" ><label for=\"fd8830dd-232f-4442-8720-efcb841513c8\" class=\"sk-toggleable__label sk-toggleable__label-arrow\">RobustScaler</label><div class=\"sk-toggleable__content\"><pre>RobustScaler()</pre></div></div></div></div></div></div></div></div></div></div>"
      ],
      "text/plain": [
       "ColumnTransformer(transformers=[('age_pipeline_robust',\n",
       "                                 Pipeline(steps=[('imputer', SimpleImputer()),\n",
       "                                                 ('scaler', RobustScaler())]),\n",
       "                                 ['Age']),\n",
       "                                ('ohe', OneHotEncoder(drop='first'),\n",
       "                                 ['Pclass', 'Sex', 'SibSp']),\n",
       "                                ('scaler', RobustScaler(), ['Fare'])])"
      ]
     },
     "execution_count": 67,
     "metadata": {},
     "output_type": "execute_result"
    }
   ],
   "source": [
    "column_transformer_rf"
   ]
  },
  {
   "cell_type": "markdown",
   "id": "dd12024d",
   "metadata": {
    "hidden": true
   },
   "source": [
    "**Fit and transform the ColumnTransformer() ONLY using train data.**"
   ]
  },
  {
   "cell_type": "markdown",
   "id": "e470eff2",
   "metadata": {
    "hidden": true
   },
   "source": [
    "**Logistic regression FE.**"
   ]
  },
  {
   "cell_type": "code",
   "execution_count": 68,
   "id": "9690bf91",
   "metadata": {
    "hidden": true
   },
   "outputs": [],
   "source": [
    "X_train_lfe = column_transformer_logreg.fit_transform(X_train, y_train)"
   ]
  },
  {
   "cell_type": "code",
   "execution_count": 69,
   "id": "3adc98bb",
   "metadata": {
    "hidden": true
   },
   "outputs": [],
   "source": [
    "# use the fitted transformer on X_test\n",
    "X_test_lfe = column_transformer_logreg.transform(X_test)"
   ]
  },
  {
   "cell_type": "markdown",
   "id": "68c47081",
   "metadata": {
    "hidden": true
   },
   "source": [
    "Check if the feature engineering applied to train and test datasets."
   ]
  },
  {
   "cell_type": "code",
   "execution_count": 70,
   "id": "ffb69185",
   "metadata": {
    "hidden": true
   },
   "outputs": [
    {
     "data": {
      "text/plain": [
       "((712, 11), (712, 5), (712,))"
      ]
     },
     "execution_count": 70,
     "metadata": {},
     "output_type": "execute_result"
    }
   ],
   "source": [
    "X_train_lfe.shape, X_train.shape, y_train.shape"
   ]
  },
  {
   "cell_type": "code",
   "execution_count": 71,
   "id": "eb19196e",
   "metadata": {
    "hidden": true
   },
   "outputs": [
    {
     "data": {
      "text/plain": [
       "((179, 11), (179, 5), (179,))"
      ]
     },
     "execution_count": 71,
     "metadata": {},
     "output_type": "execute_result"
    }
   ],
   "source": [
    "X_test_lfe.shape, X_test.shape, y_test.shape"
   ]
  },
  {
   "cell_type": "markdown",
   "id": "fbd3148c",
   "metadata": {
    "hidden": true
   },
   "source": [
    "Assign to X_train_fe to a dataframe of X_train_fe."
   ]
  },
  {
   "cell_type": "code",
   "execution_count": 72,
   "id": "ec4aa42f",
   "metadata": {
    "hidden": true
   },
   "outputs": [],
   "source": [
    "X_train_lfe = pd.DataFrame(X_train_lfe)"
   ]
  },
  {
   "cell_type": "code",
   "execution_count": 73,
   "id": "d42e40bc",
   "metadata": {
    "hidden": true
   },
   "outputs": [
    {
     "data": {
      "text/html": [
       "<div>\n",
       "<style scoped>\n",
       "    .dataframe tbody tr th:only-of-type {\n",
       "        vertical-align: middle;\n",
       "    }\n",
       "\n",
       "    .dataframe tbody tr th {\n",
       "        vertical-align: top;\n",
       "    }\n",
       "\n",
       "    .dataframe thead th {\n",
       "        text-align: right;\n",
       "    }\n",
       "</style>\n",
       "<table border=\"1\" class=\"dataframe\">\n",
       "  <thead>\n",
       "    <tr style=\"text-align: right;\">\n",
       "      <th></th>\n",
       "      <th>0</th>\n",
       "      <th>1</th>\n",
       "      <th>2</th>\n",
       "      <th>3</th>\n",
       "      <th>4</th>\n",
       "      <th>5</th>\n",
       "      <th>6</th>\n",
       "      <th>7</th>\n",
       "      <th>8</th>\n",
       "      <th>9</th>\n",
       "      <th>10</th>\n",
       "    </tr>\n",
       "  </thead>\n",
       "  <tbody>\n",
       "    <tr>\n",
       "      <th>0</th>\n",
       "      <td>0.566474</td>\n",
       "      <td>0.0</td>\n",
       "      <td>0.0</td>\n",
       "      <td>1.0</td>\n",
       "      <td>0.0</td>\n",
       "      <td>0.0</td>\n",
       "      <td>0.0</td>\n",
       "      <td>0.0</td>\n",
       "      <td>0.0</td>\n",
       "      <td>0.0</td>\n",
       "      <td>0.622184</td>\n",
       "    </tr>\n",
       "    <tr>\n",
       "      <th>1</th>\n",
       "      <td>0.283740</td>\n",
       "      <td>1.0</td>\n",
       "      <td>0.0</td>\n",
       "      <td>1.0</td>\n",
       "      <td>0.0</td>\n",
       "      <td>0.0</td>\n",
       "      <td>0.0</td>\n",
       "      <td>0.0</td>\n",
       "      <td>0.0</td>\n",
       "      <td>0.0</td>\n",
       "      <td>-0.064416</td>\n",
       "    </tr>\n",
       "    <tr>\n",
       "      <th>2</th>\n",
       "      <td>0.396833</td>\n",
       "      <td>0.0</td>\n",
       "      <td>1.0</td>\n",
       "      <td>1.0</td>\n",
       "      <td>0.0</td>\n",
       "      <td>0.0</td>\n",
       "      <td>0.0</td>\n",
       "      <td>0.0</td>\n",
       "      <td>0.0</td>\n",
       "      <td>0.0</td>\n",
       "      <td>-0.289223</td>\n",
       "    </tr>\n",
       "    <tr>\n",
       "      <th>3</th>\n",
       "      <td>0.321438</td>\n",
       "      <td>0.0</td>\n",
       "      <td>1.0</td>\n",
       "      <td>1.0</td>\n",
       "      <td>1.0</td>\n",
       "      <td>0.0</td>\n",
       "      <td>0.0</td>\n",
       "      <td>0.0</td>\n",
       "      <td>0.0</td>\n",
       "      <td>0.0</td>\n",
       "      <td>-0.292359</td>\n",
       "    </tr>\n",
       "    <tr>\n",
       "      <th>4</th>\n",
       "      <td>0.070118</td>\n",
       "      <td>0.0</td>\n",
       "      <td>1.0</td>\n",
       "      <td>0.0</td>\n",
       "      <td>0.0</td>\n",
       "      <td>0.0</td>\n",
       "      <td>0.0</td>\n",
       "      <td>1.0</td>\n",
       "      <td>0.0</td>\n",
       "      <td>0.0</td>\n",
       "      <td>0.745107</td>\n",
       "    </tr>\n",
       "  </tbody>\n",
       "</table>\n",
       "</div>"
      ],
      "text/plain": [
       "         0    1    2    3    4    5    6    7    8    9         10\n",
       "0  0.566474  0.0  0.0  1.0  0.0  0.0  0.0  0.0  0.0  0.0  0.622184\n",
       "1  0.283740  1.0  0.0  1.0  0.0  0.0  0.0  0.0  0.0  0.0 -0.064416\n",
       "2  0.396833  0.0  1.0  1.0  0.0  0.0  0.0  0.0  0.0  0.0 -0.289223\n",
       "3  0.321438  0.0  1.0  1.0  1.0  0.0  0.0  0.0  0.0  0.0 -0.292359\n",
       "4  0.070118  0.0  1.0  0.0  0.0  0.0  0.0  1.0  0.0  0.0  0.745107"
      ]
     },
     "execution_count": 73,
     "metadata": {},
     "output_type": "execute_result"
    }
   ],
   "source": [
    "X_train_lfe.head()"
   ]
  },
  {
   "cell_type": "code",
   "execution_count": 74,
   "id": "7f48a562",
   "metadata": {
    "hidden": true
   },
   "outputs": [
    {
     "data": {
      "text/plain": [
       "(712, 11)"
      ]
     },
     "execution_count": 74,
     "metadata": {},
     "output_type": "execute_result"
    }
   ],
   "source": [
    "X_train_lfe.shape"
   ]
  },
  {
   "cell_type": "markdown",
   "id": "7eee5347",
   "metadata": {
    "hidden": true
   },
   "source": [
    "Assign to X_test_fe to a dataframe of X_test_fe."
   ]
  },
  {
   "cell_type": "code",
   "execution_count": 75,
   "id": "e92ae431",
   "metadata": {
    "hidden": true
   },
   "outputs": [],
   "source": [
    "X_test_lfe = pd.DataFrame(X_test_lfe)"
   ]
  },
  {
   "cell_type": "code",
   "execution_count": 76,
   "id": "65336ee1",
   "metadata": {
    "hidden": true
   },
   "outputs": [
    {
     "data": {
      "text/html": [
       "<div>\n",
       "<style scoped>\n",
       "    .dataframe tbody tr th:only-of-type {\n",
       "        vertical-align: middle;\n",
       "    }\n",
       "\n",
       "    .dataframe tbody tr th {\n",
       "        vertical-align: top;\n",
       "    }\n",
       "\n",
       "    .dataframe thead th {\n",
       "        text-align: right;\n",
       "    }\n",
       "</style>\n",
       "<table border=\"1\" class=\"dataframe\">\n",
       "  <thead>\n",
       "    <tr style=\"text-align: right;\">\n",
       "      <th></th>\n",
       "      <th>0</th>\n",
       "      <th>1</th>\n",
       "      <th>2</th>\n",
       "      <th>3</th>\n",
       "      <th>4</th>\n",
       "      <th>5</th>\n",
       "      <th>6</th>\n",
       "      <th>7</th>\n",
       "      <th>8</th>\n",
       "      <th>9</th>\n",
       "      <th>10</th>\n",
       "    </tr>\n",
       "  </thead>\n",
       "  <tbody>\n",
       "    <tr>\n",
       "      <th>0</th>\n",
       "      <td>0.365404</td>\n",
       "      <td>0.0</td>\n",
       "      <td>1.0</td>\n",
       "      <td>1.0</td>\n",
       "      <td>1.0</td>\n",
       "      <td>0.0</td>\n",
       "      <td>0.0</td>\n",
       "      <td>0.0</td>\n",
       "      <td>0.0</td>\n",
       "      <td>0.0</td>\n",
       "      <td>0.035065</td>\n",
       "    </tr>\n",
       "    <tr>\n",
       "      <th>1</th>\n",
       "      <td>0.384267</td>\n",
       "      <td>1.0</td>\n",
       "      <td>0.0</td>\n",
       "      <td>1.0</td>\n",
       "      <td>0.0</td>\n",
       "      <td>0.0</td>\n",
       "      <td>0.0</td>\n",
       "      <td>0.0</td>\n",
       "      <td>0.0</td>\n",
       "      <td>0.0</td>\n",
       "      <td>-0.175158</td>\n",
       "    </tr>\n",
       "    <tr>\n",
       "      <th>2</th>\n",
       "      <td>0.246042</td>\n",
       "      <td>0.0</td>\n",
       "      <td>1.0</td>\n",
       "      <td>1.0</td>\n",
       "      <td>0.0</td>\n",
       "      <td>0.0</td>\n",
       "      <td>0.0</td>\n",
       "      <td>0.0</td>\n",
       "      <td>0.0</td>\n",
       "      <td>0.0</td>\n",
       "      <td>-0.289223</td>\n",
       "    </tr>\n",
       "    <tr>\n",
       "      <th>3</th>\n",
       "      <td>0.070118</td>\n",
       "      <td>1.0</td>\n",
       "      <td>0.0</td>\n",
       "      <td>0.0</td>\n",
       "      <td>0.0</td>\n",
       "      <td>0.0</td>\n",
       "      <td>0.0</td>\n",
       "      <td>0.0</td>\n",
       "      <td>0.0</td>\n",
       "      <td>0.0</td>\n",
       "      <td>0.821519</td>\n",
       "    </tr>\n",
       "    <tr>\n",
       "      <th>4</th>\n",
       "      <td>0.170646</td>\n",
       "      <td>0.0</td>\n",
       "      <td>1.0</td>\n",
       "      <td>0.0</td>\n",
       "      <td>1.0</td>\n",
       "      <td>0.0</td>\n",
       "      <td>0.0</td>\n",
       "      <td>0.0</td>\n",
       "      <td>0.0</td>\n",
       "      <td>0.0</td>\n",
       "      <td>-0.142303</td>\n",
       "    </tr>\n",
       "  </tbody>\n",
       "</table>\n",
       "</div>"
      ],
      "text/plain": [
       "         0    1    2    3    4    5    6    7    8    9         10\n",
       "0  0.365404  0.0  1.0  1.0  1.0  0.0  0.0  0.0  0.0  0.0  0.035065\n",
       "1  0.384267  1.0  0.0  1.0  0.0  0.0  0.0  0.0  0.0  0.0 -0.175158\n",
       "2  0.246042  0.0  1.0  1.0  0.0  0.0  0.0  0.0  0.0  0.0 -0.289223\n",
       "3  0.070118  1.0  0.0  0.0  0.0  0.0  0.0  0.0  0.0  0.0  0.821519\n",
       "4  0.170646  0.0  1.0  0.0  1.0  0.0  0.0  0.0  0.0  0.0 -0.142303"
      ]
     },
     "execution_count": 76,
     "metadata": {},
     "output_type": "execute_result"
    }
   ],
   "source": [
    "X_test_lfe.head()"
   ]
  },
  {
   "cell_type": "code",
   "execution_count": 77,
   "id": "ae26fe4e",
   "metadata": {
    "hidden": true
   },
   "outputs": [
    {
     "data": {
      "text/plain": [
       "(179, 11)"
      ]
     },
     "execution_count": 77,
     "metadata": {},
     "output_type": "execute_result"
    }
   ],
   "source": [
    "X_test_lfe.shape"
   ]
  },
  {
   "cell_type": "markdown",
   "id": "e00e25cc",
   "metadata": {
    "hidden": true
   },
   "source": [
    "**Random Forest FE.**"
   ]
  },
  {
   "cell_type": "code",
   "execution_count": 78,
   "id": "3b2b5c1e",
   "metadata": {
    "hidden": true
   },
   "outputs": [],
   "source": [
    "X_train_fe = column_transformer_rf.fit_transform(X_train, y_train)"
   ]
  },
  {
   "cell_type": "code",
   "execution_count": 79,
   "id": "9f451fd5",
   "metadata": {
    "hidden": true
   },
   "outputs": [],
   "source": [
    "# use the fitted transformer on X_test\n",
    "X_test_fe = column_transformer_rf.transform(X_test)"
   ]
  },
  {
   "cell_type": "markdown",
   "id": "3a8146e1",
   "metadata": {
    "hidden": true
   },
   "source": [
    "Check if the feature engineering applied to train and test datasets."
   ]
  },
  {
   "cell_type": "code",
   "execution_count": 80,
   "id": "c892cfdb",
   "metadata": {
    "hidden": true
   },
   "outputs": [
    {
     "data": {
      "text/plain": [
       "((712, 11), (712, 5), (712,))"
      ]
     },
     "execution_count": 80,
     "metadata": {},
     "output_type": "execute_result"
    }
   ],
   "source": [
    "X_train_fe.shape, X_train.shape, y_train.shape"
   ]
  },
  {
   "cell_type": "code",
   "execution_count": 81,
   "id": "7cc632fe",
   "metadata": {
    "hidden": true
   },
   "outputs": [
    {
     "data": {
      "text/plain": [
       "((179, 11), (179, 5), (179,))"
      ]
     },
     "execution_count": 81,
     "metadata": {},
     "output_type": "execute_result"
    }
   ],
   "source": [
    "X_test_fe.shape, X_test.shape, y_test.shape"
   ]
  },
  {
   "cell_type": "markdown",
   "id": "9c15cc8e",
   "metadata": {
    "hidden": true
   },
   "source": [
    "Assign to X_train_fe to a dataframe of X_train_fe."
   ]
  },
  {
   "cell_type": "code",
   "execution_count": 82,
   "id": "f67841f2",
   "metadata": {
    "hidden": true
   },
   "outputs": [],
   "source": [
    "X_train_fe = pd.DataFrame(X_train_fe)"
   ]
  },
  {
   "cell_type": "code",
   "execution_count": 83,
   "id": "11ffdc38",
   "metadata": {
    "hidden": true
   },
   "outputs": [
    {
     "data": {
      "text/html": [
       "<div>\n",
       "<style scoped>\n",
       "    .dataframe tbody tr th:only-of-type {\n",
       "        vertical-align: middle;\n",
       "    }\n",
       "\n",
       "    .dataframe tbody tr th {\n",
       "        vertical-align: top;\n",
       "    }\n",
       "\n",
       "    .dataframe thead th {\n",
       "        text-align: right;\n",
       "    }\n",
       "</style>\n",
       "<table border=\"1\" class=\"dataframe\">\n",
       "  <thead>\n",
       "    <tr style=\"text-align: right;\">\n",
       "      <th></th>\n",
       "      <th>0</th>\n",
       "      <th>1</th>\n",
       "      <th>2</th>\n",
       "      <th>3</th>\n",
       "      <th>4</th>\n",
       "      <th>5</th>\n",
       "      <th>6</th>\n",
       "      <th>7</th>\n",
       "      <th>8</th>\n",
       "      <th>9</th>\n",
       "      <th>10</th>\n",
       "    </tr>\n",
       "  </thead>\n",
       "  <tbody>\n",
       "    <tr>\n",
       "      <th>0</th>\n",
       "      <td>1.230858</td>\n",
       "      <td>0.0</td>\n",
       "      <td>0.0</td>\n",
       "      <td>1.0</td>\n",
       "      <td>0.0</td>\n",
       "      <td>0.0</td>\n",
       "      <td>0.0</td>\n",
       "      <td>0.0</td>\n",
       "      <td>0.0</td>\n",
       "      <td>0.0</td>\n",
       "      <td>0.622184</td>\n",
       "    </tr>\n",
       "    <tr>\n",
       "      <th>1</th>\n",
       "      <td>-0.499911</td>\n",
       "      <td>1.0</td>\n",
       "      <td>0.0</td>\n",
       "      <td>1.0</td>\n",
       "      <td>0.0</td>\n",
       "      <td>0.0</td>\n",
       "      <td>0.0</td>\n",
       "      <td>0.0</td>\n",
       "      <td>0.0</td>\n",
       "      <td>0.0</td>\n",
       "      <td>-0.064416</td>\n",
       "    </tr>\n",
       "    <tr>\n",
       "      <th>2</th>\n",
       "      <td>0.192396</td>\n",
       "      <td>0.0</td>\n",
       "      <td>1.0</td>\n",
       "      <td>1.0</td>\n",
       "      <td>0.0</td>\n",
       "      <td>0.0</td>\n",
       "      <td>0.0</td>\n",
       "      <td>0.0</td>\n",
       "      <td>0.0</td>\n",
       "      <td>0.0</td>\n",
       "      <td>-0.289223</td>\n",
       "    </tr>\n",
       "    <tr>\n",
       "      <th>3</th>\n",
       "      <td>-0.269142</td>\n",
       "      <td>0.0</td>\n",
       "      <td>1.0</td>\n",
       "      <td>1.0</td>\n",
       "      <td>1.0</td>\n",
       "      <td>0.0</td>\n",
       "      <td>0.0</td>\n",
       "      <td>0.0</td>\n",
       "      <td>0.0</td>\n",
       "      <td>0.0</td>\n",
       "      <td>-0.292359</td>\n",
       "    </tr>\n",
       "    <tr>\n",
       "      <th>4</th>\n",
       "      <td>-1.807604</td>\n",
       "      <td>0.0</td>\n",
       "      <td>1.0</td>\n",
       "      <td>0.0</td>\n",
       "      <td>0.0</td>\n",
       "      <td>0.0</td>\n",
       "      <td>0.0</td>\n",
       "      <td>1.0</td>\n",
       "      <td>0.0</td>\n",
       "      <td>0.0</td>\n",
       "      <td>0.745107</td>\n",
       "    </tr>\n",
       "  </tbody>\n",
       "</table>\n",
       "</div>"
      ],
      "text/plain": [
       "         0    1    2    3    4    5    6    7    8    9         10\n",
       "0  1.230858  0.0  0.0  1.0  0.0  0.0  0.0  0.0  0.0  0.0  0.622184\n",
       "1 -0.499911  1.0  0.0  1.0  0.0  0.0  0.0  0.0  0.0  0.0 -0.064416\n",
       "2  0.192396  0.0  1.0  1.0  0.0  0.0  0.0  0.0  0.0  0.0 -0.289223\n",
       "3 -0.269142  0.0  1.0  1.0  1.0  0.0  0.0  0.0  0.0  0.0 -0.292359\n",
       "4 -1.807604  0.0  1.0  0.0  0.0  0.0  0.0  1.0  0.0  0.0  0.745107"
      ]
     },
     "execution_count": 83,
     "metadata": {},
     "output_type": "execute_result"
    }
   ],
   "source": [
    "X_train_fe.head()"
   ]
  },
  {
   "cell_type": "code",
   "execution_count": 84,
   "id": "891050bb",
   "metadata": {
    "hidden": true
   },
   "outputs": [
    {
     "data": {
      "text/plain": [
       "(712, 11)"
      ]
     },
     "execution_count": 84,
     "metadata": {},
     "output_type": "execute_result"
    }
   ],
   "source": [
    "X_train_fe.shape"
   ]
  },
  {
   "cell_type": "markdown",
   "id": "296947fa",
   "metadata": {
    "hidden": true
   },
   "source": [
    "Assign to X_test_fe to a dataframe of X_test_fe."
   ]
  },
  {
   "cell_type": "code",
   "execution_count": 85,
   "id": "8a181c14",
   "metadata": {
    "hidden": true
   },
   "outputs": [],
   "source": [
    "X_test_fe = pd.DataFrame(X_test_fe)"
   ]
  },
  {
   "cell_type": "code",
   "execution_count": 86,
   "id": "5b5d4213",
   "metadata": {
    "hidden": true
   },
   "outputs": [
    {
     "data": {
      "text/html": [
       "<div>\n",
       "<style scoped>\n",
       "    .dataframe tbody tr th:only-of-type {\n",
       "        vertical-align: middle;\n",
       "    }\n",
       "\n",
       "    .dataframe tbody tr th {\n",
       "        vertical-align: top;\n",
       "    }\n",
       "\n",
       "    .dataframe thead th {\n",
       "        text-align: right;\n",
       "    }\n",
       "</style>\n",
       "<table border=\"1\" class=\"dataframe\">\n",
       "  <thead>\n",
       "    <tr style=\"text-align: right;\">\n",
       "      <th></th>\n",
       "      <th>0</th>\n",
       "      <th>1</th>\n",
       "      <th>2</th>\n",
       "      <th>3</th>\n",
       "      <th>4</th>\n",
       "      <th>5</th>\n",
       "      <th>6</th>\n",
       "      <th>7</th>\n",
       "      <th>8</th>\n",
       "      <th>9</th>\n",
       "      <th>10</th>\n",
       "    </tr>\n",
       "  </thead>\n",
       "  <tbody>\n",
       "    <tr>\n",
       "      <th>0</th>\n",
       "      <td>0.000000</td>\n",
       "      <td>0.0</td>\n",
       "      <td>1.0</td>\n",
       "      <td>1.0</td>\n",
       "      <td>1.0</td>\n",
       "      <td>0.0</td>\n",
       "      <td>0.0</td>\n",
       "      <td>0.0</td>\n",
       "      <td>0.0</td>\n",
       "      <td>0.0</td>\n",
       "      <td>0.035065</td>\n",
       "    </tr>\n",
       "    <tr>\n",
       "      <th>1</th>\n",
       "      <td>0.115473</td>\n",
       "      <td>1.0</td>\n",
       "      <td>0.0</td>\n",
       "      <td>1.0</td>\n",
       "      <td>0.0</td>\n",
       "      <td>0.0</td>\n",
       "      <td>0.0</td>\n",
       "      <td>0.0</td>\n",
       "      <td>0.0</td>\n",
       "      <td>0.0</td>\n",
       "      <td>-0.175158</td>\n",
       "    </tr>\n",
       "    <tr>\n",
       "      <th>2</th>\n",
       "      <td>-0.730680</td>\n",
       "      <td>0.0</td>\n",
       "      <td>1.0</td>\n",
       "      <td>1.0</td>\n",
       "      <td>0.0</td>\n",
       "      <td>0.0</td>\n",
       "      <td>0.0</td>\n",
       "      <td>0.0</td>\n",
       "      <td>0.0</td>\n",
       "      <td>0.0</td>\n",
       "      <td>-0.289223</td>\n",
       "    </tr>\n",
       "    <tr>\n",
       "      <th>3</th>\n",
       "      <td>-1.807604</td>\n",
       "      <td>1.0</td>\n",
       "      <td>0.0</td>\n",
       "      <td>0.0</td>\n",
       "      <td>0.0</td>\n",
       "      <td>0.0</td>\n",
       "      <td>0.0</td>\n",
       "      <td>0.0</td>\n",
       "      <td>0.0</td>\n",
       "      <td>0.0</td>\n",
       "      <td>0.821519</td>\n",
       "    </tr>\n",
       "    <tr>\n",
       "      <th>4</th>\n",
       "      <td>-1.192219</td>\n",
       "      <td>0.0</td>\n",
       "      <td>1.0</td>\n",
       "      <td>0.0</td>\n",
       "      <td>1.0</td>\n",
       "      <td>0.0</td>\n",
       "      <td>0.0</td>\n",
       "      <td>0.0</td>\n",
       "      <td>0.0</td>\n",
       "      <td>0.0</td>\n",
       "      <td>-0.142303</td>\n",
       "    </tr>\n",
       "  </tbody>\n",
       "</table>\n",
       "</div>"
      ],
      "text/plain": [
       "         0    1    2    3    4    5    6    7    8    9         10\n",
       "0  0.000000  0.0  1.0  1.0  1.0  0.0  0.0  0.0  0.0  0.0  0.035065\n",
       "1  0.115473  1.0  0.0  1.0  0.0  0.0  0.0  0.0  0.0  0.0 -0.175158\n",
       "2 -0.730680  0.0  1.0  1.0  0.0  0.0  0.0  0.0  0.0  0.0 -0.289223\n",
       "3 -1.807604  1.0  0.0  0.0  0.0  0.0  0.0  0.0  0.0  0.0  0.821519\n",
       "4 -1.192219  0.0  1.0  0.0  1.0  0.0  0.0  0.0  0.0  0.0 -0.142303"
      ]
     },
     "execution_count": 86,
     "metadata": {},
     "output_type": "execute_result"
    }
   ],
   "source": [
    "X_test_fe.head()"
   ]
  },
  {
   "cell_type": "code",
   "execution_count": 87,
   "id": "2b31263b",
   "metadata": {
    "hidden": true
   },
   "outputs": [
    {
     "data": {
      "text/plain": [
       "(179, 11)"
      ]
     },
     "execution_count": 87,
     "metadata": {},
     "output_type": "execute_result"
    }
   ],
   "source": [
    "X_test_fe.shape"
   ]
  },
  {
   "cell_type": "markdown",
   "id": "04673634",
   "metadata": {
    "heading_collapsed": true
   },
   "source": [
    "# 6. Train models"
   ]
  },
  {
   "cell_type": "markdown",
   "id": "af95c0f7",
   "metadata": {
    "hidden": true
   },
   "source": [
    "#### Build a LogReg model."
   ]
  },
  {
   "cell_type": "code",
   "execution_count": 88,
   "id": "5d33fbd0",
   "metadata": {
    "hidden": true
   },
   "outputs": [],
   "source": [
    "m_logreg = LogisticRegression(class_weight = \"balanced\")"
   ]
  },
  {
   "cell_type": "code",
   "execution_count": 89,
   "id": "62e30bbe",
   "metadata": {
    "hidden": true
   },
   "outputs": [
    {
     "data": {
      "text/html": [
       "<style>#sk-a3f93031-05f3-4ccc-b285-45efc4f82119 {color: black;background-color: white;}#sk-a3f93031-05f3-4ccc-b285-45efc4f82119 pre{padding: 0;}#sk-a3f93031-05f3-4ccc-b285-45efc4f82119 div.sk-toggleable {background-color: white;}#sk-a3f93031-05f3-4ccc-b285-45efc4f82119 label.sk-toggleable__label {cursor: pointer;display: block;width: 100%;margin-bottom: 0;padding: 0.3em;box-sizing: border-box;text-align: center;}#sk-a3f93031-05f3-4ccc-b285-45efc4f82119 label.sk-toggleable__label-arrow:before {content: \"▸\";float: left;margin-right: 0.25em;color: #696969;}#sk-a3f93031-05f3-4ccc-b285-45efc4f82119 label.sk-toggleable__label-arrow:hover:before {color: black;}#sk-a3f93031-05f3-4ccc-b285-45efc4f82119 div.sk-estimator:hover label.sk-toggleable__label-arrow:before {color: black;}#sk-a3f93031-05f3-4ccc-b285-45efc4f82119 div.sk-toggleable__content {max-height: 0;max-width: 0;overflow: hidden;text-align: left;background-color: #f0f8ff;}#sk-a3f93031-05f3-4ccc-b285-45efc4f82119 div.sk-toggleable__content pre {margin: 0.2em;color: black;border-radius: 0.25em;background-color: #f0f8ff;}#sk-a3f93031-05f3-4ccc-b285-45efc4f82119 input.sk-toggleable__control:checked~div.sk-toggleable__content {max-height: 200px;max-width: 100%;overflow: auto;}#sk-a3f93031-05f3-4ccc-b285-45efc4f82119 input.sk-toggleable__control:checked~label.sk-toggleable__label-arrow:before {content: \"▾\";}#sk-a3f93031-05f3-4ccc-b285-45efc4f82119 div.sk-estimator input.sk-toggleable__control:checked~label.sk-toggleable__label {background-color: #d4ebff;}#sk-a3f93031-05f3-4ccc-b285-45efc4f82119 div.sk-label input.sk-toggleable__control:checked~label.sk-toggleable__label {background-color: #d4ebff;}#sk-a3f93031-05f3-4ccc-b285-45efc4f82119 input.sk-hidden--visually {border: 0;clip: rect(1px 1px 1px 1px);clip: rect(1px, 1px, 1px, 1px);height: 1px;margin: -1px;overflow: hidden;padding: 0;position: absolute;width: 1px;}#sk-a3f93031-05f3-4ccc-b285-45efc4f82119 div.sk-estimator {font-family: monospace;background-color: #f0f8ff;border: 1px dotted black;border-radius: 0.25em;box-sizing: border-box;margin-bottom: 0.5em;}#sk-a3f93031-05f3-4ccc-b285-45efc4f82119 div.sk-estimator:hover {background-color: #d4ebff;}#sk-a3f93031-05f3-4ccc-b285-45efc4f82119 div.sk-parallel-item::after {content: \"\";width: 100%;border-bottom: 1px solid gray;flex-grow: 1;}#sk-a3f93031-05f3-4ccc-b285-45efc4f82119 div.sk-label:hover label.sk-toggleable__label {background-color: #d4ebff;}#sk-a3f93031-05f3-4ccc-b285-45efc4f82119 div.sk-serial::before {content: \"\";position: absolute;border-left: 1px solid gray;box-sizing: border-box;top: 2em;bottom: 0;left: 50%;}#sk-a3f93031-05f3-4ccc-b285-45efc4f82119 div.sk-serial {display: flex;flex-direction: column;align-items: center;background-color: white;padding-right: 0.2em;padding-left: 0.2em;}#sk-a3f93031-05f3-4ccc-b285-45efc4f82119 div.sk-item {z-index: 1;}#sk-a3f93031-05f3-4ccc-b285-45efc4f82119 div.sk-parallel {display: flex;align-items: stretch;justify-content: center;background-color: white;}#sk-a3f93031-05f3-4ccc-b285-45efc4f82119 div.sk-parallel::before {content: \"\";position: absolute;border-left: 1px solid gray;box-sizing: border-box;top: 2em;bottom: 0;left: 50%;}#sk-a3f93031-05f3-4ccc-b285-45efc4f82119 div.sk-parallel-item {display: flex;flex-direction: column;position: relative;background-color: white;}#sk-a3f93031-05f3-4ccc-b285-45efc4f82119 div.sk-parallel-item:first-child::after {align-self: flex-end;width: 50%;}#sk-a3f93031-05f3-4ccc-b285-45efc4f82119 div.sk-parallel-item:last-child::after {align-self: flex-start;width: 50%;}#sk-a3f93031-05f3-4ccc-b285-45efc4f82119 div.sk-parallel-item:only-child::after {width: 0;}#sk-a3f93031-05f3-4ccc-b285-45efc4f82119 div.sk-dashed-wrapped {border: 1px dashed gray;margin: 0 0.4em 0.5em 0.4em;box-sizing: border-box;padding-bottom: 0.4em;background-color: white;position: relative;}#sk-a3f93031-05f3-4ccc-b285-45efc4f82119 div.sk-label label {font-family: monospace;font-weight: bold;background-color: white;display: inline-block;line-height: 1.2em;}#sk-a3f93031-05f3-4ccc-b285-45efc4f82119 div.sk-label-container {position: relative;z-index: 2;text-align: center;}#sk-a3f93031-05f3-4ccc-b285-45efc4f82119 div.sk-container {/* jupyter's `normalize.less` sets `[hidden] { display: none; }` but bootstrap.min.css set `[hidden] { display: none !important; }` so we also need the `!important` here to be able to override the default hidden behavior on the sphinx rendered scikit-learn.org. See: https://github.com/scikit-learn/scikit-learn/issues/21755 */display: inline-block !important;position: relative;}#sk-a3f93031-05f3-4ccc-b285-45efc4f82119 div.sk-text-repr-fallback {display: none;}</style><div id=\"sk-a3f93031-05f3-4ccc-b285-45efc4f82119\" class=\"sk-top-container\"><div class=\"sk-text-repr-fallback\"><pre>LogisticRegression(class_weight=&#x27;balanced&#x27;)</pre><b>Please rerun this cell to show the HTML repr or trust the notebook.</b></div><div class=\"sk-container\" hidden><div class=\"sk-item\"><div class=\"sk-estimator sk-toggleable\"><input class=\"sk-toggleable__control sk-hidden--visually\" id=\"53d79ffa-e6c7-4837-9332-f11046306d46\" type=\"checkbox\" checked><label for=\"53d79ffa-e6c7-4837-9332-f11046306d46\" class=\"sk-toggleable__label sk-toggleable__label-arrow\">LogisticRegression</label><div class=\"sk-toggleable__content\"><pre>LogisticRegression(class_weight=&#x27;balanced&#x27;)</pre></div></div></div></div></div>"
      ],
      "text/plain": [
       "LogisticRegression(class_weight='balanced')"
      ]
     },
     "execution_count": 89,
     "metadata": {},
     "output_type": "execute_result"
    }
   ],
   "source": [
    "m_logreg.fit(X_train_lfe, y_train)"
   ]
  },
  {
   "cell_type": "markdown",
   "id": "d6641452",
   "metadata": {
    "hidden": true
   },
   "source": [
    "***Print train and test scores.***"
   ]
  },
  {
   "cell_type": "code",
   "execution_count": 90,
   "id": "8932fa92",
   "metadata": {
    "hidden": true
   },
   "outputs": [
    {
     "name": "stdout",
     "output_type": "stream",
     "text": [
      "accuracy_train = 0.8019662921348315 accuracy_test = 0.7988826815642458\n"
     ]
    }
   ],
   "source": [
    "print('accuracy_train =',m_logreg.score(X_train_lfe,y_train), 'accuracy_test =',m_logreg.score(X_test_lfe,y_test))"
   ]
  },
  {
   "cell_type": "markdown",
   "id": "f4862ef5",
   "metadata": {
    "hidden": true
   },
   "source": [
    "#### Cross validation"
   ]
  },
  {
   "cell_type": "code",
   "execution_count": 91,
   "id": "67646838",
   "metadata": {
    "hidden": true
   },
   "outputs": [
    {
     "name": "stdout",
     "output_type": "stream",
     "text": [
      "[CV] END ................................ score: (test=0.847) total time=   0.0s\n",
      "[CV] END ................................ score: (test=0.778) total time=   0.0s\n",
      "[CV] END ................................ score: (test=0.676) total time=   0.0s\n",
      "[CV] END ................................ score: (test=0.930) total time=   0.0s\n",
      "[CV] END ................................ score: (test=0.775) total time=   0.0s\n",
      "[CV] END ................................ score: (test=0.718) total time=   0.0s\n",
      "[CV] END ................................ score: (test=0.732) total time=   0.0s\n",
      "[CV] END ................................ score: (test=0.761) total time=   0.0s\n",
      "[CV] END ................................ score: (test=0.718) total time=   0.0s\n",
      "[CV] END ................................ score: (test=0.873) total time=   0.0s\n"
     ]
    },
    {
     "name": "stderr",
     "output_type": "stream",
     "text": [
      "[Parallel(n_jobs=1)]: Using backend SequentialBackend with 1 concurrent workers.\n",
      "[Parallel(n_jobs=1)]: Done   1 out of   1 | elapsed:    0.0s remaining:    0.0s\n",
      "[Parallel(n_jobs=1)]: Done   2 out of   2 | elapsed:    0.0s remaining:    0.0s\n",
      "[Parallel(n_jobs=1)]: Done  10 out of  10 | elapsed:    0.1s finished\n"
     ]
    }
   ],
   "source": [
    "cross_validation_m_logreg = cross_val_score(m_logreg, X_train_lfe, y_train, cv=10, verbose=3)"
   ]
  },
  {
   "cell_type": "code",
   "execution_count": 92,
   "id": "6adcefe0",
   "metadata": {
    "hidden": true
   },
   "outputs": [
    {
     "data": {
      "text/plain": [
       "array([0.84722222, 0.77777778, 0.67605634, 0.92957746, 0.77464789,\n",
       "       0.71830986, 0.73239437, 0.76056338, 0.71830986, 0.87323944])"
      ]
     },
     "execution_count": 92,
     "metadata": {},
     "output_type": "execute_result"
    }
   ],
   "source": [
    "cross_validation_m_logreg"
   ]
  },
  {
   "cell_type": "code",
   "execution_count": 93,
   "id": "284e9537",
   "metadata": {
    "hidden": true
   },
   "outputs": [
    {
     "data": {
      "text/plain": [
       "(0.7808098591549296, 0.005667257271240027)"
      ]
     },
     "execution_count": 93,
     "metadata": {},
     "output_type": "execute_result"
    }
   ],
   "source": [
    "cross_validation_m_logreg.mean(), cross_validation_m_logreg.var()"
   ]
  },
  {
   "cell_type": "code",
   "execution_count": 94,
   "id": "7c6bac70",
   "metadata": {
    "hidden": true
   },
   "outputs": [
    {
     "data": {
      "text/plain": [
       "0    444\n",
       "1    268\n",
       "Name: Survived, dtype: int64"
      ]
     },
     "execution_count": 94,
     "metadata": {},
     "output_type": "execute_result"
    }
   ],
   "source": [
    "y_train.value_counts()"
   ]
  },
  {
   "cell_type": "code",
   "execution_count": 95,
   "id": "a5c6d715",
   "metadata": {
    "hidden": true
   },
   "outputs": [
    {
     "data": {
      "text/plain": [
       "0.7988826815642458"
      ]
     },
     "execution_count": 95,
     "metadata": {},
     "output_type": "execute_result"
    }
   ],
   "source": [
    "m_logreg.score(X_test_lfe, y_test)"
   ]
  },
  {
   "cell_type": "markdown",
   "id": "94a9c344",
   "metadata": {
    "heading_collapsed": true,
    "hidden": true
   },
   "source": [
    "##### Stratified Shuffle Split"
   ]
  },
  {
   "cell_type": "code",
   "execution_count": 96,
   "id": "65b825ac",
   "metadata": {
    "hidden": true
   },
   "outputs": [
    {
     "data": {
      "text/plain": [
       "StratifiedShuffleSplit(n_splits=10, random_state=1, test_size=None,\n",
       "            train_size=None)"
      ]
     },
     "execution_count": 96,
     "metadata": {},
     "output_type": "execute_result"
    }
   ],
   "source": [
    "s  = StratifiedShuffleSplit(n_splits=10,\n",
    "                           random_state=1)\n",
    "s"
   ]
  },
  {
   "cell_type": "code",
   "execution_count": 97,
   "id": "c6d0fc2a",
   "metadata": {
    "hidden": true
   },
   "outputs": [
    {
     "name": "stderr",
     "output_type": "stream",
     "text": [
      "[Parallel(n_jobs=1)]: Using backend SequentialBackend with 1 concurrent workers.\n",
      "[Parallel(n_jobs=1)]: Done   1 out of   1 | elapsed:    0.0s remaining:    0.0s\n"
     ]
    },
    {
     "name": "stdout",
     "output_type": "stream",
     "text": [
      "[CV] END ................................ score: (test=0.736) total time=   0.0s\n",
      "[CV] END ................................ score: (test=0.792) total time=   0.0s\n",
      "[CV] END ................................ score: (test=0.875) total time=   0.0s\n",
      "[CV] END ................................ score: (test=0.764) total time=   0.0s\n",
      "[CV] END ................................ score: (test=0.764) total time=   0.0s\n",
      "[CV] END ................................ score: (test=0.764) total time=   0.0s\n",
      "[CV] END ................................ score: (test=0.861) total time=   0.0s\n",
      "[CV] END ................................ score: (test=0.667) total time=   0.0s\n",
      "[CV] END ................................ score: (test=0.736) total time=   0.0s\n",
      "[CV] END ................................ score: (test=0.750) total time=   0.0s\n"
     ]
    },
    {
     "name": "stderr",
     "output_type": "stream",
     "text": [
      "[Parallel(n_jobs=1)]: Done   2 out of   2 | elapsed:    0.0s remaining:    0.0s\n",
      "[Parallel(n_jobs=1)]: Done  10 out of  10 | elapsed:    0.2s finished\n"
     ]
    }
   ],
   "source": [
    "cross_validation_m_logreg_s = cross_val_score(estimator=m_logreg, \n",
    "                                     X= X_train_lfe,\n",
    "                                     y= y_train,\n",
    "                                     scoring='accuracy', \n",
    "                                     cv=s, \n",
    "                                     verbose=3)"
   ]
  },
  {
   "cell_type": "code",
   "execution_count": 98,
   "id": "5323160f",
   "metadata": {
    "hidden": true
   },
   "outputs": [
    {
     "name": "stdout",
     "output_type": "stream",
     "text": [
      "Validation accuracy scores: [0.74 0.79 0.88 0.76 0.76 0.76 0.86 0.67 0.74 0.75]\n",
      "\n",
      "mean: 0.77\n",
      "std: 0.06\n"
     ]
    }
   ],
   "source": [
    "print(f'Validation accuracy scores: {np.round(cross_validation_m_logreg_s,2)}')\n",
    "print(f'\\nmean: {cross_validation_m_logreg_s.mean():.2}')\n",
    "print(f'std: {cross_validation_m_logreg_s.std():.1}')"
   ]
  },
  {
   "cell_type": "markdown",
   "id": "f61bc461",
   "metadata": {
    "hidden": true
   },
   "source": [
    "#### Build a random forest model."
   ]
  },
  {
   "cell_type": "code",
   "execution_count": 99,
   "id": "c3d2804b",
   "metadata": {
    "hidden": true
   },
   "outputs": [],
   "source": [
    "rf = RandomForestClassifier(n_estimators = 100, max_depth = 3)"
   ]
  },
  {
   "cell_type": "code",
   "execution_count": 100,
   "id": "ef2ba949",
   "metadata": {
    "hidden": true
   },
   "outputs": [
    {
     "data": {
      "text/html": [
       "<style>#sk-2ca5465c-313f-47e3-94d4-63b329bdc210 {color: black;background-color: white;}#sk-2ca5465c-313f-47e3-94d4-63b329bdc210 pre{padding: 0;}#sk-2ca5465c-313f-47e3-94d4-63b329bdc210 div.sk-toggleable {background-color: white;}#sk-2ca5465c-313f-47e3-94d4-63b329bdc210 label.sk-toggleable__label {cursor: pointer;display: block;width: 100%;margin-bottom: 0;padding: 0.3em;box-sizing: border-box;text-align: center;}#sk-2ca5465c-313f-47e3-94d4-63b329bdc210 label.sk-toggleable__label-arrow:before {content: \"▸\";float: left;margin-right: 0.25em;color: #696969;}#sk-2ca5465c-313f-47e3-94d4-63b329bdc210 label.sk-toggleable__label-arrow:hover:before {color: black;}#sk-2ca5465c-313f-47e3-94d4-63b329bdc210 div.sk-estimator:hover label.sk-toggleable__label-arrow:before {color: black;}#sk-2ca5465c-313f-47e3-94d4-63b329bdc210 div.sk-toggleable__content {max-height: 0;max-width: 0;overflow: hidden;text-align: left;background-color: #f0f8ff;}#sk-2ca5465c-313f-47e3-94d4-63b329bdc210 div.sk-toggleable__content pre {margin: 0.2em;color: black;border-radius: 0.25em;background-color: #f0f8ff;}#sk-2ca5465c-313f-47e3-94d4-63b329bdc210 input.sk-toggleable__control:checked~div.sk-toggleable__content {max-height: 200px;max-width: 100%;overflow: auto;}#sk-2ca5465c-313f-47e3-94d4-63b329bdc210 input.sk-toggleable__control:checked~label.sk-toggleable__label-arrow:before {content: \"▾\";}#sk-2ca5465c-313f-47e3-94d4-63b329bdc210 div.sk-estimator input.sk-toggleable__control:checked~label.sk-toggleable__label {background-color: #d4ebff;}#sk-2ca5465c-313f-47e3-94d4-63b329bdc210 div.sk-label input.sk-toggleable__control:checked~label.sk-toggleable__label {background-color: #d4ebff;}#sk-2ca5465c-313f-47e3-94d4-63b329bdc210 input.sk-hidden--visually {border: 0;clip: rect(1px 1px 1px 1px);clip: rect(1px, 1px, 1px, 1px);height: 1px;margin: -1px;overflow: hidden;padding: 0;position: absolute;width: 1px;}#sk-2ca5465c-313f-47e3-94d4-63b329bdc210 div.sk-estimator {font-family: monospace;background-color: #f0f8ff;border: 1px dotted black;border-radius: 0.25em;box-sizing: border-box;margin-bottom: 0.5em;}#sk-2ca5465c-313f-47e3-94d4-63b329bdc210 div.sk-estimator:hover {background-color: #d4ebff;}#sk-2ca5465c-313f-47e3-94d4-63b329bdc210 div.sk-parallel-item::after {content: \"\";width: 100%;border-bottom: 1px solid gray;flex-grow: 1;}#sk-2ca5465c-313f-47e3-94d4-63b329bdc210 div.sk-label:hover label.sk-toggleable__label {background-color: #d4ebff;}#sk-2ca5465c-313f-47e3-94d4-63b329bdc210 div.sk-serial::before {content: \"\";position: absolute;border-left: 1px solid gray;box-sizing: border-box;top: 2em;bottom: 0;left: 50%;}#sk-2ca5465c-313f-47e3-94d4-63b329bdc210 div.sk-serial {display: flex;flex-direction: column;align-items: center;background-color: white;padding-right: 0.2em;padding-left: 0.2em;}#sk-2ca5465c-313f-47e3-94d4-63b329bdc210 div.sk-item {z-index: 1;}#sk-2ca5465c-313f-47e3-94d4-63b329bdc210 div.sk-parallel {display: flex;align-items: stretch;justify-content: center;background-color: white;}#sk-2ca5465c-313f-47e3-94d4-63b329bdc210 div.sk-parallel::before {content: \"\";position: absolute;border-left: 1px solid gray;box-sizing: border-box;top: 2em;bottom: 0;left: 50%;}#sk-2ca5465c-313f-47e3-94d4-63b329bdc210 div.sk-parallel-item {display: flex;flex-direction: column;position: relative;background-color: white;}#sk-2ca5465c-313f-47e3-94d4-63b329bdc210 div.sk-parallel-item:first-child::after {align-self: flex-end;width: 50%;}#sk-2ca5465c-313f-47e3-94d4-63b329bdc210 div.sk-parallel-item:last-child::after {align-self: flex-start;width: 50%;}#sk-2ca5465c-313f-47e3-94d4-63b329bdc210 div.sk-parallel-item:only-child::after {width: 0;}#sk-2ca5465c-313f-47e3-94d4-63b329bdc210 div.sk-dashed-wrapped {border: 1px dashed gray;margin: 0 0.4em 0.5em 0.4em;box-sizing: border-box;padding-bottom: 0.4em;background-color: white;position: relative;}#sk-2ca5465c-313f-47e3-94d4-63b329bdc210 div.sk-label label {font-family: monospace;font-weight: bold;background-color: white;display: inline-block;line-height: 1.2em;}#sk-2ca5465c-313f-47e3-94d4-63b329bdc210 div.sk-label-container {position: relative;z-index: 2;text-align: center;}#sk-2ca5465c-313f-47e3-94d4-63b329bdc210 div.sk-container {/* jupyter's `normalize.less` sets `[hidden] { display: none; }` but bootstrap.min.css set `[hidden] { display: none !important; }` so we also need the `!important` here to be able to override the default hidden behavior on the sphinx rendered scikit-learn.org. See: https://github.com/scikit-learn/scikit-learn/issues/21755 */display: inline-block !important;position: relative;}#sk-2ca5465c-313f-47e3-94d4-63b329bdc210 div.sk-text-repr-fallback {display: none;}</style><div id=\"sk-2ca5465c-313f-47e3-94d4-63b329bdc210\" class=\"sk-top-container\"><div class=\"sk-text-repr-fallback\"><pre>RandomForestClassifier(max_depth=3)</pre><b>Please rerun this cell to show the HTML repr or trust the notebook.</b></div><div class=\"sk-container\" hidden><div class=\"sk-item\"><div class=\"sk-estimator sk-toggleable\"><input class=\"sk-toggleable__control sk-hidden--visually\" id=\"9f06a6c9-6e3e-45e1-b4c4-7c2389dc886a\" type=\"checkbox\" checked><label for=\"9f06a6c9-6e3e-45e1-b4c4-7c2389dc886a\" class=\"sk-toggleable__label sk-toggleable__label-arrow\">RandomForestClassifier</label><div class=\"sk-toggleable__content\"><pre>RandomForestClassifier(max_depth=3)</pre></div></div></div></div></div>"
      ],
      "text/plain": [
       "RandomForestClassifier(max_depth=3)"
      ]
     },
     "execution_count": 100,
     "metadata": {},
     "output_type": "execute_result"
    }
   ],
   "source": [
    "rf.fit(X_train_fe, y_train)"
   ]
  },
  {
   "cell_type": "markdown",
   "id": "90827dd9",
   "metadata": {
    "hidden": true
   },
   "source": [
    "**Print training and test scores.**"
   ]
  },
  {
   "cell_type": "code",
   "execution_count": 101,
   "id": "21e1b075",
   "metadata": {
    "hidden": true
   },
   "outputs": [
    {
     "name": "stdout",
     "output_type": "stream",
     "text": [
      "accuracy_train= 0.8216292134831461 accuracy_test= 0.7541899441340782\n"
     ]
    }
   ],
   "source": [
    "print('accuracy_train=',rf.score(X_train_fe,y_train), 'accuracy_test=',rf.score(X_test_fe,y_test))"
   ]
  },
  {
   "cell_type": "markdown",
   "id": "d9892867",
   "metadata": {
    "hidden": true
   },
   "source": [
    "**Get the relative importance of your features.**"
   ]
  },
  {
   "cell_type": "code",
   "execution_count": 102,
   "id": "d3066064",
   "metadata": {
    "hidden": true
   },
   "outputs": [
    {
     "name": "stdout",
     "output_type": "stream",
     "text": [
      "RangeIndex(start=0, stop=11, step=1) [0.08116166 0.02079222 0.16184224 0.55100751 0.01913764 0.00255282\n",
      " 0.00449876 0.00726071 0.00255129 0.00807856 0.14111659]\n"
     ]
    }
   ],
   "source": [
    "feature_labels = pd.DataFrame(X_train_fe).columns\n",
    "\n",
    "feature_importance = rf.feature_importances_\n",
    "\n",
    "print(feature_labels, feature_importance)"
   ]
  },
  {
   "cell_type": "markdown",
   "id": "1da5ce53",
   "metadata": {
    "heading_collapsed": true,
    "hidden": true
   },
   "source": [
    "#### Cross validation"
   ]
  },
  {
   "cell_type": "code",
   "execution_count": 103,
   "id": "4cb754ef",
   "metadata": {
    "hidden": true
   },
   "outputs": [
    {
     "name": "stdout",
     "output_type": "stream",
     "text": [
      "[CV] END ................................ score: (test=0.833) total time=   0.1s\n",
      "[CV] END ................................ score: (test=0.778) total time=   0.1s\n"
     ]
    },
    {
     "name": "stderr",
     "output_type": "stream",
     "text": [
      "[Parallel(n_jobs=1)]: Using backend SequentialBackend with 1 concurrent workers.\n",
      "[Parallel(n_jobs=1)]: Done   1 out of   1 | elapsed:    0.1s remaining:    0.0s\n",
      "[Parallel(n_jobs=1)]: Done   2 out of   2 | elapsed:    0.2s remaining:    0.0s\n"
     ]
    },
    {
     "name": "stdout",
     "output_type": "stream",
     "text": [
      "[CV] END ................................ score: (test=0.746) total time=   0.1s\n",
      "[CV] END ................................ score: (test=0.915) total time=   0.1s\n",
      "[CV] END ................................ score: (test=0.831) total time=   0.1s\n",
      "[CV] END ................................ score: (test=0.746) total time=   0.1s\n",
      "[CV] END ................................ score: (test=0.803) total time=   0.1s\n",
      "[CV] END ................................ score: (test=0.761) total time=   0.1s\n",
      "[CV] END ................................ score: (test=0.704) total time=   0.1s\n",
      "[CV] END ................................ score: (test=0.887) total time=   0.1s\n"
     ]
    },
    {
     "name": "stderr",
     "output_type": "stream",
     "text": [
      "[Parallel(n_jobs=1)]: Done  10 out of  10 | elapsed:    0.8s finished\n"
     ]
    }
   ],
   "source": [
    "cross_validation_rf = cross_val_score(rf, X_train_fe, y_train, cv=10, verbose=3)"
   ]
  },
  {
   "cell_type": "code",
   "execution_count": 104,
   "id": "670c816e",
   "metadata": {
    "hidden": true
   },
   "outputs": [
    {
     "data": {
      "text/plain": [
       "array([0.83333333, 0.77777778, 0.74647887, 0.91549296, 0.83098592,\n",
       "       0.74647887, 0.8028169 , 0.76056338, 0.70422535, 0.88732394])"
      ]
     },
     "execution_count": 104,
     "metadata": {},
     "output_type": "execute_result"
    }
   ],
   "source": [
    "cross_validation_rf"
   ]
  },
  {
   "cell_type": "code",
   "execution_count": 105,
   "id": "5ab37e77",
   "metadata": {
    "hidden": true
   },
   "outputs": [
    {
     "data": {
      "text/plain": [
       "(0.8005477308294211, 0.003999114667136886)"
      ]
     },
     "execution_count": 105,
     "metadata": {},
     "output_type": "execute_result"
    }
   ],
   "source": [
    "cross_validation_rf.mean(), cross_validation_rf.var()"
   ]
  },
  {
   "cell_type": "code",
   "execution_count": 106,
   "id": "6d1c64f7",
   "metadata": {
    "hidden": true
   },
   "outputs": [
    {
     "data": {
      "text/plain": [
       "0    444\n",
       "1    268\n",
       "Name: Survived, dtype: int64"
      ]
     },
     "execution_count": 106,
     "metadata": {},
     "output_type": "execute_result"
    }
   ],
   "source": [
    "y_train.value_counts()"
   ]
  },
  {
   "cell_type": "code",
   "execution_count": 107,
   "id": "dd709e12",
   "metadata": {
    "hidden": true
   },
   "outputs": [
    {
     "data": {
      "text/plain": [
       "0.7541899441340782"
      ]
     },
     "execution_count": 107,
     "metadata": {},
     "output_type": "execute_result"
    }
   ],
   "source": [
    "rf.score(X_test_fe, y_test)"
   ]
  },
  {
   "cell_type": "markdown",
   "id": "a3beaf2f",
   "metadata": {
    "hidden": true
   },
   "source": [
    "##### Stratified Shuffle Split"
   ]
  },
  {
   "cell_type": "code",
   "execution_count": 108,
   "id": "32a9c9fe",
   "metadata": {
    "hidden": true
   },
   "outputs": [
    {
     "data": {
      "text/plain": [
       "StratifiedShuffleSplit(n_splits=10, random_state=1, test_size=None,\n",
       "            train_size=None)"
      ]
     },
     "execution_count": 108,
     "metadata": {},
     "output_type": "execute_result"
    }
   ],
   "source": [
    "s  = StratifiedShuffleSplit(n_splits=10,\n",
    "                           random_state=1)\n",
    "s"
   ]
  },
  {
   "cell_type": "code",
   "execution_count": 109,
   "id": "a1f0e602",
   "metadata": {
    "hidden": true
   },
   "outputs": [
    {
     "name": "stdout",
     "output_type": "stream",
     "text": [
      "[CV] END ................................ score: (test=0.847) total time=   0.1s\n"
     ]
    },
    {
     "name": "stderr",
     "output_type": "stream",
     "text": [
      "[Parallel(n_jobs=1)]: Using backend SequentialBackend with 1 concurrent workers.\n",
      "[Parallel(n_jobs=1)]: Done   1 out of   1 | elapsed:    0.1s remaining:    0.0s\n"
     ]
    },
    {
     "name": "stdout",
     "output_type": "stream",
     "text": [
      "[CV] END ................................ score: (test=0.847) total time=   0.1s\n",
      "[CV] END ................................ score: (test=0.819) total time=   0.1s\n",
      "[CV] END ................................ score: (test=0.833) total time=   0.1s\n"
     ]
    },
    {
     "name": "stderr",
     "output_type": "stream",
     "text": [
      "[Parallel(n_jobs=1)]: Done   2 out of   2 | elapsed:    0.2s remaining:    0.0s\n"
     ]
    },
    {
     "name": "stdout",
     "output_type": "stream",
     "text": [
      "[CV] END ................................ score: (test=0.764) total time=   0.1s\n",
      "[CV] END ................................ score: (test=0.792) total time=   0.1s\n",
      "[CV] END ................................ score: (test=0.875) total time=   0.1s\n",
      "[CV] END ................................ score: (test=0.750) total time=   0.1s\n",
      "[CV] END ................................ score: (test=0.792) total time=   0.1s\n",
      "[CV] END ................................ score: (test=0.833) total time=   0.1s\n"
     ]
    },
    {
     "name": "stderr",
     "output_type": "stream",
     "text": [
      "[Parallel(n_jobs=1)]: Done  10 out of  10 | elapsed:    0.9s finished\n"
     ]
    }
   ],
   "source": [
    "cross_validation_rf_s = cross_val_score(estimator=rf, \n",
    "                                     X=X_train_fe,\n",
    "                                     y=y_train,\n",
    "                                     scoring='accuracy', \n",
    "                                     cv=s, \n",
    "                                     verbose=3)"
   ]
  },
  {
   "cell_type": "code",
   "execution_count": 110,
   "id": "437a4884",
   "metadata": {
    "hidden": true
   },
   "outputs": [
    {
     "name": "stdout",
     "output_type": "stream",
     "text": [
      "Validation accuracy scores: [0.85 0.85 0.82 0.83 0.76 0.79 0.88 0.75 0.79 0.83]\n",
      "\n",
      "mean: 0.82\n",
      "std: 0.04\n"
     ]
    }
   ],
   "source": [
    "print(f'Validation accuracy scores: {np.round(cross_validation_rf_s,2)}')\n",
    "print(f'\\nmean: {cross_validation_rf_s.mean():.2}')\n",
    "print(f'std: {cross_validation_rf_s.std():.1}')"
   ]
  },
  {
   "cell_type": "markdown",
   "id": "ebbdb5ca",
   "metadata": {},
   "source": [
    "# 7. Evaluate the models"
   ]
  },
  {
   "cell_type": "markdown",
   "id": "40568e00",
   "metadata": {},
   "source": [
    "#### Logistic regression model"
   ]
  },
  {
   "cell_type": "markdown",
   "id": "f8d79b56",
   "metadata": {},
   "source": [
    "**Assign ypred.**"
   ]
  },
  {
   "cell_type": "code",
   "execution_count": 111,
   "id": "66d546c9",
   "metadata": {},
   "outputs": [],
   "source": [
    "ypred = m_logreg.predict(X_test_lfe)"
   ]
  },
  {
   "cell_type": "code",
   "execution_count": 112,
   "id": "9752d753",
   "metadata": {},
   "outputs": [
    {
     "data": {
      "text/plain": [
       "array([0, 0, 0, 1, 1, 1, 1, 0, 1, 1, 1, 0, 0, 0, 0, 1, 0, 1, 0, 0, 0, 0,\n",
       "       1, 0, 0, 0, 0, 0, 0, 1, 0, 1, 0, 1, 0, 0, 1, 1, 1, 0, 0, 0, 0, 0,\n",
       "       1, 0, 0, 0, 0, 0, 1, 1, 0, 1, 0, 1, 0, 1, 1, 1, 0, 1, 1, 0, 0, 1,\n",
       "       0, 0, 0, 1, 1, 1, 1, 1, 0, 0, 1, 1, 1, 1, 0, 1, 1, 0, 0, 0, 1, 1,\n",
       "       0, 0, 0, 1, 0, 0, 0, 0, 0, 0, 1, 0, 0, 0, 1, 0, 0, 0, 1, 0, 0, 0,\n",
       "       1, 0, 1, 0, 1, 0, 0, 0, 1, 1, 0, 1, 1, 1, 0, 0, 1, 1, 1, 0, 1, 0,\n",
       "       0, 1, 0, 1, 1, 0, 0, 1, 0, 1, 0, 0, 1, 1, 0, 0, 1, 0, 0, 0, 0, 1,\n",
       "       0, 0, 0, 1, 1, 1, 0, 0, 0, 1, 0, 0, 0, 1, 0, 0, 1, 1, 0, 1, 0, 0,\n",
       "       1, 1, 1])"
      ]
     },
     "execution_count": 112,
     "metadata": {},
     "output_type": "execute_result"
    }
   ],
   "source": [
    "ypred"
   ]
  },
  {
   "cell_type": "markdown",
   "id": "c5302337",
   "metadata": {},
   "source": [
    "**Confusion matrix.**"
   ]
  },
  {
   "cell_type": "code",
   "execution_count": 113,
   "id": "8df0afc1",
   "metadata": {},
   "outputs": [
    {
     "data": {
      "text/plain": [
       "Text(170.72222222222223, 0.5, 'Actual')"
      ]
     },
     "execution_count": 113,
     "metadata": {},
     "output_type": "execute_result"
    },
    {
     "data": {
      "image/png": "[encoded data removed]",
      "text/plain": [
       "<Figure size 1600x900 with 2 Axes>"
      ]
     },
     "metadata": {},
     "output_type": "display_data"
    }
   ],
   "source": [
    "conf = confusion_matrix(y_test, ypred)\n",
    "plt.figure(figsize = (16, 9))\n",
    "sns.heatmap(conf, annot = True, cmap = \"BuPu\")\n",
    "plt.xlabel(\"Predicted\", fontsize = 14)\n",
    "plt.ylabel(\"Actual\", fontsize = 14)"
   ]
  },
  {
   "cell_type": "markdown",
   "id": "01152a7f",
   "metadata": {},
   "source": [
    "\n",
    "False Positive: 19%\n",
    "False Negative: 17%\n",
    "\n",
    "True Positive: 57%\n",
    "True Negative: 86%"
   ]
  },
  {
   "cell_type": "markdown",
   "id": "5533331a",
   "metadata": {},
   "source": [
    "**Accuracy**"
   ]
  },
  {
   "cell_type": "code",
   "execution_count": 114,
   "id": "968eb9b9",
   "metadata": {},
   "outputs": [
    {
     "data": {
      "text/plain": [
       "0.7988826815642458"
      ]
     },
     "execution_count": 114,
     "metadata": {},
     "output_type": "execute_result"
    }
   ],
   "source": [
    "accuracy_score(y_test, ypred) #compare predictive results to actual results"
   ]
  },
  {
   "cell_type": "markdown",
   "id": "106d5651",
   "metadata": {},
   "source": [
    "**Precision vs recall; F1 score**"
   ]
  },
  {
   "cell_type": "code",
   "execution_count": 115,
   "id": "a3cae654",
   "metadata": {},
   "outputs": [
    {
     "name": "stdout",
     "output_type": "stream",
     "text": [
      "precision = 0.75 \n",
      " \n",
      "recall = 0.77\n",
      "\n",
      "f1 = 0.76\n"
     ]
    }
   ],
   "source": [
    "print(f\"\"\"precision = {round(precision_score(y_test,ypred),2)} \\n \n",
    "recall = {round(recall_score(y_test,ypred),2)}\\n\n",
    "f1 = {round(f1_score(y_test,ypred),2)}\"\"\")"
   ]
  },
  {
   "cell_type": "markdown",
   "id": "dbdcffca",
   "metadata": {},
   "source": [
    "**Receiver Operator Curve (ROC) and Area Under the Curve (AUC)**"
   ]
  },
  {
   "cell_type": "code",
   "execution_count": 116,
   "id": "54351b9d",
   "metadata": {
    "scrolled": false
   },
   "outputs": [
    {
     "data": {
      "text/plain": [
       "array([[0.80370524, 0.19629476],\n",
       "       [0.6633315 , 0.3366685 ],\n",
       "       [0.80349345, 0.19650655],\n",
       "       [0.08810692, 0.91189308],\n",
       "       [0.21085247, 0.78914753],\n",
       "       [0.06808555, 0.93191445],\n",
       "       [0.30551614, 0.69448386],\n",
       "       [0.77200655, 0.22799345],\n",
       "       [0.25007166, 0.74992834],\n",
       "       [0.07042305, 0.92957695],\n",
       "       [0.48847325, 0.51152675],\n",
       "       [0.86994193, 0.13005807],\n",
       "       [0.58870582, 0.41129418],\n",
       "       [0.83423161, 0.16576839],\n",
       "       [0.68400596, 0.31599404],\n",
       "       [0.06376369, 0.93623631],\n",
       "       [0.5145904 , 0.4854096 ],\n",
       "       [0.30545862, 0.69454138],\n",
       "       [0.64279552, 0.35720448],\n",
       "       [0.58211512, 0.41788488],\n",
       "       [0.8161493 , 0.1838507 ],\n",
       "       [0.53786627, 0.46213373],\n",
       "       [0.23048516, 0.76951484],\n",
       "       [0.80278988, 0.19721012],\n",
       "       [0.8293079 , 0.1706921 ],\n",
       "       [0.91490695, 0.08509305],\n",
       "       [0.56731331, 0.43268669],\n",
       "       [0.66141768, 0.33858232],\n",
       "       [0.90481663, 0.09518337],\n",
       "       [0.31201585, 0.68798415],\n",
       "       [0.80024851, 0.19975149],\n",
       "       [0.27386909, 0.72613091],\n",
       "       [0.51129255, 0.48870745],\n",
       "       [0.30566142, 0.69433858],\n",
       "       [0.79686191, 0.20313809],\n",
       "       [0.79592804, 0.20407196],\n",
       "       [0.49949218, 0.50050782],\n",
       "       [0.30551614, 0.69448386],\n",
       "       [0.08544383, 0.91455617],\n",
       "       [0.83248427, 0.16751573],\n",
       "       [0.54618306, 0.45381694],\n",
       "       [0.80650305, 0.19349695],\n",
       "       [0.83241065, 0.16758935],\n",
       "       [0.83255386, 0.16744614],\n",
       "       [0.37146096, 0.62853904],\n",
       "       [0.74403928, 0.25596072],\n",
       "       [0.80010483, 0.19989517],\n",
       "       [0.81235693, 0.18764307],\n",
       "       [0.81658333, 0.18341667],\n",
       "       [0.58600771, 0.41399229],\n",
       "       [0.19225735, 0.80774265],\n",
       "       [0.09099578, 0.90900422],\n",
       "       [0.82946418, 0.17053582],\n",
       "       [0.30815226, 0.69184774],\n",
       "       [0.91153294, 0.08846706],\n",
       "       [0.05822703, 0.94177297],\n",
       "       [0.66789972, 0.33210028],\n",
       "       [0.06289926, 0.93710074],\n",
       "       [0.15437789, 0.84562211],\n",
       "       [0.26171044, 0.73828956],\n",
       "       [0.80679406, 0.19320594],\n",
       "       [0.10460398, 0.89539602],\n",
       "       [0.11608669, 0.88391331],\n",
       "       [0.51537238, 0.48462762],\n",
       "       [0.83255386, 0.16744614],\n",
       "       [0.22913952, 0.77086048],\n",
       "       [0.56396496, 0.43603504],\n",
       "       [0.83106156, 0.16893844],\n",
       "       [0.76504095, 0.23495905],\n",
       "       [0.09540199, 0.90459801],\n",
       "       [0.11194046, 0.88805954],\n",
       "       [0.02986021, 0.97013979],\n",
       "       [0.49393676, 0.50606324],\n",
       "       [0.07357957, 0.92642043],\n",
       "       [0.81307117, 0.18692883],\n",
       "       [0.82375674, 0.17624326],\n",
       "       [0.30989342, 0.69010658],\n",
       "       [0.06926032, 0.93073968],\n",
       "       [0.16635145, 0.83364855],\n",
       "       [0.34801733, 0.65198267],\n",
       "       [0.87206834, 0.12793166],\n",
       "       [0.14333328, 0.85666672],\n",
       "       [0.06367417, 0.93632583],\n",
       "       [0.83255983, 0.16744017],\n",
       "       [0.64316185, 0.35683815],\n",
       "       [0.69690561, 0.30309439],\n",
       "       [0.05731046, 0.94268954],\n",
       "       [0.07875832, 0.92124168],\n",
       "       [0.58047886, 0.41952114],\n",
       "       [0.83279233, 0.16720767],\n",
       "       [0.7575634 , 0.2424366 ],\n",
       "       [0.34966572, 0.65033428],\n",
       "       [0.66511584, 0.33488416],\n",
       "       [0.83256379, 0.16743621],\n",
       "       [0.83248427, 0.16751573],\n",
       "       [0.8281704 , 0.1718296 ],\n",
       "       [0.54572818, 0.45427182],\n",
       "       [0.87224661, 0.12775339],\n",
       "       [0.16073639, 0.83926361],\n",
       "       [0.82520937, 0.17479063],\n",
       "       [0.68338858, 0.31661142],\n",
       "       [0.8479854 , 0.1520146 ],\n",
       "       [0.04877304, 0.95122696],\n",
       "       [0.85578557, 0.14421443],\n",
       "       [0.83525771, 0.16474229],\n",
       "       [0.7929582 , 0.2070418 ],\n",
       "       [0.13845019, 0.86154981],\n",
       "       [0.59331207, 0.40668793],\n",
       "       [0.83315186, 0.16684814],\n",
       "       [0.56455585, 0.43544415],\n",
       "       [0.06777926, 0.93222074],\n",
       "       [0.80547107, 0.19452893],\n",
       "       [0.06018129, 0.93981871],\n",
       "       [0.5482752 , 0.4517248 ],\n",
       "       [0.3523048 , 0.6476952 ],\n",
       "       [0.80245322, 0.19754678],\n",
       "       [0.70753437, 0.29246563],\n",
       "       [0.68409844, 0.31590156],\n",
       "       [0.10308187, 0.89691813],\n",
       "       [0.33156116, 0.66843884],\n",
       "       [0.60791198, 0.39208802],\n",
       "       [0.07694708, 0.92305292],\n",
       "       [0.11685449, 0.88314551],\n",
       "       [0.49890227, 0.50109773],\n",
       "       [0.81953628, 0.18046372],\n",
       "       [0.54296394, 0.45703606],\n",
       "       [0.1231161 , 0.8768839 ],\n",
       "       [0.44183413, 0.55816587],\n",
       "       [0.26645344, 0.73354656],\n",
       "       [0.80664728, 0.19335272],\n",
       "       [0.30542231, 0.69457769],\n",
       "       [0.80370524, 0.19629476],\n",
       "       [0.66447653, 0.33552347],\n",
       "       [0.20748056, 0.79251944],\n",
       "       [0.54663334, 0.45336666],\n",
       "       [0.21244227, 0.78755773],\n",
       "       [0.06572349, 0.93427651],\n",
       "       [0.83110961, 0.16889039],\n",
       "       [0.86542593, 0.13457407],\n",
       "       [0.22094903, 0.77905097],\n",
       "       [0.80644256, 0.19355744],\n",
       "       [0.15425358, 0.84574642],\n",
       "       [0.64749432, 0.35250568],\n",
       "       [0.6409997 , 0.3590003 ],\n",
       "       [0.33196206, 0.66803794],\n",
       "       [0.1268478 , 0.8731522 ],\n",
       "       [0.65680611, 0.34319389],\n",
       "       [0.80163604, 0.19836396],\n",
       "       [0.04997956, 0.95002044],\n",
       "       [0.86760199, 0.13239801],\n",
       "       [0.83209404, 0.16790596],\n",
       "       [0.81635466, 0.18364534],\n",
       "       [0.79700273, 0.20299727],\n",
       "       [0.26001946, 0.73998054],\n",
       "       [0.83241065, 0.16758935],\n",
       "       [0.83288764, 0.16711236],\n",
       "       [0.80798554, 0.19201446],\n",
       "       [0.30548891, 0.69451109],\n",
       "       [0.13402593, 0.86597407],\n",
       "       [0.27589396, 0.72410604],\n",
       "       [0.81494878, 0.18505122],\n",
       "       [0.514838  , 0.485162  ],\n",
       "       [0.69716168, 0.30283832],\n",
       "       [0.06153776, 0.93846224],\n",
       "       [0.83221558, 0.16778442],\n",
       "       [0.66077556, 0.33922444],\n",
       "       [0.6257381 , 0.3742619 ],\n",
       "       [0.06780901, 0.93219099],\n",
       "       [0.80990966, 0.19009034],\n",
       "       [0.84801849, 0.15198151],\n",
       "       [0.4501614 , 0.5498386 ],\n",
       "       [0.11689075, 0.88310925],\n",
       "       [0.54819042, 0.45180958],\n",
       "       [0.19214596, 0.80785404],\n",
       "       [0.79403754, 0.20596246],\n",
       "       [0.83280425, 0.16719575],\n",
       "       [0.28984107, 0.71015893],\n",
       "       [0.11566106, 0.88433894],\n",
       "       [0.17599384, 0.82400616]])"
      ]
     },
     "execution_count": 116,
     "metadata": {},
     "output_type": "execute_result"
    }
   ],
   "source": [
    "ypred_proba = m_logreg.predict_proba(X_test_lfe) \n",
    "ypred_proba"
   ]
  },
  {
   "cell_type": "code",
   "execution_count": 117,
   "id": "9d04e391",
   "metadata": {},
   "outputs": [],
   "source": [
    "fpr, tpr, threshold = roc_curve(y_test, ypred_proba[:,1])"
   ]
  },
  {
   "cell_type": "code",
   "execution_count": 118,
   "id": "bf55756a",
   "metadata": {},
   "outputs": [
    {
     "data": {
      "text/plain": [
       "Text(0.5, 1.0, 'ROC Curve (LogisticRegression)')"
      ]
     },
     "execution_count": 118,
     "metadata": {},
     "output_type": "execute_result"
    },
    {
     "data": {
      "image/png": "[encoded data removed]",
      "text/plain": [
       "<Figure size 800x600 with 1 Axes>"
      ]
     },
     "metadata": {},
     "output_type": "display_data"
    }
   ],
   "source": [
    "plt.figure(figsize =(8, 6))\n",
    "palette = sns.color_palette(\"icefire\", as_cmap=True)\n",
    "plt.plot(fpr, tpr, lw = 0.8)\n",
    "sns.scatterplot(x = fpr[1:], y = tpr[1:], hue = threshold [1:], palette = palette)\n",
    "plt.legend(loc= 'upper right', bbox_to_anchor=(1.15, 1.01), ncol= 1)\n",
    "plt.xlabel(\"False positive rate\")\n",
    "plt.ylabel(\"True positive rate\")\n",
    "plt.title(\"ROC Curve (LogisticRegression)\")"
   ]
  },
  {
   "cell_type": "code",
   "execution_count": 119,
   "id": "e9800550",
   "metadata": {},
   "outputs": [
    {
     "name": "stdout",
     "output_type": "stream",
     "text": [
      "\n",
      "      fpr=[0.         0.         0.         0.00952381 0.00952381 0.01904762\n",
      " 0.01904762 0.02857143 0.02857143 0.03809524 0.03809524 0.05714286\n",
      " 0.05714286 0.06666667 0.06666667 0.07619048 0.07619048 0.07619048\n",
      " 0.08571429 0.08571429 0.17142857 0.17142857 0.18095238 0.18095238\n",
      " 0.19047619 0.19047619 0.2        0.2        0.20952381 0.20952381\n",
      " 0.21904762 0.21904762 0.35238095 0.35238095 0.45714286 0.45714286\n",
      " 0.5047619  0.5047619  0.57142857 0.57142857 0.61904762 0.61904762\n",
      " 0.78095238 0.83809524 0.88571429 0.88571429 0.97142857 0.97142857\n",
      " 1.        ] \n",
      " \n",
      "      \n",
      "      tpr=[0.         0.01351351 0.33783784 0.33783784 0.45945946 0.45945946\n",
      " 0.48648649 0.48648649 0.5        0.5        0.55405405 0.55405405\n",
      " 0.60810811 0.60810811 0.62162162 0.62162162 0.67567568 0.7027027\n",
      " 0.7027027  0.71621622 0.71621622 0.72972973 0.72972973 0.77027027\n",
      " 0.77027027 0.7972973  0.7972973  0.83783784 0.83783784 0.87837838\n",
      " 0.87837838 0.89189189 0.89189189 0.90540541 0.90540541 0.91891892\n",
      " 0.91891892 0.93243243 0.93243243 0.95945946 0.95945946 0.97297297\n",
      " 0.97297297 0.97297297 0.97297297 0.98648649 0.98648649 1.\n",
      " 1.        ] \n",
      " \n",
      "      \n",
      "      thresholds=[1.97 0.97 0.9  0.89 0.86 0.85 0.84 0.83 0.82 0.81 0.79 0.77 0.74 0.73\n",
      " 0.73 0.72 0.69 0.69 0.69 0.69 0.56 0.55 0.51 0.5  0.49 0.49 0.48 0.45\n",
      " 0.45 0.45 0.44 0.44 0.34 0.34 0.26 0.24 0.2  0.2  0.2  0.2  0.19 0.19\n",
      " 0.17 0.17 0.17 0.17 0.13 0.13 0.09]\n"
     ]
    }
   ],
   "source": [
    "print(f\"\"\"\n",
    "      fpr={fpr} \\n \n",
    "      \n",
    "      tpr={tpr} \\n \n",
    "      \n",
    "      thresholds={np.round(threshold,2)}\"\"\")"
   ]
  },
  {
   "cell_type": "code",
   "execution_count": 120,
   "id": "dd0be198",
   "metadata": {},
   "outputs": [
    {
     "data": {
      "text/plain": [
       "array([0.        , 0.01351351, 0.33783784, 0.32831403, 0.44993565,\n",
       "       0.44041184, 0.46743887, 0.45791506, 0.47142857, 0.46190476,\n",
       "       0.51595882, 0.4969112 , 0.55096525, 0.54144144, 0.55495495,\n",
       "       0.54543115, 0.5994852 , 0.62651223, 0.61698842, 0.63050193,\n",
       "       0.54478764, 0.55830116, 0.54877735, 0.58931789, 0.57979408,\n",
       "       0.60682111, 0.5972973 , 0.63783784, 0.62831403, 0.66885457,\n",
       "       0.65933076, 0.67284427, 0.53951094, 0.55302445, 0.44826255,\n",
       "       0.46177606, 0.41415701, 0.42767053, 0.36100386, 0.38803089,\n",
       "       0.34041184, 0.35392535, 0.19202059, 0.13487773, 0.08725869,\n",
       "       0.1007722 , 0.01505792, 0.02857143, 0.        ])"
      ]
     },
     "execution_count": 120,
     "metadata": {},
     "output_type": "execute_result"
    }
   ],
   "source": [
    "tpr - fpr"
   ]
  },
  {
   "cell_type": "code",
   "execution_count": 121,
   "id": "3e2f3b59",
   "metadata": {},
   "outputs": [
    {
     "data": {
      "text/plain": [
       "31"
      ]
     },
     "execution_count": 121,
     "metadata": {},
     "output_type": "execute_result"
    }
   ],
   "source": [
    "max_index = np.argmax(tpr - fpr)\n",
    "max_index"
   ]
  },
  {
   "cell_type": "markdown",
   "id": "ae782e82",
   "metadata": {},
   "source": [
    "**Area Under the Curve (AUC)**"
   ]
  },
  {
   "cell_type": "code",
   "execution_count": 122,
   "id": "97ea942a",
   "metadata": {},
   "outputs": [
    {
     "name": "stdout",
     "output_type": "stream",
     "text": [
      "Area under the curve =  0.8835263835263835\n"
     ]
    }
   ],
   "source": [
    "auc_score = auc(fpr, tpr)\n",
    "print(\"Area under the curve = \",auc_score)\n"
   ]
  },
  {
   "cell_type": "markdown",
   "id": "38c10436",
   "metadata": {},
   "source": [
    "#### Random forest model"
   ]
  },
  {
   "cell_type": "markdown",
   "id": "eef2587c",
   "metadata": {},
   "source": [
    "**Assign ypred_rf.**"
   ]
  },
  {
   "cell_type": "code",
   "execution_count": 123,
   "id": "d6c457ae",
   "metadata": {},
   "outputs": [],
   "source": [
    "ypred_rf = rf.predict(X_test_fe)"
   ]
  },
  {
   "cell_type": "code",
   "execution_count": 124,
   "id": "6687d42c",
   "metadata": {},
   "outputs": [
    {
     "data": {
      "text/plain": [
       "array([0, 0, 0, 1, 0, 1, 0, 0, 0, 1, 0, 0, 0, 0, 0, 1, 0, 0, 0, 0, 0, 0,\n",
       "       0, 0, 0, 0, 0, 0, 0, 1, 0, 0, 0, 0, 0, 0, 0, 0, 1, 0, 0, 0, 0, 0,\n",
       "       1, 0, 0, 0, 0, 0, 1, 1, 0, 0, 0, 1, 0, 1, 1, 0, 0, 1, 1, 0, 0, 1,\n",
       "       0, 0, 0, 1, 1, 1, 0, 1, 0, 0, 1, 1, 1, 1, 0, 1, 1, 0, 0, 0, 1, 1,\n",
       "       0, 0, 0, 0, 0, 0, 0, 0, 0, 0, 1, 0, 0, 0, 1, 0, 0, 0, 1, 0, 0, 0,\n",
       "       1, 0, 1, 0, 0, 0, 0, 0, 1, 1, 0, 1, 1, 1, 0, 0, 1, 0, 0, 0, 0, 0,\n",
       "       0, 1, 0, 0, 1, 0, 0, 0, 0, 1, 0, 0, 1, 1, 0, 0, 1, 0, 0, 0, 0, 0,\n",
       "       0, 0, 0, 0, 1, 1, 0, 0, 0, 1, 0, 0, 0, 1, 0, 0, 0, 1, 0, 0, 0, 0,\n",
       "       1, 1, 1])"
      ]
     },
     "execution_count": 124,
     "metadata": {},
     "output_type": "execute_result"
    }
   ],
   "source": [
    "ypred_rf"
   ]
  },
  {
   "cell_type": "markdown",
   "id": "9306e898",
   "metadata": {},
   "source": [
    "**Confusion matrix.**"
   ]
  },
  {
   "cell_type": "code",
   "execution_count": 125,
   "id": "01a93e8c",
   "metadata": {
    "scrolled": true
   },
   "outputs": [
    {
     "data": {
      "text/plain": [
       "Text(170.72222222222223, 0.5, 'Actual')"
      ]
     },
     "execution_count": 125,
     "metadata": {},
     "output_type": "execute_result"
    },
    {
     "data": {
      "image/png": "[encoded data removed]",
      "text/plain": [
       "<Figure size 1600x900 with 2 Axes>"
      ]
     },
     "metadata": {},
     "output_type": "display_data"
    }
   ],
   "source": [
    "conf = confusion_matrix(y_test, ypred_rf)\n",
    "plt.figure(figsize = (16, 9))\n",
    "sns.heatmap(conf, annot = True, cmap = \"BuPu\")\n",
    "plt.xlabel(\"Predicted\", fontsize = 14)\n",
    "plt.ylabel(\"Actual\", fontsize = 14)"
   ]
  },
  {
   "cell_type": "markdown",
   "id": "9c3b4742",
   "metadata": {},
   "source": [
    "\n",
    "False Positive: 11%\n",
    "False Negative: 33%\n",
    "\n",
    "True Positive: 41%\n",
    "True Negative: 94%"
   ]
  },
  {
   "cell_type": "markdown",
   "id": "13d738bb",
   "metadata": {},
   "source": [
    "**Accuracy**"
   ]
  },
  {
   "cell_type": "code",
   "execution_count": 126,
   "id": "0bfff5f0",
   "metadata": {},
   "outputs": [
    {
     "data": {
      "text/plain": [
       "0.7541899441340782"
      ]
     },
     "execution_count": 126,
     "metadata": {},
     "output_type": "execute_result"
    }
   ],
   "source": [
    "accuracy_score(y_test, ypred_rf) #compare predictive results to actual results"
   ]
  },
  {
   "cell_type": "markdown",
   "id": "566fc3f8",
   "metadata": {},
   "source": [
    "**Precision vs recall; F1 score**"
   ]
  },
  {
   "cell_type": "code",
   "execution_count": 127,
   "id": "078c621f",
   "metadata": {},
   "outputs": [
    {
     "name": "stdout",
     "output_type": "stream",
     "text": [
      "precision = 0.79 \n",
      " \n",
      "recall = 0.55\n",
      "\n",
      "f1 = 0.65\n"
     ]
    }
   ],
   "source": [
    "print(f\"\"\"precision = {round(precision_score(y_test,ypred_rf),2)} \\n \n",
    "recall = {round(recall_score(y_test,ypred_rf),2)}\\n\n",
    "f1 = {round(f1_score(y_test,ypred_rf),2)}\"\"\")"
   ]
  },
  {
   "cell_type": "markdown",
   "id": "c7c0b652",
   "metadata": {},
   "source": [
    "**Receiver Operator Curve (ROC) and Area Under the Curve (AUC)**"
   ]
  },
  {
   "cell_type": "code",
   "execution_count": 128,
   "id": "01275d5d",
   "metadata": {},
   "outputs": [
    {
     "data": {
      "text/plain": [
       "array([[0.77002044, 0.22997956],\n",
       "       [0.75419964, 0.24580036],\n",
       "       [0.82969584, 0.17030416],\n",
       "       [0.19304126, 0.80695874],\n",
       "       [0.52759295, 0.47240705],\n",
       "       [0.20547626, 0.79452374],\n",
       "       [0.51110146, 0.48889854],\n",
       "       [0.79224374, 0.20775626],\n",
       "       [0.5221216 , 0.4778784 ],\n",
       "       [0.31881263, 0.68118737],\n",
       "       [0.61392362, 0.38607638],\n",
       "       [0.83237043, 0.16762957],\n",
       "       [0.54550253, 0.45449747],\n",
       "       [0.82574672, 0.17425328],\n",
       "       [0.73370689, 0.26629311],\n",
       "       [0.31881263, 0.68118737],\n",
       "       [0.61718552, 0.38281448],\n",
       "       [0.51508696, 0.48491304],\n",
       "       [0.73470973, 0.26529027],\n",
       "       [0.70126944, 0.29873056],\n",
       "       [0.82969584, 0.17030416],\n",
       "       [0.706768  , 0.293232  ],\n",
       "       [0.55973191, 0.44026809],\n",
       "       [0.82969584, 0.17030416],\n",
       "       [0.80319441, 0.19680559],\n",
       "       [0.80342856, 0.19657144],\n",
       "       [0.70614498, 0.29385502],\n",
       "       [0.73370689, 0.26629311],\n",
       "       [0.6874655 , 0.3125345 ],\n",
       "       [0.49749365, 0.50250635],\n",
       "       [0.82969584, 0.17030416],\n",
       "       [0.51748867, 0.48251133],\n",
       "       [0.70599967, 0.29400033],\n",
       "       [0.51110146, 0.48889854],\n",
       "       [0.82969584, 0.17030416],\n",
       "       [0.76950919, 0.23049081],\n",
       "       [0.70599967, 0.29400033],\n",
       "       [0.51110146, 0.48889854],\n",
       "       [0.30341381, 0.69658619],\n",
       "       [0.83063442, 0.16936558],\n",
       "       [0.68392328, 0.31607672],\n",
       "       [0.80484529, 0.19515471],\n",
       "       [0.83063442, 0.16936558],\n",
       "       [0.82558918, 0.17441082],\n",
       "       [0.47873657, 0.52126343],\n",
       "       [0.76758805, 0.23241195],\n",
       "       [0.82969584, 0.17030416],\n",
       "       [0.82969584, 0.17030416],\n",
       "       [0.82690698, 0.17309302],\n",
       "       [0.6084996 , 0.3915004 ],\n",
       "       [0.46181227, 0.53818773],\n",
       "       [0.20030478, 0.79969522],\n",
       "       [0.76300026, 0.23699974],\n",
       "       [0.51908117, 0.48091883],\n",
       "       [0.82136793, 0.17863207],\n",
       "       [0.2137951 , 0.7862049 ],\n",
       "       [0.75419964, 0.24580036],\n",
       "       [0.20235175, 0.79764825],\n",
       "       [0.22512274, 0.77487726],\n",
       "       [0.52610711, 0.47389289],\n",
       "       [0.82465061, 0.17534939],\n",
       "       [0.21147263, 0.78852737],\n",
       "       [0.22331024, 0.77668976],\n",
       "       [0.71714975, 0.28285025],\n",
       "       [0.82558918, 0.17441082],\n",
       "       [0.24295603, 0.75704397],\n",
       "       [0.67756454, 0.32243546],\n",
       "       [0.82558918, 0.17441082],\n",
       "       [0.80458272, 0.19541728],\n",
       "       [0.20521028, 0.79478972],\n",
       "       [0.2197032 , 0.7802968 ],\n",
       "       [0.20856992, 0.79143008],\n",
       "       [0.69940701, 0.30059299],\n",
       "       [0.19375679, 0.80624321],\n",
       "       [0.82465061, 0.17534939],\n",
       "       [0.76640584, 0.23359416],\n",
       "       [0.49884524, 0.50115476],\n",
       "       [0.29798093, 0.70201907],\n",
       "       [0.22583703, 0.77416297],\n",
       "       [0.47873657, 0.52126343],\n",
       "       [0.82604491, 0.17395509],\n",
       "       [0.24549682, 0.75450318],\n",
       "       [0.19375679, 0.80624321],\n",
       "       [0.8266098 , 0.1733902 ],\n",
       "       [0.70249806, 0.29750194],\n",
       "       [0.70199302, 0.29800698],\n",
       "       [0.19104372, 0.80895628],\n",
       "       [0.22201246, 0.77798754],\n",
       "       [0.75203375, 0.24796625],\n",
       "       [0.8266098 , 0.1733902 ],\n",
       "       [0.78735851, 0.21264149],\n",
       "       [0.56384881, 0.43615119],\n",
       "       [0.70412011, 0.29587989],\n",
       "       [0.8266098 , 0.1733902 ],\n",
       "       [0.83063442, 0.16936558],\n",
       "       [0.82558918, 0.17441082],\n",
       "       [0.65441834, 0.34558166],\n",
       "       [0.83237043, 0.16762957],\n",
       "       [0.22583703, 0.77416297],\n",
       "       [0.82872265, 0.17127735],\n",
       "       [0.72286759, 0.27713241],\n",
       "       [0.82921383, 0.17078617],\n",
       "       [0.20982042, 0.79017958],\n",
       "       [0.82921383, 0.17078617],\n",
       "       [0.82977133, 0.17022867],\n",
       "       [0.79858892, 0.20141108],\n",
       "       [0.21999773, 0.78000227],\n",
       "       [0.70339653, 0.29660347],\n",
       "       [0.82977133, 0.17022867],\n",
       "       [0.70339653, 0.29660347],\n",
       "       [0.28476517, 0.71523483],\n",
       "       [0.82567122, 0.17432878],\n",
       "       [0.21154521, 0.78845479],\n",
       "       [0.69912094, 0.30087906],\n",
       "       [0.61457231, 0.38542769],\n",
       "       [0.82300751, 0.17699249],\n",
       "       [0.70412011, 0.29587989],\n",
       "       [0.73370689, 0.26629311],\n",
       "       [0.22732295, 0.77267705],\n",
       "       [0.48943334, 0.51056666],\n",
       "       [0.72447627, 0.27552373],\n",
       "       [0.19981885, 0.80018115],\n",
       "       [0.20636844, 0.79363156],\n",
       "       [0.48513008, 0.51486992],\n",
       "       [0.82469804, 0.17530196],\n",
       "       [0.706768  , 0.293232  ],\n",
       "       [0.30351048, 0.69648952],\n",
       "       [0.60867145, 0.39132855],\n",
       "       [0.50786751, 0.49213249],\n",
       "       [0.82969584, 0.17030416],\n",
       "       [0.51508696, 0.48491304],\n",
       "       [0.77002044, 0.22997956],\n",
       "       [0.77936226, 0.22063774],\n",
       "       [0.47544111, 0.52455889],\n",
       "       [0.6028744 , 0.3971256 ],\n",
       "       [0.51977901, 0.48022099],\n",
       "       [0.20578382, 0.79421618],\n",
       "       [0.82558918, 0.17441082],\n",
       "       [0.82834581, 0.17165419],\n",
       "       [0.51001541, 0.48998459],\n",
       "       [0.82969584, 0.17030416],\n",
       "       [0.22325964, 0.77674036],\n",
       "       [0.73470973, 0.26529027],\n",
       "       [0.69046111, 0.30953889],\n",
       "       [0.48716261, 0.51283739],\n",
       "       [0.21759033, 0.78240967],\n",
       "       [0.73470973, 0.26529027],\n",
       "       [0.76420398, 0.23579602],\n",
       "       [0.21154521, 0.78845479],\n",
       "       [0.83237043, 0.16762957],\n",
       "       [0.83063442, 0.16936558],\n",
       "       [0.82567122, 0.17432878],\n",
       "       [0.82465061, 0.17534939],\n",
       "       [0.50303072, 0.49696928],\n",
       "       [0.83063442, 0.16936558],\n",
       "       [0.82784556, 0.17215444],\n",
       "       [0.75489756, 0.24510244],\n",
       "       [0.51508696, 0.48491304],\n",
       "       [0.21759033, 0.78240967],\n",
       "       [0.4709352 , 0.5290648 ],\n",
       "       [0.82567122, 0.17432878],\n",
       "       [0.70874812, 0.29125188],\n",
       "       [0.73370689, 0.26629311],\n",
       "       [0.21154521, 0.78845479],\n",
       "       [0.83063442, 0.16936558],\n",
       "       [0.6498271 , 0.3501729 ],\n",
       "       [0.75093713, 0.24906287],\n",
       "       [0.28476517, 0.71523483],\n",
       "       [0.82969584, 0.17030416],\n",
       "       [0.82921383, 0.17078617],\n",
       "       [0.64096284, 0.35903716],\n",
       "       [0.24482752, 0.75517248],\n",
       "       [0.69912094, 0.30087906],\n",
       "       [0.50694182, 0.49305818],\n",
       "       [0.82690698, 0.17309302],\n",
       "       [0.8266098 , 0.1733902 ],\n",
       "       [0.47760164, 0.52239836],\n",
       "       [0.25257524, 0.74742476],\n",
       "       [0.46384071, 0.53615929]])"
      ]
     },
     "execution_count": 128,
     "metadata": {},
     "output_type": "execute_result"
    }
   ],
   "source": [
    "ypred_proba_rf = rf.predict_proba(X_test_fe) \n",
    "ypred_proba_rf"
   ]
  },
  {
   "cell_type": "code",
   "execution_count": 129,
   "id": "fd75f169",
   "metadata": {},
   "outputs": [],
   "source": [
    "fpr_rf, tpr_rf, threshold_rf = roc_curve(y_test, ypred_proba_rf[:,1])"
   ]
  },
  {
   "cell_type": "code",
   "execution_count": 130,
   "id": "f48695f7",
   "metadata": {},
   "outputs": [
    {
     "data": {
      "text/plain": [
       "Text(0.5, 1.0, 'ROC Curve (RandomForest)')"
      ]
     },
     "execution_count": 130,
     "metadata": {},
     "output_type": "execute_result"
    },
    {
     "data": {
      "image/png": "[encoded data removed]",
      "text/plain": [
       "<Figure size 800x600 with 1 Axes>"
      ]
     },
     "metadata": {},
     "output_type": "display_data"
    }
   ],
   "source": [
    "plt.figure(figsize =(8, 6))\n",
    "palette = sns.color_palette(\"icefire\", as_cmap=True)\n",
    "plt.plot(fpr_rf, tpr_rf, lw = 0.8)\n",
    "sns.scatterplot(x = fpr_rf[1:], y = tpr_rf[1:], hue = threshold_rf [1:], palette = palette)\n",
    "plt.legend(loc= 'upper right', bbox_to_anchor=(1.15, 1.01), ncol= 1)\n",
    "plt.xlabel(\"False positive rate\")\n",
    "plt.ylabel(\"True positive rate\")\n",
    "plt.title(\"ROC Curve (RandomForest)\")"
   ]
  },
  {
   "cell_type": "code",
   "execution_count": 131,
   "id": "eefe61ea",
   "metadata": {},
   "outputs": [
    {
     "name": "stdout",
     "output_type": "stream",
     "text": [
      "\n",
      "      fpr=[0.         0.         0.         0.         0.         0.\n",
      " 0.         0.         0.00952381 0.00952381 0.01904762 0.01904762\n",
      " 0.02857143 0.02857143 0.03809524 0.03809524 0.03809524 0.03809524\n",
      " 0.03809524 0.03809524 0.04761905 0.04761905 0.06666667 0.06666667\n",
      " 0.1047619  0.1047619  0.13333333 0.14285714 0.14285714 0.14285714\n",
      " 0.15238095 0.15238095 0.16190476 0.16190476 0.2        0.2\n",
      " 0.20952381 0.20952381 0.24761905 0.24761905 0.24761905 0.27619048\n",
      " 0.28571429 0.3047619  0.31428571 0.32380952 0.32380952 0.32380952\n",
      " 0.35238095 0.38095238 0.40952381 0.42857143 0.44761905 0.44761905\n",
      " 0.4952381  0.4952381  0.5047619  0.5047619  0.58095238 0.60952381\n",
      " 0.61904762 0.66666667 0.6952381  0.71428571 0.75238095 0.77142857\n",
      " 0.8        0.82857143 0.91428571 0.92380952 0.98095238 1.        ] \n",
      " \n",
      "      \n",
      "      tpr=[0.         0.01351351 0.02702703 0.05405405 0.18918919 0.22972973\n",
      " 0.24324324 0.27027027 0.27027027 0.2972973  0.2972973  0.32432432\n",
      " 0.33783784 0.35135135 0.35135135 0.39189189 0.41891892 0.45945946\n",
      " 0.48648649 0.51351351 0.51351351 0.54054054 0.54054054 0.55405405\n",
      " 0.55405405 0.56756757 0.56756757 0.59459459 0.63513514 0.71621622\n",
      " 0.71621622 0.72972973 0.72972973 0.74324324 0.74324324 0.77027027\n",
      " 0.77027027 0.78378378 0.78378378 0.81081081 0.82432432 0.82432432\n",
      " 0.83783784 0.83783784 0.85135135 0.85135135 0.87837838 0.89189189\n",
      " 0.89189189 0.90540541 0.90540541 0.90540541 0.90540541 0.91891892\n",
      " 0.91891892 0.94594595 0.94594595 0.95945946 0.95945946 0.95945946\n",
      " 0.95945946 0.95945946 0.95945946 0.95945946 0.95945946 0.95945946\n",
      " 0.95945946 0.95945946 0.97297297 0.98648649 0.98648649 1.        ] \n",
      " \n",
      "      \n",
      "      thresholds=[1.81 0.81 0.81 0.81 0.79 0.79 0.79 0.78 0.78 0.78 0.78 0.77 0.77 0.77\n",
      " 0.76 0.75 0.72 0.7  0.68 0.54 0.53 0.52 0.52 0.51 0.5  0.5  0.49 0.49\n",
      " 0.48 0.47 0.45 0.44 0.44 0.4  0.39 0.36 0.35 0.35 0.31 0.3  0.3  0.3\n",
      " 0.3  0.3  0.29 0.29 0.29 0.29 0.28 0.27 0.27 0.25 0.25 0.25 0.23 0.23\n",
      " 0.22 0.21 0.18 0.18 0.18 0.17 0.17 0.17 0.17 0.17 0.17 0.17 0.17 0.17\n",
      " 0.17 0.17]\n"
     ]
    }
   ],
   "source": [
    "print(f\"\"\"\n",
    "      fpr={fpr_rf} \\n \n",
    "      \n",
    "      tpr={tpr_rf} \\n \n",
    "      \n",
    "      thresholds={np.round(threshold_rf,2)}\"\"\")"
   ]
  },
  {
   "cell_type": "code",
   "execution_count": 132,
   "id": "a15591e5",
   "metadata": {},
   "outputs": [
    {
     "data": {
      "text/plain": [
       "array([0.        , 0.01351351, 0.02702703, 0.05405405, 0.18918919,\n",
       "       0.22972973, 0.24324324, 0.27027027, 0.26074646, 0.28777349,\n",
       "       0.27824968, 0.30527671, 0.30926641, 0.32277992, 0.31325611,\n",
       "       0.35379665, 0.38082368, 0.42136422, 0.44839125, 0.47541828,\n",
       "       0.46589447, 0.49292149, 0.47387387, 0.48738739, 0.44929215,\n",
       "       0.46280566, 0.43423423, 0.45173745, 0.49227799, 0.57335907,\n",
       "       0.56383526, 0.57734878, 0.56782497, 0.58133848, 0.54324324,\n",
       "       0.57027027, 0.56074646, 0.57425997, 0.53616474, 0.56319176,\n",
       "       0.57670528, 0.54813385, 0.55212355, 0.53307593, 0.53706564,\n",
       "       0.52754183, 0.55456885, 0.56808237, 0.53951094, 0.52445302,\n",
       "       0.4958816 , 0.47683398, 0.45778636, 0.47129987, 0.42368082,\n",
       "       0.45070785, 0.44118404, 0.45469755, 0.37850708, 0.34993565,\n",
       "       0.34041184, 0.29279279, 0.26422136, 0.24517375, 0.20707851,\n",
       "       0.18803089, 0.15945946, 0.13088803, 0.05868726, 0.06267696,\n",
       "       0.00553411, 0.        ])"
      ]
     },
     "execution_count": 132,
     "metadata": {},
     "output_type": "execute_result"
    }
   ],
   "source": [
    "tpr_rf - fpr_rf"
   ]
  },
  {
   "cell_type": "code",
   "execution_count": 133,
   "id": "77a6ad22",
   "metadata": {},
   "outputs": [
    {
     "data": {
      "text/plain": [
       "33"
      ]
     },
     "execution_count": 133,
     "metadata": {},
     "output_type": "execute_result"
    }
   ],
   "source": [
    "max_index_rf = np.argmax(tpr_rf - fpr_rf)\n",
    "max_index_rf"
   ]
  },
  {
   "cell_type": "markdown",
   "id": "7210249d",
   "metadata": {},
   "source": [
    "**Area Under the Curve (AUC)**"
   ]
  },
  {
   "cell_type": "code",
   "execution_count": 134,
   "id": "572a1a21",
   "metadata": {},
   "outputs": [
    {
     "name": "stdout",
     "output_type": "stream",
     "text": [
      "Area under the curve =  0.8552123552123552\n"
     ]
    }
   ],
   "source": [
    "auc_score_rf = auc(fpr_rf, tpr_rf)\n",
    "print(\"Area under the curve = \",auc_score_rf)\n"
   ]
  },
  {
   "cell_type": "markdown",
   "id": "03460ed4",
   "metadata": {
    "heading_collapsed": true
   },
   "source": [
    "# 8. How to get the .csv files for Kaggle "
   ]
  },
  {
   "cell_type": "markdown",
   "id": "43cde344",
   "metadata": {
    "hidden": true
   },
   "source": [
    "#### Load test dataset of Kaggle."
   ]
  },
  {
   "cell_type": "code",
   "execution_count": 135,
   "id": "06b54ad4",
   "metadata": {
    "hidden": true
   },
   "outputs": [],
   "source": [
    "df_sub = pd.read_csv(\"test.csv\", index_col = 0)"
   ]
  },
  {
   "cell_type": "code",
   "execution_count": 136,
   "id": "6de4fa82",
   "metadata": {
    "hidden": true
   },
   "outputs": [
    {
     "data": {
      "text/html": [
       "<div>\n",
       "<style scoped>\n",
       "    .dataframe tbody tr th:only-of-type {\n",
       "        vertical-align: middle;\n",
       "    }\n",
       "\n",
       "    .dataframe tbody tr th {\n",
       "        vertical-align: top;\n",
       "    }\n",
       "\n",
       "    .dataframe thead th {\n",
       "        text-align: right;\n",
       "    }\n",
       "</style>\n",
       "<table border=\"1\" class=\"dataframe\">\n",
       "  <thead>\n",
       "    <tr style=\"text-align: right;\">\n",
       "      <th></th>\n",
       "      <th>Pclass</th>\n",
       "      <th>Name</th>\n",
       "      <th>Sex</th>\n",
       "      <th>Age</th>\n",
       "      <th>SibSp</th>\n",
       "      <th>Parch</th>\n",
       "      <th>Ticket</th>\n",
       "      <th>Fare</th>\n",
       "      <th>Cabin</th>\n",
       "      <th>Embarked</th>\n",
       "    </tr>\n",
       "    <tr>\n",
       "      <th>PassengerId</th>\n",
       "      <th></th>\n",
       "      <th></th>\n",
       "      <th></th>\n",
       "      <th></th>\n",
       "      <th></th>\n",
       "      <th></th>\n",
       "      <th></th>\n",
       "      <th></th>\n",
       "      <th></th>\n",
       "      <th></th>\n",
       "    </tr>\n",
       "  </thead>\n",
       "  <tbody>\n",
       "    <tr>\n",
       "      <th>892</th>\n",
       "      <td>3</td>\n",
       "      <td>Kelly, Mr. James</td>\n",
       "      <td>male</td>\n",
       "      <td>34.5</td>\n",
       "      <td>0</td>\n",
       "      <td>0</td>\n",
       "      <td>330911</td>\n",
       "      <td>7.8292</td>\n",
       "      <td>NaN</td>\n",
       "      <td>Q</td>\n",
       "    </tr>\n",
       "    <tr>\n",
       "      <th>893</th>\n",
       "      <td>3</td>\n",
       "      <td>Wilkes, Mrs. James (Ellen Needs)</td>\n",
       "      <td>female</td>\n",
       "      <td>47.0</td>\n",
       "      <td>1</td>\n",
       "      <td>0</td>\n",
       "      <td>363272</td>\n",
       "      <td>7.0000</td>\n",
       "      <td>NaN</td>\n",
       "      <td>S</td>\n",
       "    </tr>\n",
       "    <tr>\n",
       "      <th>894</th>\n",
       "      <td>2</td>\n",
       "      <td>Myles, Mr. Thomas Francis</td>\n",
       "      <td>male</td>\n",
       "      <td>62.0</td>\n",
       "      <td>0</td>\n",
       "      <td>0</td>\n",
       "      <td>240276</td>\n",
       "      <td>9.6875</td>\n",
       "      <td>NaN</td>\n",
       "      <td>Q</td>\n",
       "    </tr>\n",
       "    <tr>\n",
       "      <th>895</th>\n",
       "      <td>3</td>\n",
       "      <td>Wirz, Mr. Albert</td>\n",
       "      <td>male</td>\n",
       "      <td>27.0</td>\n",
       "      <td>0</td>\n",
       "      <td>0</td>\n",
       "      <td>315154</td>\n",
       "      <td>8.6625</td>\n",
       "      <td>NaN</td>\n",
       "      <td>S</td>\n",
       "    </tr>\n",
       "    <tr>\n",
       "      <th>896</th>\n",
       "      <td>3</td>\n",
       "      <td>Hirvonen, Mrs. Alexander (Helga E Lindqvist)</td>\n",
       "      <td>female</td>\n",
       "      <td>22.0</td>\n",
       "      <td>1</td>\n",
       "      <td>1</td>\n",
       "      <td>3101298</td>\n",
       "      <td>12.2875</td>\n",
       "      <td>NaN</td>\n",
       "      <td>S</td>\n",
       "    </tr>\n",
       "  </tbody>\n",
       "</table>\n",
       "</div>"
      ],
      "text/plain": [
       "             Pclass                                          Name     Sex  \\\n",
       "PassengerId                                                                 \n",
       "892               3                              Kelly, Mr. James    male   \n",
       "893               3              Wilkes, Mrs. James (Ellen Needs)  female   \n",
       "894               2                     Myles, Mr. Thomas Francis    male   \n",
       "895               3                              Wirz, Mr. Albert    male   \n",
       "896               3  Hirvonen, Mrs. Alexander (Helga E Lindqvist)  female   \n",
       "\n",
       "              Age  SibSp  Parch   Ticket     Fare Cabin Embarked  \n",
       "PassengerId                                                       \n",
       "892          34.5      0      0   330911   7.8292   NaN        Q  \n",
       "893          47.0      1      0   363272   7.0000   NaN        S  \n",
       "894          62.0      0      0   240276   9.6875   NaN        Q  \n",
       "895          27.0      0      0   315154   8.6625   NaN        S  \n",
       "896          22.0      1      1  3101298  12.2875   NaN        S  "
      ]
     },
     "execution_count": 136,
     "metadata": {},
     "output_type": "execute_result"
    }
   ],
   "source": [
    "df_sub.head()"
   ]
  },
  {
   "cell_type": "code",
   "execution_count": 137,
   "id": "8ce7bc09",
   "metadata": {
    "hidden": true
   },
   "outputs": [
    {
     "data": {
      "text/plain": [
       "(418, 10)"
      ]
     },
     "execution_count": 137,
     "metadata": {},
     "output_type": "execute_result"
    }
   ],
   "source": [
    "df_sub.shape"
   ]
  },
  {
   "cell_type": "markdown",
   "id": "b8c67617",
   "metadata": {
    "hidden": true
   },
   "source": [
    "#### Drop columns you decided in your model that as not needed."
   ]
  },
  {
   "cell_type": "code",
   "execution_count": 138,
   "id": "6e9585db",
   "metadata": {
    "hidden": true
   },
   "outputs": [],
   "source": [
    "df_sub.drop([\"Name\", \"Parch\", \"Ticket\", \"Cabin\", \"Embarked\"], axis = 1, inplace = True)"
   ]
  },
  {
   "cell_type": "code",
   "execution_count": 139,
   "id": "e9b2fa7a",
   "metadata": {
    "hidden": true
   },
   "outputs": [
    {
     "data": {
      "text/html": [
       "<div>\n",
       "<style scoped>\n",
       "    .dataframe tbody tr th:only-of-type {\n",
       "        vertical-align: middle;\n",
       "    }\n",
       "\n",
       "    .dataframe tbody tr th {\n",
       "        vertical-align: top;\n",
       "    }\n",
       "\n",
       "    .dataframe thead th {\n",
       "        text-align: right;\n",
       "    }\n",
       "</style>\n",
       "<table border=\"1\" class=\"dataframe\">\n",
       "  <thead>\n",
       "    <tr style=\"text-align: right;\">\n",
       "      <th></th>\n",
       "      <th>Pclass</th>\n",
       "      <th>Sex</th>\n",
       "      <th>Age</th>\n",
       "      <th>SibSp</th>\n",
       "      <th>Fare</th>\n",
       "    </tr>\n",
       "    <tr>\n",
       "      <th>PassengerId</th>\n",
       "      <th></th>\n",
       "      <th></th>\n",
       "      <th></th>\n",
       "      <th></th>\n",
       "      <th></th>\n",
       "    </tr>\n",
       "  </thead>\n",
       "  <tbody>\n",
       "    <tr>\n",
       "      <th>892</th>\n",
       "      <td>3</td>\n",
       "      <td>male</td>\n",
       "      <td>34.5</td>\n",
       "      <td>0</td>\n",
       "      <td>7.8292</td>\n",
       "    </tr>\n",
       "    <tr>\n",
       "      <th>893</th>\n",
       "      <td>3</td>\n",
       "      <td>female</td>\n",
       "      <td>47.0</td>\n",
       "      <td>1</td>\n",
       "      <td>7.0000</td>\n",
       "    </tr>\n",
       "    <tr>\n",
       "      <th>894</th>\n",
       "      <td>2</td>\n",
       "      <td>male</td>\n",
       "      <td>62.0</td>\n",
       "      <td>0</td>\n",
       "      <td>9.6875</td>\n",
       "    </tr>\n",
       "    <tr>\n",
       "      <th>895</th>\n",
       "      <td>3</td>\n",
       "      <td>male</td>\n",
       "      <td>27.0</td>\n",
       "      <td>0</td>\n",
       "      <td>8.6625</td>\n",
       "    </tr>\n",
       "    <tr>\n",
       "      <th>896</th>\n",
       "      <td>3</td>\n",
       "      <td>female</td>\n",
       "      <td>22.0</td>\n",
       "      <td>1</td>\n",
       "      <td>12.2875</td>\n",
       "    </tr>\n",
       "  </tbody>\n",
       "</table>\n",
       "</div>"
      ],
      "text/plain": [
       "             Pclass     Sex   Age  SibSp     Fare\n",
       "PassengerId                                      \n",
       "892               3    male  34.5      0   7.8292\n",
       "893               3  female  47.0      1   7.0000\n",
       "894               2    male  62.0      0   9.6875\n",
       "895               3    male  27.0      0   8.6625\n",
       "896               3  female  22.0      1  12.2875"
      ]
     },
     "execution_count": 139,
     "metadata": {},
     "output_type": "execute_result"
    }
   ],
   "source": [
    "df_sub.head()"
   ]
  },
  {
   "cell_type": "code",
   "execution_count": 140,
   "id": "670d349c",
   "metadata": {
    "hidden": true
   },
   "outputs": [
    {
     "data": {
      "text/plain": [
       "Pclass     0\n",
       "Sex        0\n",
       "Age       86\n",
       "SibSp      0\n",
       "Fare       1\n",
       "dtype: int64"
      ]
     },
     "execution_count": 140,
     "metadata": {},
     "output_type": "execute_result"
    }
   ],
   "source": [
    "df_sub.isnull().sum()"
   ]
  },
  {
   "cell_type": "code",
   "execution_count": 141,
   "id": "aa1d9204",
   "metadata": {
    "hidden": true
   },
   "outputs": [],
   "source": [
    "df_sub[\"Fare\"].fillna(df_sub[\"Fare\"].median(), inplace = True)"
   ]
  },
  {
   "cell_type": "markdown",
   "id": "5ada7bdc",
   "metadata": {
    "hidden": true
   },
   "source": [
    "#### Apply the feature engineering of the model to the dataset."
   ]
  },
  {
   "cell_type": "markdown",
   "id": "b26c367d",
   "metadata": {
    "hidden": true
   },
   "source": [
    "**Logistic regression model**"
   ]
  },
  {
   "cell_type": "code",
   "execution_count": 142,
   "id": "8abbbc67",
   "metadata": {
    "hidden": true
   },
   "outputs": [],
   "source": [
    "X_sub_lfe = column_transformer_logreg.transform(df_sub)"
   ]
  },
  {
   "cell_type": "code",
   "execution_count": 143,
   "id": "2c63c036",
   "metadata": {
    "hidden": true
   },
   "outputs": [
    {
     "data": {
      "text/plain": [
       "(418, 11)"
      ]
     },
     "execution_count": 143,
     "metadata": {},
     "output_type": "execute_result"
    }
   ],
   "source": [
    "X_sub_lfe.shape"
   ]
  },
  {
   "cell_type": "code",
   "execution_count": 144,
   "id": "8817e9f5",
   "metadata": {
    "hidden": true
   },
   "outputs": [
    {
     "data": {
      "text/plain": [
       "array([[ 0.4282483 ,  0.        ,  1.        , ...,  0.        ,\n",
       "         0.        , -0.29346622],\n",
       "       [ 0.58532295,  0.        ,  1.        , ...,  0.        ,\n",
       "         0.        , -0.33019712],\n",
       "       [ 0.77381252,  1.        ,  0.        , ...,  0.        ,\n",
       "         0.        , -0.2111495 ],\n",
       "       ...,\n",
       "       [ 0.47851219,  0.        ,  1.        , ...,  0.        ,\n",
       "         0.        , -0.31912292],\n",
       "       [ 0.36540395,  0.        ,  1.        , ...,  0.        ,\n",
       "         0.        , -0.28368549],\n",
       "       [ 0.36540395,  0.        ,  1.        , ...,  0.        ,\n",
       "         0.        ,  0.35012625]])"
      ]
     },
     "execution_count": 144,
     "metadata": {},
     "output_type": "execute_result"
    }
   ],
   "source": [
    "X_sub_lfe"
   ]
  },
  {
   "cell_type": "markdown",
   "id": "9ee1e981",
   "metadata": {
    "hidden": true
   },
   "source": [
    "**Random forest model**"
   ]
  },
  {
   "cell_type": "code",
   "execution_count": 145,
   "id": "58f4fbe0",
   "metadata": {
    "hidden": true
   },
   "outputs": [],
   "source": [
    "X_sub_fe = column_transformer_rf.transform(df_sub)"
   ]
  },
  {
   "cell_type": "code",
   "execution_count": 146,
   "id": "ff31811e",
   "metadata": {
    "hidden": true
   },
   "outputs": [
    {
     "data": {
      "text/plain": [
       "(418, 11)"
      ]
     },
     "execution_count": 146,
     "metadata": {},
     "output_type": "execute_result"
    }
   ],
   "source": [
    "X_sub_fe.shape"
   ]
  },
  {
   "cell_type": "code",
   "execution_count": 147,
   "id": "4fc625cf",
   "metadata": {
    "hidden": true
   },
   "outputs": [
    {
     "data": {
      "text/plain": [
       "array([[ 0.38470414,  0.        ,  1.        , ...,  0.        ,\n",
       "         0.        , -0.29346622],\n",
       "       [ 1.3462426 ,  0.        ,  1.        , ...,  0.        ,\n",
       "         0.        , -0.33019712],\n",
       "       [ 2.50008876,  1.        ,  0.        , ...,  0.        ,\n",
       "         0.        , -0.2111495 ],\n",
       "       ...,\n",
       "       [ 0.69239645,  0.        ,  1.        , ...,  0.        ,\n",
       "         0.        , -0.31912292],\n",
       "       [ 0.        ,  0.        ,  1.        , ...,  0.        ,\n",
       "         0.        , -0.28368549],\n",
       "       [ 0.        ,  0.        ,  1.        , ...,  0.        ,\n",
       "         0.        ,  0.35012625]])"
      ]
     },
     "execution_count": 147,
     "metadata": {},
     "output_type": "execute_result"
    }
   ],
   "source": [
    "X_sub_fe"
   ]
  },
  {
   "cell_type": "markdown",
   "id": "0338fc54",
   "metadata": {
    "hidden": true
   },
   "source": [
    "#### Train the model."
   ]
  },
  {
   "cell_type": "markdown",
   "id": "69d7d64c",
   "metadata": {
    "hidden": true
   },
   "source": [
    "**Logistic regression model**"
   ]
  },
  {
   "cell_type": "code",
   "execution_count": 148,
   "id": "2761f5e6",
   "metadata": {
    "hidden": true
   },
   "outputs": [],
   "source": [
    "m_logreg = LogisticRegression(class_weight = \"balanced\")"
   ]
  },
  {
   "cell_type": "code",
   "execution_count": 149,
   "id": "deaffbbc",
   "metadata": {
    "hidden": true
   },
   "outputs": [
    {
     "data": {
      "text/html": [
       "<style>#sk-2bd56bb3-eb5a-4384-8127-74a621a31bdf {color: black;background-color: white;}#sk-2bd56bb3-eb5a-4384-8127-74a621a31bdf pre{padding: 0;}#sk-2bd56bb3-eb5a-4384-8127-74a621a31bdf div.sk-toggleable {background-color: white;}#sk-2bd56bb3-eb5a-4384-8127-74a621a31bdf label.sk-toggleable__label {cursor: pointer;display: block;width: 100%;margin-bottom: 0;padding: 0.3em;box-sizing: border-box;text-align: center;}#sk-2bd56bb3-eb5a-4384-8127-74a621a31bdf label.sk-toggleable__label-arrow:before {content: \"▸\";float: left;margin-right: 0.25em;color: #696969;}#sk-2bd56bb3-eb5a-4384-8127-74a621a31bdf label.sk-toggleable__label-arrow:hover:before {color: black;}#sk-2bd56bb3-eb5a-4384-8127-74a621a31bdf div.sk-estimator:hover label.sk-toggleable__label-arrow:before {color: black;}#sk-2bd56bb3-eb5a-4384-8127-74a621a31bdf div.sk-toggleable__content {max-height: 0;max-width: 0;overflow: hidden;text-align: left;background-color: #f0f8ff;}#sk-2bd56bb3-eb5a-4384-8127-74a621a31bdf div.sk-toggleable__content pre {margin: 0.2em;color: black;border-radius: 0.25em;background-color: #f0f8ff;}#sk-2bd56bb3-eb5a-4384-8127-74a621a31bdf input.sk-toggleable__control:checked~div.sk-toggleable__content {max-height: 200px;max-width: 100%;overflow: auto;}#sk-2bd56bb3-eb5a-4384-8127-74a621a31bdf input.sk-toggleable__control:checked~label.sk-toggleable__label-arrow:before {content: \"▾\";}#sk-2bd56bb3-eb5a-4384-8127-74a621a31bdf div.sk-estimator input.sk-toggleable__control:checked~label.sk-toggleable__label {background-color: #d4ebff;}#sk-2bd56bb3-eb5a-4384-8127-74a621a31bdf div.sk-label input.sk-toggleable__control:checked~label.sk-toggleable__label {background-color: #d4ebff;}#sk-2bd56bb3-eb5a-4384-8127-74a621a31bdf input.sk-hidden--visually {border: 0;clip: rect(1px 1px 1px 1px);clip: rect(1px, 1px, 1px, 1px);height: 1px;margin: -1px;overflow: hidden;padding: 0;position: absolute;width: 1px;}#sk-2bd56bb3-eb5a-4384-8127-74a621a31bdf div.sk-estimator {font-family: monospace;background-color: #f0f8ff;border: 1px dotted black;border-radius: 0.25em;box-sizing: border-box;margin-bottom: 0.5em;}#sk-2bd56bb3-eb5a-4384-8127-74a621a31bdf div.sk-estimator:hover {background-color: #d4ebff;}#sk-2bd56bb3-eb5a-4384-8127-74a621a31bdf div.sk-parallel-item::after {content: \"\";width: 100%;border-bottom: 1px solid gray;flex-grow: 1;}#sk-2bd56bb3-eb5a-4384-8127-74a621a31bdf div.sk-label:hover label.sk-toggleable__label {background-color: #d4ebff;}#sk-2bd56bb3-eb5a-4384-8127-74a621a31bdf div.sk-serial::before {content: \"\";position: absolute;border-left: 1px solid gray;box-sizing: border-box;top: 2em;bottom: 0;left: 50%;}#sk-2bd56bb3-eb5a-4384-8127-74a621a31bdf div.sk-serial {display: flex;flex-direction: column;align-items: center;background-color: white;padding-right: 0.2em;padding-left: 0.2em;}#sk-2bd56bb3-eb5a-4384-8127-74a621a31bdf div.sk-item {z-index: 1;}#sk-2bd56bb3-eb5a-4384-8127-74a621a31bdf div.sk-parallel {display: flex;align-items: stretch;justify-content: center;background-color: white;}#sk-2bd56bb3-eb5a-4384-8127-74a621a31bdf div.sk-parallel::before {content: \"\";position: absolute;border-left: 1px solid gray;box-sizing: border-box;top: 2em;bottom: 0;left: 50%;}#sk-2bd56bb3-eb5a-4384-8127-74a621a31bdf div.sk-parallel-item {display: flex;flex-direction: column;position: relative;background-color: white;}#sk-2bd56bb3-eb5a-4384-8127-74a621a31bdf div.sk-parallel-item:first-child::after {align-self: flex-end;width: 50%;}#sk-2bd56bb3-eb5a-4384-8127-74a621a31bdf div.sk-parallel-item:last-child::after {align-self: flex-start;width: 50%;}#sk-2bd56bb3-eb5a-4384-8127-74a621a31bdf div.sk-parallel-item:only-child::after {width: 0;}#sk-2bd56bb3-eb5a-4384-8127-74a621a31bdf div.sk-dashed-wrapped {border: 1px dashed gray;margin: 0 0.4em 0.5em 0.4em;box-sizing: border-box;padding-bottom: 0.4em;background-color: white;position: relative;}#sk-2bd56bb3-eb5a-4384-8127-74a621a31bdf div.sk-label label {font-family: monospace;font-weight: bold;background-color: white;display: inline-block;line-height: 1.2em;}#sk-2bd56bb3-eb5a-4384-8127-74a621a31bdf div.sk-label-container {position: relative;z-index: 2;text-align: center;}#sk-2bd56bb3-eb5a-4384-8127-74a621a31bdf div.sk-container {/* jupyter's `normalize.less` sets `[hidden] { display: none; }` but bootstrap.min.css set `[hidden] { display: none !important; }` so we also need the `!important` here to be able to override the default hidden behavior on the sphinx rendered scikit-learn.org. See: https://github.com/scikit-learn/scikit-learn/issues/21755 */display: inline-block !important;position: relative;}#sk-2bd56bb3-eb5a-4384-8127-74a621a31bdf div.sk-text-repr-fallback {display: none;}</style><div id=\"sk-2bd56bb3-eb5a-4384-8127-74a621a31bdf\" class=\"sk-top-container\"><div class=\"sk-text-repr-fallback\"><pre>LogisticRegression(class_weight=&#x27;balanced&#x27;)</pre><b>Please rerun this cell to show the HTML repr or trust the notebook.</b></div><div class=\"sk-container\" hidden><div class=\"sk-item\"><div class=\"sk-estimator sk-toggleable\"><input class=\"sk-toggleable__control sk-hidden--visually\" id=\"3e314b7a-f9af-4ed1-a04a-2d7aa8b49e0f\" type=\"checkbox\" checked><label for=\"3e314b7a-f9af-4ed1-a04a-2d7aa8b49e0f\" class=\"sk-toggleable__label sk-toggleable__label-arrow\">LogisticRegression</label><div class=\"sk-toggleable__content\"><pre>LogisticRegression(class_weight=&#x27;balanced&#x27;)</pre></div></div></div></div></div>"
      ],
      "text/plain": [
       "LogisticRegression(class_weight='balanced')"
      ]
     },
     "execution_count": 149,
     "metadata": {},
     "output_type": "execute_result"
    }
   ],
   "source": [
    "m_logreg.fit(X_train_lfe, y_train)"
   ]
  },
  {
   "cell_type": "markdown",
   "id": "eb25c7ee",
   "metadata": {
    "hidden": true
   },
   "source": [
    "**Random forest model**"
   ]
  },
  {
   "cell_type": "code",
   "execution_count": 150,
   "id": "2bce266b",
   "metadata": {
    "hidden": true
   },
   "outputs": [],
   "source": [
    "rf = RandomForestClassifier(n_estimators = 100, max_depth = 3)"
   ]
  },
  {
   "cell_type": "code",
   "execution_count": 151,
   "id": "346f4c18",
   "metadata": {
    "hidden": true
   },
   "outputs": [
    {
     "data": {
      "text/html": [
       "<style>#sk-52a94834-705f-4837-86ae-4f99b43ce808 {color: black;background-color: white;}#sk-52a94834-705f-4837-86ae-4f99b43ce808 pre{padding: 0;}#sk-52a94834-705f-4837-86ae-4f99b43ce808 div.sk-toggleable {background-color: white;}#sk-52a94834-705f-4837-86ae-4f99b43ce808 label.sk-toggleable__label {cursor: pointer;display: block;width: 100%;margin-bottom: 0;padding: 0.3em;box-sizing: border-box;text-align: center;}#sk-52a94834-705f-4837-86ae-4f99b43ce808 label.sk-toggleable__label-arrow:before {content: \"▸\";float: left;margin-right: 0.25em;color: #696969;}#sk-52a94834-705f-4837-86ae-4f99b43ce808 label.sk-toggleable__label-arrow:hover:before {color: black;}#sk-52a94834-705f-4837-86ae-4f99b43ce808 div.sk-estimator:hover label.sk-toggleable__label-arrow:before {color: black;}#sk-52a94834-705f-4837-86ae-4f99b43ce808 div.sk-toggleable__content {max-height: 0;max-width: 0;overflow: hidden;text-align: left;background-color: #f0f8ff;}#sk-52a94834-705f-4837-86ae-4f99b43ce808 div.sk-toggleable__content pre {margin: 0.2em;color: black;border-radius: 0.25em;background-color: #f0f8ff;}#sk-52a94834-705f-4837-86ae-4f99b43ce808 input.sk-toggleable__control:checked~div.sk-toggleable__content {max-height: 200px;max-width: 100%;overflow: auto;}#sk-52a94834-705f-4837-86ae-4f99b43ce808 input.sk-toggleable__control:checked~label.sk-toggleable__label-arrow:before {content: \"▾\";}#sk-52a94834-705f-4837-86ae-4f99b43ce808 div.sk-estimator input.sk-toggleable__control:checked~label.sk-toggleable__label {background-color: #d4ebff;}#sk-52a94834-705f-4837-86ae-4f99b43ce808 div.sk-label input.sk-toggleable__control:checked~label.sk-toggleable__label {background-color: #d4ebff;}#sk-52a94834-705f-4837-86ae-4f99b43ce808 input.sk-hidden--visually {border: 0;clip: rect(1px 1px 1px 1px);clip: rect(1px, 1px, 1px, 1px);height: 1px;margin: -1px;overflow: hidden;padding: 0;position: absolute;width: 1px;}#sk-52a94834-705f-4837-86ae-4f99b43ce808 div.sk-estimator {font-family: monospace;background-color: #f0f8ff;border: 1px dotted black;border-radius: 0.25em;box-sizing: border-box;margin-bottom: 0.5em;}#sk-52a94834-705f-4837-86ae-4f99b43ce808 div.sk-estimator:hover {background-color: #d4ebff;}#sk-52a94834-705f-4837-86ae-4f99b43ce808 div.sk-parallel-item::after {content: \"\";width: 100%;border-bottom: 1px solid gray;flex-grow: 1;}#sk-52a94834-705f-4837-86ae-4f99b43ce808 div.sk-label:hover label.sk-toggleable__label {background-color: #d4ebff;}#sk-52a94834-705f-4837-86ae-4f99b43ce808 div.sk-serial::before {content: \"\";position: absolute;border-left: 1px solid gray;box-sizing: border-box;top: 2em;bottom: 0;left: 50%;}#sk-52a94834-705f-4837-86ae-4f99b43ce808 div.sk-serial {display: flex;flex-direction: column;align-items: center;background-color: white;padding-right: 0.2em;padding-left: 0.2em;}#sk-52a94834-705f-4837-86ae-4f99b43ce808 div.sk-item {z-index: 1;}#sk-52a94834-705f-4837-86ae-4f99b43ce808 div.sk-parallel {display: flex;align-items: stretch;justify-content: center;background-color: white;}#sk-52a94834-705f-4837-86ae-4f99b43ce808 div.sk-parallel::before {content: \"\";position: absolute;border-left: 1px solid gray;box-sizing: border-box;top: 2em;bottom: 0;left: 50%;}#sk-52a94834-705f-4837-86ae-4f99b43ce808 div.sk-parallel-item {display: flex;flex-direction: column;position: relative;background-color: white;}#sk-52a94834-705f-4837-86ae-4f99b43ce808 div.sk-parallel-item:first-child::after {align-self: flex-end;width: 50%;}#sk-52a94834-705f-4837-86ae-4f99b43ce808 div.sk-parallel-item:last-child::after {align-self: flex-start;width: 50%;}#sk-52a94834-705f-4837-86ae-4f99b43ce808 div.sk-parallel-item:only-child::after {width: 0;}#sk-52a94834-705f-4837-86ae-4f99b43ce808 div.sk-dashed-wrapped {border: 1px dashed gray;margin: 0 0.4em 0.5em 0.4em;box-sizing: border-box;padding-bottom: 0.4em;background-color: white;position: relative;}#sk-52a94834-705f-4837-86ae-4f99b43ce808 div.sk-label label {font-family: monospace;font-weight: bold;background-color: white;display: inline-block;line-height: 1.2em;}#sk-52a94834-705f-4837-86ae-4f99b43ce808 div.sk-label-container {position: relative;z-index: 2;text-align: center;}#sk-52a94834-705f-4837-86ae-4f99b43ce808 div.sk-container {/* jupyter's `normalize.less` sets `[hidden] { display: none; }` but bootstrap.min.css set `[hidden] { display: none !important; }` so we also need the `!important` here to be able to override the default hidden behavior on the sphinx rendered scikit-learn.org. See: https://github.com/scikit-learn/scikit-learn/issues/21755 */display: inline-block !important;position: relative;}#sk-52a94834-705f-4837-86ae-4f99b43ce808 div.sk-text-repr-fallback {display: none;}</style><div id=\"sk-52a94834-705f-4837-86ae-4f99b43ce808\" class=\"sk-top-container\"><div class=\"sk-text-repr-fallback\"><pre>RandomForestClassifier(max_depth=3)</pre><b>Please rerun this cell to show the HTML repr or trust the notebook.</b></div><div class=\"sk-container\" hidden><div class=\"sk-item\"><div class=\"sk-estimator sk-toggleable\"><input class=\"sk-toggleable__control sk-hidden--visually\" id=\"9165977f-8dac-48f0-8bc7-a7e394731814\" type=\"checkbox\" checked><label for=\"9165977f-8dac-48f0-8bc7-a7e394731814\" class=\"sk-toggleable__label sk-toggleable__label-arrow\">RandomForestClassifier</label><div class=\"sk-toggleable__content\"><pre>RandomForestClassifier(max_depth=3)</pre></div></div></div></div></div>"
      ],
      "text/plain": [
       "RandomForestClassifier(max_depth=3)"
      ]
     },
     "execution_count": 151,
     "metadata": {},
     "output_type": "execute_result"
    }
   ],
   "source": [
    "rf.fit(X_train_fe, y_train)"
   ]
  },
  {
   "cell_type": "markdown",
   "id": "efbff3c8",
   "metadata": {
    "hidden": true
   },
   "source": [
    "#### Extract the predictions."
   ]
  },
  {
   "cell_type": "markdown",
   "id": "87a2d2a5",
   "metadata": {
    "hidden": true
   },
   "source": [
    "**Logistic regression model**"
   ]
  },
  {
   "cell_type": "code",
   "execution_count": 152,
   "id": "a0c33065",
   "metadata": {
    "hidden": true
   },
   "outputs": [],
   "source": [
    "y_sub_l = m_logreg.predict(X_sub_lfe)"
   ]
  },
  {
   "cell_type": "code",
   "execution_count": 153,
   "id": "71943944",
   "metadata": {
    "hidden": true
   },
   "outputs": [
    {
     "data": {
      "text/plain": [
       "array([0, 1, 0, 0, 1, 0, 1, 0, 1, 0, 0, 0, 1, 0, 1, 1, 0, 0, 1, 1, 0, 0,\n",
       "       1, 1, 1, 0, 1, 0, 0, 0, 0, 0, 1, 1, 1, 0, 1, 1, 0, 0, 0, 0, 0, 1,\n",
       "       1, 0, 0, 0, 1, 1, 1, 0, 1, 1, 0, 0, 0, 0, 0, 1, 0, 0, 0, 1, 1, 1,\n",
       "       1, 0, 0, 1, 1, 0, 1, 0, 1, 1, 0, 1, 0, 1, 0, 1, 0, 0, 0, 0, 1, 1,\n",
       "       1, 1, 1, 0, 1, 0, 1, 0, 1, 0, 1, 0, 1, 0, 0, 0, 1, 0, 0, 0, 0, 0,\n",
       "       0, 1, 1, 1, 1, 0, 0, 1, 0, 1, 1, 0, 1, 0, 0, 1, 0, 1, 0, 0, 0, 0,\n",
       "       1, 0, 0, 0, 0, 0, 1, 0, 1, 1, 1, 0, 0, 0, 1, 0, 0, 0, 1, 0, 0, 1,\n",
       "       0, 0, 1, 1, 0, 1, 1, 0, 1, 0, 0, 1, 0, 0, 1, 1, 0, 0, 0, 0, 0, 1,\n",
       "       1, 0, 1, 1, 0, 1, 1, 0, 1, 0, 1, 0, 0, 0, 0, 0, 0, 0, 0, 0, 1, 1,\n",
       "       0, 1, 1, 0, 1, 1, 0, 0, 1, 0, 1, 0, 0, 0, 0, 1, 0, 0, 1, 1, 1, 0,\n",
       "       1, 0, 1, 0, 1, 1, 0, 1, 0, 0, 0, 1, 0, 0, 1, 0, 0, 0, 1, 1, 1, 1,\n",
       "       1, 0, 0, 0, 1, 0, 1, 1, 1, 0, 1, 0, 0, 0, 0, 0, 1, 0, 0, 0, 1, 1,\n",
       "       0, 0, 0, 0, 1, 0, 0, 0, 1, 1, 0, 1, 0, 0, 0, 0, 1, 0, 1, 1, 1, 0,\n",
       "       0, 1, 0, 0, 0, 1, 0, 0, 0, 0, 1, 0, 0, 0, 0, 0, 0, 0, 1, 1, 1, 0,\n",
       "       0, 1, 0, 0, 0, 1, 1, 1, 0, 0, 0, 0, 0, 0, 0, 0, 1, 0, 1, 0, 0, 0,\n",
       "       1, 0, 0, 1, 0, 0, 0, 0, 0, 0, 0, 0, 0, 1, 0, 1, 0, 1, 0, 1, 1, 0,\n",
       "       0, 0, 1, 0, 1, 0, 0, 1, 0, 1, 1, 0, 1, 1, 0, 1, 1, 0, 0, 1, 0, 0,\n",
       "       1, 1, 1, 0, 0, 0, 0, 0, 1, 1, 0, 1, 0, 0, 0, 0, 1, 1, 0, 0, 0, 1,\n",
       "       0, 1, 0, 0, 1, 0, 1, 1, 0, 0, 0, 1, 1, 1, 1, 1, 1, 0, 1, 0, 0, 0])"
      ]
     },
     "execution_count": 153,
     "metadata": {},
     "output_type": "execute_result"
    }
   ],
   "source": [
    "y_sub_l"
   ]
  },
  {
   "cell_type": "markdown",
   "id": "28f018e6",
   "metadata": {
    "hidden": true
   },
   "source": [
    "**Random forest model**"
   ]
  },
  {
   "cell_type": "code",
   "execution_count": 154,
   "id": "18afd679",
   "metadata": {
    "hidden": true
   },
   "outputs": [],
   "source": [
    "y_sub_rf = rf.predict(X_sub_fe)"
   ]
  },
  {
   "cell_type": "code",
   "execution_count": 155,
   "id": "b051e212",
   "metadata": {
    "hidden": true
   },
   "outputs": [
    {
     "data": {
      "text/plain": [
       "array([0, 0, 0, 0, 0, 0, 0, 0, 0, 0, 0, 0, 1, 0, 1, 1, 0, 0, 0, 0, 0, 0,\n",
       "       1, 0, 1, 0, 1, 0, 0, 0, 0, 0, 1, 0, 0, 0, 0, 0, 0, 0, 0, 0, 0, 1,\n",
       "       1, 0, 0, 0, 1, 0, 0, 0, 1, 1, 0, 0, 0, 0, 0, 1, 0, 0, 0, 0, 0, 1,\n",
       "       0, 0, 0, 1, 0, 0, 0, 0, 1, 0, 0, 1, 0, 0, 0, 0, 0, 0, 0, 0, 0, 0,\n",
       "       0, 1, 0, 0, 1, 0, 0, 0, 1, 0, 0, 0, 1, 0, 0, 0, 0, 0, 0, 0, 0, 0,\n",
       "       0, 0, 1, 0, 1, 0, 0, 1, 0, 1, 1, 0, 1, 0, 0, 0, 0, 0, 0, 0, 0, 0,\n",
       "       0, 0, 0, 0, 0, 0, 0, 0, 0, 1, 0, 0, 0, 0, 0, 0, 0, 0, 1, 0, 0, 0,\n",
       "       0, 0, 1, 0, 0, 0, 0, 0, 1, 0, 0, 0, 0, 0, 1, 0, 0, 0, 0, 0, 0, 1,\n",
       "       1, 0, 1, 1, 0, 0, 1, 0, 1, 0, 1, 0, 0, 0, 0, 0, 0, 0, 0, 0, 0, 0,\n",
       "       0, 0, 0, 0, 0, 1, 0, 0, 0, 0, 1, 0, 0, 0, 0, 1, 0, 0, 0, 0, 1, 0,\n",
       "       1, 0, 1, 0, 1, 0, 0, 0, 0, 0, 0, 1, 0, 0, 0, 0, 0, 0, 1, 1, 1, 1,\n",
       "       0, 0, 0, 0, 1, 0, 1, 0, 1, 0, 0, 0, 0, 0, 0, 0, 1, 0, 0, 0, 1, 1,\n",
       "       0, 0, 0, 0, 0, 0, 0, 0, 1, 0, 0, 1, 0, 0, 0, 0, 0, 0, 0, 1, 1, 0,\n",
       "       0, 0, 0, 0, 0, 0, 0, 0, 0, 0, 1, 0, 0, 0, 0, 0, 0, 0, 0, 1, 0, 0,\n",
       "       0, 0, 0, 0, 0, 0, 1, 0, 0, 0, 0, 0, 0, 0, 0, 0, 1, 0, 1, 0, 0, 0,\n",
       "       1, 0, 0, 0, 0, 0, 0, 0, 0, 0, 0, 0, 0, 1, 0, 0, 0, 0, 0, 1, 1, 0,\n",
       "       0, 0, 1, 0, 1, 0, 0, 0, 0, 1, 1, 0, 1, 1, 0, 0, 1, 0, 0, 1, 0, 0,\n",
       "       1, 1, 0, 0, 0, 0, 0, 0, 0, 0, 0, 1, 0, 0, 0, 0, 0, 1, 0, 0, 0, 1,\n",
       "       0, 1, 0, 0, 1, 0, 1, 0, 0, 0, 0, 0, 0, 1, 0, 1, 0, 0, 1, 0, 0, 0])"
      ]
     },
     "execution_count": 155,
     "metadata": {},
     "output_type": "execute_result"
    }
   ],
   "source": [
    "y_sub_rf"
   ]
  },
  {
   "cell_type": "markdown",
   "id": "40e547a8",
   "metadata": {
    "hidden": true
   },
   "source": [
    "#### Save them to a DataFrame and export them to a .csv file."
   ]
  },
  {
   "cell_type": "markdown",
   "id": "5dad3aa5",
   "metadata": {
    "hidden": true
   },
   "source": [
    "**Logistic regression model**"
   ]
  },
  {
   "cell_type": "code",
   "execution_count": 156,
   "id": "70086de0",
   "metadata": {
    "hidden": true
   },
   "outputs": [],
   "source": [
    "predictions_logreg = pd.DataFrame({\"PassengerId\": df_sub.index, \"Survived\": y_sub_l})"
   ]
  },
  {
   "cell_type": "code",
   "execution_count": 157,
   "id": "0879dd58",
   "metadata": {
    "hidden": true
   },
   "outputs": [],
   "source": [
    "pred_logreg_csv = predictions_logreg.to_csv(\"pred_logreg_sub.csv\", index = False)"
   ]
  },
  {
   "cell_type": "code",
   "execution_count": 158,
   "id": "fb2bce9f",
   "metadata": {
    "hidden": true
   },
   "outputs": [
    {
     "data": {
      "text/html": [
       "<div>\n",
       "<style scoped>\n",
       "    .dataframe tbody tr th:only-of-type {\n",
       "        vertical-align: middle;\n",
       "    }\n",
       "\n",
       "    .dataframe tbody tr th {\n",
       "        vertical-align: top;\n",
       "    }\n",
       "\n",
       "    .dataframe thead th {\n",
       "        text-align: right;\n",
       "    }\n",
       "</style>\n",
       "<table border=\"1\" class=\"dataframe\">\n",
       "  <thead>\n",
       "    <tr style=\"text-align: right;\">\n",
       "      <th></th>\n",
       "      <th>PassengerId</th>\n",
       "      <th>Survived</th>\n",
       "    </tr>\n",
       "  </thead>\n",
       "  <tbody>\n",
       "    <tr>\n",
       "      <th>0</th>\n",
       "      <td>892</td>\n",
       "      <td>0</td>\n",
       "    </tr>\n",
       "    <tr>\n",
       "      <th>1</th>\n",
       "      <td>893</td>\n",
       "      <td>1</td>\n",
       "    </tr>\n",
       "    <tr>\n",
       "      <th>2</th>\n",
       "      <td>894</td>\n",
       "      <td>0</td>\n",
       "    </tr>\n",
       "    <tr>\n",
       "      <th>3</th>\n",
       "      <td>895</td>\n",
       "      <td>0</td>\n",
       "    </tr>\n",
       "    <tr>\n",
       "      <th>4</th>\n",
       "      <td>896</td>\n",
       "      <td>1</td>\n",
       "    </tr>\n",
       "    <tr>\n",
       "      <th>...</th>\n",
       "      <td>...</td>\n",
       "      <td>...</td>\n",
       "    </tr>\n",
       "    <tr>\n",
       "      <th>413</th>\n",
       "      <td>1305</td>\n",
       "      <td>0</td>\n",
       "    </tr>\n",
       "    <tr>\n",
       "      <th>414</th>\n",
       "      <td>1306</td>\n",
       "      <td>1</td>\n",
       "    </tr>\n",
       "    <tr>\n",
       "      <th>415</th>\n",
       "      <td>1307</td>\n",
       "      <td>0</td>\n",
       "    </tr>\n",
       "    <tr>\n",
       "      <th>416</th>\n",
       "      <td>1308</td>\n",
       "      <td>0</td>\n",
       "    </tr>\n",
       "    <tr>\n",
       "      <th>417</th>\n",
       "      <td>1309</td>\n",
       "      <td>0</td>\n",
       "    </tr>\n",
       "  </tbody>\n",
       "</table>\n",
       "<p>418 rows × 2 columns</p>\n",
       "</div>"
      ],
      "text/plain": [
       "     PassengerId  Survived\n",
       "0            892         0\n",
       "1            893         1\n",
       "2            894         0\n",
       "3            895         0\n",
       "4            896         1\n",
       "..           ...       ...\n",
       "413         1305         0\n",
       "414         1306         1\n",
       "415         1307         0\n",
       "416         1308         0\n",
       "417         1309         0\n",
       "\n",
       "[418 rows x 2 columns]"
      ]
     },
     "execution_count": 158,
     "metadata": {},
     "output_type": "execute_result"
    }
   ],
   "source": [
    "predictions_logreg"
   ]
  },
  {
   "cell_type": "markdown",
   "id": "cda7f80d",
   "metadata": {
    "hidden": true
   },
   "source": [
    "**Random forest model**"
   ]
  },
  {
   "cell_type": "code",
   "execution_count": 159,
   "id": "b9e184e6",
   "metadata": {
    "hidden": true
   },
   "outputs": [],
   "source": [
    "predictions_rf = pd.DataFrame({\"PassengerId\": df_sub.index, \"Survived\": y_sub_rf})"
   ]
  },
  {
   "cell_type": "code",
   "execution_count": 160,
   "id": "09aaa125",
   "metadata": {
    "hidden": true
   },
   "outputs": [],
   "source": [
    "pred_rf_csv = predictions_rf.to_csv(\"pred_rf_sub.csv\", index = False)"
   ]
  },
  {
   "cell_type": "code",
   "execution_count": 161,
   "id": "b335bcbe",
   "metadata": {
    "hidden": true
   },
   "outputs": [
    {
     "data": {
      "text/html": [
       "<div>\n",
       "<style scoped>\n",
       "    .dataframe tbody tr th:only-of-type {\n",
       "        vertical-align: middle;\n",
       "    }\n",
       "\n",
       "    .dataframe tbody tr th {\n",
       "        vertical-align: top;\n",
       "    }\n",
       "\n",
       "    .dataframe thead th {\n",
       "        text-align: right;\n",
       "    }\n",
       "</style>\n",
       "<table border=\"1\" class=\"dataframe\">\n",
       "  <thead>\n",
       "    <tr style=\"text-align: right;\">\n",
       "      <th></th>\n",
       "      <th>PassengerId</th>\n",
       "      <th>Survived</th>\n",
       "    </tr>\n",
       "  </thead>\n",
       "  <tbody>\n",
       "    <tr>\n",
       "      <th>0</th>\n",
       "      <td>892</td>\n",
       "      <td>0</td>\n",
       "    </tr>\n",
       "    <tr>\n",
       "      <th>1</th>\n",
       "      <td>893</td>\n",
       "      <td>0</td>\n",
       "    </tr>\n",
       "    <tr>\n",
       "      <th>2</th>\n",
       "      <td>894</td>\n",
       "      <td>0</td>\n",
       "    </tr>\n",
       "    <tr>\n",
       "      <th>3</th>\n",
       "      <td>895</td>\n",
       "      <td>0</td>\n",
       "    </tr>\n",
       "    <tr>\n",
       "      <th>4</th>\n",
       "      <td>896</td>\n",
       "      <td>0</td>\n",
       "    </tr>\n",
       "    <tr>\n",
       "      <th>...</th>\n",
       "      <td>...</td>\n",
       "      <td>...</td>\n",
       "    </tr>\n",
       "    <tr>\n",
       "      <th>413</th>\n",
       "      <td>1305</td>\n",
       "      <td>0</td>\n",
       "    </tr>\n",
       "    <tr>\n",
       "      <th>414</th>\n",
       "      <td>1306</td>\n",
       "      <td>1</td>\n",
       "    </tr>\n",
       "    <tr>\n",
       "      <th>415</th>\n",
       "      <td>1307</td>\n",
       "      <td>0</td>\n",
       "    </tr>\n",
       "    <tr>\n",
       "      <th>416</th>\n",
       "      <td>1308</td>\n",
       "      <td>0</td>\n",
       "    </tr>\n",
       "    <tr>\n",
       "      <th>417</th>\n",
       "      <td>1309</td>\n",
       "      <td>0</td>\n",
       "    </tr>\n",
       "  </tbody>\n",
       "</table>\n",
       "<p>418 rows × 2 columns</p>\n",
       "</div>"
      ],
      "text/plain": [
       "     PassengerId  Survived\n",
       "0            892         0\n",
       "1            893         0\n",
       "2            894         0\n",
       "3            895         0\n",
       "4            896         0\n",
       "..           ...       ...\n",
       "413         1305         0\n",
       "414         1306         1\n",
       "415         1307         0\n",
       "416         1308         0\n",
       "417         1309         0\n",
       "\n",
       "[418 rows x 2 columns]"
      ]
     },
     "execution_count": 161,
     "metadata": {},
     "output_type": "execute_result"
    }
   ],
   "source": [
    "predictions_rf"
   ]
  },
  {
   "cell_type": "code",
   "execution_count": null,
   "id": "1508631e",
   "metadata": {
    "hidden": true
   },
   "outputs": [],
   "source": []
  }
 ],
 "metadata": {
  "kernelspec": {
   "display_name": "Python 3 (ipykernel)",
   "language": "python",
   "name": "python3"
  },
  "language_info": {
   "codemirror_mode": {
    "name": "ipython",
    "version": 3
   },
   "file_extension": ".py",
   "mimetype": "text/x-python",
   "name": "python",
   "nbconvert_exporter": "python",
   "pygments_lexer": "ipython3",
   "version": "3.9.13"
  }
 },
 "nbformat": 4,
 "nbformat_minor": 5
}
