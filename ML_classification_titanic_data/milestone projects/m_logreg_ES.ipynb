{
 "cells": [
  {
   "cell_type": "markdown",
   "id": "42d7f829",
   "metadata": {},
   "source": [
    "# Build a Logistic Regression model"
   ]
  },
  {
   "cell_type": "markdown",
   "id": "23b741c0",
   "metadata": {},
   "source": [
    "Load all the packages you are going to use."
   ]
  },
  {
   "cell_type": "code",
   "execution_count": 1,
   "id": "61bb6680",
   "metadata": {},
   "outputs": [],
   "source": [
    "#Calculations and visualizations"
   ]
  },
  {
   "cell_type": "code",
   "execution_count": 2,
   "id": "c9fb92a8",
   "metadata": {},
   "outputs": [],
   "source": [
    "import pandas as pd\n",
    "import numpy as np \n",
    "import matplotlib.pyplot as plt\n",
    "import seaborn as sns"
   ]
  },
  {
   "cell_type": "code",
   "execution_count": 3,
   "id": "b7ffaacd",
   "metadata": {},
   "outputs": [],
   "source": [
    "#Modelling"
   ]
  },
  {
   "cell_type": "code",
   "execution_count": 4,
   "id": "01660f54",
   "metadata": {},
   "outputs": [],
   "source": [
    "from sklearn.linear_model import LogisticRegression\n",
    "from sklearn.model_selection import train_test_split"
   ]
  },
  {
   "cell_type": "markdown",
   "id": "5d1a691a",
   "metadata": {},
   "source": [
    "**Step 1**"
   ]
  },
  {
   "cell_type": "markdown",
   "id": "9031c09c",
   "metadata": {},
   "source": [
    "Read the file train.csv into Python and print a few rows."
   ]
  },
  {
   "cell_type": "code",
   "execution_count": 5,
   "id": "640b3e06",
   "metadata": {},
   "outputs": [],
   "source": [
    "full_data = pd.read_csv(\"train.csv\", index_col = 0)"
   ]
  },
  {
   "cell_type": "code",
   "execution_count": 6,
   "id": "83937c5d",
   "metadata": {
    "scrolled": true
   },
   "outputs": [
    {
     "data": {
      "text/html": [
       "<div>\n",
       "<style scoped>\n",
       "    .dataframe tbody tr th:only-of-type {\n",
       "        vertical-align: middle;\n",
       "    }\n",
       "\n",
       "    .dataframe tbody tr th {\n",
       "        vertical-align: top;\n",
       "    }\n",
       "\n",
       "    .dataframe thead th {\n",
       "        text-align: right;\n",
       "    }\n",
       "</style>\n",
       "<table border=\"1\" class=\"dataframe\">\n",
       "  <thead>\n",
       "    <tr style=\"text-align: right;\">\n",
       "      <th></th>\n",
       "      <th>Survived</th>\n",
       "      <th>Pclass</th>\n",
       "      <th>Name</th>\n",
       "      <th>Sex</th>\n",
       "      <th>Age</th>\n",
       "      <th>SibSp</th>\n",
       "      <th>Parch</th>\n",
       "      <th>Ticket</th>\n",
       "      <th>Fare</th>\n",
       "      <th>Cabin</th>\n",
       "      <th>Embarked</th>\n",
       "    </tr>\n",
       "    <tr>\n",
       "      <th>PassengerId</th>\n",
       "      <th></th>\n",
       "      <th></th>\n",
       "      <th></th>\n",
       "      <th></th>\n",
       "      <th></th>\n",
       "      <th></th>\n",
       "      <th></th>\n",
       "      <th></th>\n",
       "      <th></th>\n",
       "      <th></th>\n",
       "      <th></th>\n",
       "    </tr>\n",
       "  </thead>\n",
       "  <tbody>\n",
       "    <tr>\n",
       "      <th>1</th>\n",
       "      <td>0</td>\n",
       "      <td>3</td>\n",
       "      <td>Braund, Mr. Owen Harris</td>\n",
       "      <td>male</td>\n",
       "      <td>22.0</td>\n",
       "      <td>1</td>\n",
       "      <td>0</td>\n",
       "      <td>A/5 21171</td>\n",
       "      <td>7.2500</td>\n",
       "      <td>NaN</td>\n",
       "      <td>S</td>\n",
       "    </tr>\n",
       "    <tr>\n",
       "      <th>2</th>\n",
       "      <td>1</td>\n",
       "      <td>1</td>\n",
       "      <td>Cumings, Mrs. John Bradley (Florence Briggs Th...</td>\n",
       "      <td>female</td>\n",
       "      <td>38.0</td>\n",
       "      <td>1</td>\n",
       "      <td>0</td>\n",
       "      <td>PC 17599</td>\n",
       "      <td>71.2833</td>\n",
       "      <td>C85</td>\n",
       "      <td>C</td>\n",
       "    </tr>\n",
       "    <tr>\n",
       "      <th>3</th>\n",
       "      <td>1</td>\n",
       "      <td>3</td>\n",
       "      <td>Heikkinen, Miss. Laina</td>\n",
       "      <td>female</td>\n",
       "      <td>26.0</td>\n",
       "      <td>0</td>\n",
       "      <td>0</td>\n",
       "      <td>STON/O2. 3101282</td>\n",
       "      <td>7.9250</td>\n",
       "      <td>NaN</td>\n",
       "      <td>S</td>\n",
       "    </tr>\n",
       "    <tr>\n",
       "      <th>4</th>\n",
       "      <td>1</td>\n",
       "      <td>1</td>\n",
       "      <td>Futrelle, Mrs. Jacques Heath (Lily May Peel)</td>\n",
       "      <td>female</td>\n",
       "      <td>35.0</td>\n",
       "      <td>1</td>\n",
       "      <td>0</td>\n",
       "      <td>113803</td>\n",
       "      <td>53.1000</td>\n",
       "      <td>C123</td>\n",
       "      <td>S</td>\n",
       "    </tr>\n",
       "    <tr>\n",
       "      <th>5</th>\n",
       "      <td>0</td>\n",
       "      <td>3</td>\n",
       "      <td>Allen, Mr. William Henry</td>\n",
       "      <td>male</td>\n",
       "      <td>35.0</td>\n",
       "      <td>0</td>\n",
       "      <td>0</td>\n",
       "      <td>373450</td>\n",
       "      <td>8.0500</td>\n",
       "      <td>NaN</td>\n",
       "      <td>S</td>\n",
       "    </tr>\n",
       "  </tbody>\n",
       "</table>\n",
       "</div>"
      ],
      "text/plain": [
       "             Survived  Pclass  \\\n",
       "PassengerId                     \n",
       "1                   0       3   \n",
       "2                   1       1   \n",
       "3                   1       3   \n",
       "4                   1       1   \n",
       "5                   0       3   \n",
       "\n",
       "                                                          Name     Sex   Age  \\\n",
       "PassengerId                                                                    \n",
       "1                                      Braund, Mr. Owen Harris    male  22.0   \n",
       "2            Cumings, Mrs. John Bradley (Florence Briggs Th...  female  38.0   \n",
       "3                                       Heikkinen, Miss. Laina  female  26.0   \n",
       "4                 Futrelle, Mrs. Jacques Heath (Lily May Peel)  female  35.0   \n",
       "5                                     Allen, Mr. William Henry    male  35.0   \n",
       "\n",
       "             SibSp  Parch            Ticket     Fare Cabin Embarked  \n",
       "PassengerId                                                          \n",
       "1                1      0         A/5 21171   7.2500   NaN        S  \n",
       "2                1      0          PC 17599  71.2833   C85        C  \n",
       "3                0      0  STON/O2. 3101282   7.9250   NaN        S  \n",
       "4                1      0            113803  53.1000  C123        S  \n",
       "5                0      0            373450   8.0500   NaN        S  "
      ]
     },
     "execution_count": 6,
     "metadata": {},
     "output_type": "execute_result"
    }
   ],
   "source": [
    "full_data.head()"
   ]
  },
  {
   "cell_type": "code",
   "execution_count": 7,
   "id": "3aab473c",
   "metadata": {},
   "outputs": [
    {
     "data": {
      "text/plain": [
       "(891, 11)"
      ]
     },
     "execution_count": 7,
     "metadata": {},
     "output_type": "execute_result"
    }
   ],
   "source": [
    "full_data.shape"
   ]
  },
  {
   "cell_type": "markdown",
   "id": "6c9de34a",
   "metadata": {},
   "source": [
    "Find X and y."
   ]
  },
  {
   "cell_type": "code",
   "execution_count": 8,
   "id": "44d606a8",
   "metadata": {},
   "outputs": [],
   "source": [
    "X = full_data[[\"Pclass\"]]"
   ]
  },
  {
   "cell_type": "code",
   "execution_count": 9,
   "id": "7277d315",
   "metadata": {},
   "outputs": [
    {
     "data": {
      "text/html": [
       "<div>\n",
       "<style scoped>\n",
       "    .dataframe tbody tr th:only-of-type {\n",
       "        vertical-align: middle;\n",
       "    }\n",
       "\n",
       "    .dataframe tbody tr th {\n",
       "        vertical-align: top;\n",
       "    }\n",
       "\n",
       "    .dataframe thead th {\n",
       "        text-align: right;\n",
       "    }\n",
       "</style>\n",
       "<table border=\"1\" class=\"dataframe\">\n",
       "  <thead>\n",
       "    <tr style=\"text-align: right;\">\n",
       "      <th></th>\n",
       "      <th>Pclass</th>\n",
       "    </tr>\n",
       "    <tr>\n",
       "      <th>PassengerId</th>\n",
       "      <th></th>\n",
       "    </tr>\n",
       "  </thead>\n",
       "  <tbody>\n",
       "    <tr>\n",
       "      <th>1</th>\n",
       "      <td>3</td>\n",
       "    </tr>\n",
       "    <tr>\n",
       "      <th>2</th>\n",
       "      <td>1</td>\n",
       "    </tr>\n",
       "    <tr>\n",
       "      <th>3</th>\n",
       "      <td>3</td>\n",
       "    </tr>\n",
       "    <tr>\n",
       "      <th>4</th>\n",
       "      <td>1</td>\n",
       "    </tr>\n",
       "    <tr>\n",
       "      <th>5</th>\n",
       "      <td>3</td>\n",
       "    </tr>\n",
       "    <tr>\n",
       "      <th>...</th>\n",
       "      <td>...</td>\n",
       "    </tr>\n",
       "    <tr>\n",
       "      <th>887</th>\n",
       "      <td>2</td>\n",
       "    </tr>\n",
       "    <tr>\n",
       "      <th>888</th>\n",
       "      <td>1</td>\n",
       "    </tr>\n",
       "    <tr>\n",
       "      <th>889</th>\n",
       "      <td>3</td>\n",
       "    </tr>\n",
       "    <tr>\n",
       "      <th>890</th>\n",
       "      <td>1</td>\n",
       "    </tr>\n",
       "    <tr>\n",
       "      <th>891</th>\n",
       "      <td>3</td>\n",
       "    </tr>\n",
       "  </tbody>\n",
       "</table>\n",
       "<p>891 rows × 1 columns</p>\n",
       "</div>"
      ],
      "text/plain": [
       "             Pclass\n",
       "PassengerId        \n",
       "1                 3\n",
       "2                 1\n",
       "3                 3\n",
       "4                 1\n",
       "5                 3\n",
       "...             ...\n",
       "887               2\n",
       "888               1\n",
       "889               3\n",
       "890               1\n",
       "891               3\n",
       "\n",
       "[891 rows x 1 columns]"
      ]
     },
     "execution_count": 9,
     "metadata": {},
     "output_type": "execute_result"
    }
   ],
   "source": [
    "X"
   ]
  },
  {
   "cell_type": "code",
   "execution_count": 10,
   "id": "b515e6d6",
   "metadata": {},
   "outputs": [
    {
     "data": {
      "text/plain": [
       "pandas.core.frame.DataFrame"
      ]
     },
     "execution_count": 10,
     "metadata": {},
     "output_type": "execute_result"
    }
   ],
   "source": [
    "type(X)"
   ]
  },
  {
   "cell_type": "code",
   "execution_count": 11,
   "id": "21b9061b",
   "metadata": {},
   "outputs": [],
   "source": [
    "y = full_data[\"Survived\"]"
   ]
  },
  {
   "cell_type": "code",
   "execution_count": 12,
   "id": "25488ec9",
   "metadata": {},
   "outputs": [
    {
     "data": {
      "text/plain": [
       "PassengerId\n",
       "1      0\n",
       "2      1\n",
       "3      1\n",
       "4      1\n",
       "5      0\n",
       "      ..\n",
       "887    0\n",
       "888    1\n",
       "889    0\n",
       "890    1\n",
       "891    0\n",
       "Name: Survived, Length: 891, dtype: int64"
      ]
     },
     "execution_count": 12,
     "metadata": {},
     "output_type": "execute_result"
    }
   ],
   "source": [
    "y"
   ]
  },
  {
   "cell_type": "code",
   "execution_count": 13,
   "id": "7f9d1179",
   "metadata": {},
   "outputs": [
    {
     "data": {
      "text/plain": [
       "pandas.core.series.Series"
      ]
     },
     "execution_count": 13,
     "metadata": {},
     "output_type": "execute_result"
    }
   ],
   "source": [
    "type(y)"
   ]
  },
  {
   "cell_type": "markdown",
   "id": "a5b9528c",
   "metadata": {},
   "source": [
    "Split."
   ]
  },
  {
   "cell_type": "code",
   "execution_count": 14,
   "id": "a12f22a7",
   "metadata": {},
   "outputs": [],
   "source": [
    "X_train, X_test, y_train, y_test = train_test_split(X, y, test_size = 0.2, random_state = 42)"
   ]
  },
  {
   "cell_type": "code",
   "execution_count": 15,
   "id": "f6fcba5e",
   "metadata": {},
   "outputs": [
    {
     "data": {
      "text/plain": [
       "(PassengerId\n",
       " 332    0\n",
       " 734    0\n",
       " 383    0\n",
       " 705    0\n",
       " 814    0\n",
       "       ..\n",
       " 107    1\n",
       " 271    0\n",
       " 861    0\n",
       " 436    1\n",
       " 103    0\n",
       " Name: Survived, Length: 712, dtype: int64,\n",
       " PassengerId\n",
       " 710    1\n",
       " 440    0\n",
       " 841    0\n",
       " 721    1\n",
       " 40     1\n",
       "       ..\n",
       " 434    0\n",
       " 774    0\n",
       " 26     1\n",
       " 85     1\n",
       " 11     1\n",
       " Name: Survived, Length: 179, dtype: int64)"
      ]
     },
     "execution_count": 15,
     "metadata": {},
     "output_type": "execute_result"
    }
   ],
   "source": [
    "y_train, y_test"
   ]
  },
  {
   "cell_type": "code",
   "execution_count": 16,
   "id": "74d23d42",
   "metadata": {},
   "outputs": [
    {
     "data": {
      "text/plain": [
       "((712, 1), (179, 1))"
      ]
     },
     "execution_count": 16,
     "metadata": {},
     "output_type": "execute_result"
    }
   ],
   "source": [
    "X_train.shape, X_test.shape"
   ]
  },
  {
   "cell_type": "markdown",
   "id": "af95c0f7",
   "metadata": {},
   "source": [
    "Build a LogReg model."
   ]
  },
  {
   "cell_type": "code",
   "execution_count": 17,
   "id": "5d33fbd0",
   "metadata": {},
   "outputs": [],
   "source": [
    "m_logreg = LogisticRegression(class_weight = \"balanced\")"
   ]
  },
  {
   "cell_type": "code",
   "execution_count": 18,
   "id": "62e30bbe",
   "metadata": {},
   "outputs": [
    {
     "data": {
      "text/plain": [
       "LogisticRegression(class_weight='balanced')"
      ]
     },
     "execution_count": 18,
     "metadata": {},
     "output_type": "execute_result"
    }
   ],
   "source": [
    "m_logreg.fit(X_train, y_train)"
   ]
  },
  {
   "cell_type": "markdown",
   "id": "c109265a",
   "metadata": {},
   "source": [
    "Print the coefficients calculated by the model."
   ]
  },
  {
   "cell_type": "code",
   "execution_count": 19,
   "id": "14b81d70",
   "metadata": {},
   "outputs": [],
   "source": [
    "w = m_logreg.coef_"
   ]
  },
  {
   "cell_type": "code",
   "execution_count": 20,
   "id": "4bc85acc",
   "metadata": {},
   "outputs": [
    {
     "data": {
      "text/plain": [
       "array([[-0.81546945]])"
      ]
     },
     "execution_count": 20,
     "metadata": {},
     "output_type": "execute_result"
    }
   ],
   "source": [
    "w"
   ]
  },
  {
   "cell_type": "code",
   "execution_count": 21,
   "id": "7660dea8",
   "metadata": {},
   "outputs": [],
   "source": [
    "b = m_logreg.intercept_"
   ]
  },
  {
   "cell_type": "code",
   "execution_count": 22,
   "id": "9b13b8cd",
   "metadata": {},
   "outputs": [
    {
     "data": {
      "text/plain": [
       "array([1.85856922])"
      ]
     },
     "execution_count": 22,
     "metadata": {},
     "output_type": "execute_result"
    }
   ],
   "source": [
    "b"
   ]
  },
  {
   "cell_type": "code",
   "execution_count": 23,
   "id": "d8343fcf",
   "metadata": {},
   "outputs": [
    {
     "data": {
      "text/plain": [
       "' w: -0.815469446584666 and b: 1.8585692161600254'"
      ]
     },
     "execution_count": 23,
     "metadata": {},
     "output_type": "execute_result"
    }
   ],
   "source": [
    "f' w: {w[0][0]} and b: {b[0]}'"
   ]
  },
  {
   "cell_type": "markdown",
   "id": "646f0e5a",
   "metadata": {},
   "source": [
    "Calculate the probabilities for your data points belonging to the positive class."
   ]
  },
  {
   "cell_type": "code",
   "execution_count": 24,
   "id": "249ac8a1",
   "metadata": {},
   "outputs": [
    {
     "data": {
      "text/plain": [
       "array([[0.64286919, 0.35713081],\n",
       "       [0.26055233, 0.73944767],\n",
       "       [0.64286919, 0.35713081],\n",
       "       ...,\n",
       "       [0.64286919, 0.35713081],\n",
       "       [0.26055233, 0.73944767],\n",
       "       [0.64286919, 0.35713081]])"
      ]
     },
     "execution_count": 24,
     "metadata": {},
     "output_type": "execute_result"
    }
   ],
   "source": [
    "m_logreg.predict_proba(X)"
   ]
  },
  {
   "cell_type": "code",
   "execution_count": 25,
   "id": "2c64cf20",
   "metadata": {},
   "outputs": [],
   "source": [
    "ypred_train = m_logreg.predict(X_train)"
   ]
  },
  {
   "cell_type": "code",
   "execution_count": 26,
   "id": "e9d82fb9",
   "metadata": {},
   "outputs": [],
   "source": [
    "X_test_prob = m_logreg.predict_proba(X_test)[:,1]"
   ]
  },
  {
   "cell_type": "code",
   "execution_count": 27,
   "id": "fc4ffd72",
   "metadata": {},
   "outputs": [
    {
     "data": {
      "text/plain": [
       "array([0.35713081, 0.55666312, 0.35713081, 0.55666312, 0.35713081,\n",
       "       0.73944767, 0.35713081, 0.35713081, 0.35713081, 0.73944767,\n",
       "       0.73944767, 0.35713081, 0.35713081, 0.35713081, 0.55666312,\n",
       "       0.73944767, 0.73944767, 0.35713081, 0.55666312, 0.73944767,\n",
       "       0.35713081, 0.73944767, 0.35713081, 0.35713081, 0.35713081,\n",
       "       0.35713081, 0.73944767, 0.55666312, 0.35713081, 0.35713081,\n",
       "       0.35713081, 0.35713081, 0.73944767, 0.35713081, 0.35713081,\n",
       "       0.35713081, 0.73944767, 0.35713081, 0.73944767, 0.35713081,\n",
       "       0.55666312, 0.35713081, 0.35713081, 0.35713081, 0.35713081,\n",
       "       0.35713081, 0.35713081, 0.35713081, 0.35713081, 0.73944767,\n",
       "       0.35713081, 0.73944767, 0.35713081, 0.73944767, 0.35713081,\n",
       "       0.73944767, 0.55666312, 0.73944767, 0.55666312, 0.35713081,\n",
       "       0.35713081, 0.55666312, 0.55666312, 0.73944767, 0.35713081,\n",
       "       0.55666312, 0.55666312, 0.35713081, 0.35713081, 0.73944767,\n",
       "       0.55666312, 0.73944767, 0.73944767, 0.73944767, 0.35713081,\n",
       "       0.35713081, 0.35713081, 0.73944767, 0.55666312, 0.35713081,\n",
       "       0.35713081, 0.55666312, 0.73944767, 0.35713081, 0.73944767,\n",
       "       0.73944767, 0.73944767, 0.73944767, 0.73944767, 0.35713081,\n",
       "       0.35713081, 0.35713081, 0.73944767, 0.35713081, 0.35713081,\n",
       "       0.35713081, 0.73944767, 0.35713081, 0.55666312, 0.35713081,\n",
       "       0.73944767, 0.35713081, 0.73944767, 0.35713081, 0.35713081,\n",
       "       0.35713081, 0.55666312, 0.73944767, 0.35713081, 0.73944767,\n",
       "       0.73944767, 0.35713081, 0.73944767, 0.73944767, 0.73944767,\n",
       "       0.35713081, 0.73944767, 0.55666312, 0.55666312, 0.35713081,\n",
       "       0.55666312, 0.73944767, 0.73944767, 0.55666312, 0.35713081,\n",
       "       0.73944767, 0.73944767, 0.73944767, 0.35713081, 0.35713081,\n",
       "       0.35713081, 0.35713081, 0.55666312, 0.35713081, 0.73944767,\n",
       "       0.35713081, 0.73944767, 0.35713081, 0.35713081, 0.35713081,\n",
       "       0.35713081, 0.55666312, 0.55666312, 0.55666312, 0.35713081,\n",
       "       0.55666312, 0.55666312, 0.55666312, 0.73944767, 0.35713081,\n",
       "       0.35713081, 0.35713081, 0.35713081, 0.35713081, 0.35713081,\n",
       "       0.35713081, 0.35713081, 0.35713081, 0.55666312, 0.35713081,\n",
       "       0.35713081, 0.73944767, 0.55666312, 0.73944767, 0.35713081,\n",
       "       0.73944767, 0.55666312, 0.73944767, 0.35713081, 0.35713081,\n",
       "       0.73944767, 0.55666312, 0.73944767, 0.35713081, 0.35713081,\n",
       "       0.35713081, 0.35713081, 0.55666312, 0.35713081])"
      ]
     },
     "execution_count": 27,
     "metadata": {},
     "output_type": "execute_result"
    }
   ],
   "source": [
    "X_test_prob"
   ]
  },
  {
   "cell_type": "markdown",
   "id": "075b72eb",
   "metadata": {},
   "source": [
    "Suppose you classify all points with a probability > 0.9 as positive.\n",
    "\n",
    "        How does the result of your prediction change?\n",
    "\n",
    "        How does it change if you change the threshold to > 0.1?\n"
   ]
  },
  {
   "cell_type": "code",
   "execution_count": 28,
   "id": "8b98eefa",
   "metadata": {},
   "outputs": [
    {
     "data": {
      "text/plain": [
       "0.4410112359550562"
      ]
     },
     "execution_count": 28,
     "metadata": {},
     "output_type": "execute_result"
    }
   ],
   "source": [
    "ypred_train.mean()"
   ]
  },
  {
   "cell_type": "code",
   "execution_count": 29,
   "id": "ed5f91fa",
   "metadata": {},
   "outputs": [
    {
     "data": {
      "text/plain": [
       "0.0"
      ]
     },
     "execution_count": 29,
     "metadata": {},
     "output_type": "execute_result"
    }
   ],
   "source": [
    "(X_test_prob > 0.9).mean()"
   ]
  },
  {
   "cell_type": "code",
   "execution_count": 30,
   "id": "280a3484",
   "metadata": {},
   "outputs": [
    {
     "data": {
      "text/plain": [
       "1.0"
      ]
     },
     "execution_count": 30,
     "metadata": {},
     "output_type": "execute_result"
    }
   ],
   "source": [
    "(X_test_prob > 0.1).mean()"
   ]
  },
  {
   "cell_type": "code",
   "execution_count": 32,
   "id": "717c5009",
   "metadata": {},
   "outputs": [
    {
     "data": {
      "text/plain": [
       "0.5071160611654015"
      ]
     },
     "execution_count": 32,
     "metadata": {},
     "output_type": "execute_result"
    }
   ],
   "source": [
    "X_test_prob.mean()"
   ]
  },
  {
   "cell_type": "code",
   "execution_count": null,
   "id": "beac5b4c",
   "metadata": {},
   "outputs": [],
   "source": []
  }
 ],
 "metadata": {
  "kernelspec": {
   "display_name": "Python 3 (ipykernel)",
   "language": "python",
   "name": "python3"
  },
  "language_info": {
   "codemirror_mode": {
    "name": "ipython",
    "version": 3
   },
   "file_extension": ".py",
   "mimetype": "text/x-python",
   "name": "python",
   "nbconvert_exporter": "python",
   "pygments_lexer": "ipython3",
   "version": "3.9.13"
  }
 },
 "nbformat": 4,
 "nbformat_minor": 5
}
