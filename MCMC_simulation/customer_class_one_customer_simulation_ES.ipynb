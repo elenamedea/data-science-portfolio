{
 "cells": [
  {
   "cell_type": "code",
   "execution_count": 5,
   "id": "e427a73f",
   "metadata": {},
   "outputs": [],
   "source": [
    "import pandas as pd\n",
    "import numpy as np\n",
    "import random"
   ]
  },
  {
   "cell_type": "markdown",
   "id": "04bdf4d0",
   "metadata": {},
   "source": [
    "# Customer Class"
   ]
  },
  {
   "cell_type": "code",
   "execution_count": 13,
   "id": "43e6b8a4",
   "metadata": {},
   "outputs": [],
   "source": [
    "class Customer:\n",
    "    \n",
    "    \"\"\"\n",
    "    \n",
    "    A single customer moving around the Doodl supermarket in a MCMC simulation.\n",
    "    \n",
    "    \"\"\"\n",
    "\n",
    "    def __init__(self, id, probs, section = \"entrance\", name = \"Alice\", budget=100 ):\n",
    "        self.name = name\n",
    "        self.id = id\n",
    "        self.section = section \n",
    "        self.transition_probs = probs\n",
    "        self.budget= budget\n",
    "\n",
    "    def next_section(self):\n",
    "        \n",
    "        \"\"\" \n",
    "        \n",
    "        Propagates the customer to the next section in the supermarket. \n",
    "        Returns nothing. \n",
    "        \n",
    "        \"\"\"\n",
    "\n",
    "        self.section = random.choices([\"checkout\", \"diary\", \"drinks\", \"fruit\", \"spices\"], list(probs.loc[self.section]))[0]\n",
    "    \n",
    "    def is_active(self): # detect churned customers\n",
    "        \n",
    "        \"\"\"\n",
    "        \n",
    "        Returns True if the customer has not reached the checkout yet.\n",
    "        \n",
    "        \"\"\"\n",
    "        \n",
    "        if self.section != 'checkout': \n",
    "            print(f\" Customer is active \")\n",
    "            return True\n",
    "        else:\n",
    "            print(f\" Customer is inactive \")\n",
    "            return False\n",
    "\n",
    "\n",
    "    \n",
    "    def __repr__(self):\n",
    "        return f\"The customer {self.name} with an id of {self.id} a budget of {self.budget} $ is at the section of {self.section} in Doodl supermarket.\"\n",
    "    "
   ]
  },
  {
   "cell_type": "code",
   "execution_count": 14,
   "id": "064d88d7",
   "metadata": {},
   "outputs": [
    {
     "data": {
      "text/plain": [
       "The customer Alice with an id of 1 a budget of 100 $ is at the section of entrance in Doodl supermarket."
      ]
     },
     "execution_count": 14,
     "metadata": {},
     "output_type": "execute_result"
    }
   ],
   "source": [
    "cust1 = Customer(1, probs)\n",
    "cust1"
   ]
  },
  {
   "cell_type": "markdown",
   "id": "fe12ae09",
   "metadata": {},
   "source": [
    "# Simulation for one customer."
   ]
  },
  {
   "cell_type": "code",
   "execution_count": 2,
   "id": "70355d15",
   "metadata": {},
   "outputs": [
    {
     "data": {
      "text/html": [
       "<div>\n",
       "<style scoped>\n",
       "    .dataframe tbody tr th:only-of-type {\n",
       "        vertical-align: middle;\n",
       "    }\n",
       "\n",
       "    .dataframe tbody tr th {\n",
       "        vertical-align: top;\n",
       "    }\n",
       "\n",
       "    .dataframe thead th {\n",
       "        text-align: right;\n",
       "    }\n",
       "</style>\n",
       "<table border=\"1\" class=\"dataframe\">\n",
       "  <thead>\n",
       "    <tr style=\"text-align: right;\">\n",
       "      <th></th>\n",
       "      <th>location</th>\n",
       "      <th>time</th>\n",
       "      <th>weekday</th>\n",
       "      <th>date</th>\n",
       "      <th>hour</th>\n",
       "      <th>minute</th>\n",
       "      <th>customer_id</th>\n",
       "    </tr>\n",
       "    <tr>\n",
       "      <th>timestamp</th>\n",
       "      <th></th>\n",
       "      <th></th>\n",
       "      <th></th>\n",
       "      <th></th>\n",
       "      <th></th>\n",
       "      <th></th>\n",
       "      <th></th>\n",
       "    </tr>\n",
       "  </thead>\n",
       "  <tbody>\n",
       "    <tr>\n",
       "      <th>2019-09-02 07:03:00</th>\n",
       "      <td>dairy</td>\n",
       "      <td>07:03:00</td>\n",
       "      <td>0.0</td>\n",
       "      <td>2019-09-02</td>\n",
       "      <td>7</td>\n",
       "      <td>3</td>\n",
       "      <td>0_1</td>\n",
       "    </tr>\n",
       "    <tr>\n",
       "      <th>2019-09-02 07:03:00</th>\n",
       "      <td>dairy</td>\n",
       "      <td>07:03:00</td>\n",
       "      <td>0.0</td>\n",
       "      <td>2019-09-02</td>\n",
       "      <td>7</td>\n",
       "      <td>3</td>\n",
       "      <td>0_2</td>\n",
       "    </tr>\n",
       "    <tr>\n",
       "      <th>2019-09-02 07:04:00</th>\n",
       "      <td>dairy</td>\n",
       "      <td>07:04:00</td>\n",
       "      <td>0.0</td>\n",
       "      <td>2019-09-02</td>\n",
       "      <td>7</td>\n",
       "      <td>4</td>\n",
       "      <td>0_3</td>\n",
       "    </tr>\n",
       "    <tr>\n",
       "      <th>2019-09-02 07:04:00</th>\n",
       "      <td>dairy</td>\n",
       "      <td>07:04:00</td>\n",
       "      <td>0.0</td>\n",
       "      <td>2019-09-02</td>\n",
       "      <td>7</td>\n",
       "      <td>4</td>\n",
       "      <td>0_4</td>\n",
       "    </tr>\n",
       "    <tr>\n",
       "      <th>2019-09-02 07:04:00</th>\n",
       "      <td>spices</td>\n",
       "      <td>07:04:00</td>\n",
       "      <td>0.0</td>\n",
       "      <td>2019-09-02</td>\n",
       "      <td>7</td>\n",
       "      <td>4</td>\n",
       "      <td>0_5</td>\n",
       "    </tr>\n",
       "    <tr>\n",
       "      <th>...</th>\n",
       "      <td>...</td>\n",
       "      <td>...</td>\n",
       "      <td>...</td>\n",
       "      <td>...</td>\n",
       "      <td>...</td>\n",
       "      <td>...</td>\n",
       "      <td>...</td>\n",
       "    </tr>\n",
       "    <tr>\n",
       "      <th>2019-09-06 21:50:00</th>\n",
       "      <td>checkout</td>\n",
       "      <td>21:50:00</td>\n",
       "      <td>4.0</td>\n",
       "      <td>2019-09-06</td>\n",
       "      <td>21</td>\n",
       "      <td>50</td>\n",
       "      <td>4_1508</td>\n",
       "    </tr>\n",
       "    <tr>\n",
       "      <th>2019-09-06 21:50:00</th>\n",
       "      <td>drinks</td>\n",
       "      <td>21:50:00</td>\n",
       "      <td>4.0</td>\n",
       "      <td>2019-09-06</td>\n",
       "      <td>21</td>\n",
       "      <td>50</td>\n",
       "      <td>4_1509</td>\n",
       "    </tr>\n",
       "    <tr>\n",
       "      <th>2019-09-06 21:50:00</th>\n",
       "      <td>checkout</td>\n",
       "      <td>21:50:00</td>\n",
       "      <td>4.0</td>\n",
       "      <td>2019-09-06</td>\n",
       "      <td>21</td>\n",
       "      <td>50</td>\n",
       "      <td>4_1509</td>\n",
       "    </tr>\n",
       "    <tr>\n",
       "      <th>2019-09-06 21:50:00</th>\n",
       "      <td>spices</td>\n",
       "      <td>21:50:00</td>\n",
       "      <td>4.0</td>\n",
       "      <td>2019-09-06</td>\n",
       "      <td>21</td>\n",
       "      <td>50</td>\n",
       "      <td>4_1510</td>\n",
       "    </tr>\n",
       "    <tr>\n",
       "      <th>2019-09-06 21:50:00</th>\n",
       "      <td>checkout</td>\n",
       "      <td>21:50:00</td>\n",
       "      <td>4.0</td>\n",
       "      <td>2019-09-06</td>\n",
       "      <td>21</td>\n",
       "      <td>50</td>\n",
       "      <td>4_1510</td>\n",
       "    </tr>\n",
       "  </tbody>\n",
       "</table>\n",
       "<p>24905 rows × 7 columns</p>\n",
       "</div>"
      ],
      "text/plain": [
       "                     location      time  weekday        date  hour  minute  \\\n",
       "timestamp                                                                    \n",
       "2019-09-02 07:03:00     dairy  07:03:00      0.0  2019-09-02     7       3   \n",
       "2019-09-02 07:03:00     dairy  07:03:00      0.0  2019-09-02     7       3   \n",
       "2019-09-02 07:04:00     dairy  07:04:00      0.0  2019-09-02     7       4   \n",
       "2019-09-02 07:04:00     dairy  07:04:00      0.0  2019-09-02     7       4   \n",
       "2019-09-02 07:04:00    spices  07:04:00      0.0  2019-09-02     7       4   \n",
       "...                       ...       ...      ...         ...   ...     ...   \n",
       "2019-09-06 21:50:00  checkout  21:50:00      4.0  2019-09-06    21      50   \n",
       "2019-09-06 21:50:00    drinks  21:50:00      4.0  2019-09-06    21      50   \n",
       "2019-09-06 21:50:00  checkout  21:50:00      4.0  2019-09-06    21      50   \n",
       "2019-09-06 21:50:00    spices  21:50:00      4.0  2019-09-06    21      50   \n",
       "2019-09-06 21:50:00  checkout  21:50:00      4.0  2019-09-06    21      50   \n",
       "\n",
       "                    customer_id  \n",
       "timestamp                        \n",
       "2019-09-02 07:03:00         0_1  \n",
       "2019-09-02 07:03:00         0_2  \n",
       "2019-09-02 07:04:00         0_3  \n",
       "2019-09-02 07:04:00         0_4  \n",
       "2019-09-02 07:04:00         0_5  \n",
       "...                         ...  \n",
       "2019-09-06 21:50:00      4_1508  \n",
       "2019-09-06 21:50:00      4_1509  \n",
       "2019-09-06 21:50:00      4_1509  \n",
       "2019-09-06 21:50:00      4_1510  \n",
       "2019-09-06 21:50:00      4_1510  \n",
       "\n",
       "[24905 rows x 7 columns]"
      ]
     },
     "execution_count": 2,
     "metadata": {},
     "output_type": "execute_result"
    }
   ],
   "source": [
    "customers = pd.read_csv(\"customer_data_extended.csv\", index_col = 0)\n",
    "customers"
   ]
  },
  {
   "cell_type": "code",
   "execution_count": 4,
   "id": "95fbc6ff",
   "metadata": {},
   "outputs": [
    {
     "data": {
      "text/html": [
       "<div>\n",
       "<style scoped>\n",
       "    .dataframe tbody tr th:only-of-type {\n",
       "        vertical-align: middle;\n",
       "    }\n",
       "\n",
       "    .dataframe tbody tr th {\n",
       "        vertical-align: top;\n",
       "    }\n",
       "\n",
       "    .dataframe thead th {\n",
       "        text-align: right;\n",
       "    }\n",
       "</style>\n",
       "<table border=\"1\" class=\"dataframe\">\n",
       "  <thead>\n",
       "    <tr style=\"text-align: right;\">\n",
       "      <th></th>\n",
       "      <th>checkout</th>\n",
       "      <th>dairy</th>\n",
       "      <th>drinks</th>\n",
       "      <th>fruit</th>\n",
       "      <th>spices</th>\n",
       "      <th>exit</th>\n",
       "    </tr>\n",
       "  </thead>\n",
       "  <tbody>\n",
       "    <tr>\n",
       "      <th>dairy</th>\n",
       "      <td>0.103313</td>\n",
       "      <td>0.737023</td>\n",
       "      <td>0.058546</td>\n",
       "      <td>0.049772</td>\n",
       "      <td>0.051347</td>\n",
       "      <td>0</td>\n",
       "    </tr>\n",
       "    <tr>\n",
       "      <th>drinks</th>\n",
       "      <td>0.215630</td>\n",
       "      <td>0.010900</td>\n",
       "      <td>0.598560</td>\n",
       "      <td>0.087918</td>\n",
       "      <td>0.086992</td>\n",
       "      <td>0</td>\n",
       "    </tr>\n",
       "    <tr>\n",
       "      <th>entrance</th>\n",
       "      <td>0.000537</td>\n",
       "      <td>0.287441</td>\n",
       "      <td>0.153392</td>\n",
       "      <td>0.377300</td>\n",
       "      <td>0.181330</td>\n",
       "      <td>0</td>\n",
       "    </tr>\n",
       "    <tr>\n",
       "      <th>fruit</th>\n",
       "      <td>0.201558</td>\n",
       "      <td>0.095744</td>\n",
       "      <td>0.054834</td>\n",
       "      <td>0.597199</td>\n",
       "      <td>0.050665</td>\n",
       "      <td>0</td>\n",
       "    </tr>\n",
       "    <tr>\n",
       "      <th>spices</th>\n",
       "      <td>0.150526</td>\n",
       "      <td>0.193214</td>\n",
       "      <td>0.163109</td>\n",
       "      <td>0.090953</td>\n",
       "      <td>0.402198</td>\n",
       "      <td>0</td>\n",
       "    </tr>\n",
       "    <tr>\n",
       "      <th>checkout</th>\n",
       "      <td>0.000000</td>\n",
       "      <td>0.000000</td>\n",
       "      <td>0.000000</td>\n",
       "      <td>0.000000</td>\n",
       "      <td>0.000000</td>\n",
       "      <td>1</td>\n",
       "    </tr>\n",
       "  </tbody>\n",
       "</table>\n",
       "</div>"
      ],
      "text/plain": [
       "          checkout     dairy    drinks     fruit    spices  exit\n",
       "dairy     0.103313  0.737023  0.058546  0.049772  0.051347     0\n",
       "drinks    0.215630  0.010900  0.598560  0.087918  0.086992     0\n",
       "entrance  0.000537  0.287441  0.153392  0.377300  0.181330     0\n",
       "fruit     0.201558  0.095744  0.054834  0.597199  0.050665     0\n",
       "spices    0.150526  0.193214  0.163109  0.090953  0.402198     0\n",
       "checkout  0.000000  0.000000  0.000000  0.000000  0.000000     1"
      ]
     },
     "execution_count": 4,
     "metadata": {},
     "output_type": "execute_result"
    }
   ],
   "source": [
    "probs = pd.read_csv(\"transition_probs.csv\", index_col = 0)\n",
    "probs"
   ]
  },
  {
   "cell_type": "markdown",
   "id": "f6daeb83",
   "metadata": {},
   "source": [
    "Distribution of customers in their first stop."
   ]
  },
  {
   "cell_type": "code",
   "execution_count": 16,
   "id": "999d9d29",
   "metadata": {},
   "outputs": [],
   "source": [
    "first = customers.drop_duplicates(subset = \"customer_id\", keep = \"first\")"
   ]
  },
  {
   "cell_type": "markdown",
   "id": "c4c9d002",
   "metadata": {},
   "source": [
    "Initial section matrix."
   ]
  },
  {
   "cell_type": "code",
   "execution_count": 17,
   "id": "56e81259",
   "metadata": {},
   "outputs": [],
   "source": [
    "init_smatrix = first.groupby([\"location\"])[\"customer_id\"].count()"
   ]
  },
  {
   "cell_type": "code",
   "execution_count": 18,
   "id": "1b7c18b7",
   "metadata": {},
   "outputs": [],
   "source": [
    "init_smatrix = init_smatrix/init_smatrix.sum()"
   ]
  },
  {
   "cell_type": "code",
   "execution_count": 19,
   "id": "be37f57b",
   "metadata": {},
   "outputs": [
    {
     "data": {
      "text/plain": [
       "location\n",
       "dairy     0.287576\n",
       "drinks    0.153526\n",
       "fruit     0.377435\n",
       "spices    0.181464\n",
       "Name: customer_id, dtype: float64"
      ]
     },
     "execution_count": 19,
     "metadata": {},
     "output_type": "execute_result"
    }
   ],
   "source": [
    "init_smatrix"
   ]
  },
  {
   "cell_type": "markdown",
   "id": "c49ed6bb",
   "metadata": {},
   "source": [
    "MCMC for one customer."
   ]
  },
  {
   "cell_type": "code",
   "execution_count": 37,
   "id": "b5914a0a",
   "metadata": {},
   "outputs": [],
   "source": [
    "sections_first = [\"dairy\", \"drinks\", \"fruit\", \"spices\"]\n",
    "sections = [\"checkout\", \"dairy\", \"drinks\", \"exit\", \"fruit\", \"spices\"]"
   ]
  },
  {
   "cell_type": "markdown",
   "id": "cbddeb1b",
   "metadata": {},
   "source": [
    "Initial section."
   ]
  },
  {
   "cell_type": "code",
   "execution_count": 38,
   "id": "6c09fe14",
   "metadata": {},
   "outputs": [
    {
     "data": {
      "text/plain": [
       "array([0.287576, 0.153526, 0.377435, 0.181464])"
      ]
     },
     "execution_count": 38,
     "metadata": {},
     "output_type": "execute_result"
    }
   ],
   "source": [
    "P = np.array([ 0.287576, 0.153526, 0.377435, 0.181464])\n",
    "P"
   ]
  },
  {
   "cell_type": "markdown",
   "id": "c1d5bcc1",
   "metadata": {},
   "source": [
    "Get the first choice of weighted random choices."
   ]
  },
  {
   "cell_type": "code",
   "execution_count": 39,
   "id": "8f8a705a",
   "metadata": {},
   "outputs": [],
   "source": [
    "section = random.choices(sections_first, weights = P)[0]"
   ]
  },
  {
   "cell_type": "code",
   "execution_count": 40,
   "id": "3ec7676f",
   "metadata": {},
   "outputs": [],
   "source": [
    "P_f = probs.to_dict(\"list\")"
   ]
  },
  {
   "cell_type": "code",
   "execution_count": 41,
   "id": "a35d2fae",
   "metadata": {},
   "outputs": [
    {
     "data": {
      "text/plain": [
       "{'checkout': [0.1033125246049153,\n",
       "  0.2156298200514138,\n",
       "  0.0005372733378106,\n",
       "  0.2015577059240028,\n",
       "  0.1505256451099076,\n",
       "  0.0],\n",
       " 'dairy': [0.7370226646420336,\n",
       "  0.0108997429305912,\n",
       "  0.2874412357286769,\n",
       "  0.0957438439147195,\n",
       "  0.1932143994902835,\n",
       "  0.0],\n",
       " 'drinks': [0.0585456386030032,\n",
       "  0.598560411311054,\n",
       "  0.1533915379449295,\n",
       "  0.0548343954055542,\n",
       "  0.163109270468302,\n",
       "  0.0],\n",
       " 'fruit': [0.0497722287835329,\n",
       "  0.087917737789203,\n",
       "  0.3773002014775017,\n",
       "  0.5971992762174495,\n",
       "  0.0909525326537113,\n",
       "  0.0],\n",
       " 'spices': [0.0513469433665148,\n",
       "  0.0869922879177377,\n",
       "  0.1813297515110812,\n",
       "  0.0506647785382739,\n",
       "  0.4021981522777955,\n",
       "  0.0],\n",
       " 'exit': [0, 0, 0, 0, 0, 1]}"
      ]
     },
     "execution_count": 41,
     "metadata": {},
     "output_type": "execute_result"
    }
   ],
   "source": [
    "P_f"
   ]
  },
  {
   "cell_type": "code",
   "execution_count": 42,
   "id": "d7325228",
   "metadata": {},
   "outputs": [
    {
     "data": {
      "text/plain": [
       "'dairy, checkout'"
      ]
     },
     "execution_count": 42,
     "metadata": {},
     "output_type": "execute_result"
    }
   ],
   "source": [
    "def get_next_section(section):\n",
    "    weights = P_f[section]\n",
    "    return random.choices(sections, weights = weights)[0]\n",
    "\n",
    "result = [section]\n",
    "\n",
    "while True:\n",
    "    section = get_next_section(section)\n",
    "    result.append(section)\n",
    "    if section == \"checkout\":\n",
    "        break\n",
    "        \n",
    "\", \".join(result)"
   ]
  }
 ],
 "metadata": {
  "kernelspec": {
   "display_name": "Python 3 (ipykernel)",
   "language": "python",
   "name": "python3"
  },
  "language_info": {
   "codemirror_mode": {
    "name": "ipython",
    "version": 3
   },
   "file_extension": ".py",
   "mimetype": "text/x-python",
   "name": "python",
   "nbconvert_exporter": "python",
   "pygments_lexer": "ipython3",
   "version": "3.9.13"
  },
  "vscode": {
   "interpreter": {
    "hash": "40d3a090f54c6569ab1632332b64b2c03c39dcf918b08424e98f38b5ae0af88f"
   }
  }
 },
 "nbformat": 4,
 "nbformat_minor": 5
}
