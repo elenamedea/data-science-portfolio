{
 "cells": [
  {
   "cell_type": "code",
   "execution_count": null,
   "metadata": {},
   "outputs": [],
   "source": [
    "import pandas as pd\n",
    "import numpy as np\n"
   ]
  },
  {
   "cell_type": "code",
   "execution_count": null,
   "id": "43e6b8a4",
   "metadata": {},
   "outputs": [],
   "source": [
    "class Customer:\n",
    "    \"\"\"\n",
    "    we will write later how this class works:\n",
    "\n",
    "    Question: do we have to fill all variables?\n",
    "\n",
    "    section: diary, spices, fruit, meat, drinks, checkout, entrance\n",
    "    \"\"\"\n",
    "\n",
    "    def __init__(self, name=\"Alice\",id=0, section='entrance', transition_probs=0, budget=100 ):\n",
    "        self.name = name\n",
    "        self.id = id\n",
    "        self.section = self.section = np.random.choice(['spices', 'drinks', 'fruit','meat','diary','checkout'])# option to use random choice directyl \n",
    "        self.transition_probs = transition_probs\n",
    "        self.budget= budget\n",
    "\n",
    "    def next_section(self):\n",
    "        \"\"\" Propagates the customer to the next section in the supermarket. Returns nothing.\"\"\"\n",
    "\n",
    "        self.section = np.random.choice(['spices', 'drinks', 'fruit','meat','diary','checkout'])\n",
    "        # if choice == spices\n",
    "        #     pit prob spices \n",
    "\n",
    "        self.probability = np.random.choice(df.transition_probs) \n",
    "\n",
    "    def is_active(self): # detect churned customers\n",
    "        \"\"\"Returns True if the customer has not reached the checkout yet.\"\"\"\n",
    "        if self.section != 'checkout': \n",
    "            print(f\" Customer is active \")\n",
    "            return True\n",
    "        else:\n",
    "            print(f\" Customer is inactive \")\n",
    "            return False\n",
    "\n",
    "\n",
    "    \n",
    "    def __repr__(self):\n",
    "        return f\"The customer {self.name} is defined by {self.id} with a {self.budget} and section {self.section} in a supermarket\"\n",
    "    "
   ]
  },
  {
   "cell_type": "code",
   "execution_count": null,
   "id": "1b3f866c",
   "metadata": {},
   "outputs": [],
   "source": [
    "# cust1 = Customer()\n",
    "\n",
    "# customer_transition =[]\n",
    "\n",
    "\n",
    "\n",
    "# for i in customer_list:\n",
    "    \n",
    "#     def next_section()\n",
    "    \n",
    "#     take the first Customer = get customer_id\n",
    "#     get the location = current_section like entrance  \n",
    "\n",
    "#     random = random generator (between 0-1)\n",
    "#         if round(random == transition prob for milk (0.5))\n",
    "#         assign new mild section to \n",
    "#             customer_id previous (entrance)\n",
    "\n",
    "\n",
    "#     get the transition probaility for location\n",
    "\n",
    "\n",
    "\n",
    "# cust1.nameb\n",
    "# # for loop:\n",
    "# #     initiate Customer\n",
    "# #     get random section as starting \n",
    "# #     assign probability according to section(inside class) # put this inside the class definition \n",
    "# #     while "
   ]
  },
  {
   "cell_type": "code",
   "execution_count": null,
   "id": "2edee6f9",
   "metadata": {},
   "outputs": [],
   "source": [
    "def simulate_customer_transition(customer_data, transition_probabilities):\n",
    "    # Sort the customer data by timestamp\n",
    "    customer_data = customer_data.sort_values('timestamp')\n",
    "\n",
    "    # Initialize a list to store the customer transitions\n",
    "    customer_transitions = []\n",
    "\n",
    "    # Iterate over the rows of the customer data\n",
    "    for i in range(customer_data.shape[0]):\n",
    "        # Get the current customer_id and section\n",
    "        customer_id = customer_data.iloc[i]['customer_id']\n",
    "        current_section = customer_data.iloc[i]['location']\n",
    "\n",
    "        # If this is the first row (i.e., the customer entered the supermarket at the entrance),\n",
    "        # set the previous section to 'entrance'\n",
    "        if i == 0:\n",
    "            previous_section = 'entrance'\n",
    "        # If this is not the first row, get the previous section from the customer data\n",
    "        else:\n",
    "            previous_section = customer_data.iloc[i-1]['location'] # what about if i == 1? \n",
    "\n",
    "        # Calculate the transition probability from the previous section to the current section\n",
    "        transition_prob = transition_probabilities[(previous_section, current_section)] # after / before\n",
    "\n",
    "        # Generate a random number between 0 and 1\n",
    "        rand_num = np.random.random() # specifiy between 0 and 1\n",
    "\n",
    "        # If the random number is less than the transition probability, add the transition to the list # customer stays in section?\n",
    "        if rand_num < transition_prob:\n",
    "            # Create a Customer object for the current customer\n",
    "            customer = Customer(customer_id, customer_data.iloc[i]['timestamp'], current_section)\n",
    "            # Add the customer transition to the list\n",
    "            customer_transitions.append((customer, previous_section, current_section))\n",
    "\n",
    "    # Return the list of customer transitions\n",
    "    return customer_transitions "
   ]
  },
  {
   "cell_type": "code",
   "execution_count": null,
   "id": "a2b661e8",
   "metadata": {},
   "outputs": [],
   "source": [
    "# Use pathlib alternatively later\n",
    "# Load the dataframe with the timestamp, customer_no, and location columns\n",
    "filepath_1='/Users/mov/GitHub/Spiced/spiced_projects/collab2/Supermarket/customer_data.csv'\n",
    "filepath_2='/Users/mov/GitHub/Spiced/spiced_projects/collab2/Supermarket/trans_prob.csv'\n",
    "# Read the CSV file into a dataframe\n",
    "df_customer = pd.read_csv(filepath_1,sep=',',parse_dates=True)\n",
    "df_t_p = pd.read_csv(filepath_2,sep=',',parse_dates=True)\n",
    "#df.set_index('timestamp', inplace=True) \n",
    "df_customer.info()"
   ]
  },
  {
   "cell_type": "code",
   "execution_count": null,
   "id": "d6cc7fc3",
   "metadata": {},
   "outputs": [],
   "source": [
    "df_customer.head()"
   ]
  },
  {
   "cell_type": "code",
   "execution_count": null,
   "id": "a2af1673",
   "metadata": {},
   "outputs": [],
   "source": [
    "df_t_p.head()"
   ]
  },
  {
   "cell_type": "code",
   "execution_count": null,
   "id": "945ad9cb",
   "metadata": {},
   "outputs": [],
   "source": [
    "simulate_customer_transition(df_customer, df_t_p)"
   ]
  },
  {
   "cell_type": "code",
   "execution_count": null,
   "id": "298518f2",
   "metadata": {},
   "outputs": [],
   "source": []
  }
 ],
 "metadata": {
  "kernelspec": {
   "display_name": "base",
   "language": "python",
   "name": "python3"
  },
  "language_info": {
   "codemirror_mode": {
    "name": "ipython",
    "version": 3
   },
   "file_extension": ".py",
   "mimetype": "text/x-python",
   "name": "python",
   "nbconvert_exporter": "python",
   "pygments_lexer": "ipython3",
   "version": "3.9.15 | packaged by conda-forge | (main, Nov 22 2022, 08:52:10) \n[Clang 14.0.6 ]"
  },
  "vscode": {
   "interpreter": {
    "hash": "40d3a090f54c6569ab1632332b64b2c03c39dcf918b08424e98f38b5ae0af88f"
   }
  }
 },
 "nbformat": 4,
 "nbformat_minor": 5
}
